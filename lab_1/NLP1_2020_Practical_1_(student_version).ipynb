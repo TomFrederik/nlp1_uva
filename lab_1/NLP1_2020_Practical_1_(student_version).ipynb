{
  "nbformat": 4,
  "nbformat_minor": 0,
  "metadata": {
    "colab": {
      "name": "NLP1 2020 Practical 1 (student version)",
      "provenance": [],
      "collapsed_sections": [
        "uhU_tk-BOaXb"
      ],
      "toc_visible": true
    },
    "kernelspec": {
      "display_name": "Python 3",
      "language": "python",
      "name": "python3"
    },
    "language_info": {
      "codemirror_mode": {
        "name": "ipython",
        "version": 3
      },
      "file_extension": ".py",
      "mimetype": "text/x-python",
      "name": "python",
      "nbconvert_exporter": "python",
      "pygments_lexer": "ipython3",
      "version": "3.7.9"
    }
  },
  "cells": [
    {
      "cell_type": "markdown",
      "metadata": {
        "id": "1-aRiOgl4nHg"
      },
      "source": [
        "------\n",
        "**You cannot apply any changes to this file, so please make sure to save it on your Google Colab drive or download it as a .ipynb file.**\n",
        "\n",
        "------\n",
        "\n",
        " "
      ]
    },
    {
      "cell_type": "markdown",
      "metadata": {
        "id": "lIZrAUx57vsM"
      },
      "source": [
        "Practical 1: Sentiment Detection in Movie Reviews\n",
        "========================================\n",
        "\n"
      ]
    },
    {
      "cell_type": "markdown",
      "metadata": {
        "id": "J4kXPMhyngZW"
      },
      "source": [
        "This practical concerns detecting sentiment in movie reviews. This is a typical NLP classification task.\n",
        "In [this file](https://gist.githubusercontent.com/bastings/d47423301cca214e3930061a5a75e177/raw/5113687382919e22b1f09ce71a8fecd1687a5760/reviews.json) (80MB) you will find 1000 positive and 1000 negative **movie reviews**.\n",
        "Each review is a **document** and consists of one or more sentences.\n",
        "\n",
        "To prepare yourself for this practical, you should\n",
        "have a look at a few of these texts to understand the difficulties of\n",
        "the task: how might one go about classifying the texts? You will write\n",
        "code that decides whether a movie review conveys positive or\n",
        "negative sentiment.\n",
        "\n",
        "Please make sure you have read the following paper:\n",
        "\n",
        ">   Bo Pang, Lillian Lee, and Shivakumar Vaithyanathan\n",
        "(2002). \n",
        "[Thumbs up? Sentiment Classification using Machine Learning\n",
        "Techniques](https://dl.acm.org/citation.cfm?id=1118704). EMNLP.\n",
        "\n",
        "Bo Pang et al. were the \"inventors\" of the movie review sentiment\n",
        "classification task, and the above paper was one of the first papers on\n",
        "the topic. The first version of your sentiment classifier will do\n",
        "something similar to Pang et al.'s system. If you have questions about it,\n",
        "you should resolve as soon as possible with your TA.\n"
      ]
    },
    {
      "cell_type": "markdown",
      "metadata": {
        "id": "cb7errgRASzZ"
      },
      "source": [
        "**Advice**\n",
        "\n",
        "Please read through the entire practical and familiarise\n",
        "yourself with all requirements before you start coding or otherwise\n",
        "solving the tasks. Writing clean and concise code can make the difference\n",
        "between solving the assignment in a matter of hours, and taking days to\n",
        "run all experiments.\n",
        "\n",
        "## Environment\n",
        "\n",
        "All code should be written in **Python 3**. \n",
        "This is the default in Google Colab."
      ]
    },
    {
      "cell_type": "code",
      "metadata": {
        "id": "SaZnxptMJiD7",
        "outputId": "24c23c79-395e-4cdd-a812-c5a9971678b1",
        "colab": {
          "base_uri": "https://localhost:8080/"
        }
      },
      "source": [
        "!python --version"
      ],
      "execution_count": 1,
      "outputs": [
        {
          "output_type": "stream",
          "text": [
            "Python 3.6.9\n"
          ],
          "name": "stdout"
        }
      ]
    },
    {
      "cell_type": "markdown",
      "metadata": {
        "id": "BYZyIF7lJnGn"
      },
      "source": [
        "If you want to run code on your own computer, then download this notebook through `File -> Download .ipynb`.\n",
        "The easiest way to\n",
        "install Python is through downloading\n",
        "[Anaconda](https://www.anaconda.com/download). \n",
        "After installation, you can start the notebook by typing `jupyter notebook filename.ipynb`.\n",
        "You can also use an IDE\n",
        "such as [PyCharm](https://www.jetbrains.com/pycharm/download/) to make\n",
        "coding and debugging easier. It is good practice to create a [virtual\n",
        "environment](https://docs.python.org/3/tutorial/venv.html) for this\n",
        "project, so that any Python packages don’t interfere with other\n",
        "projects. \n",
        " \n",
        "\n",
        "**Learning Python 3**\n",
        "\n",
        "If you are new to Python 3, you may want to check out a few of these resources:\n",
        "- https://learnxinyminutes.com/docs/python3/\n",
        "- https://www.learnpython.org/\n",
        "- https://docs.python.org/3/tutorial/"
      ]
    },
    {
      "cell_type": "code",
      "metadata": {
        "id": "hok-BFu9lGoK"
      },
      "source": [
        "import math\n",
        "import os\n",
        "import sys\n",
        "from subprocess import call\n",
        "from nltk import FreqDist\n",
        "from nltk.util import ngrams\n",
        "from nltk.stem.porter import PorterStemmer\n",
        "import sklearn as sk\n",
        "#from google.colab import drive\n",
        "import pickle\n",
        "import json\n",
        "from collections import Counter\n",
        "import requests\n",
        "import matplotlib.pyplot as plt\n",
        "import numpy as np"
      ],
      "execution_count": 2,
      "outputs": []
    },
    {
      "cell_type": "markdown",
      "metadata": {
        "id": "bXWyGHwE-ieQ"
      },
      "source": [
        "## Loading the data\n",
        "\n",
        "**Download the sentiment lexicon and the movie reviews dataset.**"
      ]
    },
    {
      "cell_type": "code",
      "metadata": {
        "id": "lm-rakqtlMOT",
        "outputId": "45c7661f-4b81-4f87-da05-77d00a8da44a",
        "colab": {
          "base_uri": "https://localhost:8080/"
        }
      },
      "source": [
        "# download sentiment lexicon\n",
        "!wget https://gist.githubusercontent.com/bastings/d6f99dcb6c82231b94b013031356ba05/raw/f80a0281eba8621b122012c89c8b5e2200b39fd6/sent_lexicon\n",
        "# download review data\n",
        "!wget https://gist.githubusercontent.com/bastings/d47423301cca214e3930061a5a75e177/raw/5113687382919e22b1f09ce71a8fecd1687a5760/reviews.json"
      ],
      "execution_count": 3,
      "outputs": [
        {
          "output_type": "stream",
          "text": [
            "--2020-11-09 15:06:58--  https://gist.githubusercontent.com/bastings/d6f99dcb6c82231b94b013031356ba05/raw/f80a0281eba8621b122012c89c8b5e2200b39fd6/sent_lexicon\n",
            "Resolving gist.githubusercontent.com (gist.githubusercontent.com)... 151.101.0.133, 151.101.64.133, 151.101.128.133, ...\n",
            "Connecting to gist.githubusercontent.com (gist.githubusercontent.com)|151.101.0.133|:443... connected.\n",
            "HTTP request sent, awaiting response... 200 OK\n",
            "Length: 662577 (647K) [text/plain]\n",
            "Saving to: ‘sent_lexicon’\n",
            "\n",
            "sent_lexicon        100%[===================>] 647.05K  --.-KB/s    in 0.1s    \n",
            "\n",
            "2020-11-09 15:06:59 (6.44 MB/s) - ‘sent_lexicon’ saved [662577/662577]\n",
            "\n",
            "--2020-11-09 15:06:59--  https://gist.githubusercontent.com/bastings/d47423301cca214e3930061a5a75e177/raw/5113687382919e22b1f09ce71a8fecd1687a5760/reviews.json\n",
            "Resolving gist.githubusercontent.com (gist.githubusercontent.com)... 151.101.0.133, 151.101.64.133, 151.101.128.133, ...\n",
            "Connecting to gist.githubusercontent.com (gist.githubusercontent.com)|151.101.0.133|:443... connected.\n",
            "HTTP request sent, awaiting response... 200 OK\n",
            "Length: 83503869 (80M) [text/plain]\n",
            "Saving to: ‘reviews.json’\n",
            "\n",
            "reviews.json        100%[===================>]  79.63M  76.3MB/s    in 1.0s    \n",
            "\n",
            "2020-11-09 15:07:00 (76.3 MB/s) - ‘reviews.json’ saved [83503869/83503869]\n",
            "\n"
          ],
          "name": "stdout"
        }
      ]
    },
    {
      "cell_type": "code",
      "metadata": {
        "id": "sMGYgAITr2p9"
      },
      "source": [
        "!mkdir -p data\n",
        "!mv reviews.json data"
      ],
      "execution_count": 4,
      "outputs": []
    },
    {
      "cell_type": "markdown",
      "metadata": {
        "id": "AkPwuHp5LSuQ"
      },
      "source": [
        "**Load the movie reviews.**\n",
        "\n",
        "Each word in a review comes with its part-of-speech tag. For documentation on POS-tags, see https://catalog.ldc.upenn.edu/docs/LDC99T42/tagguid1.pdf.\n"
      ]
    },
    {
      "cell_type": "code",
      "metadata": {
        "id": "careEKj-mRpl",
        "outputId": "e6f0667c-931a-4fbd-9611-18a3491f92ec",
        "colab": {
          "base_uri": "https://localhost:8080/"
        }
      },
      "source": [
        "# file structure:\n",
        "# [\n",
        "#  {\"cv\": integer, \"sentiment\": str, \"content\": list} \n",
        "#  {\"cv\": integer, \"sentiment\": str, \"content\": list} \n",
        "#   ..\n",
        "# ]\n",
        "# where `content` is a list of sentences, \n",
        "# with a sentence being a list of (token, pos_tag) pairs.\n",
        "\n",
        "\n",
        "with open(\"./data/reviews.json\", mode=\"r\", encoding=\"utf-8\") as f:\n",
        "  reviews = json.load(f)\n",
        "  \n",
        "print(\"Total number of reviews:\", len(reviews), '\\n')\n",
        "\n",
        "def print_sentence_with_pos(s):\n",
        "  print(\" \".join(\"%s/%s\" % (token, pos_tag) for token, pos_tag in s))\n",
        "\n",
        "for i, r in enumerate(reviews):\n",
        "  print(r[\"cv\"], r[\"sentiment\"], len(r[\"content\"]))  # cv, sentiment, num sents\n",
        "  print_sentence_with_pos(r[\"content\"][0])\n",
        "  if i == 4: \n",
        "    break\n",
        "    \n",
        "c = Counter()\n",
        "for review in reviews:\n",
        "  for sentence in review[\"content\"]:\n",
        "    for token, pos_tag in sentence:\n",
        "      c[token.lower()] += 1\n",
        "      \n",
        "print(\"\\nNumber of word types:\", len(c))\n",
        "print(\"Number of word tokens:\", sum(c.values()))\n",
        "\n",
        "print(\"\\nMost common tokens:\")\n",
        "for token, count in c.most_common(20):\n",
        "  print(\"%10s : %8d\" % (token, count))\n",
        "  "
      ],
      "execution_count": 5,
      "outputs": [
        {
          "output_type": "stream",
          "text": [
            "Total number of reviews: 2000 \n",
            "\n",
            "0 NEG 29\n",
            "Two/CD teen/JJ couples/NNS go/VBP to/TO a/DT church/NN party/NN ,/, drink/NN and/CC then/RB drive/NN ./.\n",
            "1 NEG 11\n",
            "Damn/JJ that/IN Y2K/CD bug/NN ./.\n",
            "2 NEG 24\n",
            "It/PRP is/VBZ movies/NNS like/IN these/DT that/WDT make/VBP a/DT jaded/JJ movie/NN viewer/NN thankful/JJ for/IN the/DT invention/NN of/IN the/DT Timex/NNP IndiGlo/NNP watch/NN ./.\n",
            "3 NEG 19\n",
            "QUEST/NN FOR/IN CAMELOT/NNP ``/`` Quest/NNP for/IN Camelot/NNP ''/'' is/VBZ Warner/NNP Bros./NNP '/POS first/JJ feature-length/JJ ,/, fully-animated/JJ attempt/NN to/TO steal/VB clout/NN from/IN Disney/NNP 's/POS cartoon/NN empire/NN ,/, but/CC the/DT mouse/NN has/VBZ no/DT reason/NN to/TO be/VB worried/VBN ./.\n",
            "4 NEG 38\n",
            "Synopsis/NNPS :/: A/DT mentally/RB unstable/JJ man/NN undergoing/VBG psychotherapy/NN saves/VBZ a/DT boy/NN from/IN a/DT potentially/RB fatal/JJ accident/NN and/CC then/RB falls/VBZ in/IN love/NN with/IN the/DT boy/NN 's/POS mother/NN ,/, a/DT fledgling/NN restauranteur/NN ./.\n",
            "\n",
            "Number of word types: 47743\n",
            "Number of word tokens: 1512359\n",
            "\n",
            "Most common tokens:\n",
            "         , :    77842\n",
            "       the :    75948\n",
            "         . :    59027\n",
            "         a :    37583\n",
            "       and :    35235\n",
            "        of :    33864\n",
            "        to :    31601\n",
            "        is :    25972\n",
            "        in :    21563\n",
            "        's :    18043\n",
            "        it :    15904\n",
            "      that :    15820\n",
            "     -rrb- :    11768\n",
            "     -lrb- :    11670\n",
            "        as :    11312\n",
            "      with :    10739\n",
            "       for :     9816\n",
            "       his :     9542\n",
            "      this :     9497\n",
            "      film :     9404\n"
          ],
          "name": "stdout"
        }
      ]
    },
    {
      "cell_type": "markdown",
      "metadata": {
        "id": "E6PWaEoh8B34"
      },
      "source": [
        "# Lexicon-based approach (2+1pts)\n",
        "\n"
      ]
    },
    {
      "cell_type": "markdown",
      "metadata": {
        "id": "JsTSMb6ma4E8"
      },
      "source": [
        "A traditional approach to automatically classify documents according to their sentiment is the lexicon-based approach. To implement this approach, you need a **sentiment lexicon**, i.e., a list of words annotated with a sentiment label (e.g., positive and negative) or a sentiment score (e.g., a score from 0 to 5).\n",
        "\n",
        "In this practical, you will use the sentiment\n",
        "lexicon released by Wilson et al. (2005). The path of the loaded lexicon is `\"sent_lexicon\"`.\n",
        "\n",
        "> Theresa Wilson, Janyce Wiebe, and Paul Hoffmann\n",
        "(2005). [Recognizing Contextual Polarity in Phrase-Level Sentiment\n",
        "Analysis](http://www.aclweb.org/anthology/H/H05/H05-1044.pdf). HLT-EMNLP.\n",
        "\n",
        "Pay attention to all the information available in the sentiment lexicon. The field *word1* contains the lemma, *priorpolarity* contains the sentiment label (positive, negative, both, or neutral), *type* gives you the magnitude of the word's sentiment (strong or weak), and *pos1* gives you the part-of-speech tag of the lemma. Some lemmas can have multiple part-of-speech tags and thus multiple entries in the lexicon.\n"
      ]
    },
    {
      "cell_type": "markdown",
      "metadata": {
        "id": "MCHUMmb0SZxy"
      },
      "source": [
        "Pay attention to all the information available in the sentiment lexicon. The field *word1* contains the lemma, *priorpolarity* contains the sentiment label (positive, negative, both, or neutral), *type* gives you the magnitude of the word's sentiment (strong or weak), and *pos1* gives you the part-of-speech tag of the lemma. Some lemmas can have multiple part-of-speech tags and thus multiple entries in the lexicon."
      ]
    },
    {
      "cell_type": "code",
      "metadata": {
        "id": "Ogq0Eq2hQglh",
        "outputId": "920298e0-761a-4d82-9376-f451c2ef4424",
        "colab": {
          "base_uri": "https://localhost:8080/"
        }
      },
      "source": [
        "with open(\"sent_lexicon\", mode=\"r\", encoding=\"utf-8\") as f:\n",
        "  line_cnt = 0\n",
        "  for line in f:\n",
        "    print(line.strip())\n",
        "    line_cnt += 1\n",
        "    if line_cnt > 4:\n",
        "      break"
      ],
      "execution_count": 6,
      "outputs": [
        {
          "output_type": "stream",
          "text": [
            "type=weaksubj len=1 word1=abandoned pos1=adj stemmed1=n priorpolarity=negative\n",
            "type=weaksubj len=1 word1=abandonment pos1=noun stemmed1=n priorpolarity=negative\n",
            "type=weaksubj len=1 word1=abandon pos1=verb stemmed1=y priorpolarity=negative\n",
            "type=strongsubj len=1 word1=abase pos1=verb stemmed1=y priorpolarity=negative\n",
            "type=strongsubj len=1 word1=abasement pos1=anypos stemmed1=y priorpolarity=negative\n"
          ],
          "name": "stdout"
        }
      ]
    },
    {
      "cell_type": "markdown",
      "metadata": {
        "id": "Mml4nOtIUBhn"
      },
      "source": [
        "Given such a sentiment lexicon, there are ways to solve\n",
        "the classification task without using Machine Learning. For example, one might look up every word $w_1 ... w_n$ in a document, and compute a **binary score**\n",
        "$S_{binary}$ by counting how many words have a positive or a\n",
        "negative label in the sentiment lexicon $SLex$.\n",
        "\n",
        "$$S_{binary}(w_1 w_2 ... w_n) = \\sum_{i = 1}^{n}\\text{sign}(SLex\\big[w_i\\big])$$\n",
        "\n",
        "where $\\text{sign}(SLex\\big[w_i\\big])$ refers to the polarity of $w_i$.\n",
        "\n",
        "**Threshold.** On average, there are more positive than negative words per review (~7.13 more positive than negative per review) to take this bias into account you should use a threshold of **8** (roughly the bias itself) to make it harder to classify as positive.\n",
        "\n",
        "$$\n",
        "\\text{classify}(S_{binary}(w_1 w_2 ... w_n)) = \\bigg\\{\\begin{array}{ll}\n",
        "        \\text{positive} & \\text{if } S_{binary}(w_1w_2...w_n) > threshold\\\\\n",
        "        \\text{negative} & \\text{otherwise}\n",
        "        \\end{array}\n",
        "$$\n"
      ]
    },
    {
      "cell_type": "markdown",
      "metadata": {
        "id": "tOFnMvbeeZrc"
      },
      "source": [
        "#### (Q1.1) Implement this approach and report its classification accuracy. (1 pt)"
      ]
    },
    {
      "cell_type": "code",
      "metadata": {
        "id": "jTHo-UqZpSF9",
        "outputId": "ac85b036-cca9-49c0-b539-d8a79f6699e4",
        "colab": {
          "base_uri": "https://localhost:8080/"
        }
      },
      "source": [
        "# not sure how to count words which have different pos tag then those five which occur in the lexicon\n",
        "POS2TAG = {'adj':'JJ', 'noun':'NN', 'verb':'VB', 'anypos':'ANY', 'adverb':'RB'}\n",
        "\n",
        "def convert_line2dict(line):\n",
        "    # takes a line and converts into a dict\n",
        "    # which stores the attributes of each word in the lexicon\n",
        "    # currently doesn't account for same word with different pos1 and priorpolarity!\n",
        "    line = line.strip().split()\n",
        "    \n",
        "    word = line[2][6:]\n",
        "    word_type = line[0][5:]\n",
        "    word_len = line[1][4:]\n",
        "    pos1 = line[3][5:]\n",
        "    stemmed1 = line[4][9:]\n",
        "    priorpolarity = line[5][14:]\n",
        "    \n",
        "    \n",
        "    pos_tag = POS2TAG[pos1]\n",
        "    \n",
        "    # for now we are ignoring words which occur more than once with different POS tag\n",
        "    key = word\n",
        "    \n",
        "    dict_entry = {'word':word, 'pos_tag':pos_tag, 'type':word_type, 'len':word_len, 'pos1':pos1, 'stemmed1':stemmed1,  'priorpolarity':priorpolarity}\n",
        "\n",
        "    return key, dict_entry\n",
        "\n",
        "\n",
        "# load lexicon\n",
        "f = open('sent_lexicon', mode='r', encoding='utf-8')\n",
        "lexicon = {}\n",
        "all_pos = []\n",
        "\n",
        "\n",
        "\n",
        "for line in f:\n",
        "    \n",
        "    # parse line to word and its properties\n",
        "    key, dict_entry = convert_line2dict(line)\n",
        "    \n",
        "    if key in lexicon.keys():\n",
        "        if lexicon[key]['priorpolarity'] != dict_entry['priorpolarity']:\n",
        "            print('Warning! Inconsistent priorpolarity!',dict_entry, lexicon[key])\n",
        "        \n",
        "        continue\n",
        "    # add word to lexicon\n",
        "    lexicon[key] = dict_entry"
      ],
      "execution_count": 7,
      "outputs": [
        {
          "output_type": "stream",
          "text": [
            "Warning! Inconsistent priorpolarity! {'word': 'blood', 'pos_tag': 'NN', 'type': 'weaksubj', 'len': '1', 'pos1': 'noun', 'stemmed1': 'n', 'priorpolarity': 'negative'} {'word': 'blood', 'pos_tag': 'JJ', 'type': 'weaksubj', 'len': '1', 'pos1': 'adj', 'stemmed1': 'n', 'priorpolarity': 'neutral'}\n",
            "Warning! Inconsistent priorpolarity! {'word': 'boast', 'pos_tag': 'VB', 'type': 'strongsubj', 'len': '1', 'pos1': 'verb', 'stemmed1': 'y', 'priorpolarity': 'negative'} {'word': 'boast', 'pos_tag': 'VB', 'type': 'strongsubj', 'len': '1', 'pos1': 'verb', 'stemmed1': 'y', 'priorpolarity': 'positive'}\n",
            "Warning! Inconsistent priorpolarity! {'word': 'conscience', 'pos_tag': 'NN', 'type': 'weaksubj', 'len': '1', 'pos1': 'noun', 'stemmed1': 'n', 'priorpolarity': 'positive'} {'word': 'conscience', 'pos_tag': 'JJ', 'type': 'weaksubj', 'len': '1', 'pos1': 'adj', 'stemmed1': 'n', 'priorpolarity': 'neutral'}\n",
            "Warning! Inconsistent priorpolarity! {'word': 'deep', 'pos_tag': 'NN', 'type': 'weaksubj', 'len': '1', 'pos1': 'noun', 'stemmed1': 'n', 'priorpolarity': 'negative'} {'word': 'deep', 'pos_tag': 'JJ', 'type': 'weaksubj', 'len': '1', 'pos1': 'adj', 'stemmed1': 'n', 'priorpolarity': 'neutral'}\n",
            "Warning! Inconsistent priorpolarity! {'word': 'destiny', 'pos_tag': 'JJ', 'type': 'weaksubj', 'len': '1', 'pos1': 'adj', 'stemmed1': 'n', 'priorpolarity': 'neutral'} {'word': 'destiny', 'pos_tag': 'NN', 'type': 'strongsubj', 'len': '1', 'pos1': 'noun', 'stemmed1': 'n', 'priorpolarity': 'positive'}\n",
            "Warning! Inconsistent priorpolarity! {'word': 'destiny', 'pos_tag': 'NN', 'type': 'weaksubj', 'len': '1', 'pos1': 'noun', 'stemmed1': 'n', 'priorpolarity': 'neutral'} {'word': 'destiny', 'pos_tag': 'NN', 'type': 'strongsubj', 'len': '1', 'pos1': 'noun', 'stemmed1': 'n', 'priorpolarity': 'positive'}\n",
            "Warning! Inconsistent priorpolarity! {'word': 'dig', 'pos_tag': 'VB', 'type': 'weaksubj', 'len': '1', 'pos1': 'verb', 'stemmed1': 'y', 'priorpolarity': 'positive'} {'word': 'dig', 'pos_tag': 'NN', 'type': 'weaksubj', 'len': '1', 'pos1': 'noun', 'stemmed1': 'n', 'priorpolarity': 'negative'}\n",
            "Warning! Inconsistent priorpolarity! {'word': 'excuse', 'pos_tag': 'VB', 'type': 'weaksubj', 'len': '1', 'pos1': 'verb', 'stemmed1': 'y', 'priorpolarity': 'positive'} {'word': 'excuse', 'pos_tag': 'JJ', 'type': 'weaksubj', 'len': '1', 'pos1': 'adj', 'stemmed1': 'n', 'priorpolarity': 'negative'}\n",
            "Warning! Inconsistent priorpolarity! {'word': 'fine', 'pos_tag': 'VB', 'type': 'weaksubj', 'len': '1', 'pos1': 'verb', 'stemmed1': 'y', 'priorpolarity': 'negative'} {'word': 'fine', 'pos_tag': 'JJ', 'type': 'weaksubj', 'len': '1', 'pos1': 'adj', 'stemmed1': 'n', 'priorpolarity': 'positive'}\n",
            "Warning! Inconsistent priorpolarity! {'word': 'fun', 'pos_tag': 'JJ', 'type': 'strongsubj', 'len': '1', 'pos1': 'adj', 'stemmed1': 'n', 'priorpolarity': 'positive'} {'word': 'fun', 'pos_tag': 'VB', 'type': 'strongsubj', 'len': '1', 'pos1': 'verb', 'stemmed1': 'y', 'priorpolarity': 'negative'}\n",
            "Warning! Inconsistent priorpolarity! {'word': 'intimate', 'pos_tag': 'VB', 'type': 'strongsubj', 'len': '1', 'pos1': 'verb', 'stemmed1': 'y', 'priorpolarity': 'neutral'} {'word': 'intimate', 'pos_tag': 'JJ', 'type': 'weaksubj', 'len': '1', 'pos1': 'adj', 'stemmed1': 'n', 'priorpolarity': 'positive'}\n",
            "Warning! Inconsistent priorpolarity! {'word': 'intrigue', 'pos_tag': 'VB', 'type': 'weaksubj', 'len': '1', 'pos1': 'verb', 'stemmed1': 'y', 'priorpolarity': 'neutral'} {'word': 'intrigue', 'pos_tag': 'JJ', 'type': 'strongsubj', 'len': '1', 'pos1': 'adj', 'stemmed1': 'n', 'priorpolarity': 'positive'}\n",
            "Warning! Inconsistent priorpolarity! {'word': 'keen', 'pos_tag': 'NN', 'type': 'strongsubj', 'len': '1', 'pos1': 'noun', 'stemmed1': 'n', 'priorpolarity': 'negative'} {'word': 'keen', 'pos_tag': 'JJ', 'type': 'strongsubj', 'len': '1', 'pos1': 'adj', 'stemmed1': 'n', 'priorpolarity': 'positive'}\n",
            "Warning! Inconsistent priorpolarity! {'word': 'keen', 'pos_tag': 'VB', 'type': 'strongsubj', 'len': '1', 'pos1': 'verb', 'stemmed1': 'y', 'priorpolarity': 'negative'} {'word': 'keen', 'pos_tag': 'JJ', 'type': 'strongsubj', 'len': '1', 'pos1': 'adj', 'stemmed1': 'n', 'priorpolarity': 'positive'}\n",
            "Warning! Inconsistent priorpolarity! {'word': 'large', 'pos_tag': 'JJ', 'type': 'weaksubj', 'len': '1', 'pos1': 'adj', 'stemmed1': 'n', 'priorpolarity': 'positive'} {'word': 'large', 'pos_tag': 'JJ', 'type': 'weaksubj', 'len': '1', 'pos1': 'adj', 'stemmed1': 'n', 'priorpolarity': 'neutral'}\n",
            "Warning! Inconsistent priorpolarity! {'word': 'large', 'pos_tag': 'RB', 'type': 'weaksubj', 'len': '1', 'pos1': 'adverb', 'stemmed1': 'n', 'priorpolarity': 'positive'} {'word': 'large', 'pos_tag': 'JJ', 'type': 'weaksubj', 'len': '1', 'pos1': 'adj', 'stemmed1': 'n', 'priorpolarity': 'neutral'}\n",
            "Warning! Inconsistent priorpolarity! {'word': 'mean', 'pos_tag': 'VB', 'type': 'weaksubj', 'len': '1', 'pos1': 'verb', 'stemmed1': 'y', 'priorpolarity': 'neutral'} {'word': 'mean', 'pos_tag': 'JJ', 'type': 'strongsubj', 'len': '1', 'pos1': 'adj', 'stemmed1': 'n', 'priorpolarity': 'negative'}\n",
            "Warning! Inconsistent priorpolarity! {'word': 'might', 'pos_tag': 'NN', 'type': 'strongsubj', 'len': '1', 'pos1': 'noun', 'stemmed1': 'n', 'priorpolarity': 'positive'} {'word': 'might', 'pos_tag': 'ANY', 'type': 'weaksubj', 'len': '1', 'pos1': 'anypos', 'stemmed1': 'y', 'priorpolarity': 'neutral'}\n",
            "Warning! Inconsistent priorpolarity! {'word': 'need', 'pos_tag': 'VB', 'type': 'strongsubj', 'len': '1', 'pos1': 'verb', 'stemmed1': 'y', 'priorpolarity': 'neutral'} {'word': 'need', 'pos_tag': 'JJ', 'type': 'weaksubj', 'len': '1', 'pos1': 'adj', 'stemmed1': 'n', 'priorpolarity': 'negative'}\n",
            "Warning! Inconsistent priorpolarity! {'word': 'precious', 'pos_tag': 'RB', 'type': 'strongsubj', 'len': '1', 'pos1': 'adverb', 'stemmed1': 'n', 'priorpolarity': 'neutral'} {'word': 'precious', 'pos_tag': 'JJ', 'type': 'strongsubj', 'len': '1', 'pos1': 'adj', 'stemmed1': 'n', 'priorpolarity': 'positive'}\n",
            "Warning! Inconsistent priorpolarity! {'word': 'regard', 'pos_tag': 'VB', 'type': 'strongsubj', 'len': '1', 'pos1': 'verb', 'stemmed1': 'y', 'priorpolarity': 'neutral'} {'word': 'regard', 'pos_tag': 'NN', 'type': 'strongsubj', 'len': '1', 'pos1': 'noun', 'stemmed1': 'n', 'priorpolarity': 'positive'}\n",
            "Warning! Inconsistent priorpolarity! {'word': 'taste', 'pos_tag': 'VB', 'type': 'weaksubj', 'len': '1', 'pos1': 'verb', 'stemmed1': 'y', 'priorpolarity': 'neutral'} {'word': 'taste', 'pos_tag': 'NN', 'type': 'weaksubj', 'len': '1', 'pos1': 'noun', 'stemmed1': 'n', 'priorpolarity': 'positive'}\n"
          ],
          "name": "stdout"
        }
      ]
    },
    {
      "cell_type": "code",
      "metadata": {
        "id": "ED2aTEYutW1-"
      },
      "source": [
        "# YOUR CODE HERE\n",
        "\n",
        "\n",
        "def get_score(lexicon_entry, multiplier):\n",
        "    # set multiplier=1 to get binary scoring\n",
        "    # and to some constant > 1 to get weighted scoring\n",
        "    polarity = lexicon_entry['priorpolarity']\n",
        "    strength = lexicon_entry['type']\n",
        "\n",
        "    if strength == 'strongsubj':\n",
        "        weight = multiplier\n",
        "    elif strength == 'weaksubj':\n",
        "        weight = 1\n",
        "    \n",
        "    if polarity == 'positive':\n",
        "        return weight\n",
        "    elif polarity == 'negative':\n",
        "        return -weight\n",
        "    else:\n",
        "        return 0\n",
        "\n",
        "def score_document(lexicon, content, multiplier):\n",
        "    score = 0\n",
        "    num_words = 0\n",
        "    for i, sentence in enumerate(content):\n",
        "        for j, word_pos_pair in enumerate(sentence):\n",
        "            if word_pos_pair[0] not in lexicon.keys():\n",
        "                continue\n",
        "                \n",
        "            score += get_score(lexicon[word_pos_pair[0]], multiplier)\n",
        "            num_words += 1\n",
        "    return score, num_words\n",
        "\n",
        "def classify_document(lexicon, content, threshold, multiplier, per_word):\n",
        "    score, num_words = score_document(lexicon, content, multiplier)\n",
        "    # we immediately implement a threshold per word but this can be deactivated\n",
        "    # by setting per_word to False (default)\n",
        "    if not per_word:\n",
        "        num_words = 1\n",
        "    if score >= threshold * num_words:\n",
        "        predicted_rating = 1\n",
        "    elif score < threshold * num_words:\n",
        "        predicted_rating = 0\n",
        "    \n",
        "    return predicted_rating"
      ],
      "execution_count": 8,
      "outputs": []
    },
    {
      "cell_type": "code",
      "metadata": {
        "id": "lNRpIiMBGatl"
      },
      "source": [
        "# Some helper functions and constants\n",
        "LABEL2NUM = {\"NEG\": 0, \"POS\": 1}\n",
        "SENTIMENTS = [\"POS\", \"NEG\"]\n",
        "\n",
        "def results(labels, predicted_labels):\n",
        "    results = (predicted_labels == labels).astype(int)\n",
        "    accuracy = np.sum(results)/len(labels)\n",
        "    return results, accuracy"
      ],
      "execution_count": 9,
      "outputs": []
    },
    {
      "cell_type": "code",
      "metadata": {
        "id": "47Rz0G-B63XS"
      },
      "source": [
        "def make_predictions(reviews, lexicon, threshold=8, multiplier=1, per_word=False):\n",
        "    \n",
        "    labels = []\n",
        "    predicted_labels = []\n",
        "    \n",
        "    for i in range(len(reviews)):\n",
        "        \n",
        "        label = reviews[i]['sentiment']\n",
        "        label = LABEL2NUM[label]\n",
        "            \n",
        "        content = reviews[i]['content']\n",
        "        \n",
        "        predicted_label = classify_document(lexicon, content, threshold, multiplier, per_word)\n",
        "        \n",
        "        predicted_labels.append(predicted_label)\n",
        "        labels.append(label)\n",
        "    \n",
        "    return np.array(labels), np.array(predicted_labels)"
      ],
      "execution_count": 10,
      "outputs": []
    },
    {
      "cell_type": "code",
      "metadata": {
        "id": "hSgo0TSE61UU",
        "outputId": "c7408248-8a73-4823-c97b-b2fd78a462a3",
        "colab": {
          "base_uri": "https://localhost:8080/"
        }
      },
      "source": [
        "labels, predicted_labels = make_predictions(reviews, lexicon)\n",
        "\n",
        "# token_results should be a list of binary indicators; for example [1, 0, 1, ...] \n",
        "# where 1 indicates a correct classification and 0 an incorrect classification.\n",
        "token_results, token_accuracy = results(labels, predicted_labels)\n",
        "print(\"Accuracy: %0.2f\" % token_accuracy)"
      ],
      "execution_count": 11,
      "outputs": [
        {
          "output_type": "stream",
          "text": [
            "Accuracy: 0.68\n"
          ],
          "name": "stdout"
        }
      ]
    },
    {
      "cell_type": "markdown",
      "metadata": {
        "id": "Twox0s_3eS0V"
      },
      "source": [
        "As the sentiment lexicon also has information about the **magnitude** of\n",
        "sentiment (e.g., *“excellent\"* would have higher magnitude than\n",
        "*“good\"*), we can take a more fine-grained approach by adding up all\n",
        "sentiment scores, and deciding the polarity of the movie review using\n",
        "the sign of the weighted score $S_{weighted}$.\n",
        "\n",
        "$$S_{weighted}(w_1w_2...w_n) = \\sum_{i = 1}^{n}SLex\\big[w_i\\big]$$\n",
        "\n",
        "\n",
        "Make sure you define an appropriate threshold for this approach.\n",
        "\n",
        "#### (Q1.2) Now incorporate magnitude information and report the classification accuracy. Don't forget to use the threshold. (1 pt)"
      ]
    },
    {
      "cell_type": "code",
      "metadata": {
        "id": "yCIh6l8bIgBz",
        "outputId": "9939c146-8bd8-4d9a-f3af-8294c75142b0",
        "colab": {
          "base_uri": "https://localhost:8080/"
        }
      },
      "source": [
        "total_score = 0\n",
        "multiplier = 2 # strong sentiments will be counted twice as much as weak sentiments\n",
        "for rev in reviews:\n",
        "    content = rev[\"content\"]\n",
        "    total_score += score_document(lexicon, content, multiplier)[0]\n",
        "        \n",
        "avg_score = total_score/len(reviews)\n",
        "print(avg_score)"
      ],
      "execution_count": 12,
      "outputs": [
        {
          "output_type": "stream",
          "text": [
            "10.4815\n"
          ],
          "name": "stdout"
        }
      ]
    },
    {
      "cell_type": "code",
      "metadata": {
        "id": "gXBmkTiWyduw",
        "outputId": "2f9102c3-9ecb-4046-b165-1ffc8edd1bd0",
        "colab": {
          "base_uri": "https://localhost:8080/"
        }
      },
      "source": [
        "labels, predicted_labels = make_predictions(reviews, lexicon, threshold=avg_score, multiplier=multiplier)\n",
        "magnitude_results, magnitude_accuracy = results(labels, predicted_labels)\n",
        "print(\"Accuracy: %0.3f\" % magnitude_accuracy)"
      ],
      "execution_count": 13,
      "outputs": [
        {
          "output_type": "stream",
          "text": [
            "Accuracy: 0.685\n"
          ],
          "name": "stdout"
        }
      ]
    },
    {
      "cell_type": "markdown",
      "metadata": {
        "id": "h9SHoGPfsAHV"
      },
      "source": [
        "#### Make a barplot of the two results."
      ]
    },
    {
      "cell_type": "code",
      "metadata": {
        "id": "8LgBcYcXsEk3",
        "outputId": "e3464059-f2ad-4363-f7da-3131f9511db6",
        "colab": {
          "base_uri": "https://localhost:8080/",
          "height": 265
        }
      },
      "source": [
        "plt.bar([0, 1], [token_accuracy, magnitude_accuracy])\n",
        "plt.xticks([0, 1], [\"Binary\", \"Weighted\"])\n",
        "plt.ylabel(\"Accuracy\")\n",
        "plt.show()"
      ],
      "execution_count": 14,
      "outputs": [
        {
          "output_type": "display_data",
          "data": {
            "image/png": "[encoded data removed]",
            "text/plain": [
              "<Figure size 432x288 with 1 Axes>"
            ]
          },
          "metadata": {
            "tags": [],
            "needs_background": "light"
          }
        }
      ]
    },
    {
      "cell_type": "markdown",
      "metadata": {
        "id": "sNhS8OCVxMHd"
      },
      "source": [
        "## (Q1.3 Optional) A better threshold (1pt)\n",
        "Above we have defined a threshold to account for an inherent bias in the dataset: there are more positive than negative words per review.\n",
        "However, that threshold does not take into account *document length*. Explain why this is a problem and implement an alternative way to compute the threshold."
      ]
    },
    {
      "cell_type": "markdown",
      "metadata": {
        "id": "xo7gk1I-omLI"
      },
      "source": [
        "*Write your answer here.*\n",
        "\n",
        "The threshold is based on an _absolute_ difference in positive and negative words. However it is reasonable to assume that positive words occur at a constant _relative_ higher rate than negative words, e.g. 1.05 as often (5% more). This means that very long documents will easily pass the threshold, even if their overall sentiment is negative. \n",
        "\n",
        "We can avoid this by computing the average score for _each word_ over the whole dataset and requiring that the document surpasses the expected rating which we compute as the average word score times the length of the document."
      ]
    },
    {
      "cell_type": "code",
      "metadata": {
        "id": "Dwt0B8h8aKjr",
        "outputId": "7f76dd15-c718-492e-be8a-aa0e10f30602",
        "colab": {
          "base_uri": "https://localhost:8080/"
        }
      },
      "source": [
        "total_score = 0\n",
        "num_words = 0\n",
        "for rev in reviews:\n",
        "    content = rev[\"content\"]\n",
        "    for sentence in content:\n",
        "        for word, _ in sentence:\n",
        "            if word not in lexicon.keys():\n",
        "                continue\n",
        "                \n",
        "            total_score += get_score(lexicon[word], multiplier)\n",
        "            num_words += 1\n",
        "avg_word_score = total_score/num_words\n",
        "print(avg_word_score)"
      ],
      "execution_count": 15,
      "outputs": [
        {
          "output_type": "stream",
          "text": [
            "0.11687080822215656\n"
          ],
          "name": "stdout"
        }
      ]
    },
    {
      "cell_type": "markdown",
      "metadata": {
        "id": "tDbgV99-iqlV"
      },
      "source": [
        "As we can see the average word score is slightly larger than 0, exhibiting a bias towards positive sentiments. We can now correct for this by using a per-word threshold:"
      ]
    },
    {
      "cell_type": "code",
      "metadata": {
        "id": "38zlHCbz6qzy",
        "outputId": "8a242dda-ae6f-419f-f345-f925dd94448b",
        "colab": {
          "base_uri": "https://localhost:8080/"
        }
      },
      "source": [
        "labels, predicted_labels = make_predictions(reviews, lexicon,\n",
        "                                            threshold=avg_word_score,\n",
        "                                            multiplier=multiplier,\n",
        "                                            per_word=True)\n",
        "new_threshold_results, new_threshold_accuracy = results(labels, predicted_labels)\n",
        "print(\"Accuracy: %0.3f\" % new_threshold_accuracy)"
      ],
      "execution_count": 16,
      "outputs": [
        {
          "output_type": "stream",
          "text": [
            "Accuracy: 0.682\n"
          ],
          "name": "stdout"
        }
      ]
    },
    {
      "cell_type": "markdown",
      "metadata": {
        "id": "6MFrz8Jink0D"
      },
      "source": [
        "# Significance testing"
      ]
    },
    {
      "cell_type": "markdown",
      "metadata": {
        "id": "kxkxrldT9Ymc"
      },
      "source": [
        "Does using the magnitude improve the results? Oftentimes, answering such questions by simply comparing accuracy\n",
        "scores is not enough. When dealing with natural language and human ratings, it is safe to assume that there are infinitely many possible\n",
        "instances that could be used for training and testing, of which the ones\n",
        "we actually train and test on are a tiny sample. Thus, it is possible\n",
        "that observed differences in the reported performance are due to mere chance.\n",
        "\n",
        "There exist statistical methods which can be used to check for\n",
        "consistency (*statistical significance*) in the results, and one of the\n",
        "simplest such tests is the **sign test**. \n",
        "\n",
        "The sign test is based on the binomial distribution. Count all cases when System 1 is better than System 2, when System 2 is better than System 1, and when they are the same. Call these numbers $Plus$, $Minus$ and $Null$ respectively. \n",
        "\n",
        "The sign test returns the probability that the null hypothesis is true. \n",
        "\n",
        "This probability is called the $p$-value and it can be calculated for the two-sided sign test using the following formula (we multiply by two because this is a two-sided sign test and tests for the significance of differences in either direction):\n",
        "\n",
        "$$2 \\, \\sum\\limits_{i=0}^{k} \\binom{N}{i} \\, q^i \\, (1-q)^{N-i}$$\n",
        "\n",
        "where $$N = 2 \\Big\\lceil \\frac{Null}{2}\\Big\\rceil + Plus + Minus$$ is the total\n",
        "number of cases, and\n",
        "$$k = \\Big\\lceil \\frac{Null}{2}\\Big\\rceil + \\min\\{Plus,Minus\\}$$ is the number of\n",
        "cases with the less common sign. \n",
        "\n",
        "Here, we\n",
        "treat ties by adding half a point to either side, rounding up to the\n",
        "nearest integer if necessary. \n",
        "\n",
        "In this experiment, $q = 0.5$, so the formula simplifies to:\n",
        "$$2\\times 0.5^N\\, \\sum\\limits_{i=0}^{k} \\binom{N}{i}$$\n",
        "\n",
        "\n",
        "We use the `comb` function from `scipy` and the `decimal` package for the stable adding of numbers in the final summation.\n"
      ]
    },
    {
      "cell_type": "code",
      "metadata": {
        "id": "de5l4oPkE-BS",
        "outputId": "043e4a96-4371-4c9e-a4e9-55c108cd7170",
        "colab": {
          "base_uri": "https://localhost:8080/"
        }
      },
      "source": [
        "from decimal import Decimal\n",
        "from scipy.special import comb\n",
        "\n",
        "\n",
        "def sign_test(results_1, results_2):\n",
        "  \"\"\"test for significance\"\"\"\n",
        "  ties, plus, minus = 0, 0, 0\n",
        "\n",
        "  for i in range(0, len(results_1)):\n",
        "    if results_1[i]==results_2[i]:\n",
        "      ties += 1\n",
        "    elif results_1[i]==0: \n",
        "      plus += 1\n",
        "    elif results_2[i]==0: \n",
        "      minus += 1\n",
        "\n",
        "  n = (2 * math.ceil(ties/2.0)) + plus + minus\n",
        "  k = math.ceil(ties/2.0) + min(plus,minus)\n",
        "\n",
        "  summation = Decimal(0.0)\n",
        "  for i in range(0,int(k)+1):\n",
        "      summation += (Decimal(comb(n,i,exact=True)))\n",
        "\n",
        "  # use two-tailed version of test\n",
        "  summation *= 2\n",
        "  summation *= (Decimal(0.5)**Decimal(n))\n",
        "  \n",
        "  print(\"the difference is\", \n",
        "        \"not significant\" if summation >= 0.05 else \"significant\")\n",
        "  \n",
        "  return summation\n",
        "\n",
        "p_value = sign_test(token_results, magnitude_results)\n",
        "print(\"p_value =\", p_value)"
      ],
      "execution_count": 17,
      "outputs": [
        {
          "output_type": "stream",
          "text": [
            "the difference is not significant\n",
            "p_value = 0.8756244234337031344389177957\n"
          ],
          "name": "stdout"
        }
      ]
    },
    {
      "cell_type": "markdown",
      "metadata": {
        "id": "uhU_tk-BOaXb"
      },
      "source": [
        "### Using the Sign test\n",
        "\n",
        "**From now on, report all differences between systems, as well as between system configurations, using the\n",
        "sign test.**\n",
        "    \n",
        "You should report statistical test\n",
        "results in an appropriate form. If there are several different methods\n",
        "(i.e., systems) to compare, the Sign test can only be applied to pairs of them\n",
        "at a time. When reporting these pair-wise differences, you should\n",
        "summarise trends to avoid redundancy.\n"
      ]
    },
    {
      "cell_type": "markdown",
      "metadata": {
        "id": "LibV4nR89BXb"
      },
      "source": [
        "# Naive Bayes (10pt)"
      ]
    },
    {
      "cell_type": "markdown",
      "metadata": {
        "id": "fnF9adQnuwia"
      },
      "source": [
        "\n",
        "Your second task is to program a simple Machine Learning approach that operates\n",
        "on a simple Bag-of-Words (BoW) representation of the text data, as\n",
        "described by Pang et al. (2002). In this approach, the only features we\n",
        "will consider are the words in the text themselves, without bringing in\n",
        "external sources of information. The BoW model is a popular way of\n",
        "representing texts as vectors, making it\n",
        "easy to apply classical Machine Learning algorithms on NLP tasks.\n",
        "However, the BoW representation is also very crude, since it discards\n",
        "all information related to word order and grammatical structure in the\n",
        "original text—as the name suggests.\n",
        "\n",
        "## Writing your own classifier (4pts)\n",
        "\n",
        "Write your own code to implement the Naive Bayes (NB) classifier. As\n",
        "a reminder, the Naive Bayes classifier works according to the following\n",
        "equation:\n",
        "$$\\hat{c} = \\operatorname*{arg\\,max}_{c \\in C} P(c|\\bar{f}) = \\operatorname*{arg\\,max}_{c \\in C} P(c)\\prod^n_{i=1} P(f_i|c)$$\n",
        "where $C = \\{ \\text{POS}, \\text{NEG} \\}$ is the set of possible classes,\n",
        "$\\hat{c} \\in C$ is the most probable class, and $\\bar{f}$ is the feature\n",
        "vector. Remember that we use the log of these probabilities when making\n",
        "a prediction:\n",
        "$$\\hat{c} = \\operatorname*{arg\\,max}_{c \\in C} \\Big\\{\\log P(c) + \\sum^n_{i=1} \\log P(f_i|c)\\Big\\}$$\n",
        "\n",
        "You can find more details about Naive Bayes in [Jurafsky &\n",
        "Martin](https://web.stanford.edu/~jurafsky/slp3/). You can also look at\n",
        "this helpful\n",
        "[pseudo-code](https://nlp.stanford.edu/IR-book/html/htmledition/naive-bayes-text-classification-1.html).\n",
        "\n",
        "*Note: this section and the next aim to put you in a position to replicate\n",
        "    Pang et al.'s Naive Bayes results. However, your numerical results\n",
        "    will differ from theirs, as they used different data.*\n",
        "\n",
        "**You must write the Naive Bayes training and prediction code from\n",
        "scratch.** You will not be given credit for using off-the-shelf Machine\n",
        "Learning libraries.\n",
        "\n",
        "The data contains the text of the reviews, where each document consists\n",
        "of the sentences in the review, the sentiment of the review and an index\n",
        "(cv) that you will later use for cross-validation. The\n",
        "text has already been tokenised and POS-tagged for you. Your algorithm\n",
        "should read in the text, **lowercase it**, store the words and their\n",
        "frequencies in an appropriate data structure that allows for easy\n",
        "computation of the probabilities used in the Naive Bayes algorithm, and\n",
        "then make predictions for new instances.\n"
      ]
    },
    {
      "cell_type": "markdown",
      "metadata": {
        "id": "vEpyQSBSkb33"
      },
      "source": [
        "#### (Q3.1) Unseen words (1pt)\n",
        "The presence of words in the test dataset that\n",
        "have not been seen during training can cause probabilities in the Naive Bayes classifier to equal $0$.\n",
        "These can be words which are unseen in both positive and negative training reviews (case 1), but also words which are seen in reviews _of only one sentiment class_ in the training dataset (case 2). In both cases, **you should skip these words for both classes**. \n",
        "\n",
        "In case 2, you could also set $P(c|\\bar{f}) = 0$ for the class $c$ within which $f_i \\in \\bar{f}$ was not seen. One way to implement this in log space is to set $P(c|\\bar{f}) = -\\infty$. What would be the problem instead with skipping words only for one class in case 2? "
      ]
    },
    {
      "cell_type": "markdown",
      "metadata": {
        "id": "BanFiYYnoxDW"
      },
      "source": [
        "Skipping a word is effectively the same as assigning it $P(f_i|c) = 1$. If we skip a word for the class for which it did not occur in training but include it for the other one, this word increases the likelihood of the class for which it did *not* occur. This is clearly absurd and undesirable."
      ]
    },
    {
      "cell_type": "markdown",
      "metadata": {
        "id": "gsZRhaI3WvzC"
      },
      "source": [
        "#### (Q3.2) Train your classifier on (positive and negative) reviews with cv-value 000-899, and test it on the remaining (positive and negative) reviews cv900–cv999.  Report results using classification accuracy as your evaluation metric. Your  features are the word vocabulary. The value of a feature is the count of that feature (word) in the document. (2pts)\n"
      ]
    },
    {
      "cell_type": "code",
      "metadata": {
        "id": "G7zaJYGFvIJ3",
        "outputId": "563dfa09-ac3f-4ecb-eb0a-3c7e60f39664",
        "colab": {
          "base_uri": "https://localhost:8080/"
        }
      },
      "source": [
        "def calc_probs(reviews, smoothing=None, stemmer=None, bigrams=False, trigrams=False):\n",
        "    '''\n",
        "    computes the conditional probabilities p(f_i|C)\n",
        "    Args:\n",
        "        reviews - list of reviews\n",
        "        smoothing - constant smoothing parameter\n",
        "        stemmer - stemmer object to hash words to their stem\n",
        "        bigrams - whether to use bigrams\n",
        "        trigrams - whether to use trigrams\n",
        "    Returns:\n",
        "        (probs, p_C) - probabilities p(f_i|C) and priors p(C)\n",
        "    '''\n",
        "    \n",
        "    # create counts for all word-sentiment combinations\n",
        "    counts = {\"POS\": {}, \"NEG\": {}}\n",
        "    p_C = {\"POS\": 0, \"NEG\": 0}\n",
        "    for rev in reviews:\n",
        "        content = rev[\"content\"]\n",
        "        sent = rev[\"sentiment\"]\n",
        "        p_C[sent] += 1\n",
        "        for sentence in content:\n",
        "            for word, _ in sentence:\n",
        "                word = word.lower()\n",
        "                \n",
        "                if stemmer != None:\n",
        "                    word = stemmer.stem(word)\n",
        "                \n",
        "                if word in counts[sent]:\n",
        "                    counts[sent][word] += 1\n",
        "                else:\n",
        "                    counts[sent][word] = 1\n",
        "            \n",
        "            \n",
        "            # bigram features\n",
        "            if bigrams: # not working with stemmer so far\n",
        "                bigrams = list(ngrams([w.lower() for w,_ in sentence], n=2))\n",
        "                \n",
        "                for gram in bigrams:\n",
        "                    if gram in counts[sent]:\n",
        "                        counts[sent][gram] += 1\n",
        "                    else:\n",
        "                        counts[sent][gram] = 1\n",
        "            \n",
        "            # trigram features\n",
        "            if trigrams: # not working with stemmer so far\n",
        "                trigrams = list(ngrams([w.lower() for w,_ in sentence], n=3))\n",
        "                \n",
        "                for gram in trigrams:\n",
        "                    if gram in counts[sent]:\n",
        "                        counts[sent][gram] += 1\n",
        "                    else:\n",
        "                        counts[sent][gram] = 1\n",
        "                    \n",
        "    \n",
        "    if smoothing == None:                \n",
        "        # Delete words with zero counts in either category\n",
        "        for k in list(counts[\"POS\"].keys()):\n",
        "            if k not in counts[\"NEG\"]:\n",
        "                del counts[\"POS\"][k]\n",
        "        for k in list(counts[\"NEG\"].keys()):\n",
        "            if k not in counts[\"POS\"]:\n",
        "                del counts[\"NEG\"][k]\n",
        "    else:\n",
        "        # add a smoothing constant to all word counts\n",
        "        for k in counts[\"POS\"].keys():\n",
        "            if k not in counts[\"NEG\"]:\n",
        "                counts[\"NEG\"][k] = smoothing\n",
        "            else:\n",
        "                counts[\"NEG\"][k] += smoothing\n",
        "        for k in counts[\"NEG\"].keys():\n",
        "            if k not in counts[\"POS\"]:\n",
        "                counts[\"POS\"][k] = smoothing\n",
        "            else:\n",
        "                counts[\"POS\"][k] += smoothing\n",
        "                \n",
        "    # compute the conditional probabilities p(f_i|c)\n",
        "    total = {\n",
        "        sentiment: sum(count for count in counts[sentiment].values())\n",
        "        for sentiment in SENTIMENTS\n",
        "    }\n",
        "    tokens = counts[\"POS\"].keys()\n",
        "    probs = {\n",
        "        sentiment: {token: counts[sentiment][token]/total[sentiment] for token in tokens}\n",
        "        for sentiment in SENTIMENTS\n",
        "    }\n",
        "    p_C_total = p_C[\"POS\"] + p_C[\"NEG\"]\n",
        "    for k in p_C:\n",
        "        p_C[k] /= p_C_total\n",
        "\n",
        "    return probs, p_C\n",
        "\n",
        "def nb_predict(content, probabilities, priors):\n",
        "    \"\"\"Predict the sentiment of TEXT using the conditional PROBABILITIES specified\"\"\"\n",
        "    # flatten the content into a simple list of words\n",
        "    words = [word.lower() for sentence in content for word, _ in sentence]\n",
        "\n",
        "    # filter out unseen words:\n",
        "    words = [w for w in words if w in probabilities[\"POS\"]]\n",
        "    \n",
        "    scores = {\n",
        "        sentiment: sum(np.log(probabilities[sentiment][word]) for word in words)\n",
        "        for sentiment in SENTIMENTS\n",
        "    }\n",
        "    \n",
        "    return scores[\"POS\"] + np.log(priors[\"POS\"]) >= scores[\"NEG\"] + np.log(priors[\"NEG\"])\n",
        "\n",
        "def nb_predict_corpus(corpus, probabilities, priors):\n",
        "    labels = []\n",
        "    predicted_labels = []\n",
        "    for i, rev in enumerate(corpus):\n",
        "        predicted_labels.append(nb_predict(rev[\"content\"], probabilities, priors))\n",
        "        labels.append(LABEL2NUM[rev[\"sentiment\"]])\n",
        "    return np.array(labels), np.array(predicted_labels)\n",
        "\n",
        "\n",
        "train_corpus = [rev for rev in reviews if rev[\"cv\"] < 900]\n",
        "test_corpus = [rev for rev in reviews if rev[\"cv\"] >= 900]\n",
        "probs, priors = calc_probs(train_corpus)\n",
        "labels, predicted_labels = nb_predict_corpus(test_corpus, probs, priors)\n",
        "nb_results, nb_accuracy = results(labels, predicted_labels)\n",
        "print(\"Accuracy: %0.3f\" % nb_accuracy)\n"
      ],
      "execution_count": 36,
      "outputs": [
        {
          "output_type": "stream",
          "text": [
            "Accuracy: 0.835\n"
          ],
          "name": "stdout"
        }
      ]
    },
    {
      "cell_type": "markdown",
      "metadata": {
        "id": "0INK-PBoM6CB"
      },
      "source": [
        "#### (Q3.3) Would you consider accuracy to also be a good way to evaluate your classifier in a situation where 90% of your data instances are of positive movie reviews? (1pt)\n",
        "\n",
        "Simulate this scenario by keeping the positive reviews\n",
        "data unchanged, but only using negative reviews cv000–cv089 for\n",
        "training, and cv900–cv909 for testing. Calculate the classification\n",
        "accuracy, and explain what changed."
      ]
    },
    {
      "cell_type": "markdown",
      "metadata": {
        "id": "oFbcsYlipBAw"
      },
      "source": [
        "Accuracy in this case is a very misleading metric. The accuracy is now 89%, higher than before, but simply classifying everything as \"positive\" would be even better with 90% accuracy. So the performance should be compared to that of a baseline that only knows the class priors $p(C)$. Accuracy can in principle still be used as long as this is kept in mind, but it would be better to directly incoporate the class prior information into the metric to make performance comparable across different settings."
      ]
    },
    {
      "cell_type": "code",
      "metadata": {
        "id": "GWDkt5ZrrFGp",
        "outputId": "3d77fcee-3b1c-4dae-a2e4-eee5a7e745cb",
        "colab": {
          "base_uri": "https://localhost:8080/"
        }
      },
      "source": [
        "# YOUR CODE HERE\n",
        "train_corpus = [rev for rev in reviews if ((rev[\"cv\"] <= 89) or (rev[\"cv\"]<=899 and rev['sentiment']=='POS'))]\n",
        "test_corpus = [rev for rev in reviews if ((900 <= rev[\"cv\"] <= 909) or (rev[\"cv\"]>=900 and rev['sentiment']=='POS'))]\n",
        "probs, priors = calc_probs(train_corpus)\n",
        "labels, predicted_labels = nb_predict_corpus(test_corpus, probs, priors)\n",
        "nb_imbalance_results, nb_imbalance_accuracy = results(labels, predicted_labels)\n",
        "print(\"Accuracy: %0.3f\" % nb_imbalance_accuracy)"
      ],
      "execution_count": 32,
      "outputs": [
        {
          "output_type": "stream",
          "text": [
            "Accuracy: 0.891\n"
          ],
          "name": "stdout"
        }
      ]
    },
    {
      "cell_type": "markdown",
      "metadata": {
        "id": "6wJzcHX3WUDm"
      },
      "source": [
        "## Smoothing (1.5pts)\n",
        "\n",
        "As mentioned above, the presence of words in the test dataset that\n",
        "have not been seen during training can cause probabilities in the Naive\n",
        "Bayes classifier to be $0$, thus making that particular test instance\n",
        "undecidable. The standard way to mitigate this effect (as well as to\n",
        "give more clout to rare words) is to use smoothing, in which the\n",
        "probability fraction\n",
        "$$\\frac{\\text{count}(w_i, c)}{\\sum\\limits_{w\\in V} \\text{count}(w, c)}$$ for a word\n",
        "$w_i$ becomes\n",
        "$$\\frac{\\text{count}(w_i, c) + \\text{smoothing}(w_i)}{\\sum\\limits_{w\\in V} \\text{count}(w, c) + \\sum\\limits_{w \\in V} \\text{smoothing}(w)}$$\n",
        "\n",
        "\n",
        "\n"
      ]
    },
    {
      "cell_type": "markdown",
      "metadata": {
        "id": "PBNIcbwUWphC"
      },
      "source": [
        "#### (Q3.4) Implement Laplace feature smoothing (1pt)\n",
        "Implement Laplace smoothing, i.e., smoothing with a constant value ($smoothing(w) = \\kappa, \\forall w \\in V$), in your Naive\n",
        "Bayes classifier’s code, and report the impact on performance. \n",
        "Use $\\kappa = 1$."
      ]
    },
    {
      "cell_type": "code",
      "metadata": {
        "id": "g03yflCc9kpW",
        "outputId": "10a6503b-6410-4926-b166-200061a03976",
        "colab": {
          "base_uri": "https://localhost:8080/"
        }
      },
      "source": [
        "# YOUR CODE HERE\n",
        "kappa = 1\n",
        "\n",
        "train_corpus = [rev for rev in reviews if rev[\"cv\"] < 900]\n",
        "test_corpus = [rev for rev in reviews if rev[\"cv\"] >= 900]\n",
        "probs, priors = calc_probs(train_corpus, smoothing=kappa)\n",
        "labels, predicted_labels = nb_predict_corpus(test_corpus, probs, priors)\n",
        "nb_smoothed_results, nb_smoothed_accuracy = results(labels, predicted_labels)\n",
        "print(\"Accuracy: %0.3f\" % nb_smoothed_accuracy)"
      ],
      "execution_count": 37,
      "outputs": [
        {
          "output_type": "stream",
          "text": [
            "Accuracy: 0.805\n"
          ],
          "name": "stdout"
        }
      ]
    },
    {
      "cell_type": "markdown",
      "metadata": {
        "id": "-conSBddWWyN"
      },
      "source": [
        "#### (Q3.5) Is the difference between non smoothed (Q3.2) and smoothed (Q3.4) statistically significant? (0.5pt)"
      ]
    },
    {
      "cell_type": "code",
      "metadata": {
        "id": "CCvSNGlHMUPz",
        "outputId": "4a2d420e-e6a2-4dc5-8808-8d0c090587ef",
        "colab": {
          "base_uri": "https://localhost:8080/"
        }
      },
      "source": [
        "# YOUR CODE HERE\n",
        "\n",
        "p_value = sign_test(nb_results, nb_smoothed_results)\n",
        "print(\"p_value =\", p_value)"
      ],
      "execution_count": 38,
      "outputs": [
        {
          "output_type": "stream",
          "text": [
            "the difference is not significant\n",
            "p_value = 0.7237710263128064612375868443\n"
          ],
          "name": "stdout"
        }
      ]
    },
    {
      "cell_type": "markdown",
      "metadata": {
        "id": "ZiGcgwba87D5"
      },
      "source": [
        "## Cross-Validation (1.5pts)\n",
        "\n",
        "A serious danger in using Machine Learning on small datasets, with many\n",
        "iterations of slightly different versions of the algorithms, is ending up with Type III errors, also called the “testing hypotheses\n",
        "suggested by the data” errors. This type of error occurs when we make\n",
        "repeated improvements to our classifiers by playing with features and\n",
        "their processing, but we don’t get a fresh, never-before seen test\n",
        "dataset every time. Thus, we risk developing a classifier that gets better\n",
        "and better on our data, but only gets worse at generalizing to new, unseen data. In other words, we risk developping a classifier that overfits.\n",
        "\n",
        "A simple method to guard against Type III errors is to use\n",
        "Cross-Validation. In **N-fold Cross-Validation**, we divide the data into N\n",
        "distinct chunks, or folds. Then, we repeat the experiment N times: each\n",
        "time holding out one of the folds for testing, training our classifier\n",
        "on the remaining N - 1 data folds, and reporting performance on the\n",
        "held-out fold. We can use different strategies for dividing the data:\n",
        "\n",
        "-   Consecutive splitting:\n",
        "  - cv000–cv099 = Split 1\n",
        "  - cv100–cv199 = Split 2\n",
        "  - etc.\n",
        "  \n",
        "-   Round-robin splitting (mod 10):\n",
        "  - cv000, cv010, cv020, … = Split 1\n",
        "  - cv001, cv011, cv021, … = Split 2\n",
        "  - etc.\n",
        "\n",
        "-   Random sampling/splitting\n",
        "  - Not used here (but you may choose to split this way in a non-educational situation)\n",
        "\n"
      ]
    },
    {
      "cell_type": "markdown",
      "metadata": {
        "id": "8OeLcbSauGtR"
      },
      "source": [
        "#### (Q3.6) Write the code to implement 10-fold cross-validation using round-robin splitting for your Naive Bayes classifier from Q3.2 and compute the 10 accuracies. Report the final performance, which is the average of the performances per fold. If all splits perform equally well, this is a good sign. (1pt)"
      ]
    },
    {
      "cell_type": "code",
      "metadata": {
        "id": "3KeCGPa7Nuzx",
        "outputId": "648def30-1e84-476a-8dc4-f3b93862dc34",
        "colab": {
          "base_uri": "https://localhost:8080/"
        }
      },
      "source": [
        "# YOUR CODE HERE\n",
        "def get_folds(data, n_fold=10):\n",
        "\n",
        "    n_data = len(data)\n",
        "    \n",
        "    fold_idcs = [[n for n in range(n_data) if n%n_fold==i] for i in range(n_fold)]\n",
        "    \n",
        "    folds = [[data[idx] for idx in fold_idcs_] for fold_idcs_ in fold_idcs]\n",
        "    \n",
        "    return folds\n",
        "\n",
        "def cv_iteration(train_fold, test_fold, nb_kwargs):\n",
        "    \"\"\"\n",
        "    Performs one iteration of cross-validation, for a given train and test fold\n",
        "    \"\"\"\n",
        "    probs, priors = calc_probs(train_fold, **nb_kwargs)\n",
        "    labels, predicted_labels = nb_predict_corpus(test_fold, probs, priors)\n",
        "    nb_results, nb_accuracy = results(labels, predicted_labels)\n",
        "    \n",
        "    return nb_results, nb_accuracy\n",
        "\n",
        "def cross_validation(data, n_folds=10, nb_kwargs={}):\n",
        "    \"\"\"\n",
        "    Performs cross-validation with n_folds on data.\n",
        "    \"\"\"\n",
        "    # compute folds\n",
        "    folds = get_folds(data, n_folds)\n",
        "    \n",
        "    result_list = []\n",
        "    acc_list = []\n",
        "    \n",
        "    # perform n_folds iterations\n",
        "    for i in range(len(folds)):\n",
        "        # create test and train fold\n",
        "        test_fold = folds[i]\n",
        "        train_fold = [rev for j in range(len(folds)) if j != i for rev in folds[j]]\n",
        "        \n",
        "        # perform one iteration\n",
        "        nb_results, nb_accuracy = cv_iteration(train_fold, test_fold, nb_kwargs)\n",
        "        \n",
        "        result_list.append(nb_results)\n",
        "        acc_list.append(nb_accuracy)\n",
        "    \n",
        "    return result_list, acc_list\n",
        "\n",
        "cv_results, cv_accs = cross_validation(reviews)\n",
        "\n",
        "# concatenate cv results for later significance testing\n",
        "cv_results = [res for fold in cv_results for res in fold]\n",
        "\n",
        "print(\"Accuracy: %0.3f\" % (sum(cv_accs)/len(cv_accs)))"
      ],
      "execution_count": 39,
      "outputs": [
        {
          "output_type": "stream",
          "text": [
            "Accuracy: 0.819\n"
          ],
          "name": "stdout"
        }
      ]
    },
    {
      "cell_type": "code",
      "metadata": {
        "id": "sL5TRMULpCbV",
        "outputId": "ba47a84c-a6d1-4c88-937d-992d94add8db",
        "colab": {
          "base_uri": "https://localhost:8080/"
        }
      },
      "source": [
        "cv_accs"
      ],
      "execution_count": 40,
      "outputs": [
        {
          "output_type": "execute_result",
          "data": {
            "text/plain": [
              "[0.77, 0.845, 0.81, 0.855, 0.8, 0.865, 0.805, 0.8, 0.825, 0.815]"
            ]
          },
          "metadata": {
            "tags": []
          },
          "execution_count": 40
        }
      ]
    },
    {
      "cell_type": "markdown",
      "metadata": {
        "id": "otdlsDXBNyOa"
      },
      "source": [
        "#### (Q3.7) Write code to calculate and report the variance of the 10 accuracy scores, in addition to the final performance. You must not use a library, such as numpy. (0.5pt)\n",
        "\n",
        "**Please report all future results using 10-fold cross-validation now\n",
        "(unless told to use the held-out test set).**"
      ]
    },
    {
      "cell_type": "code",
      "metadata": {
        "id": "ZoBQm1KuNzNR",
        "outputId": "43d8c258-18e3-4096-972d-05ce02a1882e",
        "colab": {
          "base_uri": "https://localhost:8080/"
        }
      },
      "source": [
        "# YOUR CODE HERE\n",
        "def get_mean_var(accs):\n",
        "    mean = sum(accs)/len(accs)\n",
        "    \n",
        "    var = sum([(acc - mean) ** 2 for acc in accs])/(len(accs) - 1) # need to subtract one for an unbiased estimate\n",
        "    \n",
        "    return mean, var\n",
        "\n",
        "\n",
        "mean, var = get_mean_var(cv_accs)\n",
        "print('CV vanilla results:')\n",
        "print('Mean: {0:1.3f}'.format(mean))\n",
        "print('Variance: {0:1.3f}'.format(var))"
      ],
      "execution_count": 41,
      "outputs": [
        {
          "output_type": "stream",
          "text": [
            "CV vanilla results:\n",
            "Mean: 0.819\n",
            "Variance: 0.001\n"
          ],
          "name": "stdout"
        }
      ]
    },
    {
      "cell_type": "markdown",
      "metadata": {
        "id": "s6A2zX9_BRKm"
      },
      "source": [
        "## Features, overfitting, and the curse of dimensionality\n",
        "\n",
        "In the Bag-of-Words model, ideally we would like each distinct word in\n",
        "the text to be mapped to its own dimension in the output vector\n",
        "representation. However, real world text is messy, and we need to decide\n",
        "on what we consider to be a word. For example, is “`word`\" different\n",
        "from “`Word`\", from “`word`”, or from “`words`\"? Too strict a\n",
        "definition, and the number of features explodes, while our algorithm\n",
        "fails to learn anything generalisable. Too lax, and we risk destroying\n",
        "our learning signal. In the following section, you will learn about\n",
        "confronting the feature sparsity and the overfitting problems as they\n",
        "occur in NLP classification tasks."
      ]
    },
    {
      "cell_type": "markdown",
      "metadata": {
        "id": "EKK8FNt8VtcZ"
      },
      "source": [
        "### Stemming (1.5pts)\n",
        "\n",
        "To make your algorithm more robust, use stemming and\n",
        "hash different inflections of a word to the same feature in the BoW\n",
        "vector space. How does the performance of your classifier change when\n",
        "you use stemming on your training and test datasets? Please use the [Porter stemming\n",
        "    algorithm](http://www.nltk.org/howto/stem.html) from NLTK.\n",
        "\n",
        "You should also perform cross-validation. Concatenate the predictions from all folds to compute the significance."
      ]
    },
    {
      "cell_type": "code",
      "metadata": {
        "id": "NxtCul1IrBi_",
        "outputId": "a8c1bf81-ffdb-4eef-a588-82af55ce4372",
        "colab": {
          "base_uri": "https://localhost:8080/"
        }
      },
      "source": [
        "# YOUR CODE HERE\n",
        "stemmer = PorterStemmer()\n",
        "\n",
        "nb_kwargs = {'smoothing':1, 'stemmer':stemmer}\n",
        "\n",
        "stem_smooth_results, stem_smooth_accs = cross_validation(reviews, nb_kwargs=nb_kwargs)\n",
        "\n",
        "mean, var = get_mean_var(stem_smooth_accs)\n",
        "print('Stem + smooth results:')\n",
        "print('Mean: {0:1.4f}'.format(mean))\n",
        "print('Variance: {0:1.4f}'.format(var))"
      ],
      "execution_count": 43,
      "outputs": [
        {
          "output_type": "stream",
          "text": [
            "Stem + smooth results:\n",
            "Mean: 0.7690\n",
            "Variance: 0.0004\n"
          ],
          "name": "stdout"
        }
      ]
    },
    {
      "cell_type": "markdown",
      "metadata": {
        "id": "6SrJ1BeLXTnk"
      },
      "source": [
        "#### (Q3.9): Is the difference between NB with smoothing and NB with smoothing+stemming significant? (1pt)\n"
      ]
    },
    {
      "cell_type": "code",
      "metadata": {
        "id": "gYqKBOiIrInT",
        "outputId": "39f7db5d-df3d-4f1e-9b4f-536a1f5ef7b3",
        "colab": {
          "base_uri": "https://localhost:8080/"
        }
      },
      "source": [
        "# YOUR ANSWER HERE\n",
        "# run algorithm for only smoothing\n",
        "nb_kwargs = {'smoothing':1}\n",
        "smooth_results, smooth_accs = cross_validation(reviews, nb_kwargs=nb_kwargs)\n",
        "mean, var = get_mean_var(smooth_accs)\n",
        "print('Smoothing-only results:')\n",
        "print('Mean: {0:1.4f}'.format(mean))\n",
        "print('Variance: {0:1.4f}'.format(var))\n",
        "\n",
        "# concatenate results for only smoothing\n",
        "smooth_results = [res for fold in smooth_results for res in fold]\n",
        "\n",
        "# concatenate results for stemming and smoothing\n",
        "stem_smooth_results = [res for fold in stem_smooth_results for res in fold]\n",
        "\n",
        "# perform significance testing\n",
        "print('')\n",
        "p_value = sign_test(smooth_results, stem_smooth_results)\n",
        "print(\"p_value =\", p_value)"
      ],
      "execution_count": 44,
      "outputs": [
        {
          "output_type": "stream",
          "text": [
            "Smoothing-only results:\n",
            "Mean: 0.7995\n",
            "Variance: 0.0006\n",
            "\n",
            "the difference is not significant\n",
            "p_value = 0.1798068040595061430403978825\n"
          ],
          "name": "stdout"
        }
      ]
    },
    {
      "cell_type": "markdown",
      "metadata": {
        "id": "JkDHVq_1XUVP"
      },
      "source": [
        "#### (Q3.10) What happens to the number of features (i.e., the size of the vocabulary) when using stemming as opposed to (Q3.4)? (0.5pt)\n",
        "Give actual numbers. You can use the held-out training set to determine these."
      ]
    },
    {
      "cell_type": "code",
      "metadata": {
        "id": "MA3vee5-rJyy",
        "outputId": "e8f1da48-06b7-4b29-c4de-9d3db22c42df",
        "colab": {
          "base_uri": "https://localhost:8080/"
        }
      },
      "source": [
        "# YOUR CODE HERE\n",
        "kappa = 1\n",
        "\n",
        "train_corpus = [rev for rev in reviews if rev[\"cv\"] < 900]\n",
        "probs, priors = calc_probs(train_corpus, smoothing=kappa)\n",
        "print(\"Q 3.4 features: \", len(probs[\"POS\"]))\n",
        "probs, priors = calc_probs(train_corpus, smoothing=kappa, stemmer=stemmer)\n",
        "print(\"Stemmer features: \", len(probs[\"POS\"]))"
      ],
      "execution_count": 45,
      "outputs": [
        {
          "output_type": "stream",
          "text": [
            "Q 3.4 features:  45348\n",
            "Stemmer features:  32404\n"
          ],
          "name": "stdout"
        }
      ]
    },
    {
      "cell_type": "markdown",
      "metadata": {
        "id": "fbNRd8FnsRtl"
      },
      "source": [
        "As we can see, the number of features reduces from about 45k to about 32k, a significant decrease though there are still many features even with stemming."
      ]
    },
    {
      "cell_type": "markdown",
      "metadata": {
        "id": "SoazfxbNV5Lq"
      },
      "source": [
        "### N-grams (1.5pts)\n",
        "\n",
        "A simple way of retaining some of the word\n",
        "order information when using bag-of-words representations is to add **n-gram** features. \n",
        "\n",
        "\n",
        "\n",
        "\n"
      ]
    },
    {
      "cell_type": "markdown",
      "metadata": {
        "id": "OHjy3I7-qWiu"
      },
      "source": [
        "#### (Q3.11) Retrain your classifier from (Q3.4) using **unigrams+bigrams** and **unigrams+bigrams+trigrams** as features. (1pt)\n",
        "Report accuracy and statistical significances (in comparison to the experiment at (Q3.6) for all 10 folds, and between the new systems). You are allowed to use NLTK to build n-grams from sentences."
      ]
    },
    {
      "cell_type": "code",
      "metadata": {
        "id": "eYuKMTOpq9jz",
        "outputId": "dc2752c5-1ba3-46ee-def3-a383832dbb70",
        "colab": {
          "base_uri": "https://localhost:8080/"
        }
      },
      "source": [
        "# YOUR CODE HERE\n",
        "nb_kwargs = {'bigrams':True}\n",
        "bi_results, bi_accs = cross_validation(reviews, nb_kwargs=nb_kwargs)\n",
        "\n",
        "mean, var = get_mean_var(bi_accs)\n",
        "print('\\n bi results:')\n",
        "print('Mean: {0:1.3f}'.format(mean))\n",
        "print('Variance: {0:1.3f}'.format(var))\n",
        "\n",
        "\n",
        "nb_kwargs = {'bigrams':True, 'trigrams':True}\n",
        "tri_results, tri_accs = cross_validation(reviews, nb_kwargs=nb_kwargs)\n",
        "\n",
        "mean, var = get_mean_var(tri_accs)\n",
        "print('\\n tri results:')\n",
        "print('Mean: {0:1.3f}'.format(mean))\n",
        "print('Variance: {0:1.3f}'.format(var))"
      ],
      "execution_count": 49,
      "outputs": [
        {
          "output_type": "stream",
          "text": [
            "\n",
            " bi results:\n",
            "Mean: 0.794\n",
            "Variance: 0.001\n",
            "\n",
            " tri results:\n",
            "Mean: 0.794\n",
            "Variance: 0.001\n"
          ],
          "name": "stdout"
        }
      ]
    },
    {
      "cell_type": "code",
      "metadata": {
        "id": "bRHFYb6ZiqmR",
        "outputId": "fd855e96-ca34-40c8-af86-b2c6d980f577",
        "colab": {
          "base_uri": "https://localhost:8080/"
        }
      },
      "source": [
        "# concatenate results\n",
        "bi_results = [res for fold in bi_results for res in fold]\n",
        "tri_results = [res for fold in tri_results for res in fold]\n",
        "\n",
        "# test for statistical significance\n",
        "print('\\nTesting bi <-> 3.6')\n",
        "p_value = sign_test(bi_results, cv_results)\n",
        "print(\"p_value =\", p_value)\n",
        "\n",
        "print('\\nTesting tri <-> 3.6')\n",
        "p_value = sign_test(cv_results, tri_results)\n",
        "print(\"p_value =\", p_value)\n",
        "\n",
        "print('\\nTesting bi <-> tri')\n",
        "p_value = sign_test(bi_results, tri_results)\n",
        "print(\"p_value =\", p_value)"
      ],
      "execution_count": 50,
      "outputs": [
        {
          "output_type": "stream",
          "text": [
            "\n",
            "Testing bi <-> 3.6\n",
            "the difference is not significant\n",
            "p_value = 0.2636668750980262965450961760\n",
            "\n",
            "Testing tri <-> 3.6\n",
            "the difference is not significant\n",
            "p_value = 0.2636668750980262965450961760\n",
            "\n",
            "Testing bi <-> tri\n",
            "the difference is not significant\n",
            "p_value = 1.017839011145854320730238067\n"
          ],
          "name": "stdout"
        }
      ]
    },
    {
      "cell_type": "markdown",
      "metadata": {
        "id": "dVrGGArkrWoL"
      },
      "source": [
        "\n",
        "#### Q3.12: How many features does the BoW model have to take into account now? (0.5pt)\n",
        "How would you expect the number of features to increase theoretically (e.g., linear, square, cubed, exponential)? How does this number compare, in practice, to the number of features at (Q3.10)?\n",
        "\n",
        "Use the held-out training set once again for this.\n"
      ]
    },
    {
      "cell_type": "markdown",
      "metadata": {
        "id": "yEGZ9SV8pPaa"
      },
      "source": [
        "Theoretically we can say that the increase can be at most quadratic for bigrams and cubed for trigrams. However, such a large increase would only happen if all possible combinations of words actually occured. But many such combinations are grammatically impossible or semantically unlikely. This is especially true for trigrams.\n",
        "\n",
        "In practice, we observe that the number of features doesn't even triple (from the 32k in Q3.10), so the increase is far lower than the theoretical upper bound. Adding trigrams adds very few new features compared to bigrams."
      ]
    },
    {
      "cell_type": "code",
      "metadata": {
        "id": "_z8sAJeUrdtM",
        "outputId": "69d27814-f78e-4abe-83db-1c64e2536a1c",
        "colab": {
          "base_uri": "https://localhost:8080/"
        }
      },
      "source": [
        "# YOUR CODE HERE\n",
        "train_corpus = [rev for rev in reviews if rev[\"cv\"] < 900]\n",
        "probs, priors = calc_probs(train_corpus, smoothing=1, stemmer=stemmer, bigrams=True)\n",
        "print(\"Features with bigrams: \", len(probs[\"POS\"]))\n",
        "probs, priors = calc_probs(train_corpus, smoothing=1, stemmer=stemmer, bigrams=True, trigrams=True)\n",
        "print(\"Features with bigrams+trigrams: \", len(probs[\"POS\"]))"
      ],
      "execution_count": 51,
      "outputs": [
        {
          "output_type": "stream",
          "text": [
            "Features with bigrams:  79828\n",
            "Features with bigrams+trigrams:  82083\n"
          ],
          "name": "stdout"
        }
      ]
    },
    {
      "cell_type": "markdown",
      "metadata": {
        "id": "CHWKDL3YV6vh"
      },
      "source": [
        "# Support Vector Machines (4pts)"
      ]
    },
    {
      "cell_type": "markdown",
      "metadata": {
        "id": "hJSYhcVaoJGt"
      },
      "source": [
        "Though simple to understand, implement, and debug, one\n",
        "major problem with the Naive Bayes classifier is that its performance\n",
        "deteriorates (becomes skewed) when it is being used with features which\n",
        "are not independent (i.e., are correlated). Another popular classifier\n",
        "that doesn’t scale as well to big data, and is not as simple to debug as\n",
        "Naive Bayes, but that doesn’t assume feature independence is the Support\n",
        "Vector Machine (SVM) classifier.\n",
        "\n",
        "You can find more details about SVMs in Chapter 7 of Bishop: Pattern Recognition and Machine Learning.\n",
        "Other sources for learning SVM:\n",
        "* http://web.mit.edu/zoya/www/SVM.pdf\n",
        "* http://www.cs.columbia.edu/~kathy/cs4701/documents/jason_svm_tutorial.pdf\n",
        "* https://pythonprogramming.net/support-vector-machine-intro-machine-learning-tutorial/\n",
        "\n",
        "\n",
        "\n",
        "\n",
        "\n",
        "\n",
        "\n",
        "Use the scikit-learn implementation of \n",
        "[SVM](http://scikit-learn.org/stable/modules/svm.html) with the default parameters. (You are not expected to perform any hyperparameter tuning, but feel free to do it if you think it gives you good insights for the discussion in question 5.)\n",
        "\n"
      ]
    },
    {
      "cell_type": "markdown",
      "metadata": {
        "id": "0LnzNtQBV8gr"
      },
      "source": [
        "#### (Q4.1): Train SVM and compare to Naive Bayes (2pts)\n",
        "\n",
        "Train an SVM classifier (sklearn.svm.LinearSVC) using your features. Compare the\n",
        "classification performance of the SVM classifier to that of the Naive\n",
        "Bayes classifier with smoothing from (Q3.6) and report the numbers.\n",
        "Perform cross-validation and concatenate the predictions from all folds to compute the significance.  Are the results significantly better?\n",
        "\n"
      ]
    },
    {
      "cell_type": "code",
      "metadata": {
        "id": "JBscui8Mvoz0"
      },
      "source": [
        "# YOUR CODE HERE"
      ],
      "execution_count": null,
      "outputs": []
    },
    {
      "cell_type": "markdown",
      "metadata": {
        "id": "ifXVWcK0V9qY"
      },
      "source": [
        "### POS disambiguation (2pts)\n",
        "\n",
        "Now add in part-of-speech features. You will find the\n",
        "movie review dataset has already been POS-tagged for you ([here](https://catalog.ldc.upenn.edu/docs/LDC99T42/tagguid1.pdf) you find the tagset). Try to\n",
        "replicate the results obtained by Pang et al. (2002).\n",
        "\n"
      ]
    },
    {
      "cell_type": "markdown",
      "metadata": {
        "id": "xA3I82o4oWGu"
      },
      "source": [
        "####(Q4.2) Replace your features with word+POS features, and report performance with the SVM. Does this help? Perform cross-validation and concatenate the predictions from all folds to compute the significance. Are the results significant? *Why?*  (1pt)\n"
      ]
    },
    {
      "cell_type": "code",
      "metadata": {
        "id": "NOvjYe-t2Br6"
      },
      "source": [
        "# YOUR CODE HERE"
      ],
      "execution_count": null,
      "outputs": []
    },
    {
      "cell_type": "markdown",
      "metadata": {
        "id": "L0dt_oQupUNe"
      },
      "source": [
        "*Write your answer here.*"
      ]
    },
    {
      "cell_type": "markdown",
      "metadata": {
        "id": "Su-3w87eMW0w"
      },
      "source": [
        "#### (Q4.3) Discard all closed-class words from your data (keep only nouns, verbs, adjectives, and adverbs), and report performance. Does this help? Perform cross-validation and concatenate the predictions from all folds to compute the significance. Are the results significantly better than when we don't discard the closed-class words? *Why?* (1pt)"
      ]
    },
    {
      "cell_type": "code",
      "metadata": {
        "id": "CCUPlPozCYUX"
      },
      "source": [
        "# YOUR CODE HERE"
      ],
      "execution_count": null,
      "outputs": []
    },
    {
      "cell_type": "markdown",
      "metadata": {
        "id": "YaxCVrs8pWSp"
      },
      "source": [
        "*Write your answer here.*"
      ]
    },
    {
      "cell_type": "markdown",
      "metadata": {
        "id": "nfwqOciAl2No"
      },
      "source": [
        "# (Q5) Discussion (max. 500 words). (5pts)\n",
        "\n",
        "> Based on your experiments, what are the effective features and techniques in sentiment analysis? What information do different features encode?\n",
        "Why is this important? What are the limitations of these features and techniques?\n",
        " \n"
      ]
    },
    {
      "cell_type": "markdown",
      "metadata": {
        "id": "ZYuse5WLmekZ"
      },
      "source": [
        "*Write your answer here in up to 500 words (-0.25pt for >50 extra words, -0.5 points for >100 extra words, ...)*.\n"
      ]
    },
    {
      "cell_type": "markdown",
      "metadata": {
        "id": "iwaKwfWQhRk_"
      },
      "source": [
        "# Submission \n"
      ]
    },
    {
      "cell_type": "code",
      "metadata": {
        "id": "aOUeaET5ijk-"
      },
      "source": [
        "# Write your names and student numbers here:\n",
        "# Tom Lieberum #13253042\n",
        "# Student 2 #12345"
      ],
      "execution_count": null,
      "outputs": []
    },
    {
      "cell_type": "markdown",
      "metadata": {
        "id": "3A9K-H6Tii3X"
      },
      "source": [
        "**That's it!**\n",
        "\n",
        "- Check if you answered all questions fully and correctly. \n",
        "- Download your completed notebook using `File -> Download .ipynb` \n",
        "- Check if your answers are all included in the file you submit.\n",
        "- Submit your .ipynb file via *Canvas*. One submission per group. "
      ]
    },
    {
      "cell_type": "code",
      "metadata": {
        "id": "YHslatYAKBrF"
      },
      "source": [
        ""
      ],
      "execution_count": null,
      "outputs": []
    }
  ]
}