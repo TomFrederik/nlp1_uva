{
  "nbformat": 4,
  "nbformat_minor": 0,
  "metadata": {
    "accelerator": "GPU",
    "colab": {
      "name": "NLP1 2020 Practical 2 (student version)",
      "provenance": [],
      "collapsed_sections": []
    },
    "kernelspec": {
      "display_name": "Python 3",
      "language": "python",
      "name": "python3"
    },
    "language_info": {
      "codemirror_mode": {
        "name": "ipython",
        "version": 3
      },
      "file_extension": ".py",
      "mimetype": "text/x-python",
      "name": "python",
      "nbconvert_exporter": "python",
      "pygments_lexer": "ipython3",
      "version": "3.7.9"
    }
  },
  "cells": [
    {
      "cell_type": "markdown",
      "metadata": {
        "id": "ptMZZMQlfn7c"
      },
      "source": [
        "------\n",
        "**You cannot apply any changes to this file, so please make sure to save it on your Google Colab drive or download it as a .ipynb file.**\n",
        "\n",
        "------\n"
      ]
    },
    {
      "cell_type": "markdown",
      "metadata": {
        "id": "jILqpPLlE9r0"
      },
      "source": [
        "# Practical 2: Representing Sentences with Neural Models"
      ]
    },
    {
      "cell_type": "markdown",
      "metadata": {
        "id": "8JXOZ5uhQ8Qq"
      },
      "source": [
        "In this second practical, we will train neural network models to obtain sentence representations. We can then use these sentence representations for a downstream task such as sentiment classification. \n",
        "\n",
        "In this notebook, we will help you to develop models for your experiments. But this time, next to completing the notebook, **you are expected to write a four-page scientific report with your findings**. Please still submit the notebook together with your scientific report so that we can reproduce your experiments. (Note: if you find it useful, you can split this notebook into multiple notebooks. If you do so, keep it mind that it should be possible for your TAs to reproduce the entire content of the notebooks without having to ask for clarifications or to copy and paste functions from one sub-notebook to another.)\n",
        "\n",
        "**Important!** The main purpose of this lab is for you to learn how to answer research questions by experimenting and then writing a scientific report.\n",
        "So you will be *judged by the quality of your report* but will lose points if your experiments are not reproducible.\n",
        "You can find the requirements for the report at the end of this notebook.\n",
        "\n",
        "\n",
        "### Data set\n",
        "We will use the [Stanford Sentiment Treebank](https://nlp.stanford.edu/sentiment/) (SST), which provides sentences, their binary tree structure, and fine-grained sentiment scores.\n",
        "This dataset is different from the one we used in the first practical. \n",
        "In Practical 1, a review consisted of several sentences, and we had one sentiment score for the whole review. Now, a review consists of a single sentence, and we have a sentiment score for each node in the binary tree that makes up the sentence, including the root node (i.e., we still have an overall sentiment score for the entire review). We will look at an example below.\n",
        "\n",
        "In the first part of this practical we will only make use of the sentence tokens whereas in the second part we will also exploit the tree structure that is provided by the SST.\n",
        "\n",
        "We will cover the following approaches:\n",
        "\n",
        "- Bag-of-words (BOW)\n",
        "- Continuous bag-of-words (CBOW)\n",
        "- Deep continuous bag-of-words (Deep CBOW)\n",
        "- LSTM\n",
        "- Tree-LSTM\n"
      ]
    },
    {
      "cell_type": "markdown",
      "metadata": {
        "id": "YbNKef3lymaj"
      },
      "source": [
        "## Preparing the data"
      ]
    },
    {
      "cell_type": "markdown",
      "metadata": {
        "id": "9jxTkpg59FlU"
      },
      "source": [
        "Let's first download the data set and take a look."
      ]
    },
    {
      "cell_type": "code",
      "metadata": {
        "id": "WZp53HmMP3F2"
      },
      "source": [
        "import re\n",
        "import os\n",
        "import random\n",
        "import time\n",
        "import math\n",
        "import numpy as np\n",
        "import nltk\n",
        "import matplotlib.pyplot as plt\n",
        "plt.style.use('default')"
      ],
      "execution_count": 81,
      "outputs": []
    },
    {
      "cell_type": "code",
      "metadata": {
        "id": "TovFkDTgE_d6",
        "outputId": "241e20d3-6914-42a8-f246-5be88e695fa3",
        "colab": {
          "base_uri": "https://localhost:8080/"
        }
      },
      "source": [
        "# un-comment if you have not downloaded the data yet\n",
        "!wget http://nlp.stanford.edu/sentiment/trainDevTestTrees_PTB.zip\n",
        "!unzip trainDevTestTrees_PTB.zip"
      ],
      "execution_count": 6,
      "outputs": [
        {
          "output_type": "stream",
          "text": [
            "--2020-12-01 15:14:23--  http://nlp.stanford.edu/sentiment/trainDevTestTrees_PTB.zip\n",
            "Resolving nlp.stanford.edu (nlp.stanford.edu)... 171.64.67.140\n",
            "Connecting to nlp.stanford.edu (nlp.stanford.edu)|171.64.67.140|:80... connected.\n",
            "HTTP request sent, awaiting response... 302 Found\n",
            "Location: https://nlp.stanford.edu/sentiment/trainDevTestTrees_PTB.zip [following]\n",
            "--2020-12-01 15:14:23--  https://nlp.stanford.edu/sentiment/trainDevTestTrees_PTB.zip\n",
            "Connecting to nlp.stanford.edu (nlp.stanford.edu)|171.64.67.140|:443... connected.\n",
            "HTTP request sent, awaiting response... 200 OK\n",
            "Length: 789539 (771K) [application/zip]\n",
            "Saving to: ‘trainDevTestTrees_PTB.zip’\n",
            "\n",
            "trainDevTestTrees_P 100%[===================>] 771.03K  2.53MB/s    in 0.3s    \n",
            "\n",
            "2020-12-01 15:14:23 (2.53 MB/s) - ‘trainDevTestTrees_PTB.zip’ saved [789539/789539]\n",
            "\n",
            "Archive:  trainDevTestTrees_PTB.zip\n",
            "   creating: trees/\n",
            "  inflating: trees/dev.txt           \n",
            "  inflating: trees/test.txt          \n",
            "  inflating: trees/train.txt         \n"
          ],
          "name": "stdout"
        }
      ]
    },
    {
      "cell_type": "code",
      "metadata": {
        "id": "0IpAphkBO5eW"
      },
      "source": [
        "# this function reads in a textfile and fixes an issue with \"\\\\\"\n",
        "def filereader(path): \n",
        "  with open(path, mode=\"r\", encoding=\"utf-8\") as f:\n",
        "    for line in f:\n",
        "      yield line.strip().replace(\"\\\\\",\"\")"
      ],
      "execution_count": 7,
      "outputs": []
    },
    {
      "cell_type": "markdown",
      "metadata": {
        "id": "yP_jpquiprH8"
      },
      "source": [
        "Let's look at a data point. It is a **flattened binary tree**, with sentiment scores at every node, and words as the leaves (or *terminal nodes*)."
      ]
    },
    {
      "cell_type": "code",
      "metadata": {
        "id": "ylkIopm0QJML",
        "colab": {
          "base_uri": "https://localhost:8080/"
        },
        "outputId": "0fb24e57-f060-4def-f491-1b60aff657a4"
      },
      "source": [
        "s = next(filereader(\"trees/dev.txt\"))\n",
        "print(s)"
      ],
      "execution_count": 8,
      "outputs": [
        {
          "output_type": "stream",
          "text": [
            "(3 (2 It) (4 (4 (2 's) (4 (3 (2 a) (4 (3 lovely) (2 film))) (3 (2 with) (4 (3 (3 lovely) (2 performances)) (2 (2 by) (2 (2 (2 Buy) (2 and)) (2 Accorsi))))))) (2 .)))\n"
          ],
          "name": "stdout"
        }
      ]
    },
    {
      "cell_type": "code",
      "metadata": {
        "id": "7_U7HTFwdrWt",
        "colab": {
          "base_uri": "https://localhost:8080/"
        },
        "outputId": "e26547c5-bfd3-4e6f-efe8-5640dc8de210"
      },
      "source": [
        "# We can use NLTK to better visualise the tree structure of the sentence\n",
        "from nltk import Tree\n",
        "from nltk.treeprettyprinter import TreePrettyPrinter\n",
        "tree = Tree.fromstring(s)\n",
        "print(TreePrettyPrinter(tree))"
      ],
      "execution_count": 9,
      "outputs": [
        {
          "output_type": "stream",
          "text": [
            "              3                                                                     \n",
            "  ____________|____________________                                                  \n",
            " |                                 4                                                \n",
            " |        _________________________|______________________________________________   \n",
            " |       4                                                                        | \n",
            " |    ___|______________                                                          |  \n",
            " |   |                  4                                                         | \n",
            " |   |         _________|__________                                               |  \n",
            " |   |        |                    3                                              | \n",
            " |   |        |               _____|______________________                        |  \n",
            " |   |        |              |                            4                       | \n",
            " |   |        |              |            ________________|_______                |  \n",
            " |   |        |              |           |                        2               | \n",
            " |   |        |              |           |                 _______|___            |  \n",
            " |   |        3              |           |                |           2           | \n",
            " |   |    ____|_____         |           |                |        ___|_____      |  \n",
            " |   |   |          4        |           3                |       2         |     | \n",
            " |   |   |     _____|___     |      _____|_______         |    ___|___      |     |  \n",
            " 2   2   2    3         2    2     3             2        2   2       2     2     2 \n",
            " |   |   |    |         |    |     |             |        |   |       |     |     |  \n",
            " It  's  a  lovely     film with lovely     performances  by Buy     and Accorsi  . \n",
            "\n"
          ],
          "name": "stdout"
        }
      ]
    },
    {
      "cell_type": "markdown",
      "metadata": {
        "id": "ekAWKsji9t93"
      },
      "source": [
        "The sentiment scores range from 0 (very negative) to 5 (very positive). Again, as you can see, every node in the tree is labeled with a sentiment score. For now, we will only use the score at the **root node**, i.e., the sentiment score for the complete sentence."
      ]
    },
    {
      "cell_type": "code",
      "metadata": {
        "id": "DKynLm0xPKr2",
        "colab": {
          "base_uri": "https://localhost:8080/"
        },
        "outputId": "a62848c0-e3e6-49ae-d097-1b7dbafc20c2"
      },
      "source": [
        "# Let's first make a function that extracts the tokens (the leaves).\n",
        "\n",
        "def tokens_from_treestring(s):\n",
        "  \"\"\"extract the tokens from a sentiment tree\"\"\"\n",
        "  return re.sub(r\"\\([0-9] |\\)\", \"\", s).split()\n",
        " \n",
        "# let's try it on our example tree\n",
        "tokens = tokens_from_treestring(s)\n",
        "print(tokens)\n",
        "print(len(tokens))"
      ],
      "execution_count": 10,
      "outputs": [
        {
          "output_type": "stream",
          "text": [
            "['It', \"'s\", 'a', 'lovely', 'film', 'with', 'lovely', 'performances', 'by', 'Buy', 'and', 'Accorsi', '.']\n",
            "13\n"
          ],
          "name": "stdout"
        }
      ]
    },
    {
      "cell_type": "markdown",
      "metadata": {
        "id": "B8vFkeqN-NLP"
      },
      "source": [
        "> *Warning: you could also parse a treestring using NLTK and ask it to return the leaves, but there seems to be an issue with NLTK not always correctly parsing the input, so do not rely on it.*"
      ]
    },
    {
      "cell_type": "code",
      "metadata": {
        "id": "Akr9K_Mv4dym"
      },
      "source": [
        "# We will also need the following function, but you can ignore this for now.\n",
        "# It is explained later on.\n",
        "\n",
        "SHIFT = 0\n",
        "REDUCE = 1\n",
        "\n",
        "\n",
        "def transitions_from_treestring(s):\n",
        "  s = re.sub(\"\\([0-5] ([^)]+)\\)\", \"0\", s)\n",
        "  s = re.sub(\"\\)\", \" )\", s)\n",
        "  s = re.sub(\"\\([0-4] \", \"\", s)\n",
        "  s = re.sub(\"\\([0-4] \", \"\", s)\n",
        "  s = re.sub(\"\\)\", \"1\", s)\n",
        "  return list(map(int, s.split()))"
      ],
      "execution_count": 11,
      "outputs": []
    },
    {
      "cell_type": "code",
      "metadata": {
        "id": "mNtPdlwPgRat",
        "colab": {
          "base_uri": "https://localhost:8080/"
        },
        "outputId": "6fc8413c-c334-4c6d-f096-485348cedc3c"
      },
      "source": [
        "# Now let's first see how large our data sets are.\n",
        "for path in (\"trees/train.txt\", \"trees/dev.txt\", \"trees/test.txt\"):\n",
        "  print(\"{:16s} {:4d}\".format(path, sum(1 for _ in filereader(path))))"
      ],
      "execution_count": 12,
      "outputs": [
        {
          "output_type": "stream",
          "text": [
            "trees/train.txt  8544\n",
            "trees/dev.txt    1101\n",
            "trees/test.txt   2210\n"
          ],
          "name": "stdout"
        }
      ]
    },
    {
      "cell_type": "markdown",
      "metadata": {
        "id": "HexlSqTR_UrY"
      },
      "source": [
        "You can see that the number of sentences is not very large. That's probably because the data set required so much manual annotation. However, it is large enough to train a neural network on."
      ]
    },
    {
      "cell_type": "markdown",
      "metadata": {
        "id": "IfRjelOcsXuC"
      },
      "source": [
        "It will be useful to store each data example in an `Example` object,\n",
        "containing everything that we may need for each data point.\n",
        "It will contain the tokens, the tree, the top-level sentiment label, and \n",
        "the transitions (explained later)."
      ]
    },
    {
      "cell_type": "code",
      "metadata": {
        "id": "4I07Hb_-q8wg",
        "colab": {
          "base_uri": "https://localhost:8080/"
        },
        "outputId": "0cf338f4-ab22-4e20-b874-6f91d6b8ba66"
      },
      "source": [
        "from collections import namedtuple\n",
        "from nltk import Tree\n",
        "\n",
        "# A simple way to define a class is using namedtuple.\n",
        "Example = namedtuple(\"Example\", [\"tokens\", \"tree\", \"label\", \"transitions\"])\n",
        "\n",
        "   \n",
        "def examplereader(path, lower=False):\n",
        "  \"\"\"Returns all examples in a file one by one.\"\"\"\n",
        "  for line in filereader(path):\n",
        "    line = line.lower() if lower else line\n",
        "    tokens = tokens_from_treestring(line)\n",
        "    tree = Tree.fromstring(line)  # use NLTK's Tree\n",
        "    label = int(line[1])\n",
        "    trans = transitions_from_treestring(line)\n",
        "    yield Example(tokens=tokens, tree=tree, label=label, transitions=trans)\n",
        "  \n",
        "\n",
        "# Let's load the data into memory.\n",
        "LOWER = False  # we will keep the original casing\n",
        "train_data = list(examplereader(\"trees/train.txt\", lower=LOWER))\n",
        "dev_data = list(examplereader(\"trees/dev.txt\", lower=LOWER))\n",
        "test_data = list(examplereader(\"trees/test.txt\", lower=LOWER))\n",
        "\n",
        "print(\"train\", len(train_data))\n",
        "print(\"dev\", len(dev_data))\n",
        "print(\"test\", len(test_data))"
      ],
      "execution_count": 13,
      "outputs": [
        {
          "output_type": "stream",
          "text": [
            "train 8544\n",
            "dev 1101\n",
            "test 2210\n"
          ],
          "name": "stdout"
        }
      ]
    },
    {
      "cell_type": "markdown",
      "metadata": {
        "id": "6KM0bDyeVZtP"
      },
      "source": [
        "Let's check out an `Example` object."
      ]
    },
    {
      "cell_type": "code",
      "metadata": {
        "id": "J8mwcaZwxP1c",
        "colab": {
          "base_uri": "https://localhost:8080/"
        },
        "outputId": "e8ed223e-6986-4846-bf05-68b11ebaaefd"
      },
      "source": [
        "example = dev_data[0]\n",
        "print(\"First example:\", example)\n",
        "print(\"First example tokens:\", example.tokens)\n",
        "print(\"First example label:\",  example.label)"
      ],
      "execution_count": 14,
      "outputs": [
        {
          "output_type": "stream",
          "text": [
            "First example: Example(tokens=['It', \"'s\", 'a', 'lovely', 'film', 'with', 'lovely', 'performances', 'by', 'Buy', 'and', 'Accorsi', '.'], tree=Tree('3', [Tree('2', ['It']), Tree('4', [Tree('4', [Tree('2', [\"'s\"]), Tree('4', [Tree('3', [Tree('2', ['a']), Tree('4', [Tree('3', ['lovely']), Tree('2', ['film'])])]), Tree('3', [Tree('2', ['with']), Tree('4', [Tree('3', [Tree('3', ['lovely']), Tree('2', ['performances'])]), Tree('2', [Tree('2', ['by']), Tree('2', [Tree('2', [Tree('2', ['Buy']), Tree('2', ['and'])]), Tree('2', ['Accorsi'])])])])])])]), Tree('2', ['.'])])]), label=3, transitions=[0, 0, 0, 0, 0, 1, 1, 0, 0, 0, 1, 0, 0, 0, 1, 0, 1, 1, 1, 1, 1, 1, 0, 1, 1])\n",
            "First example tokens: ['It', \"'s\", 'a', 'lovely', 'film', 'with', 'lovely', 'performances', 'by', 'Buy', 'and', 'Accorsi', '.']\n",
            "First example label: 3\n"
          ],
          "name": "stdout"
        }
      ]
    },
    {
      "cell_type": "markdown",
      "metadata": {
        "id": "-WDSprDBVcr-"
      },
      "source": [
        "#### Vocabulary \n",
        "A first step in most NLP tasks is collecting all the word types that appear in the data into a vocabulary, and counting the frequency of their occurrences. On the one hand, this will give us an overview of the word distribution of the data set (what are the most frequent words, how many rare words are there, ...). On the other hand, we will also use the vocabulary to map each word to a unique numeric ID, which is a more handy index than a string."
      ]
    },
    {
      "cell_type": "code",
      "metadata": {
        "id": "VvNgKx7usRSt"
      },
      "source": [
        "# Here we first define a class that can map a word to an ID (w2i)\n",
        "# and back (i2w).\n",
        "\n",
        "from collections import Counter, OrderedDict, defaultdict\n",
        "\n",
        "\n",
        "class OrderedCounter(Counter, OrderedDict):\n",
        "  \"\"\"Counter that remembers the order elements are first seen\"\"\"\n",
        "  def __repr__(self):\n",
        "    return '%s(%r)' % (self.__class__.__name__,\n",
        "                      OrderedDict(self))\n",
        "  def __reduce__(self):\n",
        "    return self.__class__, (OrderedDict(self),)\n",
        "\n",
        "\n",
        "class Vocabulary:\n",
        "  \"\"\"A vocabulary, assigns IDs to tokens\"\"\"\n",
        "  \n",
        "  def __init__(self):\n",
        "    self.freqs = OrderedCounter()\n",
        "    self.w2i = {}\n",
        "    self.i2w = []\n",
        "\n",
        "  def count_token(self, t):\n",
        "    self.freqs[t] += 1\n",
        "    \n",
        "  def add_token(self, t):\n",
        "    self.w2i[t] = len(self.w2i)\n",
        "    self.i2w.append(t)    \n",
        "    \n",
        "  def build(self, min_freq=0):\n",
        "    '''\n",
        "    min_freq: minimum number of occurrences for a word to be included  \n",
        "              in the vocabulary\n",
        "    '''\n",
        "    self.add_token(\"<unk>\")  # reserve 0 for <unk> (unknown words)\n",
        "    self.add_token(\"<pad>\")  # reserve 1 for <pad> (discussed later)   \n",
        "    \n",
        "    tok_freq = list(self.freqs.items())\n",
        "    tok_freq.sort(key=lambda x: x[1], reverse=True)\n",
        "    for tok, freq in tok_freq:\n",
        "      if freq >= min_freq:\n",
        "        self.add_token(tok)"
      ],
      "execution_count": 15,
      "outputs": []
    },
    {
      "cell_type": "markdown",
      "metadata": {
        "id": "kOvkH_llVsoW"
      },
      "source": [
        "The vocabulary has by default an `<unk>` token and a `<pad>` token. The `<unk>` token is reserved for all words which do not appear in the training data (and for which, therefore, we cannot learn word representations). The function of the `<pad>` token will be explained later.\n",
        "\n",
        "\n",
        "Let's build the vocabulary!\n"
      ]
    },
    {
      "cell_type": "code",
      "metadata": {
        "id": "GwGQgQQBNUSq",
        "colab": {
          "base_uri": "https://localhost:8080/"
        },
        "outputId": "86a3f656-3882-4274-c9e9-c076cdd8b93b"
      },
      "source": [
        "# This process should be deterministic and should have the same result \n",
        "# if run multiple times on the same data set.\n",
        "\n",
        "v = Vocabulary()\n",
        "for data_set in (train_data,):\n",
        "  for ex in data_set:\n",
        "    for token in ex.tokens:\n",
        "      v.count_token(token)\n",
        "\n",
        "v.build()\n",
        "print(\"Vocabulary size:\", len(v.w2i))"
      ],
      "execution_count": 16,
      "outputs": [
        {
          "output_type": "stream",
          "text": [
            "Vocabulary size: 18280\n"
          ],
          "name": "stdout"
        }
      ]
    },
    {
      "cell_type": "markdown",
      "metadata": {
        "id": "-UNIedPrPdCw"
      },
      "source": [
        "Let's have a closer look at the properties of our vocabulary. Having a good idea of what it is like can facilitate data analysis and debugging later on."
      ]
    },
    {
      "cell_type": "code",
      "metadata": {
        "id": "oJyuogmh0CA7",
        "colab": {
          "base_uri": "https://localhost:8080/"
        },
        "outputId": "b4041907-2e92-462c-cc85-72802c51126a"
      },
      "source": [
        "# What is the ID for \"century?\"\n",
        "print(v.w2i['century'])"
      ],
      "execution_count": 17,
      "outputs": [
        {
          "output_type": "stream",
          "text": [
            "1973\n"
          ],
          "name": "stdout"
        }
      ]
    },
    {
      "cell_type": "code",
      "metadata": {
        "id": "O8OkPQ8Zv-rI",
        "colab": {
          "base_uri": "https://localhost:8080/"
        },
        "outputId": "8b5a4664-e3d3-4e9f-8e7d-dd01766cde6d"
      },
      "source": [
        "# What are the first 10 words in the vocabulary (based on their IDs)?\n",
        "print([v.i2w[i] for i in range(10)])"
      ],
      "execution_count": 18,
      "outputs": [
        {
          "output_type": "stream",
          "text": [
            "['<unk>', '<pad>', '.', ',', 'the', 'and', 'a', 'of', 'to', \"'s\"]\n"
          ],
          "name": "stdout"
        }
      ]
    },
    {
      "cell_type": "code",
      "metadata": {
        "id": "kmXwu02lOLWI",
        "colab": {
          "base_uri": "https://localhost:8080/"
        },
        "outputId": "b5cd1a99-c69e-457d-cb01-baa7cda1a22b"
      },
      "source": [
        "# What are the 10 most common words?\n",
        "print([w for (w,freq) in Counter(v.freqs).most_common(10)])"
      ],
      "execution_count": 19,
      "outputs": [
        {
          "output_type": "stream",
          "text": [
            "['.', ',', 'the', 'and', 'a', 'of', 'to', \"'s\", 'is', 'that']\n"
          ],
          "name": "stdout"
        }
      ]
    },
    {
      "cell_type": "code",
      "metadata": {
        "id": "__NDPaCeOT_m",
        "colab": {
          "base_uri": "https://localhost:8080/"
        },
        "outputId": "fa7b3387-e23f-4b42-bb5e-522e5ed3ea9b"
      },
      "source": [
        "# And how many words are there with frequency 1?\n",
        "# (A fancy name for these is hapax legomena.)\n",
        "print(len([w for w in v.freqs if v.freqs[w]==1]))"
      ],
      "execution_count": 20,
      "outputs": [
        {
          "output_type": "stream",
          "text": [
            "9543\n"
          ],
          "name": "stdout"
        }
      ]
    },
    {
      "cell_type": "code",
      "metadata": {
        "id": "xKHocugctZGM",
        "colab": {
          "base_uri": "https://localhost:8080/"
        },
        "outputId": "1faf020b-2bf7-4d3b-8e70-4455c9f75ec7"
      },
      "source": [
        "# Finally 20 random words from the vocabulary.\n",
        "# This is a simple way to get a feeling for the data. \n",
        "# You could use the `choice` function from the already imported `random` package\n",
        "print([random.choice(list(v.w2i.keys())) for _ in range(20)])"
      ],
      "execution_count": 21,
      "outputs": [
        {
          "output_type": "stream",
          "text": [
            "['Performances', 'hungry', 'straight-to-video', 'Terrible', 'communicating', 'investigator', 'uppity', 'frustratingly', 'Goldbacher', 'Returning', 'Wow', 'military', 'thesis', 'Everlyn', 'sense', 'drizzle', 'Cliffhanger', 'participant', 'Sorcerer', 'emotionally']\n"
          ],
          "name": "stdout"
        }
      ]
    },
    {
      "cell_type": "markdown",
      "metadata": {
        "id": "nGWaZahKV_dH"
      },
      "source": [
        "#### Sentiment label vocabulary"
      ]
    },
    {
      "cell_type": "code",
      "metadata": {
        "id": "AmTC-rvQelpl",
        "colab": {
          "base_uri": "https://localhost:8080/"
        },
        "outputId": "0c52778f-d13a-4583-cdb8-7a749aff6b2a"
      },
      "source": [
        "# Now let's map the sentiment labels 0-4 to a more readable form\n",
        "i2t = [\"very negative\", \"negative\", \"neutral\", \"positive\", \"very positive\"]\n",
        "print(i2t)\n",
        "print(i2t[4])"
      ],
      "execution_count": 22,
      "outputs": [
        {
          "output_type": "stream",
          "text": [
            "['very negative', 'negative', 'neutral', 'positive', 'very positive']\n",
            "very positive\n"
          ],
          "name": "stdout"
        }
      ]
    },
    {
      "cell_type": "code",
      "metadata": {
        "id": "D7UI26DP2dr2",
        "colab": {
          "base_uri": "https://localhost:8080/"
        },
        "outputId": "6fbfa54a-06fb-4b27-9daf-d8e3e7a12ddb"
      },
      "source": [
        "# And let's also create the opposite mapping.\n",
        "# We won't use a Vocabulary for this (although we could), since the labels\n",
        "# are already numeric.\n",
        "t2i = OrderedDict({p : i for p, i in zip(i2t, range(len(i2t)))})\n",
        "print(t2i)\n",
        "print(t2i['very positive'])"
      ],
      "execution_count": 23,
      "outputs": [
        {
          "output_type": "stream",
          "text": [
            "OrderedDict([('very negative', 0), ('negative', 1), ('neutral', 2), ('positive', 3), ('very positive', 4)])\n",
            "4\n"
          ],
          "name": "stdout"
        }
      ]
    },
    {
      "cell_type": "markdown",
      "metadata": {
        "id": "y0067ax54-rd"
      },
      "source": [
        "## PyTorch\n",
        "\n",
        "In Colab notebooks, the last available version of PyTorch is already installed.The current stable version is 1.7.\n",
        "\n",
        "*For installing PyTorch in your own computer, follow the instructions on [pytorch.org](pytorch.org) instead. This is for Google Colab only.*"
      ]
    },
    {
      "cell_type": "code",
      "metadata": {
        "id": "qKQMGtkR5KWr",
        "colab": {
          "base_uri": "https://localhost:8080/"
        },
        "outputId": "3f9c4523-5f3a-488e-e2d7-3075cda40415"
      },
      "source": [
        "import torch\n",
        "print(\"Using torch\", torch.__version__) # should say 1.7.0+cu101"
      ],
      "execution_count": 24,
      "outputs": [
        {
          "output_type": "stream",
          "text": [
            "Using torch 1.7.0+cu101\n"
          ],
          "name": "stdout"
        }
      ]
    },
    {
      "cell_type": "code",
      "metadata": {
        "id": "mnvPcd_E1xH8"
      },
      "source": [
        "# Let's also import torch.nn, a PyTorch package that  \n",
        "# makes building neural networks more convenient.\n",
        "from torch import nn"
      ],
      "execution_count": 25,
      "outputs": []
    },
    {
      "cell_type": "code",
      "metadata": {
        "id": "BYt8uTyGCKc7",
        "colab": {
          "base_uri": "https://localhost:8080/"
        },
        "outputId": "01784123-4911-41bf-be15-b6d9d7ce734d"
      },
      "source": [
        "# PyTorch can run on CPU or on Nvidia GPU (video card) using CUDA\n",
        "# This cell selects the GPU if one is available.\n",
        "device = torch.device('cuda' if torch.cuda.is_available() else 'cpu')\n",
        "device"
      ],
      "execution_count": 26,
      "outputs": [
        {
          "output_type": "execute_result",
          "data": {
            "text/plain": [
              "device(type='cuda')"
            ]
          },
          "metadata": {
            "tags": []
          },
          "execution_count": 26
        }
      ]
    },
    {
      "cell_type": "code",
      "metadata": {
        "id": "2d1VMOOYx1Bw"
      },
      "source": [
        "# Seed manually to make runs reproducible\n",
        "# You need to set this again if you do multiple runs of the same model\n",
        "torch.manual_seed(0)\n",
        "\n",
        "random.seed(0)\n",
        "\n",
        "# When running on the CuDNN backend two further options must be set for reproducibility\n",
        "if torch.cuda.is_available():\n",
        "  torch.backends.cudnn.deterministic = True\n",
        "  torch.backends.cudnn.benchmark = False"
      ],
      "execution_count": 27,
      "outputs": []
    },
    {
      "cell_type": "markdown",
      "metadata": {
        "id": "uWBTzkuE3CtZ"
      },
      "source": [
        "# BOW"
      ]
    },
    {
      "cell_type": "markdown",
      "metadata": {
        "id": "TBAjYYySOA5W"
      },
      "source": [
        "Our first model is a rather simple neural **bag-of-words (BOW) model**.\n",
        "Unlike the bag-of-words model that you used in the previous lab, where we would look at the presence / frequency of words in a text, here we associate each word with a multi-dimensional vector which expresses what sentiment is conveyed by the word. In particular, our BOW vectors will be of size 5, exactly our number of sentiment classes. \n",
        "\n",
        "To classify a sentence, we **sum** the vectors of the words in the sentence and a bias vector. Because we sum the vectors, we lose word order: that's why we call this a neural bag-of-words model.\n",
        "\n",
        "```\n",
        "this   [0.0, 0.1, 0.1, 0.1, 0.0]\n",
        "movie  [0.0, 0.1, 0.1, 0.2, 0.1]\n",
        "is     [0.0, 0.1, 0.0, 0.0, 0.0]\n",
        "stupid [0.9, 0.5, 0.1, 0.0, 0.0]\n",
        "\n",
        "bias   [0.0, 0.0, 0.0, 0.0, 0.0]\n",
        "--------------------------------\n",
        "sum    [0.9, 0.8, 0.3, 0.3, 0.1]\n",
        "\n",
        "argmax: 0 (very negative)\n",
        "```\n",
        "\n",
        "The **argmax** of this sum is our predicted label.\n",
        "\n",
        "We initialize all vectors *randomly* and train them using cross-entropy loss."
      ]
    },
    {
      "cell_type": "markdown",
      "metadata": {
        "id": "rLtBAIQGynkB"
      },
      "source": [
        "#### Model class"
      ]
    },
    {
      "cell_type": "code",
      "metadata": {
        "id": "QZfNklWf3tvs"
      },
      "source": [
        "class BOW(nn.Module):\n",
        "  \"\"\"A simple bag-of-words model\"\"\"\n",
        "\n",
        "  def __init__(self, vocab_size, embedding_dim, vocab):\n",
        "    super(BOW, self).__init__()\n",
        "    self.vocab = vocab\n",
        "    \n",
        "    # this is a trainable look-up table with word embeddings\n",
        "    self.embed = nn.Embedding(vocab_size, embedding_dim)\n",
        "    \n",
        "    # this is a trainable bias term\n",
        "    self.bias = nn.Parameter(torch.zeros(embedding_dim), requires_grad=True)        \n",
        "\n",
        "  def forward(self, inputs):\n",
        "    # this is the forward pass of the neural network\n",
        "    # it applies a function to the input and returns the output\n",
        "\n",
        "    # this looks up the embeddings for each word ID in inputs\n",
        "    # the result is a sequence of word embeddings\n",
        "    embeds = self.embed(inputs)\n",
        "    \n",
        "    # the output is the sum across the time dimension (1)\n",
        "    # with the bias term added\n",
        "    logits = embeds.sum(1) + self.bias\n",
        "\n",
        "    return logits"
      ],
      "execution_count": 28,
      "outputs": []
    },
    {
      "cell_type": "code",
      "metadata": {
        "id": "eKHvBnoBAr6z",
        "colab": {
          "base_uri": "https://localhost:8080/"
        },
        "outputId": "9e3973f3-760c-4179-8689-6fb03c8b03df"
      },
      "source": [
        "# Let's create a model.\n",
        "vocab_size = len(v.w2i)\n",
        "n_classes = len(t2i)\n",
        "bow_model = BOW(vocab_size, n_classes, v)\n",
        "print(bow_model)"
      ],
      "execution_count": 29,
      "outputs": [
        {
          "output_type": "stream",
          "text": [
            "BOW(\n",
            "  (embed): Embedding(18280, 5)\n",
            ")\n"
          ],
          "name": "stdout"
        }
      ]
    },
    {
      "cell_type": "markdown",
      "metadata": {
        "id": "vfCx-HvMH1qQ"
      },
      "source": [
        "> **Hey, wait, where is the bias vector?**\n",
        "> PyTorch does not print Parameters, only Modules!\n",
        "\n",
        "> We can print it ourselves though, to check that it is there."
      ]
    },
    {
      "cell_type": "code",
      "metadata": {
        "id": "Fhvk5HenAroT",
        "colab": {
          "base_uri": "https://localhost:8080/"
        },
        "outputId": "5e1af47b-6d1f-4991-a9e9-d50c74966d35"
      },
      "source": [
        "\n",
        "# Here we print each parameter name, shape, and if it is trainable.\n",
        "def print_parameters(model):\n",
        "  total = 0\n",
        "  for name, p in model.named_parameters():\n",
        "    total += np.prod(p.shape)\n",
        "    print(\"{:24s} {:12s} requires_grad={}\".format(name, str(list(p.shape)), p.requires_grad))\n",
        "  print(\"\\nTotal number of parameters: {}\\n\".format(total))\n",
        "    \n",
        "\n",
        "print_parameters(bow_model)"
      ],
      "execution_count": 30,
      "outputs": [
        {
          "output_type": "stream",
          "text": [
            "bias                     [5]          requires_grad=True\n",
            "embed.weight             [18280, 5]   requires_grad=True\n",
            "\n",
            "Total number of parameters: 91405\n",
            "\n"
          ],
          "name": "stdout"
        }
      ]
    },
    {
      "cell_type": "markdown",
      "metadata": {
        "id": "WSAw292WxuP4"
      },
      "source": [
        "#### Preparing an example for input\n",
        "\n",
        "To feed sentences to our PyTorch model, we need to convert a sequence of tokens to a sequence of IDs. The `prepare_example` function below takes care of this for us. We then use these IDs as indices for the word embedding table. "
      ]
    },
    {
      "cell_type": "code",
      "metadata": {
        "id": "YWeGTC_OGReV"
      },
      "source": [
        "def prepare_example(example, vocab):\n",
        "  \"\"\"\n",
        "  Map tokens to their IDs for a single example\n",
        "  \"\"\"\n",
        "  \n",
        "  # vocab returns 0 if the word is not there (i2w[0] = <unk>)\n",
        "  x = [vocab.w2i.get(t, 0) for t in example.tokens]\n",
        "  \n",
        "  x = torch.LongTensor([x])\n",
        "  x = x.to(device)\n",
        "  \n",
        "  y = torch.LongTensor([example.label])\n",
        "  y = y.to(device)\n",
        "  \n",
        "  return x, y"
      ],
      "execution_count": 31,
      "outputs": []
    },
    {
      "cell_type": "code",
      "metadata": {
        "id": "sfbdv9px3uFF",
        "colab": {
          "base_uri": "https://localhost:8080/"
        },
        "outputId": "74da0b0a-e7c2-4869-d07b-727288d03d50"
      },
      "source": [
        "x, y = prepare_example(dev_data[0], v)\n",
        "print('x:', x)\n",
        "print('y:', y)"
      ],
      "execution_count": 32,
      "outputs": [
        {
          "output_type": "stream",
          "text": [
            "x: tensor([[  28,    9,    6,  998,   16,   18,  998,  135,   32, 7688,    5,    0,\n",
            "            2]], device='cuda:0')\n",
            "y: tensor([3], device='cuda:0')\n"
          ],
          "name": "stdout"
        }
      ]
    },
    {
      "cell_type": "markdown",
      "metadata": {
        "id": "oKNQjEc0yXnJ"
      },
      "source": [
        "#### Evaluation\n",
        "We now need to define an evaluation metric.\n",
        "How many predictions do we get right? The accuracy will tell us.\n",
        "Make sure that you understand this code block.\n"
      ]
    },
    {
      "cell_type": "code",
      "metadata": {
        "id": "yGmQLcVYKZsh"
      },
      "source": [
        "def simple_evaluate(model, data, prep_fn=prepare_example, **kwargs):\n",
        "  \"\"\"Accuracy of a model on given data set.\"\"\"\n",
        "  correct = 0\n",
        "  total = 0\n",
        "  model.eval()  # disable dropout (explained later)\n",
        "\n",
        "  for example in data:\n",
        "    \n",
        "    # convert the example input and label to PyTorch tensors\n",
        "    x, target = prep_fn(example, model.vocab)\n",
        "\n",
        "    # forward pass without backpropagation (no_grad)\n",
        "    # get the output from the neural network for input x\n",
        "    with torch.no_grad():\n",
        "      logits = model(x)\n",
        "    \n",
        "    # get the prediction\n",
        "    prediction = logits.argmax(dim=-1)\n",
        "    \n",
        "    # add the number of correct predictions to the total correct\n",
        "    correct += (prediction == target).sum().item()\n",
        "    total += 1\n",
        "\n",
        "  return correct, total, correct / float(total)"
      ],
      "execution_count": 33,
      "outputs": []
    },
    {
      "cell_type": "markdown",
      "metadata": {
        "id": "5KlIGFXllWWm"
      },
      "source": [
        "We are using accuracy as a handy evaluation metric. Please consider using [alternative metrics](https://scikit-learn.org/stable/modules/classes.html#classification-metrics) for your experiments if that makes more theoretical sense (see, e.g., Q3.3 in Practical 1). "
      ]
    },
    {
      "cell_type": "markdown",
      "metadata": {
        "id": "dIk6OtSdzGRP"
      },
      "source": [
        "#### Example feed\n",
        "For stochastic gradient descent (SGD) we will need a random training example for every update.\n",
        "We implement this by shuffling the training data and returning examples one by one using `yield`.\n",
        "\n",
        "Shuffling is optional so that we get to use this function to get validation and test examples, too."
      ]
    },
    {
      "cell_type": "code",
      "metadata": {
        "id": "dxDFOZLfCXvJ"
      },
      "source": [
        "def get_examples(data, shuffle=True, **kwargs):\n",
        "  \"\"\"Shuffle data set and return 1 example at a time (until nothing left)\"\"\"\n",
        "  if shuffle:\n",
        "    print(\"Shuffling training data\")\n",
        "    random.shuffle(data)  # shuffle training data each epoch\n",
        "  for example in data:\n",
        "    yield example"
      ],
      "execution_count": 34,
      "outputs": []
    },
    {
      "cell_type": "markdown",
      "metadata": {
        "id": "g09SM8yb2cjx"
      },
      "source": [
        "#### Exercise: Training function\n",
        "\n",
        "Your task is now to complete the training loop below.\n",
        "Before you do so, please read the section about optimisation."
      ]
    },
    {
      "cell_type": "markdown",
      "metadata": {
        "id": "TVfUukVdM_1c"
      },
      "source": [
        "**Optimisation**\n",
        "\n",
        "As mentioned in the \"Intro to PyTorch\" notebook, one of the perks of using PyTorch is automatic differentiation. We will use it to train our BOW model. \n",
        "\n",
        "We train our model by feeding it an input, performing a **forward** pass, obtaining an output prediction, and calculating a **loss** with our loss function.\n",
        "After the gradients are computed in the **backward** pass, we can take a step on the surface of the loss function towards more optimal parameter settings (gradient descent). \n",
        "\n",
        "The package we will use to do this optimisation is [torch.optim](https://pytorch.org/docs/stable/optim.html). "
      ]
    },
    {
      "cell_type": "code",
      "metadata": {
        "id": "KhQigDrQ--YU"
      },
      "source": [
        "from torch import optim"
      ],
      "execution_count": 35,
      "outputs": []
    },
    {
      "cell_type": "markdown",
      "metadata": {
        "id": "wGIvcTZU_Cez"
      },
      "source": [
        "Besides implementations of stochastic gradient descent (SGD), this package also implements the optimisation algorithm Adam, which we'll be using in this practical. \n",
        "For the purposes of this assignment you do not need to know what Adam does besides that it uses gradient information to update our model parameters by calling: \n",
        "\n",
        "```\n",
        "optimizer.step()\n",
        "```\n",
        "Remember when we updated our parameters in the PyTorch tutorial in a loop?\n",
        "\n",
        "\n",
        "```python\n",
        "# update weights\n",
        "learning_rate = 0.5\n",
        "for f in net.parameters():\n",
        "    # for each parameter, take a small step in the opposite dir of the gradient\n",
        "    p.data = p.data - p.grad.data * learning_rate\n",
        "\n",
        "```\n",
        "The function call optimizer.step() does effectively the same thing.\n",
        "\n",
        "*(If you want to know more about optimisation algorithms using gradient information, [this blog](http://ruder.io/optimizing-gradient-descent/.) gives a nice intuitive overview.)*"
      ]
    },
    {
      "cell_type": "code",
      "metadata": {
        "id": "ktFnKBux25lD"
      },
      "source": [
        "def train_model(model, optimizer, num_iterations=10000, \n",
        "                print_every=1000, eval_every=1000,\n",
        "                batch_fn=get_examples, \n",
        "                prep_fn=prepare_example,\n",
        "                eval_fn=simple_evaluate,\n",
        "                batch_size=1, eval_batch_size=None,\n",
        "                patience=0):\n",
        "    \"\"\"Train a model.\n",
        "    \n",
        "    The patience parameter is the number of evaluations after which\n",
        "    training is stopped if the model hasn't set a new highscore (so training\n",
        "    is stopped after than eval_every * patience steps without a highscore).\n",
        "    If patience = 0, this feature is disabled. In any case, training is\n",
        "    stopped after num_iterations. Set num_iterations to zero to treat it as infinite\"\"\"  \n",
        "    iter_i = 0\n",
        "    train_loss = 0.\n",
        "    print_num = 0\n",
        "    start = time.time()\n",
        "    criterion = nn.CrossEntropyLoss() # loss function\n",
        "    best_eval = 0.\n",
        "    best_iter = 0\n",
        "\n",
        "    # store train loss and validation accuracy during training\n",
        "    # so we can plot them afterwards\n",
        "    losses = []\n",
        "    accuracies = []  \n",
        "\n",
        "    if eval_batch_size is None:\n",
        "        eval_batch_size = batch_size\n",
        "  \n",
        "    while True:  # when we run out of examples, shuffle and continue\n",
        "        for batch in batch_fn(train_data, batch_size=batch_size):\n",
        "\n",
        "            # forward pass\n",
        "            model.train()\n",
        "            x, targets = prep_fn(batch, model.vocab)\n",
        "            logits = model(x)\n",
        "\n",
        "            B = targets.size(0)  # later we will use B examples per update\n",
        "\n",
        "            # compute cross-entropy loss (our criterion)\n",
        "            # note that the cross entropy loss function computes the softmax for us\n",
        "            loss = criterion(logits.view([B, -1]), targets.view(-1))\n",
        "            train_loss += loss.item()\n",
        "\n",
        "            # backward pass (tip: check the Introduction to PyTorch notebook)\n",
        "\n",
        "            # erase previous gradients\n",
        "            optimizer.zero_grad()\n",
        "            # YOUR CODE HERE\n",
        "\n",
        "            # compute gradients\n",
        "            # YOUR CODE HERE\n",
        "            loss.backward()\n",
        "\n",
        "            # update weights - take a small step in the opposite dir of the gradient\n",
        "            # YOUR CODE HERE\n",
        "            optimizer.step()\n",
        "\n",
        "            print_num += 1\n",
        "            iter_i += 1\n",
        "\n",
        "            # print info\n",
        "            if iter_i % print_every == 0:\n",
        "                print(\"Iter %r: loss=%.4f, time=%.2fs\" % \n",
        "                      (iter_i, train_loss, time.time()-start))\n",
        "                losses.append(train_loss)\n",
        "                print_num = 0        \n",
        "                train_loss = 0.\n",
        "\n",
        "            # evaluate\n",
        "            if iter_i % eval_every == 0:\n",
        "                _, _, accuracy = eval_fn(model, dev_data, batch_size=eval_batch_size,\n",
        "                                         batch_fn=batch_fn, prep_fn=prep_fn)\n",
        "                accuracies.append(accuracy)\n",
        "                print(\"iter %r: dev acc=%.4f\" % (iter_i, accuracy))       \n",
        "        \n",
        "                # save best model parameters\n",
        "                if accuracy > best_eval:\n",
        "                    print(\"new highscore\")\n",
        "                    best_eval = accuracy\n",
        "                    best_iter = iter_i\n",
        "                    path = \"{}.pt\".format(model.__class__.__name__)\n",
        "                    ckpt = {\n",
        "                      \"state_dict\": model.state_dict(),\n",
        "                      \"optimizer_state_dict\": optimizer.state_dict(),\n",
        "                      \"best_eval\": best_eval,\n",
        "                      \"best_iter\": best_iter\n",
        "                    }\n",
        "                    torch.save(ckpt, path)\n",
        "\n",
        "            # done training\n",
        "            if iter_i == num_iterations or ((patience > 0) and iter_i - best_iter >= patience * eval_every):\n",
        "                if patience > 0 and (iter_i - best_iter >= patience * eval_every):\n",
        "                    print(\"Stopping early because there was no improvement for {} steps\".format(iter_i - best_iter))\n",
        "                print(\"Done training\")\n",
        "\n",
        "                # evaluate on train, dev, and test with best model\n",
        "                print(\"Loading best model\")\n",
        "                path = \"{}.pt\".format(model.__class__.__name__)        \n",
        "                ckpt = torch.load(path)\n",
        "                model.load_state_dict(ckpt[\"state_dict\"])\n",
        "\n",
        "                _, _, train_acc = eval_fn(\n",
        "                    model, train_data, batch_size=eval_batch_size, \n",
        "                    batch_fn=batch_fn, prep_fn=prep_fn)\n",
        "                _, _, dev_acc = eval_fn(\n",
        "                    model, dev_data, batch_size=eval_batch_size,\n",
        "                    batch_fn=batch_fn, prep_fn=prep_fn)\n",
        "                _, _, test_acc = eval_fn(\n",
        "                    model, test_data, batch_size=eval_batch_size, \n",
        "                    batch_fn=batch_fn, prep_fn=prep_fn)\n",
        "\n",
        "                print(\"best model iter {:d}: \"\n",
        "                      \"train acc={:.4f}, dev acc={:.4f}, test acc={:.4f}\".format(\n",
        "                          best_iter, train_acc, dev_acc, test_acc))\n",
        "\n",
        "                return (losses, accuracies), (train_acc, dev_acc, test_acc)\n",
        "\n",
        "def train_loop(model_generator, optimizer_generator,\n",
        "               num_iterations=10000, \n",
        "               print_every=1000, eval_every=1000,\n",
        "               batch_fn=get_examples, \n",
        "               prep_fn=prepare_example,\n",
        "               eval_fn=simple_evaluate,\n",
        "               batch_size=1, eval_batch_size=None,\n",
        "               patience=0,\n",
        "               num_seeds=3):\n",
        "    \"\"\"Train a model with multiple seeds.\n",
        "    \n",
        "    model_generator should be a function that returns a model instance.\n",
        "    optimizer_generator should be a function that takes a model instance\n",
        "    and return an optimizer.\n",
        "    \n",
        "    Returns three lists: losses, accuracies, best_accuracies.\n",
        "    For the first two, the first axis enumerates the different seeds and\n",
        "    the second axis is time. For best_accuracies, the first axis has length\n",
        "    three and contains the train, validation and test accuracies (in that order).\n",
        "    The second axis enumerates seeds.\"\"\"\n",
        "    losses = []\n",
        "    accuracies = []\n",
        "    best_accuracies = []\n",
        "    for seed in range(num_seeds):\n",
        "        print(\"Training new model with seed {}\".format(seed))\n",
        "        print(\"=\" * 50)\n",
        "        torch.manual_seed(seed)\n",
        "        random.seed(seed)\n",
        "        model = model_generator()\n",
        "        optimizer = optimizer_generator(model)\n",
        "        (new_losses, new_accuracies), best_accs = train_model(model, optimizer, num_iterations,\n",
        "                    print_every, eval_every, batch_fn, prep_fn, eval_fn,\n",
        "                    batch_size, eval_batch_size, patience)\n",
        "        losses.append(new_losses)\n",
        "        accuracies.append(new_accuracies)\n",
        "        best_accuracies.append(best_accs)\n",
        "    # transpose accuracy list\n",
        "    best_accuracies = list(zip(*best_accuracies))\n",
        "\n",
        "    print(\"Test accuracy:\", np.mean(best_accuracies[2]), \"+-\", np.std(best_accuracies[2]))\n",
        "    return losses, accuracies, best_accuracies\n",
        "  "
      ],
      "execution_count": 72,
      "outputs": []
    },
    {
      "cell_type": "markdown",
      "metadata": {
        "id": "XEPsLvI-3D5b"
      },
      "source": [
        "### Training the BOW model"
      ]
    },
    {
      "cell_type": "code",
      "metadata": {
        "id": "9luJnNuN_d3q",
        "colab": {
          "base_uri": "https://localhost:8080/"
        },
        "outputId": "5bc6c2bb-bbe1-4f9d-d255-3c070a24c0d0"
      },
      "source": [
        "# If everything is in place we can now train our first model!\n",
        "#bow_model = BOW(len(v.w2i), len(t2i), vocab=v)\n",
        "#print(bow_model)\n",
        "\n",
        "#bow_model = bow_model.to(device)\n",
        "\n",
        "#optimizer = optim.Adam(bow_model.parameters(), lr=0.0005)\n",
        "bow_losses, bow_accuracies, best_accs = train_loop(\n",
        "    lambda: BOW(len(v.w2i), len(t2i), vocab=v).to(device),\n",
        "    lambda model: optim.Adam(model.parameters(), lr=0.0005),\n",
        "    num_iterations=0, print_every=1000, eval_every=1000, patience=20)\n"
      ],
      "execution_count": 77,
      "outputs": [
        {
          "output_type": "stream",
          "text": [
            "Training new model with seed 0\n",
            "==================================================\n",
            "Shuffling training data\n",
            "Iter 1000: loss=6167.9235, time=1.00s\n",
            "iter 1000: dev acc=0.1898\n",
            "new highscore\n",
            "Iter 2000: loss=5419.3502, time=2.26s\n",
            "iter 2000: dev acc=0.1889\n",
            "Iter 3000: loss=4952.3615, time=3.51s\n",
            "iter 3000: dev acc=0.2035\n",
            "new highscore\n",
            "Iter 4000: loss=4920.7039, time=4.88s\n",
            "iter 4000: dev acc=0.2153\n",
            "new highscore\n",
            "Iter 5000: loss=4829.9561, time=6.22s\n",
            "iter 5000: dev acc=0.2134\n",
            "Iter 6000: loss=4538.4709, time=7.58s\n",
            "iter 6000: dev acc=0.2153\n",
            "Iter 7000: loss=4303.5353, time=8.83s\n",
            "iter 7000: dev acc=0.2162\n",
            "new highscore\n",
            "Iter 8000: loss=4632.1829, time=10.08s\n",
            "iter 8000: dev acc=0.2216\n",
            "new highscore\n",
            "Shuffling training data\n",
            "Iter 9000: loss=4310.0499, time=11.37s\n",
            "iter 9000: dev acc=0.2180\n",
            "Iter 10000: loss=4129.0018, time=12.61s\n",
            "iter 10000: dev acc=0.2207\n",
            "Iter 11000: loss=4093.0056, time=13.87s\n",
            "iter 11000: dev acc=0.2198\n",
            "Iter 12000: loss=3819.5645, time=15.12s\n",
            "iter 12000: dev acc=0.2271\n",
            "new highscore\n",
            "Iter 13000: loss=4150.0263, time=16.45s\n",
            "iter 13000: dev acc=0.2289\n",
            "new highscore\n",
            "Iter 14000: loss=4011.7559, time=17.73s\n",
            "iter 14000: dev acc=0.2325\n",
            "new highscore\n",
            "Iter 15000: loss=4095.9985, time=19.01s\n",
            "iter 15000: dev acc=0.2316\n",
            "Iter 16000: loss=3931.2745, time=20.28s\n",
            "iter 16000: dev acc=0.2307\n",
            "Iter 17000: loss=3679.6757, time=21.53s\n",
            "iter 17000: dev acc=0.2325\n",
            "Shuffling training data\n",
            "Iter 18000: loss=3495.1895, time=22.81s\n",
            "iter 18000: dev acc=0.2334\n",
            "new highscore\n",
            "Iter 19000: loss=3495.5633, time=24.08s\n",
            "iter 19000: dev acc=0.2334\n",
            "Iter 20000: loss=3477.9166, time=25.48s\n",
            "iter 20000: dev acc=0.2361\n",
            "new highscore\n",
            "Iter 21000: loss=3420.7189, time=26.75s\n",
            "iter 21000: dev acc=0.2371\n",
            "new highscore\n",
            "Iter 22000: loss=3475.2385, time=28.00s\n",
            "iter 22000: dev acc=0.2389\n",
            "new highscore\n",
            "Iter 23000: loss=3571.2851, time=29.26s\n",
            "iter 23000: dev acc=0.2389\n",
            "Iter 24000: loss=3490.8771, time=30.51s\n",
            "iter 24000: dev acc=0.2389\n",
            "Iter 25000: loss=3473.4623, time=31.80s\n",
            "iter 25000: dev acc=0.2425\n",
            "new highscore\n",
            "Shuffling training data\n",
            "Iter 26000: loss=3497.0730, time=33.11s\n",
            "iter 26000: dev acc=0.2398\n",
            "Iter 27000: loss=3129.7310, time=34.50s\n",
            "iter 27000: dev acc=0.2398\n",
            "Iter 28000: loss=3164.2260, time=35.88s\n",
            "iter 28000: dev acc=0.2389\n",
            "Iter 29000: loss=3129.8491, time=37.16s\n",
            "iter 29000: dev acc=0.2425\n",
            "Iter 30000: loss=3090.9884, time=38.41s\n",
            "iter 30000: dev acc=0.2443\n",
            "new highscore\n",
            "Iter 31000: loss=3088.8299, time=39.73s\n",
            "iter 31000: dev acc=0.2434\n",
            "Iter 32000: loss=3093.9545, time=41.13s\n",
            "iter 32000: dev acc=0.2470\n",
            "new highscore\n",
            "Iter 33000: loss=2902.7559, time=42.47s\n",
            "iter 33000: dev acc=0.2480\n",
            "new highscore\n",
            "Iter 34000: loss=3241.0073, time=43.80s\n",
            "iter 34000: dev acc=0.2498\n",
            "new highscore\n",
            "Shuffling training data\n",
            "Iter 35000: loss=2854.2010, time=45.21s\n",
            "iter 35000: dev acc=0.2516\n",
            "new highscore\n",
            "Iter 36000: loss=2751.0539, time=46.53s\n",
            "iter 36000: dev acc=0.2534\n",
            "new highscore\n",
            "Iter 37000: loss=2762.1272, time=47.77s\n",
            "iter 37000: dev acc=0.2516\n",
            "Iter 38000: loss=2854.1026, time=49.07s\n",
            "iter 38000: dev acc=0.2480\n",
            "Iter 39000: loss=2660.0774, time=50.45s\n",
            "iter 39000: dev acc=0.2498\n",
            "Iter 40000: loss=2582.2368, time=51.73s\n",
            "iter 40000: dev acc=0.2516\n",
            "Iter 41000: loss=2881.0860, time=52.98s\n",
            "iter 41000: dev acc=0.2480\n",
            "Iter 42000: loss=2687.5738, time=54.30s\n",
            "iter 42000: dev acc=0.2543\n",
            "new highscore\n",
            "Shuffling training data\n",
            "Iter 43000: loss=2700.9636, time=55.64s\n",
            "iter 43000: dev acc=0.2507\n",
            "Iter 44000: loss=2597.2779, time=56.91s\n",
            "iter 44000: dev acc=0.2534\n",
            "Iter 45000: loss=2423.8674, time=58.21s\n",
            "iter 45000: dev acc=0.2507\n",
            "Iter 46000: loss=2720.1404, time=59.52s\n",
            "iter 46000: dev acc=0.2516\n",
            "Iter 47000: loss=2586.2870, time=60.84s\n",
            "iter 47000: dev acc=0.2570\n",
            "new highscore\n",
            "Iter 48000: loss=2403.1958, time=62.09s\n",
            "iter 48000: dev acc=0.2543\n",
            "Iter 49000: loss=2481.6836, time=63.34s\n",
            "iter 49000: dev acc=0.2516\n",
            "Iter 50000: loss=2474.9802, time=64.59s\n",
            "iter 50000: dev acc=0.2534\n",
            "Iter 51000: loss=2342.3408, time=65.90s\n",
            "iter 51000: dev acc=0.2543\n",
            "Shuffling training data\n",
            "Iter 52000: loss=2203.3748, time=67.21s\n",
            "iter 52000: dev acc=0.2507\n",
            "Iter 53000: loss=2422.4040, time=68.46s\n",
            "iter 53000: dev acc=0.2507\n",
            "Iter 54000: loss=2289.4982, time=69.81s\n",
            "iter 54000: dev acc=0.2570\n",
            "Iter 55000: loss=2209.4174, time=71.07s\n",
            "iter 55000: dev acc=0.2552\n",
            "Iter 56000: loss=2234.6936, time=72.33s\n",
            "iter 56000: dev acc=0.2534\n",
            "Iter 57000: loss=2194.7163, time=73.68s\n",
            "iter 57000: dev acc=0.2516\n",
            "Iter 58000: loss=2374.5212, time=74.93s\n",
            "iter 58000: dev acc=0.2589\n",
            "new highscore\n",
            "Iter 59000: loss=2148.9403, time=76.24s\n",
            "iter 59000: dev acc=0.2570\n",
            "Shuffling training data\n",
            "Iter 60000: loss=2317.6588, time=77.54s\n",
            "iter 60000: dev acc=0.2589\n",
            "Iter 61000: loss=2107.3899, time=78.83s\n",
            "iter 61000: dev acc=0.2570\n",
            "Iter 62000: loss=2032.5929, time=80.15s\n",
            "iter 62000: dev acc=0.2561\n",
            "Iter 63000: loss=2134.0455, time=81.51s\n",
            "iter 63000: dev acc=0.2579\n",
            "Iter 64000: loss=1991.2844, time=82.79s\n",
            "iter 64000: dev acc=0.2570\n",
            "Iter 65000: loss=2117.8265, time=84.10s\n",
            "iter 65000: dev acc=0.2552\n",
            "Iter 66000: loss=2037.1145, time=85.34s\n",
            "iter 66000: dev acc=0.2598\n",
            "new highscore\n",
            "Iter 67000: loss=2049.7117, time=86.63s\n",
            "iter 67000: dev acc=0.2616\n",
            "new highscore\n",
            "Iter 68000: loss=2047.4085, time=87.91s\n",
            "iter 68000: dev acc=0.2598\n",
            "Shuffling training data\n",
            "Iter 69000: loss=1918.1093, time=89.19s\n",
            "iter 69000: dev acc=0.2534\n",
            "Iter 70000: loss=1928.7975, time=90.59s\n",
            "iter 70000: dev acc=0.2579\n",
            "Iter 71000: loss=1964.9413, time=92.01s\n",
            "iter 71000: dev acc=0.2607\n",
            "Iter 72000: loss=1881.5234, time=93.43s\n",
            "iter 72000: dev acc=0.2525\n",
            "Iter 73000: loss=1926.5447, time=94.70s\n",
            "iter 73000: dev acc=0.2561\n",
            "Iter 74000: loss=1880.3864, time=95.96s\n",
            "iter 74000: dev acc=0.2534\n",
            "Iter 75000: loss=1841.9484, time=97.27s\n",
            "iter 75000: dev acc=0.2598\n",
            "Iter 76000: loss=1942.3950, time=98.61s\n",
            "iter 76000: dev acc=0.2670\n",
            "new highscore\n",
            "Shuffling training data\n",
            "Iter 77000: loss=1712.1042, time=99.91s\n",
            "iter 77000: dev acc=0.2625\n",
            "Iter 78000: loss=1696.4599, time=101.27s\n",
            "iter 78000: dev acc=0.2743\n",
            "new highscore\n",
            "Iter 79000: loss=1734.9360, time=102.52s\n",
            "iter 79000: dev acc=0.2670\n",
            "Iter 80000: loss=1711.4035, time=103.85s\n",
            "iter 80000: dev acc=0.2679\n",
            "Iter 81000: loss=1736.6102, time=105.20s\n",
            "iter 81000: dev acc=0.2661\n",
            "Iter 82000: loss=1721.5452, time=106.69s\n",
            "iter 82000: dev acc=0.2679\n",
            "Iter 83000: loss=1708.6073, time=108.24s\n",
            "iter 83000: dev acc=0.2716\n",
            "Iter 84000: loss=1707.6392, time=109.58s\n",
            "iter 84000: dev acc=0.2688\n",
            "Iter 85000: loss=1857.2631, time=110.99s\n",
            "iter 85000: dev acc=0.2670\n",
            "Shuffling training data\n",
            "Iter 86000: loss=1622.5192, time=112.37s\n",
            "iter 86000: dev acc=0.2661\n",
            "Iter 87000: loss=1710.7863, time=113.70s\n",
            "iter 87000: dev acc=0.2652\n",
            "Iter 88000: loss=1570.0832, time=115.04s\n",
            "iter 88000: dev acc=0.2679\n",
            "Iter 89000: loss=1630.9656, time=116.51s\n",
            "iter 89000: dev acc=0.2716\n",
            "Iter 90000: loss=1538.3474, time=117.83s\n",
            "iter 90000: dev acc=0.2688\n",
            "Iter 91000: loss=1613.7129, time=119.13s\n",
            "iter 91000: dev acc=0.2670\n",
            "Iter 92000: loss=1640.6599, time=120.59s\n",
            "iter 92000: dev acc=0.2698\n",
            "Iter 93000: loss=1566.3588, time=121.99s\n",
            "iter 93000: dev acc=0.2788\n",
            "new highscore\n",
            "Shuffling training data\n",
            "Iter 94000: loss=1562.8203, time=123.28s\n",
            "iter 94000: dev acc=0.2734\n",
            "Iter 95000: loss=1492.5623, time=124.66s\n",
            "iter 95000: dev acc=0.2734\n",
            "Iter 96000: loss=1406.5027, time=125.92s\n",
            "iter 96000: dev acc=0.2752\n",
            "Iter 97000: loss=1431.2231, time=127.29s\n",
            "iter 97000: dev acc=0.2761\n",
            "Iter 98000: loss=1442.0969, time=128.68s\n",
            "iter 98000: dev acc=0.2707\n",
            "Iter 99000: loss=1423.1589, time=129.97s\n",
            "iter 99000: dev acc=0.2752\n",
            "Iter 100000: loss=1468.3801, time=131.48s\n",
            "iter 100000: dev acc=0.2761\n",
            "Iter 101000: loss=1563.3962, time=132.76s\n",
            "iter 101000: dev acc=0.2725\n",
            "Iter 102000: loss=1540.6651, time=133.99s\n",
            "iter 102000: dev acc=0.2734\n",
            "Shuffling training data\n",
            "Iter 103000: loss=1428.2833, time=135.22s\n",
            "iter 103000: dev acc=0.2770\n",
            "Iter 104000: loss=1259.9850, time=136.67s\n",
            "iter 104000: dev acc=0.2752\n",
            "Iter 105000: loss=1377.7057, time=137.92s\n",
            "iter 105000: dev acc=0.2770\n",
            "Iter 106000: loss=1393.4380, time=139.25s\n",
            "iter 106000: dev acc=0.2779\n",
            "Iter 107000: loss=1503.5100, time=140.75s\n",
            "iter 107000: dev acc=0.2779\n",
            "Iter 108000: loss=1331.5587, time=142.00s\n",
            "iter 108000: dev acc=0.2779\n",
            "Iter 109000: loss=1304.6072, time=143.24s\n",
            "iter 109000: dev acc=0.2779\n",
            "Iter 110000: loss=1435.7159, time=144.47s\n",
            "iter 110000: dev acc=0.2797\n",
            "new highscore\n",
            "Iter 111000: loss=1357.6924, time=145.71s\n",
            "iter 111000: dev acc=0.2816\n",
            "new highscore\n",
            "Shuffling training data\n",
            "Iter 112000: loss=1227.6905, time=146.96s\n",
            "iter 112000: dev acc=0.2816\n",
            "Iter 113000: loss=1315.6198, time=148.20s\n",
            "iter 113000: dev acc=0.2816\n",
            "Iter 114000: loss=1310.9346, time=149.54s\n",
            "iter 114000: dev acc=0.2770\n",
            "Iter 115000: loss=1260.6686, time=150.78s\n",
            "iter 115000: dev acc=0.2752\n",
            "Iter 116000: loss=1270.0407, time=152.03s\n",
            "iter 116000: dev acc=0.2825\n",
            "new highscore\n",
            "Iter 117000: loss=1251.2747, time=153.28s\n",
            "iter 117000: dev acc=0.2816\n",
            "Iter 118000: loss=1207.4691, time=154.51s\n",
            "iter 118000: dev acc=0.2825\n",
            "Iter 119000: loss=1295.5228, time=155.85s\n",
            "iter 119000: dev acc=0.2734\n",
            "Shuffling training data\n",
            "Iter 120000: loss=1183.1586, time=157.11s\n",
            "iter 120000: dev acc=0.2770\n",
            "Iter 121000: loss=1227.3410, time=158.47s\n",
            "iter 121000: dev acc=0.2797\n",
            "Iter 122000: loss=1171.6043, time=159.79s\n",
            "iter 122000: dev acc=0.2779\n",
            "Iter 123000: loss=1198.7594, time=161.20s\n",
            "iter 123000: dev acc=0.2834\n",
            "new highscore\n",
            "Iter 124000: loss=1184.1507, time=162.53s\n",
            "iter 124000: dev acc=0.2843\n",
            "new highscore\n",
            "Iter 125000: loss=1153.1315, time=163.81s\n",
            "iter 125000: dev acc=0.2788\n",
            "Iter 126000: loss=1174.0997, time=165.07s\n",
            "iter 126000: dev acc=0.2834\n",
            "Iter 127000: loss=1138.9433, time=166.34s\n",
            "iter 127000: dev acc=0.2861\n",
            "new highscore\n",
            "Iter 128000: loss=1134.7214, time=167.60s\n",
            "iter 128000: dev acc=0.2807\n",
            "Shuffling training data\n",
            "Iter 129000: loss=1116.8399, time=168.89s\n",
            "iter 129000: dev acc=0.2816\n",
            "Iter 130000: loss=1101.8630, time=170.20s\n",
            "iter 130000: dev acc=0.2761\n",
            "Iter 131000: loss=1056.8748, time=171.62s\n",
            "iter 131000: dev acc=0.2797\n",
            "Iter 132000: loss=1110.8394, time=172.87s\n",
            "iter 132000: dev acc=0.2843\n",
            "Iter 133000: loss=1130.3011, time=174.22s\n",
            "iter 133000: dev acc=0.2870\n",
            "new highscore\n",
            "Iter 134000: loss=1132.6365, time=175.53s\n",
            "iter 134000: dev acc=0.2888\n",
            "new highscore\n",
            "Iter 135000: loss=1111.3819, time=176.94s\n",
            "iter 135000: dev acc=0.2861\n",
            "Iter 136000: loss=1013.2108, time=178.27s\n",
            "iter 136000: dev acc=0.2788\n",
            "Shuffling training data\n",
            "Iter 137000: loss=1061.0575, time=179.69s\n",
            "iter 137000: dev acc=0.2852\n",
            "Iter 138000: loss=974.9212, time=181.07s\n",
            "iter 138000: dev acc=0.2816\n",
            "Iter 139000: loss=1025.2238, time=182.35s\n",
            "iter 139000: dev acc=0.2852\n",
            "Iter 140000: loss=1083.8476, time=183.59s\n",
            "iter 140000: dev acc=0.2861\n",
            "Iter 141000: loss=970.4998, time=184.84s\n",
            "iter 141000: dev acc=0.2816\n",
            "Iter 142000: loss=1078.4492, time=186.27s\n",
            "iter 142000: dev acc=0.2879\n",
            "Iter 143000: loss=985.7569, time=187.75s\n",
            "iter 143000: dev acc=0.2870\n",
            "Iter 144000: loss=1023.1138, time=188.99s\n",
            "iter 144000: dev acc=0.2906\n",
            "new highscore\n",
            "Iter 145000: loss=1068.6079, time=190.25s\n",
            "iter 145000: dev acc=0.2870\n",
            "Shuffling training data\n",
            "Iter 146000: loss=900.6989, time=191.59s\n",
            "iter 146000: dev acc=0.2879\n",
            "Iter 147000: loss=937.0252, time=192.84s\n",
            "iter 147000: dev acc=0.2897\n",
            "Iter 148000: loss=951.3056, time=194.07s\n",
            "iter 148000: dev acc=0.2861\n",
            "Iter 149000: loss=952.6855, time=195.34s\n",
            "iter 149000: dev acc=0.2897\n",
            "Iter 150000: loss=917.3658, time=196.76s\n",
            "iter 150000: dev acc=0.2906\n",
            "Iter 151000: loss=974.3644, time=198.03s\n",
            "iter 151000: dev acc=0.2870\n",
            "Iter 152000: loss=931.9187, time=199.29s\n",
            "iter 152000: dev acc=0.2852\n",
            "Iter 153000: loss=988.8478, time=200.56s\n",
            "iter 153000: dev acc=0.2843\n",
            "Shuffling training data\n",
            "Iter 154000: loss=957.7200, time=201.87s\n",
            "iter 154000: dev acc=0.2897\n",
            "Iter 155000: loss=921.1251, time=203.23s\n",
            "iter 155000: dev acc=0.2906\n",
            "Iter 156000: loss=922.8852, time=204.50s\n",
            "iter 156000: dev acc=0.2879\n",
            "Iter 157000: loss=930.4020, time=205.86s\n",
            "iter 157000: dev acc=0.2916\n",
            "new highscore\n",
            "Iter 158000: loss=771.1396, time=207.10s\n",
            "iter 158000: dev acc=0.2934\n",
            "new highscore\n",
            "Iter 159000: loss=817.1709, time=208.36s\n",
            "iter 159000: dev acc=0.2897\n",
            "Iter 160000: loss=895.3591, time=209.58s\n",
            "iter 160000: dev acc=0.2888\n",
            "Iter 161000: loss=877.6636, time=210.97s\n",
            "iter 161000: dev acc=0.2952\n",
            "new highscore\n",
            "Iter 162000: loss=881.8649, time=212.24s\n",
            "iter 162000: dev acc=0.2879\n",
            "Shuffling training data\n",
            "Iter 163000: loss=886.6188, time=213.47s\n",
            "iter 163000: dev acc=0.2897\n",
            "Iter 164000: loss=846.4554, time=214.79s\n",
            "iter 164000: dev acc=0.2916\n",
            "Iter 165000: loss=799.4516, time=216.08s\n",
            "iter 165000: dev acc=0.2916\n",
            "Iter 166000: loss=814.4361, time=217.44s\n",
            "iter 166000: dev acc=0.2961\n",
            "new highscore\n",
            "Iter 167000: loss=805.2231, time=218.72s\n",
            "iter 167000: dev acc=0.2934\n",
            "Iter 168000: loss=827.1943, time=219.97s\n",
            "iter 168000: dev acc=0.2916\n",
            "Iter 169000: loss=895.9005, time=221.20s\n",
            "iter 169000: dev acc=0.2952\n",
            "Iter 170000: loss=869.5455, time=222.44s\n",
            "iter 170000: dev acc=0.2970\n",
            "new highscore\n",
            "Shuffling training data\n",
            "Iter 171000: loss=823.7429, time=223.69s\n",
            "iter 171000: dev acc=0.2970\n",
            "Iter 172000: loss=747.5868, time=224.94s\n",
            "iter 172000: dev acc=0.2970\n",
            "Iter 173000: loss=728.9925, time=226.25s\n",
            "iter 173000: dev acc=0.3006\n",
            "new highscore\n",
            "Iter 174000: loss=820.0200, time=227.49s\n",
            "iter 174000: dev acc=0.2970\n",
            "Iter 175000: loss=803.8005, time=228.73s\n",
            "iter 175000: dev acc=0.2997\n",
            "Iter 176000: loss=770.1000, time=230.15s\n",
            "iter 176000: dev acc=0.3015\n",
            "new highscore\n",
            "Iter 177000: loss=756.0379, time=231.42s\n",
            "iter 177000: dev acc=0.3043\n",
            "new highscore\n",
            "Iter 178000: loss=804.6441, time=232.80s\n",
            "iter 178000: dev acc=0.3015\n",
            "Iter 179000: loss=790.8539, time=234.04s\n",
            "iter 179000: dev acc=0.3043\n",
            "Shuffling training data\n",
            "Iter 180000: loss=736.3523, time=235.30s\n",
            "iter 180000: dev acc=0.2988\n",
            "Iter 181000: loss=788.9295, time=236.61s\n",
            "iter 181000: dev acc=0.3052\n",
            "new highscore\n",
            "Iter 182000: loss=671.0184, time=237.87s\n",
            "iter 182000: dev acc=0.3061\n",
            "new highscore\n",
            "Iter 183000: loss=717.5935, time=239.11s\n",
            "iter 183000: dev acc=0.3025\n",
            "Iter 184000: loss=739.5738, time=240.35s\n",
            "iter 184000: dev acc=0.3079\n",
            "new highscore\n",
            "Iter 185000: loss=707.8767, time=241.59s\n",
            "iter 185000: dev acc=0.3034\n",
            "Iter 186000: loss=719.9711, time=242.84s\n",
            "iter 186000: dev acc=0.3043\n",
            "Iter 187000: loss=751.7767, time=244.11s\n",
            "iter 187000: dev acc=0.3052\n",
            "Shuffling training data\n",
            "Iter 188000: loss=782.8887, time=245.36s\n",
            "iter 188000: dev acc=0.3061\n",
            "Iter 189000: loss=670.0209, time=246.59s\n",
            "iter 189000: dev acc=0.3034\n",
            "Iter 190000: loss=680.7022, time=248.05s\n",
            "iter 190000: dev acc=0.3025\n",
            "Iter 191000: loss=565.8041, time=249.49s\n",
            "iter 191000: dev acc=0.3070\n",
            "Iter 192000: loss=743.6398, time=250.86s\n",
            "iter 192000: dev acc=0.3034\n",
            "Iter 193000: loss=719.3770, time=252.09s\n",
            "iter 193000: dev acc=0.3025\n",
            "Iter 194000: loss=701.1957, time=253.34s\n",
            "iter 194000: dev acc=0.3079\n",
            "Iter 195000: loss=740.4303, time=254.57s\n",
            "iter 195000: dev acc=0.3070\n",
            "Iter 196000: loss=667.3044, time=255.87s\n",
            "iter 196000: dev acc=0.3079\n",
            "Shuffling training data\n",
            "Iter 197000: loss=653.4691, time=257.13s\n",
            "iter 197000: dev acc=0.3106\n",
            "new highscore\n",
            "Iter 198000: loss=638.5340, time=258.44s\n",
            "iter 198000: dev acc=0.3052\n",
            "Iter 199000: loss=633.0845, time=259.68s\n",
            "iter 199000: dev acc=0.3079\n",
            "Iter 200000: loss=641.8684, time=260.91s\n",
            "iter 200000: dev acc=0.3043\n",
            "Iter 201000: loss=607.7106, time=262.16s\n",
            "iter 201000: dev acc=0.3070\n",
            "Iter 202000: loss=659.2482, time=263.39s\n",
            "iter 202000: dev acc=0.3070\n",
            "Iter 203000: loss=668.7448, time=264.74s\n",
            "iter 203000: dev acc=0.3061\n",
            "Iter 204000: loss=653.7443, time=265.99s\n",
            "iter 204000: dev acc=0.3070\n",
            "Iter 205000: loss=696.9555, time=267.22s\n",
            "iter 205000: dev acc=0.3088\n",
            "Shuffling training data\n",
            "Iter 206000: loss=571.8709, time=268.46s\n",
            "iter 206000: dev acc=0.3061\n",
            "Iter 207000: loss=571.8409, time=269.68s\n",
            "iter 207000: dev acc=0.3052\n",
            "Iter 208000: loss=619.7911, time=270.90s\n",
            "iter 208000: dev acc=0.3070\n",
            "Iter 209000: loss=660.9597, time=272.17s\n",
            "iter 209000: dev acc=0.3079\n",
            "Iter 210000: loss=656.4298, time=273.41s\n",
            "iter 210000: dev acc=0.3097\n",
            "Iter 211000: loss=649.8487, time=274.65s\n",
            "iter 211000: dev acc=0.3152\n",
            "new highscore\n",
            "Iter 212000: loss=543.0311, time=275.96s\n",
            "iter 212000: dev acc=0.3134\n",
            "Iter 213000: loss=625.9347, time=277.21s\n",
            "iter 213000: dev acc=0.3106\n",
            "Shuffling training data\n",
            "Iter 214000: loss=593.0808, time=278.56s\n",
            "iter 214000: dev acc=0.3143\n",
            "Iter 215000: loss=571.9924, time=279.81s\n",
            "iter 215000: dev acc=0.3124\n",
            "Iter 216000: loss=556.3619, time=281.12s\n",
            "iter 216000: dev acc=0.3097\n",
            "Iter 217000: loss=542.2078, time=282.40s\n",
            "iter 217000: dev acc=0.3097\n",
            "Iter 218000: loss=630.7486, time=283.66s\n",
            "iter 218000: dev acc=0.3088\n",
            "Iter 219000: loss=534.4005, time=284.90s\n",
            "iter 219000: dev acc=0.3152\n",
            "Iter 220000: loss=615.2247, time=286.14s\n",
            "iter 220000: dev acc=0.3161\n",
            "new highscore\n",
            "Iter 221000: loss=593.2569, time=287.39s\n",
            "iter 221000: dev acc=0.3161\n",
            "Iter 222000: loss=581.2582, time=288.64s\n",
            "iter 222000: dev acc=0.3115\n",
            "Shuffling training data\n",
            "Iter 223000: loss=518.3275, time=289.87s\n",
            "iter 223000: dev acc=0.3143\n",
            "Iter 224000: loss=527.3018, time=291.10s\n",
            "iter 224000: dev acc=0.3115\n",
            "Iter 225000: loss=535.3228, time=292.36s\n",
            "iter 225000: dev acc=0.3134\n",
            "Iter 226000: loss=528.9423, time=293.60s\n",
            "iter 226000: dev acc=0.3115\n",
            "Iter 227000: loss=543.0169, time=294.83s\n",
            "iter 227000: dev acc=0.3124\n",
            "Iter 228000: loss=583.4236, time=296.20s\n",
            "iter 228000: dev acc=0.3124\n",
            "Iter 229000: loss=567.5138, time=297.54s\n",
            "iter 229000: dev acc=0.3152\n",
            "Iter 230000: loss=522.5171, time=298.76s\n",
            "iter 230000: dev acc=0.3188\n",
            "new highscore\n",
            "Shuffling training data\n",
            "Iter 231000: loss=530.4446, time=300.07s\n",
            "iter 231000: dev acc=0.3170\n",
            "Iter 232000: loss=495.4421, time=301.35s\n",
            "iter 232000: dev acc=0.3215\n",
            "new highscore\n",
            "Iter 233000: loss=463.1680, time=302.59s\n",
            "iter 233000: dev acc=0.3215\n",
            "Iter 234000: loss=532.1099, time=303.88s\n",
            "iter 234000: dev acc=0.3179\n",
            "Iter 235000: loss=498.3461, time=305.11s\n",
            "iter 235000: dev acc=0.3134\n",
            "Iter 236000: loss=470.1967, time=306.51s\n",
            "iter 236000: dev acc=0.3161\n",
            "Iter 237000: loss=543.2599, time=307.87s\n",
            "iter 237000: dev acc=0.3197\n",
            "Iter 238000: loss=534.3318, time=309.13s\n",
            "iter 238000: dev acc=0.3134\n",
            "Iter 239000: loss=602.0351, time=310.45s\n",
            "iter 239000: dev acc=0.3152\n",
            "Shuffling training data\n",
            "Iter 240000: loss=481.8197, time=311.70s\n",
            "iter 240000: dev acc=0.3188\n",
            "Iter 241000: loss=448.1516, time=313.03s\n",
            "iter 241000: dev acc=0.3124\n",
            "Iter 242000: loss=489.3795, time=314.31s\n",
            "iter 242000: dev acc=0.3152\n",
            "Iter 243000: loss=476.2828, time=315.61s\n",
            "iter 243000: dev acc=0.3179\n",
            "Iter 244000: loss=496.2683, time=316.88s\n",
            "iter 244000: dev acc=0.3179\n",
            "Iter 245000: loss=499.4498, time=318.16s\n",
            "iter 245000: dev acc=0.3197\n",
            "Iter 246000: loss=527.7432, time=319.41s\n",
            "iter 246000: dev acc=0.3179\n",
            "Iter 247000: loss=476.3387, time=320.64s\n",
            "iter 247000: dev acc=0.3179\n",
            "Shuffling training data\n",
            "Iter 248000: loss=493.0322, time=321.94s\n",
            "iter 248000: dev acc=0.3206\n",
            "Iter 249000: loss=419.0283, time=323.30s\n",
            "iter 249000: dev acc=0.3197\n",
            "Iter 250000: loss=402.0444, time=324.54s\n",
            "iter 250000: dev acc=0.3170\n",
            "Iter 251000: loss=489.0610, time=325.89s\n",
            "iter 251000: dev acc=0.3170\n",
            "Iter 252000: loss=452.3000, time=327.19s\n",
            "iter 252000: dev acc=0.3206\n",
            "Stopping early because there was no improvement for 20000 steps\n",
            "Done training\n",
            "Loading best model\n",
            "best model iter 232000: train acc=0.8233, dev acc=0.3215, test acc=0.3208\n",
            "Training new model with seed 1\n",
            "==================================================\n",
            "Shuffling training data\n",
            "Iter 1000: loss=5499.2644, time=0.98s\n",
            "iter 1000: dev acc=0.1771\n",
            "new highscore\n",
            "Iter 2000: loss=5292.3595, time=2.34s\n",
            "iter 2000: dev acc=0.1798\n",
            "new highscore\n",
            "Iter 3000: loss=4823.3092, time=3.64s\n",
            "iter 3000: dev acc=0.1889\n",
            "new highscore\n",
            "Iter 4000: loss=4711.5403, time=5.04s\n",
            "iter 4000: dev acc=0.1935\n",
            "new highscore\n",
            "Iter 5000: loss=4806.5508, time=6.47s\n",
            "iter 5000: dev acc=0.2053\n",
            "new highscore\n",
            "Iter 6000: loss=4610.2164, time=7.80s\n",
            "iter 6000: dev acc=0.2071\n",
            "new highscore\n",
            "Iter 7000: loss=4321.0934, time=9.12s\n",
            "iter 7000: dev acc=0.2098\n",
            "new highscore\n",
            "Iter 8000: loss=4482.5668, time=10.43s\n",
            "iter 8000: dev acc=0.2162\n",
            "new highscore\n",
            "Shuffling training data\n",
            "Iter 9000: loss=4142.5974, time=11.73s\n",
            "iter 9000: dev acc=0.2180\n",
            "new highscore\n",
            "Iter 10000: loss=4154.6569, time=13.09s\n",
            "iter 10000: dev acc=0.2271\n",
            "new highscore\n",
            "Iter 11000: loss=4076.0541, time=14.46s\n",
            "iter 11000: dev acc=0.2216\n",
            "Iter 12000: loss=4169.8879, time=15.75s\n",
            "iter 12000: dev acc=0.2252\n",
            "Iter 13000: loss=4136.2652, time=17.03s\n",
            "iter 13000: dev acc=0.2280\n",
            "new highscore\n",
            "Iter 14000: loss=3871.7367, time=18.38s\n",
            "iter 14000: dev acc=0.2298\n",
            "new highscore\n",
            "Iter 15000: loss=3915.7156, time=19.67s\n",
            "iter 15000: dev acc=0.2307\n",
            "new highscore\n",
            "Iter 16000: loss=3786.9445, time=20.96s\n",
            "iter 16000: dev acc=0.2298\n",
            "Iter 17000: loss=3954.0682, time=22.25s\n",
            "iter 17000: dev acc=0.2334\n",
            "new highscore\n",
            "Shuffling training data\n",
            "Iter 18000: loss=3649.8283, time=23.54s\n",
            "iter 18000: dev acc=0.2352\n",
            "new highscore\n",
            "Iter 19000: loss=3438.0283, time=24.99s\n",
            "iter 19000: dev acc=0.2352\n",
            "Iter 20000: loss=3667.0962, time=26.42s\n",
            "iter 20000: dev acc=0.2416\n",
            "new highscore\n",
            "Iter 21000: loss=3481.3862, time=27.72s\n",
            "iter 21000: dev acc=0.2425\n",
            "new highscore\n",
            "Iter 22000: loss=3547.3066, time=28.95s\n",
            "iter 22000: dev acc=0.2470\n",
            "new highscore\n",
            "Iter 23000: loss=3406.0839, time=30.26s\n",
            "iter 23000: dev acc=0.2434\n",
            "Iter 24000: loss=3586.9463, time=31.53s\n",
            "iter 24000: dev acc=0.2489\n",
            "new highscore\n",
            "Iter 25000: loss=3292.2357, time=32.86s\n",
            "iter 25000: dev acc=0.2461\n",
            "Shuffling training data\n",
            "Iter 26000: loss=3317.0041, time=34.23s\n",
            "iter 26000: dev acc=0.2470\n",
            "Iter 27000: loss=3045.2630, time=35.53s\n",
            "iter 27000: dev acc=0.2489\n",
            "Iter 28000: loss=3319.6807, time=36.92s\n",
            "iter 28000: dev acc=0.2452\n",
            "Iter 29000: loss=3207.3432, time=38.34s\n",
            "iter 29000: dev acc=0.2525\n",
            "new highscore\n",
            "Iter 30000: loss=3045.4587, time=39.72s\n",
            "iter 30000: dev acc=0.2543\n",
            "new highscore\n",
            "Iter 31000: loss=3061.3180, time=41.00s\n",
            "iter 31000: dev acc=0.2552\n",
            "new highscore\n",
            "Iter 32000: loss=3226.1187, time=42.35s\n",
            "iter 32000: dev acc=0.2607\n",
            "new highscore\n",
            "Iter 33000: loss=3117.3982, time=43.61s\n",
            "iter 33000: dev acc=0.2570\n",
            "Iter 34000: loss=2971.4786, time=44.98s\n",
            "iter 34000: dev acc=0.2607\n",
            "Shuffling training data\n",
            "Iter 35000: loss=2857.3811, time=46.32s\n",
            "iter 35000: dev acc=0.2643\n",
            "new highscore\n",
            "Iter 36000: loss=2832.3580, time=47.59s\n",
            "iter 36000: dev acc=0.2643\n",
            "Iter 37000: loss=2988.3324, time=48.98s\n",
            "iter 37000: dev acc=0.2643\n",
            "Iter 38000: loss=2770.7629, time=50.23s\n",
            "iter 38000: dev acc=0.2670\n",
            "new highscore\n",
            "Iter 39000: loss=2627.1894, time=51.46s\n",
            "iter 39000: dev acc=0.2707\n",
            "new highscore\n",
            "Iter 40000: loss=2775.8069, time=52.70s\n",
            "iter 40000: dev acc=0.2661\n",
            "Iter 41000: loss=2784.0615, time=53.97s\n",
            "iter 41000: dev acc=0.2652\n",
            "Iter 42000: loss=2811.5933, time=55.19s\n",
            "iter 42000: dev acc=0.2652\n",
            "Shuffling training data\n",
            "Iter 43000: loss=2596.1162, time=56.45s\n",
            "iter 43000: dev acc=0.2643\n",
            "Iter 44000: loss=2610.1917, time=57.69s\n",
            "iter 44000: dev acc=0.2652\n",
            "Iter 45000: loss=2612.4857, time=58.92s\n",
            "iter 45000: dev acc=0.2688\n",
            "Iter 46000: loss=2484.8562, time=60.16s\n",
            "iter 46000: dev acc=0.2734\n",
            "new highscore\n",
            "Iter 47000: loss=2558.3473, time=61.54s\n",
            "iter 47000: dev acc=0.2752\n",
            "new highscore\n",
            "Iter 48000: loss=2313.6898, time=62.76s\n",
            "iter 48000: dev acc=0.2725\n",
            "Iter 49000: loss=2427.9295, time=63.99s\n",
            "iter 49000: dev acc=0.2761\n",
            "new highscore\n",
            "Iter 50000: loss=2404.8898, time=65.30s\n",
            "iter 50000: dev acc=0.2761\n",
            "Iter 51000: loss=2749.9564, time=66.57s\n",
            "iter 51000: dev acc=0.2770\n",
            "new highscore\n",
            "Shuffling training data\n",
            "Iter 52000: loss=2283.3326, time=67.82s\n",
            "iter 52000: dev acc=0.2788\n",
            "new highscore\n",
            "Iter 53000: loss=2218.2870, time=69.06s\n",
            "iter 53000: dev acc=0.2734\n",
            "Iter 54000: loss=2134.0617, time=70.30s\n",
            "iter 54000: dev acc=0.2770\n",
            "Iter 55000: loss=2568.2936, time=71.55s\n",
            "iter 55000: dev acc=0.2752\n",
            "Iter 56000: loss=2277.4174, time=72.78s\n",
            "iter 56000: dev acc=0.2797\n",
            "new highscore\n",
            "Iter 57000: loss=2314.3296, time=74.13s\n",
            "iter 57000: dev acc=0.2816\n",
            "new highscore\n",
            "Iter 58000: loss=2351.0910, time=75.36s\n",
            "iter 58000: dev acc=0.2770\n",
            "Iter 59000: loss=2206.3896, time=76.61s\n",
            "iter 59000: dev acc=0.2761\n",
            "Shuffling training data\n",
            "Iter 60000: loss=2327.3917, time=77.86s\n",
            "iter 60000: dev acc=0.2770\n",
            "Iter 61000: loss=2205.7447, time=79.09s\n",
            "iter 61000: dev acc=0.2807\n",
            "Iter 62000: loss=2013.0258, time=80.33s\n",
            "iter 62000: dev acc=0.2788\n",
            "Iter 63000: loss=2090.9928, time=81.57s\n",
            "iter 63000: dev acc=0.2825\n",
            "new highscore\n",
            "Iter 64000: loss=2077.6304, time=82.89s\n",
            "iter 64000: dev acc=0.2807\n",
            "Iter 65000: loss=2031.5083, time=84.12s\n",
            "iter 65000: dev acc=0.2852\n",
            "new highscore\n",
            "Iter 66000: loss=2012.6991, time=85.55s\n",
            "iter 66000: dev acc=0.2879\n",
            "new highscore\n",
            "Iter 67000: loss=2139.0685, time=86.99s\n",
            "iter 67000: dev acc=0.2861\n",
            "Iter 68000: loss=2117.8340, time=88.33s\n",
            "iter 68000: dev acc=0.2852\n",
            "Shuffling training data\n",
            "Iter 69000: loss=1966.3728, time=89.67s\n",
            "iter 69000: dev acc=0.2879\n",
            "Iter 70000: loss=1954.3913, time=91.10s\n",
            "iter 70000: dev acc=0.2943\n",
            "new highscore\n",
            "Iter 71000: loss=1965.5922, time=92.46s\n",
            "iter 71000: dev acc=0.2952\n",
            "new highscore\n",
            "Iter 72000: loss=1940.4477, time=93.86s\n",
            "iter 72000: dev acc=0.2943\n",
            "Iter 73000: loss=1892.1565, time=95.19s\n",
            "iter 73000: dev acc=0.2916\n",
            "Iter 74000: loss=1865.5039, time=96.46s\n",
            "iter 74000: dev acc=0.2952\n",
            "Iter 75000: loss=1890.5615, time=97.70s\n",
            "iter 75000: dev acc=0.2916\n",
            "Iter 76000: loss=1949.9652, time=99.01s\n",
            "iter 76000: dev acc=0.2943\n",
            "Shuffling training data\n",
            "Iter 77000: loss=1849.9436, time=100.25s\n",
            "iter 77000: dev acc=0.2925\n",
            "Iter 78000: loss=1819.9819, time=101.51s\n",
            "iter 78000: dev acc=0.2961\n",
            "new highscore\n",
            "Iter 79000: loss=1673.3656, time=102.74s\n",
            "iter 79000: dev acc=0.2988\n",
            "new highscore\n",
            "Iter 80000: loss=1756.6261, time=103.99s\n",
            "iter 80000: dev acc=0.2961\n",
            "Iter 81000: loss=1748.0113, time=105.27s\n",
            "iter 81000: dev acc=0.3006\n",
            "new highscore\n",
            "Iter 82000: loss=1819.7579, time=106.55s\n",
            "iter 82000: dev acc=0.2952\n",
            "Iter 83000: loss=1763.0686, time=107.86s\n",
            "iter 83000: dev acc=0.2997\n",
            "Iter 84000: loss=1835.0622, time=109.20s\n",
            "iter 84000: dev acc=0.2979\n",
            "Iter 85000: loss=1737.4623, time=110.48s\n",
            "iter 85000: dev acc=0.2979\n",
            "Shuffling training data\n",
            "Iter 86000: loss=1623.8427, time=111.84s\n",
            "iter 86000: dev acc=0.3025\n",
            "new highscore\n",
            "Iter 87000: loss=1645.1914, time=113.11s\n",
            "iter 87000: dev acc=0.2961\n",
            "Iter 88000: loss=1672.0357, time=114.47s\n",
            "iter 88000: dev acc=0.3015\n",
            "Iter 89000: loss=1567.7983, time=115.81s\n",
            "iter 89000: dev acc=0.3043\n",
            "new highscore\n",
            "Iter 90000: loss=1714.3766, time=117.15s\n",
            "iter 90000: dev acc=0.2961\n",
            "Iter 91000: loss=1571.9319, time=118.49s\n",
            "iter 91000: dev acc=0.3034\n",
            "Iter 92000: loss=1572.4815, time=119.73s\n",
            "iter 92000: dev acc=0.3061\n",
            "new highscore\n",
            "Iter 93000: loss=1610.0389, time=121.00s\n",
            "iter 93000: dev acc=0.3070\n",
            "new highscore\n",
            "Shuffling training data\n",
            "Iter 94000: loss=1642.4541, time=122.36s\n",
            "iter 94000: dev acc=0.3079\n",
            "new highscore\n",
            "Iter 95000: loss=1499.3382, time=123.63s\n",
            "iter 95000: dev acc=0.3088\n",
            "new highscore\n",
            "Iter 96000: loss=1489.5299, time=124.94s\n",
            "iter 96000: dev acc=0.3106\n",
            "new highscore\n",
            "Iter 97000: loss=1409.3306, time=126.18s\n",
            "iter 97000: dev acc=0.3097\n",
            "Iter 98000: loss=1539.4400, time=127.51s\n",
            "iter 98000: dev acc=0.3097\n",
            "Iter 99000: loss=1496.3251, time=128.79s\n",
            "iter 99000: dev acc=0.3152\n",
            "new highscore\n",
            "Iter 100000: loss=1563.0211, time=130.03s\n",
            "iter 100000: dev acc=0.3161\n",
            "new highscore\n",
            "Iter 101000: loss=1465.6880, time=131.25s\n",
            "iter 101000: dev acc=0.3170\n",
            "new highscore\n",
            "Iter 102000: loss=1519.3864, time=132.48s\n",
            "iter 102000: dev acc=0.3124\n",
            "Shuffling training data\n",
            "Iter 103000: loss=1415.9460, time=133.88s\n",
            "iter 103000: dev acc=0.3115\n",
            "Iter 104000: loss=1397.5971, time=135.11s\n",
            "iter 104000: dev acc=0.3124\n",
            "Iter 105000: loss=1427.8924, time=136.35s\n",
            "iter 105000: dev acc=0.3124\n",
            "Iter 106000: loss=1318.4887, time=137.61s\n",
            "iter 106000: dev acc=0.3088\n",
            "Iter 107000: loss=1520.8711, time=139.01s\n",
            "iter 107000: dev acc=0.3097\n",
            "Iter 108000: loss=1349.4820, time=140.23s\n",
            "iter 108000: dev acc=0.3124\n",
            "Iter 109000: loss=1361.0055, time=141.50s\n",
            "iter 109000: dev acc=0.3097\n",
            "Iter 110000: loss=1409.0278, time=142.89s\n",
            "iter 110000: dev acc=0.3124\n",
            "Iter 111000: loss=1308.3726, time=144.24s\n",
            "iter 111000: dev acc=0.3143\n",
            "Shuffling training data\n",
            "Iter 112000: loss=1336.3798, time=145.57s\n",
            "iter 112000: dev acc=0.3115\n",
            "Iter 113000: loss=1293.5558, time=147.07s\n",
            "iter 113000: dev acc=0.3124\n",
            "Iter 114000: loss=1292.9066, time=148.44s\n",
            "iter 114000: dev acc=0.3115\n",
            "Iter 115000: loss=1214.8843, time=149.69s\n",
            "iter 115000: dev acc=0.3134\n",
            "Iter 116000: loss=1202.8685, time=151.09s\n",
            "iter 116000: dev acc=0.3079\n",
            "Iter 117000: loss=1303.5050, time=152.39s\n",
            "iter 117000: dev acc=0.3124\n",
            "Iter 118000: loss=1339.9861, time=153.64s\n",
            "iter 118000: dev acc=0.3152\n",
            "Iter 119000: loss=1301.1948, time=154.87s\n",
            "iter 119000: dev acc=0.3088\n",
            "Shuffling training data\n",
            "Iter 120000: loss=1306.6343, time=156.11s\n",
            "iter 120000: dev acc=0.3170\n",
            "Iter 121000: loss=1141.8041, time=157.35s\n",
            "iter 121000: dev acc=0.3152\n",
            "Stopping early because there was no improvement for 20000 steps\n",
            "Done training\n",
            "Loading best model\n",
            "best model iter 101000: train acc=0.5490, dev acc=0.3170, test acc=0.3222\n",
            "Training new model with seed 2\n",
            "==================================================\n",
            "Shuffling training data\n",
            "Iter 1000: loss=5087.9889, time=0.97s\n",
            "iter 1000: dev acc=0.2007\n",
            "new highscore\n",
            "Iter 2000: loss=4643.9402, time=2.28s\n",
            "iter 2000: dev acc=0.2007\n",
            "Iter 3000: loss=4827.9722, time=3.60s\n",
            "iter 3000: dev acc=0.2134\n",
            "new highscore\n",
            "Iter 4000: loss=4551.0075, time=4.88s\n",
            "iter 4000: dev acc=0.2180\n",
            "new highscore\n",
            "Iter 5000: loss=4632.2668, time=6.13s\n",
            "iter 5000: dev acc=0.2189\n",
            "new highscore\n",
            "Iter 6000: loss=4345.8743, time=7.45s\n",
            "iter 6000: dev acc=0.2207\n",
            "new highscore\n",
            "Iter 7000: loss=4528.3902, time=8.90s\n",
            "iter 7000: dev acc=0.2271\n",
            "new highscore\n",
            "Iter 8000: loss=4503.7135, time=10.15s\n",
            "iter 8000: dev acc=0.2234\n",
            "Shuffling training data\n",
            "Iter 9000: loss=4508.6420, time=11.55s\n",
            "iter 9000: dev acc=0.2234\n",
            "Iter 10000: loss=4110.3444, time=12.88s\n",
            "iter 10000: dev acc=0.2234\n",
            "Iter 11000: loss=4001.9668, time=14.11s\n",
            "iter 11000: dev acc=0.2289\n",
            "new highscore\n",
            "Iter 12000: loss=4021.6519, time=15.44s\n",
            "iter 12000: dev acc=0.2307\n",
            "new highscore\n",
            "Iter 13000: loss=3894.3240, time=16.70s\n",
            "iter 13000: dev acc=0.2307\n",
            "Iter 14000: loss=3885.1459, time=17.97s\n",
            "iter 14000: dev acc=0.2325\n",
            "new highscore\n",
            "Iter 15000: loss=3766.2234, time=19.22s\n",
            "iter 15000: dev acc=0.2361\n",
            "new highscore\n",
            "Iter 16000: loss=4049.2556, time=20.45s\n",
            "iter 16000: dev acc=0.2407\n",
            "new highscore\n",
            "Iter 17000: loss=3802.2135, time=21.69s\n",
            "iter 17000: dev acc=0.2425\n",
            "new highscore\n",
            "Shuffling training data\n",
            "Iter 18000: loss=3525.7120, time=22.93s\n",
            "iter 18000: dev acc=0.2416\n",
            "Iter 19000: loss=3504.3586, time=24.20s\n",
            "iter 19000: dev acc=0.2461\n",
            "new highscore\n",
            "Iter 20000: loss=3590.0943, time=25.49s\n",
            "iter 20000: dev acc=0.2434\n",
            "Iter 21000: loss=3577.3689, time=26.77s\n",
            "iter 21000: dev acc=0.2425\n",
            "Iter 22000: loss=3446.1875, time=28.07s\n",
            "iter 22000: dev acc=0.2498\n",
            "new highscore\n",
            "Iter 23000: loss=3511.5171, time=29.33s\n",
            "iter 23000: dev acc=0.2525\n",
            "new highscore\n",
            "Iter 24000: loss=3427.4513, time=30.60s\n",
            "iter 24000: dev acc=0.2552\n",
            "new highscore\n",
            "Iter 25000: loss=3364.9880, time=32.06s\n",
            "iter 25000: dev acc=0.2589\n",
            "new highscore\n",
            "Shuffling training data\n",
            "Iter 26000: loss=3082.7774, time=33.60s\n",
            "iter 26000: dev acc=0.2589\n",
            "Iter 27000: loss=3056.7389, time=35.01s\n",
            "iter 27000: dev acc=0.2534\n",
            "Iter 28000: loss=3062.9213, time=36.35s\n",
            "iter 28000: dev acc=0.2570\n",
            "Iter 29000: loss=3018.9341, time=37.67s\n",
            "iter 29000: dev acc=0.2552\n",
            "Iter 30000: loss=3137.3549, time=38.92s\n",
            "iter 30000: dev acc=0.2616\n",
            "new highscore\n",
            "Iter 31000: loss=3016.0651, time=40.27s\n",
            "iter 31000: dev acc=0.2698\n",
            "new highscore\n",
            "Iter 32000: loss=3192.5623, time=41.63s\n",
            "iter 32000: dev acc=0.2698\n",
            "Iter 33000: loss=3115.7970, time=42.92s\n",
            "iter 33000: dev acc=0.2743\n",
            "new highscore\n",
            "Iter 34000: loss=2966.1961, time=44.27s\n",
            "iter 34000: dev acc=0.2725\n",
            "Shuffling training data\n",
            "Iter 35000: loss=2832.0149, time=45.70s\n",
            "iter 35000: dev acc=0.2725\n",
            "Iter 36000: loss=2833.7531, time=47.09s\n",
            "iter 36000: dev acc=0.2743\n",
            "Iter 37000: loss=2898.5262, time=48.34s\n",
            "iter 37000: dev acc=0.2752\n",
            "new highscore\n",
            "Iter 38000: loss=2823.1578, time=49.57s\n",
            "iter 38000: dev acc=0.2816\n",
            "new highscore\n",
            "Iter 39000: loss=2633.5678, time=50.81s\n",
            "iter 39000: dev acc=0.2861\n",
            "new highscore\n",
            "Iter 40000: loss=2747.3455, time=52.06s\n",
            "iter 40000: dev acc=0.2852\n",
            "Iter 41000: loss=2745.9904, time=53.31s\n",
            "iter 41000: dev acc=0.2834\n",
            "Iter 42000: loss=2574.1866, time=54.56s\n",
            "iter 42000: dev acc=0.2852\n",
            "Shuffling training data\n",
            "Iter 43000: loss=2631.1669, time=55.89s\n",
            "iter 43000: dev acc=0.2852\n",
            "Iter 44000: loss=2623.2192, time=57.13s\n",
            "iter 44000: dev acc=0.2825\n",
            "Iter 45000: loss=2424.9483, time=58.46s\n",
            "iter 45000: dev acc=0.2870\n",
            "new highscore\n",
            "Iter 46000: loss=2488.3970, time=59.76s\n",
            "iter 46000: dev acc=0.2843\n",
            "Iter 47000: loss=2588.7750, time=61.10s\n",
            "iter 47000: dev acc=0.2888\n",
            "new highscore\n",
            "Iter 48000: loss=2550.2537, time=62.51s\n",
            "iter 48000: dev acc=0.2934\n",
            "new highscore\n",
            "Iter 49000: loss=2325.8793, time=63.77s\n",
            "iter 49000: dev acc=0.2934\n",
            "Iter 50000: loss=2374.1278, time=65.10s\n",
            "iter 50000: dev acc=0.2979\n",
            "new highscore\n",
            "Iter 51000: loss=2425.5643, time=66.43s\n",
            "iter 51000: dev acc=0.2979\n",
            "Shuffling training data\n",
            "Iter 52000: loss=2308.9945, time=67.68s\n",
            "iter 52000: dev acc=0.2979\n",
            "Iter 53000: loss=2206.0053, time=69.01s\n",
            "iter 53000: dev acc=0.3043\n",
            "new highscore\n",
            "Iter 54000: loss=2259.4365, time=70.32s\n",
            "iter 54000: dev acc=0.3097\n",
            "new highscore\n",
            "Iter 55000: loss=2323.7497, time=71.68s\n",
            "iter 55000: dev acc=0.3079\n",
            "Iter 56000: loss=2091.0777, time=73.02s\n",
            "iter 56000: dev acc=0.3079\n",
            "Iter 57000: loss=2256.7523, time=74.25s\n",
            "iter 57000: dev acc=0.3106\n",
            "new highscore\n",
            "Iter 58000: loss=2264.0628, time=75.47s\n",
            "iter 58000: dev acc=0.3134\n",
            "new highscore\n",
            "Iter 59000: loss=2286.2607, time=76.75s\n",
            "iter 59000: dev acc=0.3124\n",
            "Shuffling training data\n",
            "Iter 60000: loss=2219.1409, time=77.99s\n",
            "iter 60000: dev acc=0.3124\n",
            "Iter 61000: loss=2109.4427, time=79.25s\n",
            "iter 61000: dev acc=0.3124\n",
            "Iter 62000: loss=2040.1549, time=80.48s\n",
            "iter 62000: dev acc=0.3152\n",
            "new highscore\n",
            "Iter 63000: loss=2103.2999, time=81.76s\n",
            "iter 63000: dev acc=0.3115\n",
            "Iter 64000: loss=2092.3784, time=83.13s\n",
            "iter 64000: dev acc=0.3088\n",
            "Iter 65000: loss=2096.2786, time=84.45s\n",
            "iter 65000: dev acc=0.3079\n",
            "Iter 66000: loss=2048.7877, time=85.79s\n",
            "iter 66000: dev acc=0.3115\n",
            "Iter 67000: loss=1871.0599, time=87.14s\n",
            "iter 67000: dev acc=0.3097\n",
            "Iter 68000: loss=2023.9145, time=88.47s\n",
            "iter 68000: dev acc=0.3079\n",
            "Shuffling training data\n",
            "Iter 69000: loss=2014.4275, time=89.81s\n",
            "iter 69000: dev acc=0.3106\n",
            "Iter 70000: loss=1843.3419, time=91.09s\n",
            "iter 70000: dev acc=0.3088\n",
            "Iter 71000: loss=1856.8599, time=92.43s\n",
            "iter 71000: dev acc=0.3143\n",
            "Iter 72000: loss=1857.4524, time=93.79s\n",
            "iter 72000: dev acc=0.3188\n",
            "new highscore\n",
            "Iter 73000: loss=1771.7404, time=95.02s\n",
            "iter 73000: dev acc=0.3152\n",
            "Iter 74000: loss=1892.7361, time=96.33s\n",
            "iter 74000: dev acc=0.3143\n",
            "Iter 75000: loss=1926.4628, time=97.72s\n",
            "iter 75000: dev acc=0.3161\n",
            "Iter 76000: loss=1844.6261, time=99.04s\n",
            "iter 76000: dev acc=0.3224\n",
            "new highscore\n",
            "Shuffling training data\n",
            "Iter 77000: loss=1964.5827, time=100.29s\n",
            "iter 77000: dev acc=0.3288\n",
            "new highscore\n",
            "Iter 78000: loss=1665.0879, time=101.60s\n",
            "iter 78000: dev acc=0.3261\n",
            "Iter 79000: loss=1766.1141, time=102.90s\n",
            "iter 79000: dev acc=0.3233\n",
            "Iter 80000: loss=1759.2008, time=104.15s\n",
            "iter 80000: dev acc=0.3270\n",
            "Iter 81000: loss=1826.6837, time=105.51s\n",
            "iter 81000: dev acc=0.3324\n",
            "new highscore\n",
            "Iter 82000: loss=1722.5923, time=106.84s\n",
            "iter 82000: dev acc=0.3261\n",
            "Iter 83000: loss=1689.0863, time=108.12s\n",
            "iter 83000: dev acc=0.3270\n",
            "Iter 84000: loss=1615.2339, time=109.39s\n",
            "iter 84000: dev acc=0.3333\n",
            "new highscore\n",
            "Iter 85000: loss=1708.5323, time=110.73s\n",
            "iter 85000: dev acc=0.3224\n",
            "Shuffling training data\n",
            "Iter 86000: loss=1710.0623, time=112.14s\n",
            "iter 86000: dev acc=0.3243\n",
            "Iter 87000: loss=1628.9270, time=113.41s\n",
            "iter 87000: dev acc=0.3324\n",
            "Iter 88000: loss=1502.5178, time=114.67s\n",
            "iter 88000: dev acc=0.3342\n",
            "new highscore\n",
            "Iter 89000: loss=1576.1861, time=115.92s\n",
            "iter 89000: dev acc=0.3361\n",
            "new highscore\n",
            "Iter 90000: loss=1541.5525, time=117.25s\n",
            "iter 90000: dev acc=0.3406\n",
            "new highscore\n",
            "Iter 91000: loss=1672.6537, time=118.49s\n",
            "iter 91000: dev acc=0.3288\n",
            "Iter 92000: loss=1607.1504, time=119.72s\n",
            "iter 92000: dev acc=0.3261\n",
            "Iter 93000: loss=1566.2720, time=121.18s\n",
            "iter 93000: dev acc=0.3270\n",
            "Shuffling training data\n",
            "Iter 94000: loss=1612.3327, time=122.49s\n",
            "iter 94000: dev acc=0.3261\n",
            "Iter 95000: loss=1385.7244, time=123.73s\n",
            "iter 95000: dev acc=0.3315\n",
            "Iter 96000: loss=1434.1842, time=125.05s\n",
            "iter 96000: dev acc=0.3324\n",
            "Iter 97000: loss=1515.1596, time=126.39s\n",
            "iter 97000: dev acc=0.3297\n",
            "Iter 98000: loss=1476.5007, time=127.63s\n",
            "iter 98000: dev acc=0.3333\n",
            "Iter 99000: loss=1427.1491, time=128.86s\n",
            "iter 99000: dev acc=0.3315\n",
            "Iter 100000: loss=1531.9677, time=130.11s\n",
            "iter 100000: dev acc=0.3306\n",
            "Iter 101000: loss=1445.3010, time=131.43s\n",
            "iter 101000: dev acc=0.3315\n",
            "Iter 102000: loss=1519.4819, time=132.65s\n",
            "iter 102000: dev acc=0.3333\n",
            "Shuffling training data\n",
            "Iter 103000: loss=1404.4551, time=133.88s\n",
            "iter 103000: dev acc=0.3342\n",
            "Iter 104000: loss=1357.8430, time=135.20s\n",
            "iter 104000: dev acc=0.3388\n",
            "Iter 105000: loss=1360.8229, time=136.45s\n",
            "iter 105000: dev acc=0.3361\n",
            "Iter 106000: loss=1304.6703, time=137.67s\n",
            "iter 106000: dev acc=0.3406\n",
            "Iter 107000: loss=1401.3762, time=138.97s\n",
            "iter 107000: dev acc=0.3370\n",
            "Iter 108000: loss=1393.9590, time=140.21s\n",
            "iter 108000: dev acc=0.3361\n",
            "Iter 109000: loss=1308.4058, time=141.44s\n",
            "iter 109000: dev acc=0.3388\n",
            "Iter 110000: loss=1332.1746, time=142.87s\n",
            "iter 110000: dev acc=0.3379\n",
            "Stopping early because there was no improvement for 20000 steps\n",
            "Done training\n",
            "Loading best model\n",
            "best model iter 90000: train acc=0.5324, dev acc=0.3406, test acc=0.3303\n",
            "Test accuracy: 0.3244343891402715 +- 0.00419620746402519\n"
          ],
          "name": "stdout"
        }
      ]
    },
    {
      "cell_type": "code",
      "metadata": {
        "id": "RBhQ4oR78xYe"
      },
      "source": [
        "def plot_results(losses, accuracies, filename=None):\n",
        "    plt.figure(figsize=(12, 6))\n",
        "    plt.subplot(1, 2, 1)\n",
        "    for run in losses:\n",
        "        plt.plot(run)\n",
        "    plt.xlabel(\"Steps (in thousand)\")\n",
        "    plt.ylabel(\"Loss\")\n",
        "    plt.subplot(1, 2, 2)\n",
        "    for run in accuracies:\n",
        "        plt.plot(run)\n",
        "    plt.xlabel(\"Steps (in thousand)\")\n",
        "    plt.ylabel(\"Accuracy\")\n",
        "\n",
        "    if filename is not None:\n",
        "        os.makedirs(os.path.dirname(filename), exist_ok=True)\n",
        "        plt.savefig(filename)"
      ],
      "execution_count": 79,
      "outputs": []
    },
    {
      "cell_type": "code",
      "metadata": {
        "id": "dvYLj8LIAzfS",
        "colab": {
          "base_uri": "https://localhost:8080/",
          "height": 542
        },
        "outputId": "8e28c70c-74ac-4c31-dd40-d4fa46f72567"
      },
      "source": [
        "# This will plot the validation accuracies across time.\n",
        "plot_results(bow_losses, bow_accuracies, \"fig/bow.pdf\")"
      ],
      "execution_count": 83,
      "outputs": [
        {
          "output_type": "display_data",
          "data": {
            "image/png": "[encoded data removed]",
            "text/plain": [
              "<Figure size 1200x600 with 2 Axes>"
            ]
          },
          "metadata": {
            "tags": []
          }
        }
      ]
    },
    {
      "cell_type": "markdown",
      "metadata": {
        "id": "Psxh-Le1BMDQ"
      },
      "source": [
        "Please note that we set the number of iterations to 30K as an indicative value, after which we simply stop training without checking for convergence. You should choose an appropriate number of iterations and motivate your decision. **This holds for all pre-set numbers of iteration in the following code blocks.**"
      ]
    },
    {
      "cell_type": "markdown",
      "metadata": {
        "id": "E9mB1_XhMPNN"
      },
      "source": [
        "# CBOW"
      ]
    },
    {
      "cell_type": "markdown",
      "metadata": {
        "id": "pWk78FvNMw4o"
      },
      "source": [
        "We now continue with a **continuous bag-of-words (CBOW)** model. (*This is not the same as the word2vec CBOW model!*)\n",
        "\n",
        "It is similar to the BOW model above, but now embeddings can have a dimension of *arbitrary size*. \n",
        "This means that we can choose a higher dimensionality and learn more aspects of each word. We will still sum word vectors to get a sentence representation, but now the size of the resulting vector will no longer correspond to the number of sentiment classes. \n",
        "\n",
        "So to turn the size of our summed vector into the number of output classes, we can *learn* a parameter matrix $W$ and multiply it by the sum vector $x$: $$Wx$$\n",
        "If the size of $x$ is `d x 1`, we can set $W$ to be `5 x d`, so that the output of the matrix multiplication will be the of the desired size, `5 x 1`. Then, just like for the BOW model, we can obtain a prediction using the argmax function."
      ]
    },
    {
      "cell_type": "markdown",
      "metadata": {
        "id": "gIjrCPfCwsXI"
      },
      "source": [
        "## Exercise: implement and train the CBOW model\n",
        "\n",
        "Write a class `CBOW` that:\n",
        "\n",
        "- has word embeddings with size 300\n",
        "- sums the word vectors for the input words (just like in `BOW`)\n",
        "- projects the resulting vector down to 5 units using a linear layer and a bias term (check out `nn.Linear`)\n",
        "\n",
        "Train your CBOW model and plot the validation accuracy and training loss over time."
      ]
    },
    {
      "cell_type": "code",
      "metadata": {
        "id": "PEV22aR2MP0Q"
      },
      "source": [
        "# YOUR CODE HERE\n",
        "\n",
        "class CBOW(nn.Module):\n",
        "    \n",
        "    def __init__(self, vocab_size, embedding_dim, vocab, num_classes):\n",
        "        super(CBOW, self).__init__()\n",
        "        \n",
        "        self.vocab = vocab\n",
        "\n",
        "        # this is a trainable look-up table with word embeddings\n",
        "        self.embed = nn.Embedding(vocab_size, embedding_dim)\n",
        "\n",
        "        # linear projection layer\n",
        "        self.linear = nn.Linear(embedding_dim, num_classes)\n",
        "        \n",
        "        \n",
        "    def forward(self, inputs):\n",
        "        # this is the forward pass of the neural network\n",
        "        # it applies a function to the input and returns the output\n",
        "\n",
        "        # this looks up the embeddings for each word ID in inputs\n",
        "        # the result is a sequence of word embeddings\n",
        "        embeds = self.embed(inputs)\n",
        "\n",
        "        # project from embedding to output space\n",
        "        out = self.linear(embeds)\n",
        "        \n",
        "        # the output is the sum across the time dimension (1)\n",
        "        # with the bias term added\n",
        "        logits = out.sum(1)\n",
        "\n",
        "        return logits\n"
      ],
      "execution_count": 36,
      "outputs": []
    },
    {
      "cell_type": "code",
      "metadata": {
        "id": "Ui2g8jStFqnT",
        "colab": {
          "base_uri": "https://localhost:8080/"
        },
        "outputId": "f0ebe71d-a7ac-487c-b17e-8b5d69403efa"
      },
      "source": [
        "NUM_CLASSES = 5\n",
        "EMBED_DIM = 300\n",
        "# train CBOW\n",
        "\n",
        "cbow_losses, cbow_accuracies, cbow_best_accs = train_loop(\n",
        "    lambda: CBOW(len(v.w2i), EMBED_DIM, vocab=v, num_classes=NUM_CLASSES).to(device),\n",
        "    lambda model: optim.Adam(model.parameters(), lr=0.0005),\n",
        "    num_iterations=0, print_every=1000, eval_every=1000, patience=20)"
      ],
      "execution_count": 47,
      "outputs": [
        {
          "output_type": "stream",
          "text": [
            "CBOW(\n",
            "  (embed): Embedding(18280, 300)\n",
            "  (linear): Linear(in_features=300, out_features=5, bias=True)\n",
            ")\n",
            "Shuffling training data\n",
            "Iter 1000: loss=2792.6084, time=3.00s\n",
            "iter 1000: dev acc=0.2361\n",
            "new highscore\n",
            "Iter 2000: loss=2305.9903, time=6.50s\n",
            "iter 2000: dev acc=0.2607\n",
            "new highscore\n",
            "Iter 3000: loss=2107.6914, time=10.04s\n",
            "iter 3000: dev acc=0.2570\n",
            "Iter 4000: loss=2034.0056, time=13.37s\n",
            "iter 4000: dev acc=0.2770\n",
            "new highscore\n",
            "Iter 5000: loss=1920.1800, time=16.92s\n",
            "iter 5000: dev acc=0.3006\n",
            "new highscore\n",
            "Iter 6000: loss=1943.7141, time=20.48s\n",
            "iter 6000: dev acc=0.3152\n",
            "new highscore\n",
            "Iter 7000: loss=1859.6490, time=23.95s\n",
            "iter 7000: dev acc=0.2825\n",
            "Iter 8000: loss=1843.9017, time=27.37s\n",
            "iter 8000: dev acc=0.2834\n",
            "Shuffling training data\n",
            "Iter 9000: loss=1734.3594, time=30.78s\n",
            "iter 9000: dev acc=0.2943\n",
            "Iter 10000: loss=1606.4291, time=34.17s\n",
            "iter 10000: dev acc=0.3143\n",
            "Iter 11000: loss=1641.6246, time=37.53s\n",
            "iter 11000: dev acc=0.3170\n",
            "new highscore\n",
            "Iter 12000: loss=1599.6880, time=41.05s\n",
            "iter 12000: dev acc=0.3097\n",
            "Iter 13000: loss=1652.7661, time=44.42s\n",
            "iter 13000: dev acc=0.2970\n",
            "Iter 14000: loss=1669.9496, time=47.82s\n",
            "iter 14000: dev acc=0.2916\n",
            "Iter 15000: loss=1606.0017, time=51.19s\n",
            "iter 15000: dev acc=0.2934\n",
            "Iter 16000: loss=1612.8594, time=54.51s\n",
            "iter 16000: dev acc=0.3143\n",
            "Iter 17000: loss=1630.8504, time=57.88s\n",
            "iter 17000: dev acc=0.3079\n",
            "Shuffling training data\n",
            "Iter 18000: loss=1321.8288, time=61.21s\n",
            "iter 18000: dev acc=0.3043\n",
            "Iter 19000: loss=1315.5358, time=64.62s\n",
            "iter 19000: dev acc=0.3297\n",
            "new highscore\n",
            "Iter 20000: loss=1291.7773, time=68.24s\n",
            "iter 20000: dev acc=0.3179\n",
            "Iter 21000: loss=1372.1981, time=71.62s\n",
            "iter 21000: dev acc=0.3106\n",
            "Iter 22000: loss=1426.1335, time=74.96s\n",
            "iter 22000: dev acc=0.3406\n",
            "new highscore\n",
            "Iter 23000: loss=1342.3396, time=78.42s\n",
            "iter 23000: dev acc=0.3197\n",
            "Iter 24000: loss=1363.5574, time=81.73s\n",
            "iter 24000: dev acc=0.2970\n",
            "Iter 25000: loss=1341.3090, time=85.02s\n",
            "iter 25000: dev acc=0.3433\n",
            "new highscore\n",
            "Shuffling training data\n",
            "Iter 26000: loss=1161.7568, time=88.50s\n",
            "iter 26000: dev acc=0.2988\n",
            "Iter 27000: loss=913.5062, time=91.87s\n",
            "iter 27000: dev acc=0.3088\n",
            "Iter 28000: loss=1062.1197, time=95.20s\n",
            "iter 28000: dev acc=0.3270\n",
            "Iter 29000: loss=945.9639, time=98.59s\n",
            "iter 29000: dev acc=0.3115\n",
            "Iter 30000: loss=1105.0460, time=101.91s\n",
            "iter 30000: dev acc=0.3097\n",
            "Iter 31000: loss=1087.6839, time=105.28s\n",
            "iter 31000: dev acc=0.3442\n",
            "new highscore\n",
            "Iter 32000: loss=1029.9491, time=108.76s\n",
            "iter 32000: dev acc=0.3215\n",
            "Iter 33000: loss=1040.5410, time=112.13s\n",
            "iter 33000: dev acc=0.3079\n",
            "Iter 34000: loss=1183.8160, time=115.43s\n",
            "iter 34000: dev acc=0.3161\n",
            "Shuffling training data\n",
            "Iter 35000: loss=728.1967, time=118.76s\n",
            "iter 35000: dev acc=0.3115\n",
            "Iter 36000: loss=721.3108, time=122.11s\n",
            "iter 36000: dev acc=0.3043\n",
            "Iter 37000: loss=758.6424, time=125.43s\n",
            "iter 37000: dev acc=0.2879\n",
            "Iter 38000: loss=796.5958, time=128.76s\n",
            "iter 38000: dev acc=0.3152\n",
            "Iter 39000: loss=883.5222, time=132.06s\n",
            "iter 39000: dev acc=0.3361\n",
            "Iter 40000: loss=768.2118, time=135.35s\n",
            "iter 40000: dev acc=0.3279\n",
            "Iter 41000: loss=903.8823, time=138.68s\n",
            "iter 41000: dev acc=0.3288\n",
            "Iter 42000: loss=823.1140, time=142.02s\n",
            "iter 42000: dev acc=0.3061\n",
            "Shuffling training data\n",
            "Iter 43000: loss=832.7794, time=145.37s\n",
            "iter 43000: dev acc=0.3270\n",
            "Iter 44000: loss=546.3686, time=148.68s\n",
            "iter 44000: dev acc=0.3006\n",
            "Iter 45000: loss=554.3492, time=152.07s\n",
            "iter 45000: dev acc=0.3124\n",
            "Iter 46000: loss=531.8669, time=155.41s\n",
            "iter 46000: dev acc=0.3306\n",
            "Iter 47000: loss=582.7734, time=158.73s\n",
            "iter 47000: dev acc=0.3152\n",
            "Iter 48000: loss=644.4054, time=162.02s\n",
            "iter 48000: dev acc=0.3179\n",
            "Iter 49000: loss=615.0673, time=165.33s\n",
            "iter 49000: dev acc=0.3297\n",
            "Iter 50000: loss=681.6961, time=168.66s\n",
            "iter 50000: dev acc=0.3106\n",
            "Iter 51000: loss=699.7057, time=172.02s\n",
            "iter 51000: dev acc=0.3143\n",
            "Stopping early because there was no improvement for 20000 steps\n",
            "Done training\n",
            "Loading best model\n",
            "best model iter 31000: train acc=0.6993, dev acc=0.3442, test acc=0.3679\n"
          ],
          "name": "stdout"
        }
      ]
    },
    {
      "cell_type": "code",
      "metadata": {
        "id": "frXis2bS4vZz",
        "outputId": "1042edf8-7e59-466c-e5f4-939dbbf9a532",
        "colab": {
          "base_uri": "https://localhost:8080/",
          "height": 466
        }
      },
      "source": [
        "plot_results(cbow_losses, cbow_accuracies, \"fig/cbow.pdf\")"
      ],
      "execution_count": 44,
      "outputs": [
        {
          "output_type": "execute_result",
          "data": {
            "text/plain": [
              "Text(0, 0.5, 'Accuracy')"
            ]
          },
          "metadata": {
            "tags": []
          },
          "execution_count": 44
        },
        {
          "output_type": "display_data",
          "data": {
            "image/png": "[encoded data removed]",
            "text/plain": [
              "<Figure size 640x480 with 1 Axes>"
            ]
          },
          "metadata": {
            "tags": []
          }
        }
      ]
    },
    {
      "cell_type": "markdown",
      "metadata": {
        "id": "zpFt_Fo2TdN0"
      },
      "source": [
        "# Deep CBOW"
      ]
    },
    {
      "cell_type": "markdown",
      "metadata": {
        "id": "iZanOMesTfEZ"
      },
      "source": [
        "To see if we can squeeze some more performance out of the CBOW model, we can make it deeper and non-linear by adding more layers and, e.g., tanh-activations.\n",
        "By using more parameters we can learn more aspects of the data, and by using more layers and non-linearities, we can try to learn a more complex function. \n",
        "This is not something that always works. If the input-output mapping of your data is simple, then a complicated function could easily overfit on your training set, thereby leading to poor generalization. \n",
        "\n",
        "#### Exercise: write Deep CBOW class and train it\n",
        "\n",
        "Write a class `DeepCBOW`.\n",
        "\n",
        "In your code, make sure that your `output_layer` consists of the following:\n",
        "- A linear transformation from E units to D units.\n",
        "- A Tanh activation\n",
        "- A linear transformation from D units to D units\n",
        "- A Tanh activation\n",
        "- A linear transformation from D units to 5 units (our output classes).\n",
        "\n",
        "E is the size of the word embeddings (please use E=300) and D for the size of a hidden layer (please use D=100).\n",
        "\n",
        "We recommend using [nn.Sequential](https://pytorch.org/docs/stable/nn.html?highlight=sequential#torch.nn.Sequential) to implement this exercise."
      ]
    },
    {
      "cell_type": "code",
      "metadata": {
        "id": "l8Z1igvpTrZq"
      },
      "source": [
        "# YOUR CODE HERE\n",
        "\n",
        "class DeepCBOW(nn.Module):\n",
        "    \n",
        "    def __init__(self, vocab_size, embedding_dim, output_dim, num_hidden, vocab):\n",
        "        super(DeepCBOW, self).__init__()\n",
        "        \n",
        "        self.vocab = vocab\n",
        "\n",
        "        # this is a trainable look-up table with word embeddings\n",
        "        self.embed = nn.Embedding(vocab_size, embedding_dim)\n",
        "\n",
        "        # sequential model\n",
        "        self.net = nn.Sequential(self.embed, nn.Linear(embedding_dim, num_hidden), nn.Tanh(),\\\n",
        "                                 nn.Linear(num_hidden,num_hidden), nn.Tanh(), nn.Linear(num_hidden,output_dim))\n",
        "        \n",
        "    def forward(self, inputs):\n",
        "        \n",
        "        # pass through net\n",
        "        out = self.net(inputs)\n",
        "        \n",
        "        # the output is the sum across the time dimension (1)\n",
        "        # with the bias term added\n",
        "        logits = out.sum(1)\n",
        "\n",
        "        return logits\n"
      ],
      "execution_count": 40,
      "outputs": []
    },
    {
      "cell_type": "code",
      "metadata": {
        "id": "w9okYsC4FqnU",
        "colab": {
          "base_uri": "https://localhost:8080/",
          "height": 428
        },
        "outputId": "b7ce02d5-c460-49ea-fe1a-f676012a24fd"
      },
      "source": [
        "NUM_HIDDEN = 100\n",
        "# train DeepCBOW\n",
        "\n",
        "deep_cbow_losses, deep_cbow_accuracies, deep_cbow_best_accs = train_loop(\n",
        "    lambda: DeepCBOW(len(v.w2i), EMBED_DIM, output_dim=NUM_CLASSES, num_hidden=NUM_HIDDEN, vocab=v).to(device),\n",
        "    lambda model: optim.Adam(model.parameters(), lr=0.0005),\n",
        "    num_iterations=0, print_every=1000, eval_every=1000, patience=20)"
      ],
      "execution_count": 41,
      "outputs": [
        {
          "output_type": "stream",
          "text": [
            "DeepCBOW(\n",
            "  (embed): Embedding(18280, 300)\n",
            "  (net): Sequential(\n",
            "    (0): Embedding(18280, 300)\n",
            "    (1): Linear(in_features=300, out_features=100, bias=True)\n",
            "    (2): Tanh()\n",
            "    (3): Linear(in_features=100, out_features=100, bias=True)\n",
            "    (4): Tanh()\n",
            "    (5): Linear(in_features=100, out_features=5, bias=True)\n",
            "  )\n",
            ")\n"
          ],
          "name": "stdout"
        },
        {
          "output_type": "error",
          "ename": "NameError",
          "evalue": "ignored",
          "traceback": [
            "\u001b[0;31m---------------------------------------------------------------------------\u001b[0m",
            "\u001b[0;31mNameError\u001b[0m                                 Traceback (most recent call last)",
            "\u001b[0;32m<ipython-input-41-49e87d90239f>\u001b[0m in \u001b[0;36m<module>\u001b[0;34m()\u001b[0m\n\u001b[1;32m      7\u001b[0m \u001b[0;34m\u001b[0m\u001b[0m\n\u001b[1;32m      8\u001b[0m \u001b[0moptimizer\u001b[0m \u001b[0;34m=\u001b[0m \u001b[0moptim\u001b[0m\u001b[0;34m.\u001b[0m\u001b[0mAdam\u001b[0m\u001b[0;34m(\u001b[0m\u001b[0mdeep_cbow_model\u001b[0m\u001b[0;34m.\u001b[0m\u001b[0mparameters\u001b[0m\u001b[0;34m(\u001b[0m\u001b[0;34m)\u001b[0m\u001b[0;34m,\u001b[0m \u001b[0mlr\u001b[0m\u001b[0;34m=\u001b[0m\u001b[0;36m0.0005\u001b[0m\u001b[0;34m)\u001b[0m\u001b[0;34m\u001b[0m\u001b[0;34m\u001b[0m\u001b[0m\n\u001b[0;32m----> 9\u001b[0;31m deep_cbow_losses, deep_cbow_accuracies = train_model(\n\u001b[0m\u001b[1;32m     10\u001b[0m     \u001b[0mdeep_cbow_model\u001b[0m\u001b[0;34m,\u001b[0m \u001b[0moptimizer\u001b[0m\u001b[0;34m,\u001b[0m \u001b[0mnum_iterations\u001b[0m\u001b[0;34m=\u001b[0m\u001b[0;36m10000\u001b[0m\u001b[0;34m,\u001b[0m\u001b[0;34m\u001b[0m\u001b[0;34m\u001b[0m\u001b[0m\n\u001b[1;32m     11\u001b[0m     print_every=1000, eval_every=1000)\n",
            "\u001b[0;31mNameError\u001b[0m: name 'train_model' is not defined"
          ]
        }
      ]
    },
    {
      "cell_type": "code",
      "metadata": {
        "id": "MY2E4UCXD-6G"
      },
      "source": [
        "plot_results(deep_cbow_losses, deep_cbow_accuracies, \"fig/deep_cbow.pdf\")"
      ],
      "execution_count": null,
      "outputs": []
    },
    {
      "cell_type": "markdown",
      "metadata": {
        "id": "MQZ5flHwiiHY"
      },
      "source": [
        "# Pre-trained word embeddings"
      ]
    },
    {
      "cell_type": "markdown",
      "metadata": {
        "id": "9NX35vecmHy6"
      },
      "source": [
        "The Stanford Sentiment Treebank is a rather small data set, since it required fine-grained manual annotatation. This makes it difficult for the Deep CBOW model to learn good word embeddings, i.e. to learn good word representations for the words in our vocabulary.\n",
        "In fact, the only error signal that the network receives is from predicting the sentiment of entire sentences!\n",
        "\n",
        "To start off with better word representations, we can download **pre-trained word embeddings**. \n",
        "You can choose which pre-trained word embeddings to use:\n",
        "\n",
        "- **GloVe**. The \"original\" Stanford Sentiment classification [paper](http://aclweb.org/anthology/P/P15/P15-1150.pdf) used Glove embeddings, which are just another method (like *word2vec*) to get word embeddings from unannotated text. Glove is described in the following paper which you should cite if you use them:\n",
        "> Jeffrey Pennington, Richard Socher, and Christopher Manning. [\"Glove: Global vectors for word representation.\"](https://nlp.stanford.edu/pubs/glove.pdf) EMNLP 2014. \n",
        "\n",
        "- **Word2Vec**. This is the method that you learned about in class, described in:\n",
        "> Mikolov, Tomas, et al. [\"Distributed representations of words and phrases and their compositionality.\"](https://papers.nips.cc/paper/5021-distributed-representations-of-words-and-phrases-and-their-compositionality.pdf) Advances in neural information processing systems. 2013.\n",
        "\n",
        "Using these pre-trained word embeddings, we can initialize our word embedding lookup table and start form a point where similar words are already close to one another in the distributional semantic space. \n",
        "\n",
        "You can choose to keep the word embeddings **fixed** or to train them further, specialising them to the task at hand.\n",
        "We will keep them fixed for now.\n",
        "\n",
        "For the purposes of this lab, it is enough if you understand how word2vec works (whichever vectors you use), but if you are interested, we encourage you to also check out the GloVe paper.\n",
        "\n",
        "You can either download the word2vec vectors, or the Glove vectors.\n",
        "If you want to compare your results to the Stanford paper later on, then you should use Glove. \n",
        "**At the end of this lab you have the option to compare which vectors give you the best performance. For now, simply choose one of them and continue with that.**\n",
        "\n",
        "[**OPTIONAL in case you don't want to mount Google Drive:** instead of running all the 5 boxes below, you can 1) download the GloVe and word2vec in your local machine, 2) upload them on your Drive folder (\"My Drive\"). Then, uncomment the first 2 lines in box 6 before writing your code!]\n"
      ]
    },
    {
      "cell_type": "code",
      "metadata": {
        "id": "lGYr02WWO993"
      },
      "source": [
        "# This downloads the Glove 840B 300d embeddings.\n",
        "# The original file is at http://nlp.stanford.edu/data/glove.840B.300d.zip\n",
        "# Since that file is 2GB, we provide you with a *filtered version*\n",
        "# which contains all the words you need for this data set.\n",
        "\n",
        "# You only need to do this once.\n",
        "# Please comment this cell out after downloading.\n",
        "\n",
        "!wget https://gist.githubusercontent.com/bastings/b094de2813da58056a05e8e7950d4ad1/raw/3fbd3976199c2b88de2ae62afc0ecc6f15e6f7ce/glove.840B.300d.sst.txt"
      ],
      "execution_count": null,
      "outputs": []
    },
    {
      "cell_type": "code",
      "metadata": {
        "id": "6NLsgFGiTjmI"
      },
      "source": [
        "# This downloads the word2vec 300D Google News vectors \n",
        "# The file has been truncated to only contain words that appear in our data set.\n",
        "# You can find the original file here: https://code.google.com/archive/p/word2vec/\n",
        "\n",
        "# You only need to do this once.\n",
        "# Please comment this out after downloading.\n",
        "#!wget https://gist.githubusercontent.com/bastings/4d1c346c68969b95f2c34cfbc00ba0a0/raw/76b4fefc9ef635a79d0d8002522543bc53ca2683/googlenews.word2vec.300d.txt"
      ],
      "execution_count": null,
      "outputs": []
    },
    {
      "cell_type": "code",
      "metadata": {
        "cellView": "both",
        "id": "GXBITzPRQUQb"
      },
      "source": [
        "# Mount Google Drive (to save the downloaded files)\n",
        "from google.colab import drive\n",
        "drive.mount('/gdrive')"
      ],
      "execution_count": null,
      "outputs": []
    },
    {
      "cell_type": "code",
      "metadata": {
        "id": "uFvzPuiKSCbl"
      },
      "source": [
        "# Copy word vectors *to* Google Drive\n",
        "\n",
        "# You only need to do this once.\n",
        "# Please comment this out after running it. \n",
        "!cp \"glove.840B.300d.sst.txt\" \"/gdrive/My Drive/\"\n",
        "!cp \"googlenews.word2vec.300d.txt\" \"/gdrive/My Drive/\""
      ],
      "execution_count": null,
      "outputs": []
    },
    {
      "cell_type": "code",
      "metadata": {
        "id": "kUMH0bM6BuY9"
      },
      "source": [
        "# If you copied the word vectors to your Drive before,\n",
        "# here is where you copy them back to the Colab notebook.\n",
        "\n",
        "# Copy Glove vectors *from* Google Drive\n",
        "!cp \"/gdrive/My Drive/glove.840B.300d.sst.txt\" .\n",
        "!cp \"/gdrive/My Drive/googlenews.word2vec.300d.txt\" ."
      ],
      "execution_count": null,
      "outputs": []
    },
    {
      "cell_type": "code",
      "metadata": {
        "id": "xcpkoh6PIjfe"
      },
      "source": [
        "# Uncomment these 2 lines below if went for the OPTIONAL method described above\n",
        "# !cp \"glove.840B.300d.sst.txt\" \"./\"\n",
        "# !cp \"googlenews.word2vec.300d.txt\" \"./\""
      ],
      "execution_count": null,
      "outputs": []
    },
    {
      "cell_type": "markdown",
      "metadata": {
        "id": "MX2GJVHILM8n"
      },
      "source": [
        "At this point you have the pre-trained word embedding files, but what do they look like?"
      ]
    },
    {
      "cell_type": "code",
      "metadata": {
        "id": "dFaNNSp2FqnW"
      },
      "source": [
        "W2V_PATH = './googlenews.word2vec.300d.txt'"
      ],
      "execution_count": null,
      "outputs": []
    },
    {
      "cell_type": "code",
      "metadata": {
        "id": "ChsChH14Ruxn"
      },
      "source": [
        "# Exercise: Print the first 4 lines of the files that you downloaded.\n",
        "# What do you see?\n",
        "f = open(W2V_PATH)\n",
        "for i in range(4):\n",
        "    print(f.readline())\n",
        "f.close()"
      ],
      "execution_count": null,
      "outputs": []
    },
    {
      "cell_type": "markdown",
      "metadata": {
        "id": "WIVCkUkE_IjR"
      },
      "source": [
        "#### Exercise: New Vocabulary\n",
        "\n",
        "Since we now use pre-trained word embeddings, we need to create a new vocabulary. \n",
        "This is because of two reasons:\n",
        "\n",
        "1. We do not have pre-trained word embeddings for all words in our SST training set, and we do not want words in our vocabulary for which we have no word embeddings.\n",
        "2. We should be able to look up the pre-trained word embedding for words in the validation and test set, even if these words are unseen in training. \n",
        "\n",
        "Now, create a new vocabulary object `v` based on the word set of pre-trained embeddings, and load the corresponding embeddings into a list `vectors`.\n",
        "\n",
        "The vocabulary `v` should consist of:\n",
        " - a  `<unk>` token at position 0,\n",
        " - a  `<pad>` token at position 1, \n",
        " - and then all words in the pre-trained embedding set.\n",
        " \n",
        "\n",
        "After storing each vector in a list `vectors`, turn the list into a numpy matrix like this:\n",
        "```python\n",
        " vectors = np.stack(vectors, axis=0)\n",
        "```\n",
        "\n",
        "Remember to add new embeddings for the `<unk>` and `<pad>` tokens, as they're not part of the word2vec/GloVe embeddings. These embeddings can be randomly initialized or 0-valued, think about what makes sense and see what the effects are.\n",
        " "
      ]
    },
    {
      "cell_type": "code",
      "metadata": {
        "id": "ITyyCvDnCL4U"
      },
      "source": [
        "# YOUR CODE HERE\n",
        "# v = ...\n",
        "# vectors = ...\n",
        "\n",
        "vectors = [[0]*300, [0]*300] # first two vectors are embedding of <unk> and <pad>\n",
        "\n",
        "f = open(W2V_PATH)\n",
        "v = Vocabulary()\n",
        "for line in f:\n",
        "    line_list = line.split()\n",
        "    word = line_list[0]\n",
        "    vec = line_list[1:]\n",
        "    vec = [float(val) for val in vec]\n",
        "    vectors.append(vec)\n",
        "    v.count_token(word)\n",
        "    \n",
        "vectors = np.stack(vectors, axis=0)\n",
        "v.build()\n",
        "print(\"Vocabulary size:\", len(v.w2i))\n",
        "print('Vectors shape:',vectors.shape)\n",
        "print('Third vector:', vectors[2])"
      ],
      "execution_count": null,
      "outputs": []
    },
    {
      "cell_type": "markdown",
      "metadata": {
        "id": "xC-7mRyYNG9b"
      },
      "source": [
        "#### Exercise: words not in our pre-trained set\n",
        "\n",
        "How many words in the training, dev, and test set are also in your vector set?\n",
        "How many words are not there?\n",
        "\n",
        "Store the words that are not in the word vector set in the set below."
      ]
    },
    {
      "cell_type": "code",
      "metadata": {
        "id": "K6MA3-wF_X5M"
      },
      "source": [
        "words_not_found = set()\n",
        "# YOUR CODE HERE\n",
        "\n",
        "# get all words which are in the data we have\n",
        "known_words = set()\n",
        "all_sets = (train_data, dev_data, test_data)\n",
        "for data in all_sets:\n",
        "    for data_set in (data,):\n",
        "        for ex in data_set:\n",
        "            for token in ex.tokens:\n",
        "                known_words.add(token)\n",
        "\n",
        "# check for each word in v if it is known\n",
        "words_not_found = {word for word in v.w2i.keys() if word not in known_words}\n",
        "\n",
        "print(words_not_found)\n",
        "print(len(known_words))\n",
        "print(len(v.w2i))"
      ],
      "execution_count": null,
      "outputs": []
    },
    {
      "cell_type": "markdown",
      "metadata": {
        "id": "BfEd38W0NnAI"
      },
      "source": [
        "#### Exercise: train Deep CBOW with (fixed) pre-trained embeddings\n",
        "\n",
        "Now train Deep CBOW again using the pre-trained word vectors.\n"
      ]
    },
    {
      "cell_type": "code",
      "metadata": {
        "id": "z_6ooqgEsB20"
      },
      "source": [
        "# We define a new class that inherits from DeepCBOW.\n",
        "class PTDeepCBOW(DeepCBOW):\n",
        "    def __init__(self, vocab_size, embedding_dim, hidden_dim, output_dim, vocab):\n",
        "        super(PTDeepCBOW, self).__init__(\n",
        "            vocab_size, embedding_dim, output_dim, hidden_dim, vocab)"
      ],
      "execution_count": null,
      "outputs": []
    },
    {
      "cell_type": "code",
      "metadata": {
        "id": "JfIh4Ni6yuAh"
      },
      "source": [
        "# Create a Deep CBOW model with pre-trained embeddings\n",
        "# YOUR CODE HERE\n",
        "# pt_deep_cbow_model = ..\n",
        "pt_deep_cbow_model = PTDeepCBOW(len(v.i2w), EMBED_DIM, NUM_CLASSES, NUM_HIDDEN, v)\n",
        "\n",
        "# copy pre-trained word vectors into embeddings table\n",
        "pt_deep_cbow_model.embed.weight.data.copy_(torch.from_numpy(vectors))\n",
        "\n",
        "# disable training the pre-trained embeddings\n",
        "pt_deep_cbow_model.embed.weight.requires_grad = False\n",
        "\n",
        "# move model to specified device\n",
        "pt_deep_cbow_model = pt_deep_cbow_model.to(device)\n",
        "\n",
        "# train the model\n",
        "# YOUR CODE HERE"
      ],
      "execution_count": null,
      "outputs": []
    },
    {
      "cell_type": "code",
      "metadata": {
        "id": "Cs9VivO7FqnX"
      },
      "source": [
        "# train PTDeepCBOW\n",
        "PTdeep_cbow_model = PTDeepCBOW(len(v.w2i), EMBED_DIM, NUM_CLASSES, NUM_HIDDEN, v)\n",
        "print(PTdeep_cbow_model)\n",
        "\n",
        "PTdeep_cbow_model = PTdeep_cbow_model.to(device)\n",
        "\n",
        "optimizer = optim.Adam(PTdeep_cbow_model.parameters(), lr=0.0005)\n",
        "PTdeep_cbow_losses, PTdeep_cbow_accuracies = train_model(\n",
        "    PTdeep_cbow_model, optimizer, num_iterations=10000, \n",
        "    print_every=1000, eval_every=1000)"
      ],
      "execution_count": null,
      "outputs": []
    },
    {
      "cell_type": "code",
      "metadata": {
        "id": "Ufujv3x31ufD"
      },
      "source": [
        "# plot dev accuracies"
      ],
      "execution_count": null,
      "outputs": []
    },
    {
      "cell_type": "code",
      "metadata": {
        "id": "YTJtKBzd7Qjr"
      },
      "source": [
        "# plot train loss"
      ],
      "execution_count": null,
      "outputs": []
    },
    {
      "cell_type": "markdown",
      "metadata": {
        "id": "yFu8xzCy9XDW"
      },
      "source": [
        "**It looks like we've hit what is possible with just using words.**\n",
        "Let's move on by incorporating word order!"
      ]
    },
    {
      "cell_type": "markdown",
      "metadata": {
        "id": "g41yW4PL9jG0"
      },
      "source": [
        "# LSTM"
      ]
    },
    {
      "cell_type": "markdown",
      "metadata": {
        "id": "ODzXEH0MaGpa"
      },
      "source": [
        "It is time to get more serious. Even with pre-trained word embeddings and multiple layers, we still seem to do pretty badly at sentiment classification. \n",
        "The next step we can take is to introduce word order again, dropping our independence assumptions. In this way, we can get a representation of the sentence as an ordered set of tokens.\n",
        "\n",
        "We will get this representation using a **Long Short-Term Memory** (LSTM). As an exercise, we will code our own LSTM cell, so that we get comfortable with its inner workings.\n",
        "Once we have an LSTM cell, we can call it repeatedly, updating its hidden state one word at a time:\n",
        "\n",
        "```python\n",
        "rnn = MyLSTMCell(input_size, hidden_size)\n",
        "\n",
        "hx = torch.zeros(1, hidden_size)  # initial hidden state\n",
        "cx = torch.zeros(1, hidden_size)  # initial memory cell\n",
        "output = []                       # to save intermediate LSTM states\n",
        "\n",
        "# feed one word at a time\n",
        "for i in range(n_timesteps):\n",
        "  hx, cx = rnn(input[i], (hx, cx))\n",
        "  output.append(hx)\n",
        "```\n",
        "\n",
        "If you need some more help understanding LSTMs, you can check out these resources:\n",
        "- Blog post (highly recommended): http://colah.github.io/posts/2015-08-Understanding-LSTMs/\n",
        "- Paper covering LSTM formulas in detail: https://arxiv.org/abs/1503.04069 \n"
      ]
    },
    {
      "cell_type": "markdown",
      "metadata": {
        "id": "v9f4b45BXKFC"
      },
      "source": [
        "#### Exercise: Finish the LSTM cell below. \n",
        "You will need to implement the LSTM formulas:\n",
        "\n",
        "$$\n",
        "\\begin{array}{ll}\n",
        "        i = \\sigma(W_{ii} x + b_{ii} + W_{hi} h + b_{hi}) \\\\\n",
        "        f = \\sigma(W_{if} x + b_{if} + W_{hf} h + b_{hf}) \\\\\n",
        "        g = \\tanh(W_{ig} x + b_{ig} + W_{hg} h + b_{hg}) \\\\\n",
        "        o = \\sigma(W_{io} x + b_{io} + W_{ho} h + b_{ho}) \\\\\n",
        "        c' = f * c + i * g \\\\\n",
        "        h' = o \\tanh(c') \\\\\n",
        "\\end{array}\n",
        " $$\n",
        "\n",
        "where $\\sigma$ is the sigmoid function.\n",
        "\n",
        "*Note that the LSTM formulas can differ slightly between different papers. We use the PyTorch LSTM formulation here.*"
      ]
    },
    {
      "cell_type": "code",
      "metadata": {
        "id": "zJ9m5kLMd7-v"
      },
      "source": [
        "class MyLSTMCell(nn.Module):\n",
        "    \"\"\"Our own LSTM cell\"\"\"\n",
        "\n",
        "    def __init__(self, input_size, hidden_size, bias=True):\n",
        "        \"\"\"Creates the weights for this LSTM\"\"\"\n",
        "        super(MyLSTMCell, self).__init__()\n",
        "\n",
        "        self.input_size = input_size\n",
        "        self.hidden_size = hidden_size\n",
        "        self.bias = bias\n",
        "\n",
        "        # YOUR CODE HERE\n",
        "        self.i = nn.Linear(input_size+hidden_size, hidden_size)\n",
        "        self.f = nn.Linear(input_size+hidden_size, hidden_size)\n",
        "        self.g = nn.Linear(input_size+hidden_size, hidden_size)\n",
        "        self.o = nn.Linear(input_size+hidden_size, hidden_size)\n",
        "\n",
        "        self.reset_parameters()\n",
        "\n",
        "    def reset_parameters(self):\n",
        "        \"\"\"This is PyTorch's default initialization method\"\"\"\n",
        "        stdv = 1.0 / math.sqrt(self.hidden_size)\n",
        "        for weight in self.parameters():\n",
        "            weight.data.uniform_(-stdv, stdv)  \n",
        "\n",
        "    def forward(self, input_, hx, mask=None):\n",
        "        \"\"\"\n",
        "        input is (batch, input_size)\n",
        "        hx is ((batch, hidden_size), (batch, hidden_size))\n",
        "        \"\"\"\n",
        "        prev_h, prev_c = hx\n",
        "\n",
        "        # project input and prev state\n",
        "        # YOUR CODE HERE\n",
        "\n",
        "        #???\n",
        "        \n",
        "        # stack hidden and input\n",
        "        x_stack = torch.cat((prev_h, input_), dim=1)\n",
        "        \n",
        "        # main LSTM computation    \n",
        "        i = torch.sigmoid(self.i(x_stack))\n",
        "        f = torch.sigmoid(self.f(x_stack))\n",
        "        o = torch.sigmoid(self.o(x_stack))\n",
        "        g = torch.tanh(self.g(x_stack))\n",
        "        \n",
        "        c = f * prev_c + i * g\n",
        "        h = torch.tanh(c) * o\n",
        "\n",
        "        return h, c\n",
        "  \n",
        "    def __repr__(self):\n",
        "        return \"{}({:d}, {:d})\".format(\n",
        "            self.__class__.__name__, self.input_size, self.hidden_size)"
      ],
      "execution_count": null,
      "outputs": []
    },
    {
      "cell_type": "markdown",
      "metadata": {
        "id": "4JM7xPhkQeE5"
      },
      "source": [
        "#### Optional: Efficient Matrix Multiplication\n",
        "\n",
        "It is more efficient to do a few big matrix multiplications than to do many smaller ones. So we will implement the above cell using just **two** linear layers.\n",
        "\n",
        "This is possible because the eight linear transformations contained in one forward pass through an LSTM cell can be reduced to just two:\n",
        "$$W_h h + b_h$$\n",
        "$$W_i x + b_i $$ \n",
        "\n",
        "with $h = $ `prev_h` and $x = $ `input_`.\n",
        "\n",
        "and where: \n",
        "\n",
        "$W_h =  \\begin{pmatrix}\n",
        "W_{hi}\\\\ \n",
        "W_{hf}\\\\ \n",
        "W_{hg}\\\\ \n",
        "W_{ho}\n",
        "\\end{pmatrix}$, $b_h = \\begin{pmatrix}\n",
        "b_{hi}\\\\ \n",
        "b_{hf}\\\\ \n",
        "b_{hg}\\\\ \n",
        "b_{ho}\n",
        "\\end{pmatrix}$,  $W_i = \\begin{pmatrix}\n",
        "W_{ii}\\\\ \n",
        "W_{if}\\\\ \n",
        "W_{ig}\\\\ \n",
        "W_{io}\n",
        "\\end{pmatrix}$ and $b_i = \\begin{pmatrix}\n",
        "b_{ii}\\\\ \n",
        "b_{if}\\\\ \n",
        "b_{ig}\\\\ \n",
        "b_{io}\n",
        "\\end{pmatrix}$.\n",
        "\n",
        "Convince yourself that, after chunking with [torch.chunk](https://pytorch.org/docs/stable/torch.html?highlight=chunk#torch.chunk), the output of those two linear transformations is equivalent to the output of the eight linear transformations in the LSTM cell calculations above."
      ]
    },
    {
      "cell_type": "markdown",
      "metadata": {
        "id": "X9gA-UcqSBe0"
      },
      "source": [
        "#### LSTM Classifier\n",
        "\n",
        "Having an LSTM cell is not enough: we still need some code that calls it repeatedly, and then makes a prediction from the final hidden state. \n",
        "You will find that code below. Make sure that you understand it."
      ]
    },
    {
      "cell_type": "code",
      "metadata": {
        "id": "3iuYZm5poEn5"
      },
      "source": [
        "class LSTMClassifier(nn.Module):\n",
        "    \"\"\"Encodes sentence with an LSTM and projects final hidden state\"\"\"\n",
        "\n",
        "    def __init__(self, vocab_size, embedding_dim, hidden_dim, output_dim, vocab):\n",
        "        super(LSTMClassifier, self).__init__()\n",
        "        self.vocab = vocab\n",
        "        self.hidden_dim = hidden_dim\n",
        "        self.embed = nn.Embedding(vocab_size, embedding_dim, padding_idx=1)\n",
        "        self.rnn = MyLSTMCell(embedding_dim, hidden_dim)\n",
        "\n",
        "        self.output_layer = nn.Sequential(     \n",
        "            nn.Dropout(p=0.5),  # explained later\n",
        "            nn.Linear(hidden_dim, output_dim)\n",
        "        )\n",
        "\n",
        "    def forward(self, x):\n",
        "    \n",
        "        B = x.size(0)  # batch size (this is 1 for now, i.e. 1 single example)\n",
        "        T = x.size(1)  # timesteps (the number of words in the sentence)\n",
        "\n",
        "        input_ = self.embed(x)\n",
        "\n",
        "        # here we create initial hidden states containing zeros\n",
        "        # we use a trick here so that, if input is on the GPU, then so are hx and cx\n",
        "        hx = input_.new_zeros(B, self.rnn.hidden_size)\n",
        "        cx = input_.new_zeros(B, self.rnn.hidden_size)\n",
        "\n",
        "        # process input sentences one word/timestep at a time\n",
        "        # input is batch-major (i.e., batch size is the first dimension)\n",
        "        # so the first word(s) is (are) input_[:, 0]\n",
        "        outputs = []   \n",
        "        for i in range(T):\n",
        "            hx, cx = self.rnn(input_[:, i], (hx, cx))\n",
        "            outputs.append(hx)\n",
        "    \n",
        "        # if we have a single example, our final LSTM state is the last hx\n",
        "        if B == 1:\n",
        "            final = hx\n",
        "        else:\n",
        "            #\n",
        "            # This part is explained in next section, ignore this else-block for now.\n",
        "            #\n",
        "            # We processed sentences with different lengths, so some of the sentences\n",
        "            # had already finished and we have been adding padding inputs to hx.\n",
        "            # We select the final state based on the length of each sentence.\n",
        "\n",
        "            # two lines below not needed if using LSTM from pytorch\n",
        "            outputs = torch.stack(outputs, dim=0)           # [T, B, D]\n",
        "            outputs = outputs.transpose(0, 1).contiguous()  # [B, T, D]\n",
        "\n",
        "            # to be super-sure we're not accidentally indexing the wrong state\n",
        "            # we zero out positions that are invalid\n",
        "            pad_positions = (x == 1).unsqueeze(-1)\n",
        "\n",
        "            outputs = outputs.contiguous()      \n",
        "            outputs = outputs.masked_fill_(pad_positions, 0.)\n",
        "\n",
        "            mask = (x != 1)  # true for valid positions [B, T]\n",
        "            lengths = mask.sum(dim=1)                 # [B, 1]\n",
        "\n",
        "            indexes = (lengths - 1) + torch.arange(B, device=x.device, dtype=x.dtype) * T\n",
        "            final = outputs.view(-1, self.hidden_dim)[indexes]  # [B, D]\n",
        "    \n",
        "        # we use the last hidden state to classify the sentence\n",
        "        logits = self.output_layer(final)\n",
        "        return logits"
      ],
      "execution_count": null,
      "outputs": []
    },
    {
      "cell_type": "markdown",
      "metadata": {
        "id": "FxFoVpvMPB6g"
      },
      "source": [
        "#### Dropout\n",
        "\n",
        "Data sparsity and a small data set can cause *overfitting*. This is a phenomenom that is very likely to occur when training strong and expressive models, like LSTMs, on small data. In practice, if your model overfits, this means that it will be very good at predicting (or \"remembering\") the sentiment of the training set, but unable to generalise to new, unseen data in the test set. This is undesirable and one technique to mitigate this issue is *dropout*. \n",
        "\n",
        "A dropout layer is defined by the following formula, which can be applied, for example, to a linear layer:\n",
        "\n",
        "$$\\text{tanh}(W(\\mathbf{h}\\odot \\mathbf{d}) + \\mathbf{b})$$\n",
        "\n",
        "where $\\mathbf{d} \\in \\{0, 1\\}^n$, with $d_j \\sim \\text{Bernoulli}(p)$, \n",
        "\n",
        "These formula simply means that we *drop* certain parameters during training (by setting them to zero). Which parameters we drop is stochastically determined by a Bernoulli distribution and the probability of each parameter being dropped is set to $p = 0.5$ in our experiments (see the previous cell of code where we define our output layer). A dropout layer can be applied at many different places in our models. This technique helps against the undesirable effect that a model relies on single parameters for prediction (e.g. if $h^{\\prime}_j$ is large, always predict positive). If we use dropout, the model needs to learn to rely on different parameters, which is desirable to obtain better generalisation to unseen data."
      ]
    },
    {
      "cell_type": "markdown",
      "metadata": {
        "id": "XQjEjLt9z0XW"
      },
      "source": [
        "**Let's train our LSTM!** Note that is will be a lot slower than previous models because we need to do many more computations per sentence.\n",
        "\n",
        "#### Training"
      ]
    },
    {
      "cell_type": "code",
      "metadata": {
        "id": "LgZoSPD4fsf_"
      },
      "source": [
        "lstm_model = LSTMClassifier(len(v.w2i), 300, 168, len(t2i), v)\n",
        "\n",
        "# copy pre-trained word vectors into embeddings table\n",
        "with torch.no_grad():\n",
        "    lstm_model.embed.weight.data.copy_(torch.from_numpy(vectors))\n",
        "    lstm_model.embed.weight.requires_grad = False\n",
        "\n",
        "print(lstm_model)\n",
        "print_parameters(lstm_model)\n",
        "\n",
        "lstm_model = lstm_model.to(device)\n",
        "optimizer = optim.Adam(lstm_model.parameters(), lr=3e-4)\n",
        "\n",
        "lstm_losses, lstm_accuracies = train_model(\n",
        "    lstm_model, optimizer, num_iterations=25000, \n",
        "    print_every=250, eval_every=1000)"
      ],
      "execution_count": null,
      "outputs": []
    },
    {
      "cell_type": "code",
      "metadata": {
        "id": "2BKVnyg0Hq5E"
      },
      "source": [
        "# plot validation accuracy"
      ],
      "execution_count": null,
      "outputs": []
    },
    {
      "cell_type": "code",
      "metadata": {
        "id": "ZowTV0EBTb3z"
      },
      "source": [
        "# plot training loss"
      ],
      "execution_count": null,
      "outputs": []
    },
    {
      "cell_type": "markdown",
      "metadata": {
        "id": "YEw6XHQY_AAQ"
      },
      "source": [
        "# Mini-batching\n",
        "\n"
      ]
    },
    {
      "cell_type": "markdown",
      "metadata": {
        "id": "FPf96wGzBTQJ"
      },
      "source": [
        "**Why is the LSTM so slow?** Despite our best efforts, we still need to make a lot of matrix multiplications per example (linear in the length of the example) just to get a single classification, and we can only process the 2nd word once we have computed the hidden state for the 1st word (sequential computation).\n",
        "\n",
        "GPUs are more efficient if we do a few big matrix multiplications, rather than lots of small ones. If we could process multiple examples at the same time, then we could exploit that. That is, we could still process the input sequentially, but doing so for multiple sentences at the same time.\n",
        "\n",
        "Up to now our \"mini-batches\" consisted of a single example. This was for a reason: the sentences in our data sets have **different lengths**, and this makes it difficult to process them at the same time.\n",
        "\n",
        "Consider a batch of 2 sentences:\n",
        "\n",
        "```\n",
        "this movie is bad\n",
        "this movie is super cool !\n",
        "```\n",
        "\n",
        "Let's say the IDs for these sentences are:\n",
        "\n",
        "```\n",
        "2 3 4 5\n",
        "2 3 4 6 7 8\n",
        "```\n",
        "\n",
        "We cannot feed PyTorch an object with rows of variable length! We need to turn this into a matrix.\n",
        "\n",
        "The solution is to add **padding values** to our mini-batch:\n",
        "\n",
        "```\n",
        "2 3 4 5 1 1\n",
        "2 3 4 6 7 8\n",
        "```\n",
        "\n",
        "Whenever a sentence is shorter than the longest sentence in a mini-batch, we just use a padding value (here: 1) to fill the matrix.\n",
        "\n",
        "In our computation, we should **ignore** the padding positions (e.g. mask them out) so that paddings do not contribute to the loss.\n",
        "\n",
        "#### Mini-batch feed\n",
        "We will now implement a `get_minibatch` function which will replace `get_example` and returns a mini-batch of the requested size."
      ]
    },
    {
      "cell_type": "code",
      "metadata": {
        "id": "IoAE2JBiXJ3P"
      },
      "source": [
        "def get_minibatch(data, batch_size=25, shuffle=True):\n",
        "    \"\"\"Return minibatches, optional shuffling\"\"\"\n",
        "  \n",
        "    if shuffle:\n",
        "        print(\"Shuffling training data\")\n",
        "        random.shuffle(data)  # shuffle training data each epoch\n",
        "  \n",
        "    batch = []\n",
        "  \n",
        "    # yield minibatches\n",
        "    for example in data:\n",
        "        batch.append(example)\n",
        "    \n",
        "        if len(batch) == batch_size:\n",
        "            yield batch\n",
        "            batch = []\n",
        "      \n",
        "    # in case there is something left\n",
        "    if len(batch) > 0:\n",
        "        yield batch"
      ],
      "execution_count": null,
      "outputs": []
    },
    {
      "cell_type": "markdown",
      "metadata": {
        "id": "DwZM-XYkT8Zx"
      },
      "source": [
        "#### Padding function\n",
        "We will need a function that adds padding 1s to a sequence of IDs so that\n",
        "it becomes as long as the longest sequence in the minibatch."
      ]
    },
    {
      "cell_type": "code",
      "metadata": {
        "id": "sp0sK1ghw4Ft"
      },
      "source": [
        "def pad(tokens, length, pad_value=1):\n",
        "    \"\"\"add padding 1s to a sequence to that it has the desired length\"\"\"\n",
        "    return tokens + [pad_value] * (length - len(tokens))\n",
        "\n",
        "# example\n",
        "tokens = [2, 3, 4]\n",
        "pad(tokens, 5)"
      ],
      "execution_count": null,
      "outputs": []
    },
    {
      "cell_type": "markdown",
      "metadata": {
        "id": "SL2iixMYUgfh"
      },
      "source": [
        "#### New `prepare` function\n",
        "\n",
        "We will also need a new function that turns a mini-batch into PyTorch tensors."
      ]
    },
    {
      "cell_type": "code",
      "metadata": {
        "id": "ZID0cqozWks8"
      },
      "source": [
        "def prepare_minibatch(mb, vocab):\n",
        "    \"\"\"\n",
        "    Minibatch is a list of examples.\n",
        "    This function converts words to IDs and returns\n",
        "    torch tensors to be used as input/targets.\n",
        "    \"\"\"\n",
        "    batch_size = len(mb)\n",
        "    maxlen = max([len(ex.tokens) for ex in mb])\n",
        "\n",
        "    # vocab returns 0 if the word is not there\n",
        "    x = [pad([vocab.w2i.get(t, 0) for t in ex.tokens], maxlen) for ex in mb]\n",
        "\n",
        "    x = torch.LongTensor(x)\n",
        "    x = x.to(device)\n",
        "\n",
        "    y = [ex.label for ex in mb]\n",
        "    y = torch.LongTensor(y)\n",
        "    y = y.to(device)\n",
        "\n",
        "    return x, y"
      ],
      "execution_count": null,
      "outputs": []
    },
    {
      "cell_type": "code",
      "metadata": {
        "id": "OwDAtCv1x2hB"
      },
      "source": [
        "# Let's test our new function.\n",
        "# This should give us 3 examples.\n",
        "mb = next(get_minibatch(train_data, batch_size=3, shuffle=False))\n",
        "for ex in mb:\n",
        "    print(ex)"
      ],
      "execution_count": null,
      "outputs": []
    },
    {
      "cell_type": "code",
      "metadata": {
        "id": "dg8zEK8zyUCH"
      },
      "source": [
        "# We should find padding 1s at the end\n",
        "x, y = prepare_minibatch(mb, v)\n",
        "print(\"x\", x)\n",
        "print(\"y\", y)"
      ],
      "execution_count": null,
      "outputs": []
    },
    {
      "cell_type": "markdown",
      "metadata": {
        "id": "xYBJEoSNUwI0"
      },
      "source": [
        "#### Evaluate (mini-batch version)\n",
        "\n",
        "We can now update our evaluation function to use mini-batches"
      ]
    },
    {
      "cell_type": "code",
      "metadata": {
        "id": "eiZZpEghzqou"
      },
      "source": [
        "def evaluate(model, data, \n",
        "             batch_fn=get_minibatch, prep_fn=prepare_minibatch,\n",
        "             batch_size=16):\n",
        "    \"\"\"Accuracy of a model on given data set (using mini-batches)\"\"\"\n",
        "    correct = 0\n",
        "    total = 0\n",
        "    model.eval()  # disable dropout\n",
        "\n",
        "    for mb in batch_fn(data, batch_size=batch_size, shuffle=False):\n",
        "        x, targets = prep_fn(mb, model.vocab)\n",
        "        with torch.no_grad():\n",
        "            logits = model(x)\n",
        "      \n",
        "        predictions = logits.argmax(dim=-1).view(-1)\n",
        "    \n",
        "        # add the number of correct predictions to the total correct\n",
        "        correct += (predictions == targets.view(-1)).sum().item()\n",
        "        total += targets.size(0)\n",
        "\n",
        "    return correct, total, correct / float(total)"
      ],
      "execution_count": null,
      "outputs": []
    },
    {
      "cell_type": "markdown",
      "metadata": {
        "id": "23wAZomozh_2"
      },
      "source": [
        "# LSTM (Mini-batched)"
      ]
    },
    {
      "cell_type": "markdown",
      "metadata": {
        "id": "B-gkPU7jzBe2"
      },
      "source": [
        "With this, let's run the LSTM again but now using mini-batches!"
      ]
    },
    {
      "cell_type": "code",
      "metadata": {
        "id": "226Xg9OPzFbA"
      },
      "source": [
        "lstm_model = LSTMClassifier(\n",
        "    len(v.w2i), 300, 168, len(t2i), v)\n",
        "\n",
        "# copy pre-trained vectors into embeddings table\n",
        "with torch.no_grad():\n",
        "    lstm_model.embed.weight.data.copy_(torch.from_numpy(vectors))\n",
        "    lstm_model.embed.weight.requires_grad = False\n",
        "\n",
        "print(lstm_model)\n",
        "print_parameters(lstm_model)  \n",
        "  \n",
        "lstm_model = lstm_model.to(device)\n",
        "\n",
        "batch_size = 25\n",
        "optimizer = optim.Adam(lstm_model.parameters(), lr=2e-4)\n",
        "\n",
        "lstm_losses, lstm_accuracies = train_model(\n",
        "    lstm_model, optimizer, num_iterations=30000, \n",
        "    print_every=250, eval_every=250,\n",
        "    batch_size=batch_size,\n",
        "    batch_fn=get_minibatch, \n",
        "    prep_fn=prepare_minibatch,\n",
        "    eval_fn=evaluate)"
      ],
      "execution_count": null,
      "outputs": []
    },
    {
      "cell_type": "code",
      "metadata": {
        "id": "ymj1rLDMvyhp"
      },
      "source": [
        "# plot validation accuracy"
      ],
      "execution_count": null,
      "outputs": []
    },
    {
      "cell_type": "code",
      "metadata": {
        "id": "1je5S1RHVC5R"
      },
      "source": [
        "# plot training loss"
      ],
      "execution_count": null,
      "outputs": []
    },
    {
      "cell_type": "markdown",
      "metadata": {
        "id": "q7WjcxXntMi5"
      },
      "source": [
        "# Tree-LSTM"
      ]
    },
    {
      "cell_type": "markdown",
      "metadata": {
        "id": "jyj_UD6GtO5M"
      },
      "source": [
        "In the final part of this lab we will exploit the tree structure of the SST data. \n",
        "Until now we only used the surface tokens, but remember that our data examples include binary trees with a sentiment score at every node.\n",
        "\n",
        "In particular, we will implement **N-ary Tree-LSTMs** which are described in:\n",
        "\n",
        "> Kai Sheng Tai, Richard Socher, and Christopher D. Manning. [Improved Semantic Representations From Tree-Structured Long Short-Term Memory Networks](http://aclweb.org/anthology/P/P15/P15-1150.pdf) ACL 2015.\n",
        "\n",
        "Since our trees are binary (i.e., N=2), we can refer to these as *Binary Tree-LSTMs*. If you study equations (9) to (14) in the paper, you will find that they are not all too different from the original LSTM that you already have.\n",
        "\n",
        "You should read this paper carefully and make sure that you understand the approach. You will also find our LSTM baseline there.\n",
        "Note however that Tree-LSTMs were proposed around the same time by two other groups:\n",
        "\n",
        "> Phong Le and Willem Zuidema. [Compositional distributional semantics with long short term memory](http://anthology.aclweb.org/S/S15/S15-1002.pdf). *SEM 2015.\n",
        "\n",
        "> Xiaodan Zhu, Parinaz Sobihani,  and Hongyu Guo. [Long short-term memory over recursive structures](http://proceedings.mlr.press/v37/zhub15.pdf). ICML 2015.\n",
        "\n",
        "It is good scientific practice to cite all three papers in your report.\n",
        "\n",
        "\n"
      ]
    },
    {
      "cell_type": "markdown",
      "metadata": {
        "id": "1rDzvSos3JFp"
      },
      "source": [
        "## Computation\n",
        "\n",
        "Do you remember the `transitions_from_treestring` function all the way in the beginning of this lab? Every example contains a **transition sequence** produced by this function. Let's look at it again:\n",
        "\n"
      ]
    },
    {
      "cell_type": "code",
      "metadata": {
        "id": "5pg0Xumc3ZUS"
      },
      "source": [
        "ex = next(examplereader(\"trees/dev.txt\"))\n",
        "print(TreePrettyPrinter(ex.tree))\n",
        "print(\"Transitions:\")\n",
        "print(ex.transitions)"
      ],
      "execution_count": null,
      "outputs": []
    },
    {
      "cell_type": "markdown",
      "metadata": {
        "id": "ceBFe9fU4BI_"
      },
      "source": [
        "Note that the tree is **binary**. Every node has two children, except for pre-terminal nodes.\n",
        "\n",
        "A tree like this can be described by a sequence of **SHIFT (0)** and **REDUCE (1)** actions.\n",
        "\n",
        "To construct a tree, we can use the transitions as follows:\n",
        "- **reverse** the sentence (a list of tokens) and call this the **buffer**\n",
        "   - the first word is now on top (last in the list), and we would get it when calling pop() on the buffer\n",
        "- create an empty list and call it the **stack**\n",
        "- iterate through the transition sequence:\n",
        "  - if it says SHIFT(0), we pop a word from the buffer, and push it to the stack\n",
        "  - if it says REDUCE(1), we pop the **top two items** from the stack, and combine them (e.g. with a Tree-LSTM!), creating a new node that we push back on the stack\n",
        "  \n",
        "Convince yourself that going through the transition sequence above will result in the tree that you see.\n",
        "For example, we would start by putting the following words on the stack (by shifting 5 times, starting with `It`):\n",
        "\n",
        "```\n",
        "Top of the stack:\n",
        "-----------------\n",
        "film\n",
        "lovely\n",
        "a \n",
        "'s  \n",
        "It\n",
        "```\n",
        "Now we find a REDUCE in the transition sequence, so we get the top two words (film and lovely), and combine them, so our new stack becomes:\n",
        "```\n",
        "Top of the stack:\n",
        "-----------------\n",
        "lovely film\n",
        "a \n",
        "'s  \n",
        "It\n",
        "```\n",
        "\n",
        "We will use this approach when encoding sentences with our Tree-LSTM.\n",
        "Now, our sentence is a reversed list of word embeddings.\n",
        "When we shift, we move a word embedding to the stack.\n",
        "When we reduce, we apply the Tree-LSTM to the top two vectors, and the result is a single vector that we put back on the stack.\n",
        "After going through the whole transition sequence, we will have the root node on our stack! We can use that to classify the sentence.\n",
        "\n"
      ]
    },
    {
      "cell_type": "markdown",
      "metadata": {
        "id": "pDWKShm1AfmR"
      },
      "source": [
        "## Obtaining the transition sequence\n"
      ]
    },
    {
      "cell_type": "markdown",
      "metadata": {
        "id": "fO7VKWVpAbWj"
      },
      "source": [
        "\n",
        "So what goes on in the `transitions_from_treestring` function?\n",
        "\n",
        "The idea ([explained in this blog post](https://devblogs.nvidia.com/recursive-neural-networks-pytorch/)) is that, if we had a tree, we could traverse through the tree, and every time that we find a node containing only a word, we output a SHIFT.\n",
        "Every time **after** we have finished visiting the children of a node, we output a REDUCE.\n",
        "(What is this tree traversal called?)\n",
        "\n",
        "However, our `transitions_from_treestring` function operates directly on the string representation. It works as follows.\n",
        "\n",
        "We start with the representation:\n",
        "\n",
        "```\n",
        "(3 (2 It) (4 (4 (2 's) (4 (3 (2 a) (4 (3 lovely) (2 film))) (3 (2 with) (4 (3 (3 lovely) (2 performances)) (2 (2 by) (2 (2 (2 Buy) (2 and)) (2 Accorsi))))))) (2 .)))\n",
        "```\n",
        "\n",
        "First we remove pre-terminal nodes (and add spaces before closing brackets):\n",
        "\n",
        "```\n",
        "(3 It (4 (4 's (4 (3 a (4 lovely film ) ) (3 with (4 (3 lovely performances ) (2 by (2 (2 Buy and )  Accorsi ) ) ) ) ) ) . ) )\n",
        "```\n",
        "\n",
        "Then we remove node labels:\n",
        "\n",
        "```\n",
        "( It ( ( 's ( ( a ( lovely film ) ) ( with ( ( lovely performances) ( by ( ( Buy and )  Accorsi ) ) ) ) ) ) . ) )\n",
        "```\n",
        "\n",
        "Then we remove opening brackets:\n",
        "\n",
        "```\n",
        "It 's a lovely film ) ) with lovely performances ) by Buy and ) Accorsi ) ) ) ) ) ) . ) )\n",
        "```\n",
        "\n",
        "Now we replace words by S (for SHIFT), and closing brackets by R (for REDUCE):\n",
        "\n",
        "```\n",
        "S S S S S R R S S S R S S S R S R R R R R R S R R\n",
        "0 0 0 0 0 1 1 0 0 0 1 0 0 0 1 0 1 1 1 1 1 1 0 1 1 \n",
        "```\n",
        "\n",
        "Et voilà. We just obtained the transition sequence!"
      ]
    },
    {
      "cell_type": "code",
      "metadata": {
        "id": "1y069gM4_v64"
      },
      "source": [
        "# for comparison\n",
        "seq = ex.transitions\n",
        "s = \" \".join([\"S\" if t == 0 else \"R\" for t in seq])\n",
        "print(s)\n",
        "print(\" \".join(map(str, seq)))"
      ],
      "execution_count": null,
      "outputs": []
    },
    {
      "cell_type": "markdown",
      "metadata": {
        "id": "d-qOuKbDAiBn"
      },
      "source": [
        "## Coding the Tree-LSTM\n",
        "\n",
        "The code below contains a Binary Tree-LSTM cell.\n",
        "It is used in the TreeLSTM class below it, which in turn is used in the TreeLSTMClassifier.\n",
        "The job of the TreeLSTM class is to encode a complete sentence and return the root node.\n",
        "The job of the TreeLSTMCell is to return a new state when provided with two children (a reduce action). By repeatedly calling the TreeLSTMCell, the TreeLSTM will encode a sentence. This can be done for multiple sentences at the same time.\n",
        "\n",
        "\n",
        "#### Exercise \n",
        "Check the `forward` function and complete the Tree-LSTM formulas.\n",
        "You can see that we defined a large linear layer for you, that projects the *concatenation* of the left and right child into the input gate, left forget gate, right forget gate, candidate, and output gate."
      ]
    },
    {
      "cell_type": "code",
      "metadata": {
        "id": "J9b9mjMlN7Pb"
      },
      "source": [
        "class TreeLSTMCell(nn.Module):\n",
        "    \"\"\"A Binary Tree LSTM cell\"\"\"\n",
        "\n",
        "    def __init__(self, input_size, hidden_size, bias=True):\n",
        "        \"\"\"Creates the weights for this LSTM\"\"\"\n",
        "        super(TreeLSTMCell, self).__init__()\n",
        "\n",
        "        self.input_size = input_size\n",
        "        self.hidden_size = hidden_size\n",
        "        self.bias = bias\n",
        "\n",
        "        self.reduce_layer = nn.Linear(2 * hidden_size, 5 * hidden_size)\n",
        "        self.dropout_layer = nn.Dropout(p=0.25)\n",
        "\n",
        "        self.reset_parameters()\n",
        "\n",
        "    def reset_parameters(self):\n",
        "        \"\"\"This is PyTorch's default initialization method\"\"\"\n",
        "        stdv = 1.0 / math.sqrt(self.hidden_size)\n",
        "        for weight in self.parameters():\n",
        "            weight.data.uniform_(-stdv, stdv)  \n",
        "\n",
        "    def forward(self, hx_l, hx_r, mask=None):\n",
        "        \"\"\"\n",
        "        hx_l is ((batch, hidden_size), (batch, hidden_size))\n",
        "        hx_r is ((batch, hidden_size), (batch, hidden_size))    \n",
        "        \"\"\"\n",
        "        prev_h_l, prev_c_l = hx_l  # left child\n",
        "        prev_h_r, prev_c_r = hx_r  # right child\n",
        "\n",
        "        B = prev_h_l.size(0)\n",
        "\n",
        "        # we concatenate the left and right children\n",
        "        # you can also project from them separately and then sum\n",
        "        children = torch.cat([prev_h_l, prev_h_r], dim=1)\n",
        "\n",
        "        # project the combined children into a 5D tensor for i,fl,fr,g,o\n",
        "        # this is done for speed, and you could also do it separately\n",
        "        proj = self.reduce_layer(children)  # shape: B x 5D\n",
        "\n",
        "        # each shape: B x D\n",
        "        i, f_l, f_r, g, o = torch.chunk(proj, 5, dim=-1)\n",
        "\n",
        "        # main Tree LSTM computation\n",
        "\n",
        "        # YOUR CODE HERE\n",
        "        # You only need to complete the commented lines below.\n",
        "        \n",
        "        # WHAT TO DO WITH THE DROPOUT LAYER?\n",
        "        # in LSTMClassifier this was only applied after the LSTM Cell\n",
        "        # should we use dropout here after all operations, or only on h and c ?\n",
        "        \n",
        "        # The shape of each of these is [batch_size, hidden_size]\n",
        "        i = torch.sigmoid(i)\n",
        "        f_l = torch.sigmoid(f_l)\n",
        "        f_r = torch.sigmoid(f_r)\n",
        "        g = torch.tanh(g)\n",
        "        o = torch.sigmoid(o)\n",
        "        \n",
        "        c = i * g + f_r * prev_c_r + f_l * prev_c_l\n",
        "        h = o * torch.tanh(c)\n",
        "        \n",
        "        return h, c\n",
        "\n",
        "    def __repr__(self):\n",
        "        return \"{}({:d}, {:d})\".format(\n",
        "                self.__class__.__name__, self.input_size, self.hidden_size)"
      ],
      "execution_count": null,
      "outputs": []
    },
    {
      "cell_type": "markdown",
      "metadata": {
        "id": "Dj5dYSGh_643"
      },
      "source": [
        "## Explanation of the TreeLSTM class\n",
        "\n",
        "\n",
        "The code below contains the TreeLSTM class, which implements everything we need in order to encode a sentence from word embeddings. The calculations are the same as in the paper, implemented such that the class `TreeLSTMCell` above is as general as possible and only takes two children to reduce them into a parent. \n",
        "\n",
        "\n",
        "**Initialize $\\mathbf{h}$ and $\\mathbf{c}$ outside of the cell for the leaves**\n",
        "\n",
        "At the leaves of each tree the children nodes are **empty**, whereas in higher levels the nodes are binary tree nodes that *do* have a left and right child (but no input $x$). By initializing the leaf nodes outside of the cell class (`TreeLSTMCell`), we avoid if-else statements in the forward pass.\n",
        "\n",
        "The `TreeLSTM` class (among other things) pre-calculates an initial $h$ and $c$ for every word in the sentence. Since the initial left and right child are 0, the only calculations we need to do are based on $x$, and we can drop the forget gate calculation (`prev_c_l` and `prev_c_r` are zero). The calculations we do in order to initalize $h$ and $c$ are then:\n",
        "\n",
        "$$\n",
        "c_1 =  W^{(u)}x_1 \\\\\n",
        "o_1 = \\sigma (W^{(i)}x_1) \\\\\n",
        "h_1 = o_1 \\odot \\text{tanh}(c_1)$$\n",
        "*NB: note that these equations are chosen as initializations of $c$ and $h$, other initializations are possible and might work equally well.*\n",
        "\n",
        "**Sentence Representations**\n",
        "\n",
        "All our leaf nodes are now initialized, so we can start processing the sentence in its tree form. Each sentence is represented by a buffer (initially a list with a concatenation of $[h_1, c_1]$ for every word in the reversed sentence), a stack (initially an empty list) and a transition sequence. To encode our sentence, we construct the tree from its transition sequence as explained earlier. \n",
        "\n",
        "*A short example that constructs a tree:*\n",
        "\n",
        "We loop over the time dimension of the batched transition sequences (i.e. row by row), which contain values of 0's, 1's and 2's (representing SHIFT, REDUCE and padding respectively). If we have a batch of size 2 where the first example has a transition sequence given by [0, 0, 1, 0, 0, 0, 1] and the second by [0, 0, 1, 0, 0, 1], our transition batch will be given by the following two-dimensional numpy array:\n",
        "\n",
        "$$\n",
        "\\text{transitions} = \n",
        "\\begin{pmatrix}\n",
        "0 & 0\\\\ \n",
        "0 & 0\\\\ \n",
        "1 & 1\\\\ \n",
        "0 & 0\\\\ \n",
        "0 & 0\\\\ \n",
        "0 & 1\\\\ \n",
        "1 & 2\n",
        "\\end{pmatrix}\n",
        "$$\n",
        "The inner loop (`for transition, buffer, stack in zip(t_batch, buffers, stacks)`) goes over each example in the batch and updates its buffer and stack. The nested loop for this example will then do roughy the following:\n",
        "\n",
        "```\n",
        "Time = 0:  t_batch = [0, 0], the inner loop performs 2 SHIFTs. \n",
        "\n",
        "Time = 1:  t_batch = [0, 0], \"..\"\n",
        "\n",
        "Time = 2:  t_batch = [1, 1], causing the inner loop to fill the list child_l and child_r for both examples in the batch. Now the statement if child_l will return True, triggering a REDUCE action to be performed by our Tree LSTM cell with a batch size of 2. \n",
        "\n",
        "Time = 3:  t_batch = [0, 0], \"..\".\n",
        "\n",
        "Time = 4:  t_batch = [0, 0], \"..\"\n",
        "\n",
        "Time = 5:  t_batch = [0, 1], one SHIFT will be done and another REDUCE action will be performed by our Tree LSTM, this time of batch size 1.  \n",
        "\n",
        "Time = 6:  t_batch = [1, 2], triggering another REDUCE action with batch size 1.\n",
        "```\n",
        "*NB: note that this was an artificial example for the purpose of demonstrating parts of the code, the transition sequences do not necessarily represent actual trees.*\n",
        "\n",
        "**Batching and Unbatching**\n",
        "\n",
        "Within the body of the outer loop over time, we use the functions for batching and unbatching. \n",
        "\n",
        "*Batching*\n",
        "\n",
        "Before passing two lists of children to the reduce layer (an instance of `TreeLSTMCell`), we batch the children as they are at this point a list of tensors of variable length based on how many REDUCE actions there are to perform at a certain time step across the batch (let's call the length `L`). To do an efficient forward pass we want to transform the list to a pair of tensors of shape `([L, D], [L, D])`, which the function `batch` achieves. \n",
        "\n",
        "*Unbatching*\n",
        "\n",
        "In the same line where we batched the children, we unbatch the output of the forward pass to become a list of states of length `L` again. We do this because we need to loop over each example's transition at the current time step and push the children that are reduced into a parent to the stack.\n",
        "\n",
        "*The batch and unbatch functions let us switch between the \"PyTorch world\" (Tensors) and the Python world (easy to manipulate lists).*\n"
      ]
    },
    {
      "cell_type": "code",
      "metadata": {
        "id": "5PixvTd4AqsQ"
      },
      "source": [
        "# Helper functions for batching and unbatching states\n",
        "# For speed we want to combine computations by batching, but \n",
        "# for processing logic we want to turn the output into lists again\n",
        "# to easily manipulate.\n",
        "\n",
        "def batch(states):\n",
        "  \"\"\"\n",
        "  Turns a list of states into a single tensor for fast processing. \n",
        "  This function also chunks (splits) each state into a (h, c) pair\"\"\"\n",
        "  return torch.cat(states, 0).chunk(2, 1)\n",
        "\n",
        "def unbatch(state):\n",
        "  \"\"\"\n",
        "  Turns a tensor back into a list of states.\n",
        "  First, (h, c) are merged into a single state.\n",
        "  Then the result is split into a list of sentences.\n",
        "  \"\"\"\n",
        "  return torch.split(torch.cat(state, 1), 1, 0)"
      ],
      "execution_count": null,
      "outputs": []
    },
    {
      "cell_type": "markdown",
      "metadata": {
        "id": "CynltDasaLPt"
      },
      "source": [
        "Take some time to understand the class below, having read the explanation above."
      ]
    },
    {
      "cell_type": "code",
      "metadata": {
        "id": "rQOqMXG4gX5G"
      },
      "source": [
        "class TreeLSTM(nn.Module):\n",
        "  \"\"\"Encodes a sentence using a TreeLSTMCell\"\"\"\n",
        "\n",
        "  def __init__(self, input_size, hidden_size, bias=True):\n",
        "    \"\"\"Creates the weights for this LSTM\"\"\"\n",
        "    super(TreeLSTM, self).__init__()\n",
        "\n",
        "    self.input_size = input_size\n",
        "    self.hidden_size = hidden_size\n",
        "    self.bias = bias\n",
        "    self.reduce = TreeLSTMCell(input_size, hidden_size)\n",
        "\n",
        "    # project word to initial c\n",
        "    self.proj_x = nn.Linear(input_size, hidden_size)\n",
        "    self.proj_x_gate = nn.Linear(input_size, hidden_size)\n",
        "    \n",
        "    self.buffers_dropout = nn.Dropout(p=0.5)\n",
        "\n",
        "  def forward(self, x, transitions):\n",
        "    \"\"\"\n",
        "    WARNING: assuming x is reversed!\n",
        "    :param x: word embeddings [B, T, E]\n",
        "    :param transitions: [2T-1, B]\n",
        "    :return: root states\n",
        "    \"\"\"\n",
        "\n",
        "    B = x.size(0)  # batch size\n",
        "    T = x.size(1)  # time\n",
        "\n",
        "    # compute an initial c and h for each word\n",
        "    # Note: this corresponds to input x in the Tai et al. Tree LSTM paper.\n",
        "    # We do not handle input x in the TreeLSTMCell itself.\n",
        "    buffers_c = self.proj_x(x)\n",
        "    buffers_h = buffers_c.tanh()\n",
        "    buffers_h_gate = self.proj_x_gate(x).sigmoid()\n",
        "    buffers_h = buffers_h_gate * buffers_h\n",
        "    \n",
        "    # concatenate h and c for each word\n",
        "    buffers = torch.cat([buffers_h, buffers_c], dim=-1)\n",
        "\n",
        "    D = buffers.size(-1) // 2\n",
        "\n",
        "    # we turn buffers into a list of stacks (1 stack for each sentence)\n",
        "    # first we split buffers so that it is a list of sentences (length B)\n",
        "    # then we split each sentence to be a list of word vectors\n",
        "    buffers = buffers.split(1, dim=0)  # Bx[T, 2D]\n",
        "    buffers = [list(b.squeeze(0).split(1, dim=0)) for b in buffers]  # BxTx[2D]\n",
        "\n",
        "    # create B empty stacks\n",
        "    stacks = [[] for _ in buffers]\n",
        "\n",
        "    # t_batch holds 1 transition for each sentence\n",
        "    for t_batch in transitions:\n",
        "\n",
        "      child_l = []  # contains the left child for each sentence with reduce action\n",
        "      child_r = []  # contains the corresponding right child\n",
        "\n",
        "      # iterate over sentences in the batch\n",
        "      # each has a transition t, a buffer and a stack\n",
        "      for transition, buffer, stack in zip(t_batch, buffers, stacks):\n",
        "        if transition == SHIFT:\n",
        "          stack.append(buffer.pop())\n",
        "        elif transition == REDUCE:\n",
        "          assert len(stack) >= 2, \\\n",
        "            \"Stack too small! Should not happen with valid transition sequences\"\n",
        "          child_r.append(stack.pop())  # right child is on top\n",
        "          child_l.append(stack.pop())\n",
        "\n",
        "      # if there are sentences with reduce transition, perform them batched\n",
        "      if child_l:\n",
        "        reduced = iter(unbatch(self.reduce(batch(child_l), batch(child_r))))\n",
        "        for transition, stack in zip(t_batch, stacks):\n",
        "          if transition == REDUCE:\n",
        "            stack.append(next(reduced))\n",
        "\n",
        "    final = [stack.pop().chunk(2, -1)[0] for stack in stacks]\n",
        "    final = torch.cat(final, dim=0)  # tensor [B, D]\n",
        "\n",
        "    return final"
      ],
      "execution_count": null,
      "outputs": []
    },
    {
      "cell_type": "markdown",
      "metadata": {
        "id": "s4EzbVzqaXkw"
      },
      "source": [
        "Just like the LSTM before, we will need an extra class that does the classifications."
      ]
    },
    {
      "cell_type": "code",
      "metadata": {
        "id": "nLxpYRvtQKge"
      },
      "source": [
        "class TreeLSTMClassifier(nn.Module):\n",
        "  \"\"\"Encodes sentence with a TreeLSTM and projects final hidden state\"\"\"\n",
        "\n",
        "  def __init__(self, vocab_size, embedding_dim, hidden_dim, output_dim, vocab):\n",
        "    super(TreeLSTMClassifier, self).__init__()\n",
        "    self.vocab = vocab\n",
        "    self.hidden_dim = hidden_dim\n",
        "    self.embed = nn.Embedding(vocab_size, embedding_dim, padding_idx=1)\n",
        "    self.treelstm = TreeLSTM(embedding_dim, hidden_dim)\n",
        "    self.output_layer = nn.Sequential(     \n",
        "        nn.Dropout(p=0.5),\n",
        "        nn.Linear(hidden_dim, output_dim, bias=True)\n",
        "    )\n",
        "\n",
        "  def forward(self, x):\n",
        "    \n",
        "    # x is a pair here of words and transitions; we unpack it here.\n",
        "    # x is batch-major: [B, T], transitions is time major [2T-1, B]\n",
        "    x, transitions = x\n",
        "    emb = self.embed(x)\n",
        "    \n",
        "    # we use the root/top state of the Tree LSTM to classify the sentence\n",
        "    root_states = self.treelstm(emb, transitions)\n",
        "\n",
        "    # we use the last hidden state to classify the sentence\n",
        "    logits = self.output_layer(root_states)\n",
        "    return logits"
      ],
      "execution_count": null,
      "outputs": []
    },
    {
      "cell_type": "markdown",
      "metadata": {
        "id": "gh9RbhGwaiLg"
      },
      "source": [
        "## Special `prepare` function for Tree-LSTM\n",
        "\n",
        "We need yet another `prepare` function. For our implementation, sentences need to be *reversed*. We will do that here."
      ]
    },
    {
      "cell_type": "code",
      "metadata": {
        "id": "DiqH-_2xdm9H"
      },
      "source": [
        "def prepare_treelstm_minibatch(mb, vocab):\n",
        "  \"\"\"\n",
        "  Returns sentences reversed (last word first)\n",
        "  Returns transitions together with the sentences.  \n",
        "  \"\"\"\n",
        "  batch_size = len(mb)\n",
        "  maxlen = max([len(ex.tokens) for ex in mb])\n",
        "    \n",
        "  # vocab returns 0 if the word is not there\n",
        "  # NOTE: reversed sequence!\n",
        "  x = [pad([vocab.w2i.get(t, 0) for t in ex.tokens], maxlen)[::-1] for ex in mb]\n",
        "  \n",
        "  x = torch.LongTensor(x)\n",
        "  x = x.to(device)\n",
        "  \n",
        "  y = [ex.label for ex in mb]\n",
        "  y = torch.LongTensor(y)\n",
        "  y = y.to(device)\n",
        "  \n",
        "  maxlen_t = max([len(ex.transitions) for ex in mb])\n",
        "  transitions = [pad(ex.transitions, maxlen_t, pad_value=2) for ex in mb]\n",
        "  transitions = np.array(transitions)\n",
        "  transitions = transitions.T  # time-major\n",
        "  \n",
        "  return (x, transitions), y"
      ],
      "execution_count": null,
      "outputs": []
    },
    {
      "cell_type": "markdown",
      "metadata": {
        "id": "IMUsrlL9ayVe"
      },
      "source": [
        "## Training"
      ]
    },
    {
      "cell_type": "code",
      "metadata": {
        "id": "IpOYUdg2D3v0"
      },
      "source": [
        "# Now let's train the Tree LSTM!\n",
        "\n",
        "tree_model = TreeLSTMClassifier(\n",
        "    len(v.w2i), 300, 150, len(t2i), v)\n",
        "\n",
        "with torch.no_grad():\n",
        "  tree_model.embed.weight.data.copy_(torch.from_numpy(vectors))\n",
        "  tree_model.embed.weight.requires_grad = False\n",
        "  \n",
        "def do_train(model):\n",
        "  \n",
        "  print(model)\n",
        "  print_parameters(model)\n",
        "\n",
        "  model = model.to(device)\n",
        "\n",
        "  optimizer = optim.Adam(model.parameters(), lr=2e-4)\n",
        "  \n",
        "  return train_model(\n",
        "      model, optimizer, num_iterations=30000, \n",
        "      print_every=250, eval_every=250,\n",
        "      prep_fn=prepare_treelstm_minibatch,\n",
        "      eval_fn=evaluate,\n",
        "      batch_fn=get_minibatch,\n",
        "      batch_size=25, eval_batch_size=25)\n",
        "  \n",
        "results = do_train(tree_model)"
      ],
      "execution_count": null,
      "outputs": []
    },
    {
      "cell_type": "code",
      "metadata": {
        "id": "DHcHHaLtguUg"
      },
      "source": [
        "# plot"
      ],
      "execution_count": null,
      "outputs": []
    },
    {
      "cell_type": "markdown",
      "metadata": {
        "id": "f7QZZH86eHqu"
      },
      "source": [
        "# Further experiments and report\n",
        "\n",
        "For your report, you are expected to answer research questions by doing further experiments.\n",
        "\n",
        "## Research Questions\n",
        "\n",
        "Make sure you cover at least the following:\n",
        "\n",
        "- How important is word order for this task?\n",
        "- Does the tree structure help to get a better accuracy?\n",
        "- How does performance depend on the sentence length? Compare the various models. Is there a model that does better on longer sentences? If so, why?\n",
        "- Do you get better performance if you supervise the sentiment **at each node in the tree**? You can extract more training examples by treating every node in each tree as a separate tree. You will need to write a function that extracts all subtrees given a treestring. \n",
        "    - Warning: NLTK's Tree function seems to result in invalid trees in some cases, so be careful if you want to parse the string to a tree structure before extraction the phrases.\n",
        "\n",
        "**To obtain a full grade, you should conduct further investigations.** For example, you can also investigate the following:\n",
        "\n",
        "- When making a wrong prediction, can you figure out at what point in the tree (sentence) the model fails? You can make a prediction at each node to investigate.\n",
        "- How does N-ary Tree LSTM compare to the Child-Sum Tree LSTM? \n",
        "- How do the Tai et al. Tree LSTMs compare to Le & Zuidema's formulation?\n",
        "- Or... your own research question!\n",
        "\n",
        "In general:\n",
        "\n",
        "- ***When you report numbers, please report the mean accuracy across 3 (or more) runs with different random seed, together with the standard deviation.*** This is because the final performance may vary per random seed. \n",
        "More precisely, you should run each model with 3 different seeds, and for each of these 3 runs, evaluate the best model (according to the validation) on the test dataset. The validation dataset is used for finding the best model over iterations, but the accuracy you report should be on the test dataset.\n",
        "\n",
        "## Report instructions\n",
        "\n",
        "Your report needs to be written in LaTeX. You are required to use the ACL 2020 template which you can download from or edit directly on [Overleaf](https://www.overleaf.com/latex/templates/instructions-for-acl-2018-proceedings/xzmhqgnmkppc). Make sure your names and student numbers are visible at the top. (Tip: you need to uncomment `\\aclfinalcopy`).\n",
        "You can find some general tips about writing a research paper [here](https://www.microsoft.com/en-us/research/academic-program/write-great-research-paper/), but note that you need to make your own judgment about what is appropriate for this project. \n",
        "\n",
        "We expect you to use the following structure:\n",
        "1. Introduction (~1 page) - describe the problem, your research questions and goals, a summary of your findings and contributions. Please cite related work (models, data set) as part of your introduction here, since this is a short paper.\n",
        "    - Introduce the task and the main goal\n",
        "    - Clear research questions\n",
        "    - Motivating the importance of the questions and explaining the expectations\n",
        "    - How are these addressed or not addressed in the literature\n",
        "    - What is your approach\n",
        "    - Short summary of your findings\n",
        "2. Background (~1/2-1 page) -\n",
        "cover the main techniques (\"building blocks\") used in your project (e.g. word embeddings, LSTM, Tree-LSTM) and intuitions behind them. Be accurate and concise.\n",
        "    - How each technique that you use works (don't just copy the formulas)\n",
        "    - The relation between the techniques\n",
        "3. Models (~1/2 page) - Cover the models that you used.\n",
        "    - The architecture of the final models (How do you use LSTM or Tree-LSTM for the sentiment classification task? What layers do you have, how do you do classification? What is your loss function?)\n",
        "4. Experiments (~1/2 page) - Describe your experimental setup. The information here should allow someone else to reproduce your experiments. Describe how you evaluate the models.\n",
        "    - Explain the task and the data\n",
        "    - Training the models (model, data, parameters and hyper parameters if the models, training algorithms, what supervision signals you use, etc.)\n",
        "    - Evaluation (e.g. metrics)\n",
        "5. Results and Analysis (~1 page). Go over the results and analyse your findings.\n",
        "    - Answer each of the research questions you raised in the introduction.\n",
        "    - Plots and figures highlighting interesting patterns\n",
        "    - What are the factors that make model A better than model B in task C? Investigate to prove their effect!\n",
        "6. Conclusion (~1/4 page). The main conclusions of your experiments.\n",
        "    - What have you learned from you experiments? How does it relate to what is already known in the literature?\n",
        "    - Were the results as expected? Any surprising results? Why?\n",
        "    - Based on what you learned what would you suggest doing next?\n",
        "\n",
        "\n",
        "General Tips:\n",
        "\n",
        "- Math notation – define each variable (either in running text, or in a pseudo-legenda after or before the equation).\n",
        "- Define technical terminology you need.\n",
        "- Avoid colloquial language – everything can be said in a scientific-sounding way.\n",
        "- Avoid lengthy sentences, stay to the point.\n",
        "- Do not spend space on \"obvious\" things.\n",
        "- Do not go over the page limit. (We will deduct points for that.)\n",
        "- The page limit is 4 pages excluding references and appendix. There is no strict limit to references and appendix. However, the report needs to remain fully self-contained: the appendix should only include content that is not necessary to understand your work. For example, preprocessing decisions, model parameters, pseudocode, sample system inputs/outputs, and other details that are necessary for the exact replication of your work can be put into the appendix. However, \n",
        "\n",
        "\n",
        "An ideal report:\n",
        "- Precise, scientific-sounding, technical, to the point \n",
        "  - Little general “waffle”/chit-chat\n",
        "- Not boring – because you don’t explain obvious things too much\n",
        "- Efficient delivery of (only) the facts that we need to know to understand/reimplement\n",
        "- Results visually well-presented and described with the correct priority of importance of sub-results\n",
        "- Insightful analysis – speculation should connect to something interesting and not be too much; the reader “learns something new”\n",
        "- No typos, no colloquialisms – well-considered language\n",
        "- This normally means several re-draftings (re-orderings of information)\n"
      ]
    },
    {
      "cell_type": "code",
      "metadata": {
        "id": "uCINIXV1q1oe"
      },
      "source": [
        ""
      ],
      "execution_count": null,
      "outputs": []
    }
  ]
}