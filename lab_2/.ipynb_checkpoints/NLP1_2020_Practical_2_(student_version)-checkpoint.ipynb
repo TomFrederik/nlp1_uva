{
 "cells": [
  {
   "cell_type": "markdown",
   "metadata": {
    "id": "ptMZZMQlfn7c"
   },
   "source": [
    "------\n",
    "**You cannot apply any changes to this file, so please make sure to save it on your Google Colab drive or download it as a .ipynb file.**\n",
    "\n",
    "------\n"
   ]
  },
  {
   "cell_type": "markdown",
   "metadata": {
    "id": "jILqpPLlE9r0"
   },
   "source": [
    "# Practical 2: Representing Sentences with Neural Models"
   ]
  },
  {
   "cell_type": "markdown",
   "metadata": {
    "id": "8JXOZ5uhQ8Qq"
   },
   "source": [
    "In this second practical, we will train neural network models to obtain sentence representations. We can then use these sentence representations for a downstream task such as sentiment classification. \n",
    "\n",
    "In this notebook, we will help you to develop models for your experiments. But this time, next to completing the notebook, **you are expected to write a four-page scientific report with your findings**. Please still submit the notebook together with your scientific report so that we can reproduce your experiments. (Note: if you find it useful, you can split this notebook into multiple notebooks. If you do so, keep it mind that it should be possible for your TAs to reproduce the entire content of the notebooks without having to ask for clarifications or to copy and paste functions from one sub-notebook to another.)\n",
    "\n",
    "**Important!** The main purpose of this lab is for you to learn how to answer research questions by experimenting and then writing a scientific report.\n",
    "So you will be *judged by the quality of your report* but will lose points if your experiments are not reproducible.\n",
    "You can find the requirements for the report at the end of this notebook.\n",
    "\n",
    "\n",
    "### Data set\n",
    "We will use the [Stanford Sentiment Treebank](https://nlp.stanford.edu/sentiment/) (SST), which provides sentences, their binary tree structure, and fine-grained sentiment scores.\n",
    "This dataset is different from the one we used in the first practical. \n",
    "In Practical 1, a review consisted of several sentences, and we had one sentiment score for the whole review. Now, a review consists of a single sentence, and we have a sentiment score for each node in the binary tree that makes up the sentence, including the root node (i.e., we still have an overall sentiment score for the entire review). We will look at an example below.\n",
    "\n",
    "In the first part of this practical we will only make use of the sentence tokens whereas in the second part we will also exploit the tree structure that is provided by the SST.\n",
    "\n",
    "We will cover the following approaches:\n",
    "\n",
    "- Bag-of-words (BOW)\n",
    "- Continuous bag-of-words (CBOW)\n",
    "- Deep continuous bag-of-words (Deep CBOW)\n",
    "- LSTM\n",
    "- Tree-LSTM\n"
   ]
  },
  {
   "cell_type": "markdown",
   "metadata": {
    "id": "YbNKef3lymaj"
   },
   "source": [
    "## Preparing the data"
   ]
  },
  {
   "cell_type": "markdown",
   "metadata": {
    "id": "9jxTkpg59FlU"
   },
   "source": [
    "Let's first download the data set and take a look."
   ]
  },
  {
   "cell_type": "code",
   "execution_count": 1,
   "metadata": {
    "id": "WZp53HmMP3F2"
   },
   "outputs": [],
   "source": [
    "import re\n",
    "import os\n",
    "import random\n",
    "import time\n",
    "from collections import defaultdict\n",
    "import math\n",
    "import numpy as np\n",
    "import nltk\n",
    "import matplotlib.pyplot as plt\n",
    "plt.style.use('default')"
   ]
  },
  {
   "cell_type": "code",
   "execution_count": 2,
   "metadata": {
    "colab": {
     "base_uri": "https://localhost:8080/"
    },
    "id": "TovFkDTgE_d6",
    "outputId": "353c7e66-8591-4376-c92b-07dd2780c124"
   },
   "outputs": [
    {
     "name": "stdout",
     "output_type": "stream",
     "text": [
      "--2020-12-03 14:06:01--  http://nlp.stanford.edu/sentiment/trainDevTestTrees_PTB.zip\n",
      "Resolving nlp.stanford.edu (nlp.stanford.edu)... 171.64.67.140\n",
      "Connecting to nlp.stanford.edu (nlp.stanford.edu)|171.64.67.140|:80... connected.\n",
      "HTTP request sent, awaiting response... 302 Found\n",
      "Location: https://nlp.stanford.edu/sentiment/trainDevTestTrees_PTB.zip [following]\n",
      "--2020-12-03 14:06:01--  https://nlp.stanford.edu/sentiment/trainDevTestTrees_PTB.zip\n",
      "Connecting to nlp.stanford.edu (nlp.stanford.edu)|171.64.67.140|:443... connected.\n",
      "HTTP request sent, awaiting response... 200 OK\n",
      "Length: 789539 (771K) [application/zip]\n",
      "Saving to: ‘trainDevTestTrees_PTB.zip.3’\n",
      "\n",
      "trainDevTestTrees_P 100%[===================>] 771.03K   378KB/s    in 2.0s    \n",
      "\n",
      "2020-12-03 14:06:04 (378 KB/s) - ‘trainDevTestTrees_PTB.zip.3’ saved [789539/789539]\n",
      "\n",
      "Archive:  trainDevTestTrees_PTB.zip\n",
      "replace trees/dev.txt? [y]es, [n]o, [A]ll, [N]one, [r]ename: no\n",
      "replace trees/test.txt? [y]es, [n]o, [A]ll, [N]one, [r]ename: no\n",
      "replace trees/train.txt? [y]es, [n]o, [A]ll, [N]one, [r]ename: no\n"
     ]
    }
   ],
   "source": [
    "# un-comment if you have not downloaded the data yet\n",
    "!wget http://nlp.stanford.edu/sentiment/trainDevTestTrees_PTB.zip\n",
    "!unzip trainDevTestTrees_PTB.zip"
   ]
  },
  {
   "cell_type": "code",
   "execution_count": 3,
   "metadata": {
    "id": "0IpAphkBO5eW"
   },
   "outputs": [],
   "source": [
    "# this function reads in a textfile and fixes an issue with \"\\\\\"\n",
    "def filereader(path): \n",
    "  with open(path, mode=\"r\", encoding=\"utf-8\") as f:\n",
    "    for line in f:\n",
    "      yield line.strip().replace(\"\\\\\",\"\")"
   ]
  },
  {
   "cell_type": "markdown",
   "metadata": {
    "id": "yP_jpquiprH8"
   },
   "source": [
    "Let's look at a data point. It is a **flattened binary tree**, with sentiment scores at every node, and words as the leaves (or *terminal nodes*)."
   ]
  },
  {
   "cell_type": "code",
   "execution_count": 4,
   "metadata": {
    "colab": {
     "base_uri": "https://localhost:8080/"
    },
    "id": "ylkIopm0QJML",
    "outputId": "0acb543e-564e-4c40-8224-887e16ea85e0"
   },
   "outputs": [
    {
     "name": "stdout",
     "output_type": "stream",
     "text": [
      "(3 (2 It) (4 (4 (2 's) (4 (3 (2 a) (4 (3 lovely) (2 film))) (3 (2 with) (4 (3 (3 lovely) (2 performances)) (2 (2 by) (2 (2 (2 Buy) (2 and)) (2 Accorsi))))))) (2 .)))\n"
     ]
    }
   ],
   "source": [
    "s = next(filereader(\"trees/dev.txt\"))\n",
    "print(s)"
   ]
  },
  {
   "cell_type": "code",
   "execution_count": 5,
   "metadata": {
    "colab": {
     "base_uri": "https://localhost:8080/"
    },
    "id": "7_U7HTFwdrWt",
    "outputId": "077b82f6-d0ae-40b4-adf4-06b677d4d20f"
   },
   "outputs": [
    {
     "name": "stdout",
     "output_type": "stream",
     "text": [
      "              3                                                                     \n",
      "  ____________|____________________                                                  \n",
      " |                                 4                                                \n",
      " |        _________________________|______________________________________________   \n",
      " |       4                                                                        | \n",
      " |    ___|______________                                                          |  \n",
      " |   |                  4                                                         | \n",
      " |   |         _________|__________                                               |  \n",
      " |   |        |                    3                                              | \n",
      " |   |        |               _____|______________________                        |  \n",
      " |   |        |              |                            4                       | \n",
      " |   |        |              |            ________________|_______                |  \n",
      " |   |        |              |           |                        2               | \n",
      " |   |        |              |           |                 _______|___            |  \n",
      " |   |        3              |           |                |           2           | \n",
      " |   |    ____|_____         |           |                |        ___|_____      |  \n",
      " |   |   |          4        |           3                |       2         |     | \n",
      " |   |   |     _____|___     |      _____|_______         |    ___|___      |     |  \n",
      " 2   2   2    3         2    2     3             2        2   2       2     2     2 \n",
      " |   |   |    |         |    |     |             |        |   |       |     |     |  \n",
      " It  's  a  lovely     film with lovely     performances  by Buy     and Accorsi  . \n",
      "\n"
     ]
    }
   ],
   "source": [
    "# We can use NLTK to better visualise the tree structure of the sentence\n",
    "from nltk import Tree\n",
    "from nltk.treeprettyprinter import TreePrettyPrinter\n",
    "tree = Tree.fromstring(s)\n",
    "print(TreePrettyPrinter(tree))"
   ]
  },
  {
   "cell_type": "markdown",
   "metadata": {
    "id": "ekAWKsji9t93"
   },
   "source": [
    "The sentiment scores range from 0 (very negative) to 5 (very positive). Again, as you can see, every node in the tree is labeled with a sentiment score. For now, we will only use the score at the **root node**, i.e., the sentiment score for the complete sentence."
   ]
  },
  {
   "cell_type": "code",
   "execution_count": 6,
   "metadata": {
    "colab": {
     "base_uri": "https://localhost:8080/"
    },
    "id": "DKynLm0xPKr2",
    "outputId": "03b477d3-9ac9-4b6c-b312-649dac684d8d"
   },
   "outputs": [
    {
     "name": "stdout",
     "output_type": "stream",
     "text": [
      "['It', \"'s\", 'a', 'lovely', 'film', 'with', 'lovely', 'performances', 'by', 'Buy', 'and', 'Accorsi', '.']\n",
      "13\n"
     ]
    }
   ],
   "source": [
    "# Let's first make a function that extracts the tokens (the leaves).\n",
    "\n",
    "def tokens_from_treestring(s):\n",
    "  \"\"\"extract the tokens from a sentiment tree\"\"\"\n",
    "  return re.sub(r\"\\([0-9] |\\)\", \"\", s).split()\n",
    " \n",
    "# let's try it on our example tree\n",
    "tokens = tokens_from_treestring(s)\n",
    "print(tokens)\n",
    "print(len(tokens))"
   ]
  },
  {
   "cell_type": "markdown",
   "metadata": {
    "id": "B8vFkeqN-NLP"
   },
   "source": [
    "> *Warning: you could also parse a treestring using NLTK and ask it to return the leaves, but there seems to be an issue with NLTK not always correctly parsing the input, so do not rely on it.*"
   ]
  },
  {
   "cell_type": "code",
   "execution_count": 7,
   "metadata": {
    "id": "Akr9K_Mv4dym"
   },
   "outputs": [],
   "source": [
    "# We will also need the following function, but you can ignore this for now.\n",
    "# It is explained later on.\n",
    "\n",
    "SHIFT = 0\n",
    "REDUCE = 1\n",
    "\n",
    "\n",
    "def transitions_from_treestring(s):\n",
    "  s = re.sub(\"\\([0-5] ([^)]+)\\)\", \"0\", s)\n",
    "  s = re.sub(\"\\)\", \" )\", s)\n",
    "  s = re.sub(\"\\([0-4] \", \"\", s)\n",
    "  s = re.sub(\"\\([0-4] \", \"\", s)\n",
    "  s = re.sub(\"\\)\", \"1\", s)\n",
    "  return list(map(int, s.split()))"
   ]
  },
  {
   "cell_type": "code",
   "execution_count": 8,
   "metadata": {
    "colab": {
     "base_uri": "https://localhost:8080/"
    },
    "id": "mNtPdlwPgRat",
    "outputId": "04b7f5c7-c4d4-4b3a-d977-0b23ecdbc14c"
   },
   "outputs": [
    {
     "name": "stdout",
     "output_type": "stream",
     "text": [
      "trees/train.txt  8544\n",
      "trees/dev.txt    1101\n",
      "trees/test.txt   2210\n"
     ]
    }
   ],
   "source": [
    "# Now let's first see how large our data sets are.\n",
    "for path in (\"trees/train.txt\", \"trees/dev.txt\", \"trees/test.txt\"):\n",
    "  print(\"{:16s} {:4d}\".format(path, sum(1 for _ in filereader(path))))"
   ]
  },
  {
   "cell_type": "markdown",
   "metadata": {
    "id": "HexlSqTR_UrY"
   },
   "source": [
    "You can see that the number of sentences is not very large. That's probably because the data set required so much manual annotation. However, it is large enough to train a neural network on."
   ]
  },
  {
   "cell_type": "markdown",
   "metadata": {
    "id": "IfRjelOcsXuC"
   },
   "source": [
    "It will be useful to store each data example in an `Example` object,\n",
    "containing everything that we may need for each data point.\n",
    "It will contain the tokens, the tree, the top-level sentiment label, and \n",
    "the transitions (explained later)."
   ]
  },
  {
   "cell_type": "code",
   "execution_count": 9,
   "metadata": {
    "colab": {
     "base_uri": "https://localhost:8080/"
    },
    "id": "4I07Hb_-q8wg",
    "outputId": "b2d7f80a-720c-4d33-f8d0-2830f992a693"
   },
   "outputs": [
    {
     "name": "stdout",
     "output_type": "stream",
     "text": [
      "train 8544\n",
      "dev 1101\n",
      "test 2210\n"
     ]
    }
   ],
   "source": [
    "from collections import namedtuple\n",
    "from nltk import Tree\n",
    "\n",
    "# A simple way to define a class is using namedtuple.\n",
    "Example = namedtuple(\"Example\", [\"tokens\", \"tree\", \"label\", \"transitions\"])\n",
    "\n",
    "   \n",
    "def examplereader(path, lower=False):\n",
    "  \"\"\"Returns all examples in a file one by one.\"\"\"\n",
    "  for line in filereader(path):\n",
    "    line = line.lower() if lower else line\n",
    "    tokens = tokens_from_treestring(line)\n",
    "    tree = Tree.fromstring(line)  # use NLTK's Tree\n",
    "    label = int(line[1])\n",
    "    trans = transitions_from_treestring(line)\n",
    "    yield Example(tokens=tokens, tree=tree, label=label, transitions=trans)\n",
    "  \n",
    "\n",
    "# Let's load the data into memory.\n",
    "LOWER = False  # we will keep the original casing\n",
    "train_data = list(examplereader(\"trees/train.txt\", lower=LOWER))\n",
    "dev_data = list(examplereader(\"trees/dev.txt\", lower=LOWER))\n",
    "test_data = list(examplereader(\"trees/test.txt\", lower=LOWER))\n",
    "\n",
    "print(\"train\", len(train_data))\n",
    "print(\"dev\", len(dev_data))\n",
    "print(\"test\", len(test_data))"
   ]
  },
  {
   "cell_type": "markdown",
   "metadata": {
    "id": "6KM0bDyeVZtP"
   },
   "source": [
    "Let's check out an `Example` object."
   ]
  },
  {
   "cell_type": "code",
   "execution_count": 10,
   "metadata": {
    "colab": {
     "base_uri": "https://localhost:8080/"
    },
    "id": "J8mwcaZwxP1c",
    "outputId": "823eb7a5-64e7-47e9-b70d-01b37c835e0b"
   },
   "outputs": [
    {
     "name": "stdout",
     "output_type": "stream",
     "text": [
      "First example: Example(tokens=['It', \"'s\", 'a', 'lovely', 'film', 'with', 'lovely', 'performances', 'by', 'Buy', 'and', 'Accorsi', '.'], tree=Tree('3', [Tree('2', ['It']), Tree('4', [Tree('4', [Tree('2', [\"'s\"]), Tree('4', [Tree('3', [Tree('2', ['a']), Tree('4', [Tree('3', ['lovely']), Tree('2', ['film'])])]), Tree('3', [Tree('2', ['with']), Tree('4', [Tree('3', [Tree('3', ['lovely']), Tree('2', ['performances'])]), Tree('2', [Tree('2', ['by']), Tree('2', [Tree('2', [Tree('2', ['Buy']), Tree('2', ['and'])]), Tree('2', ['Accorsi'])])])])])])]), Tree('2', ['.'])])]), label=3, transitions=[0, 0, 0, 0, 0, 1, 1, 0, 0, 0, 1, 0, 0, 0, 1, 0, 1, 1, 1, 1, 1, 1, 0, 1, 1])\n",
      "First example tokens: ['It', \"'s\", 'a', 'lovely', 'film', 'with', 'lovely', 'performances', 'by', 'Buy', 'and', 'Accorsi', '.']\n",
      "First example label: 3\n"
     ]
    }
   ],
   "source": [
    "example = dev_data[0]\n",
    "print(\"First example:\", example)\n",
    "print(\"First example tokens:\", example.tokens)\n",
    "print(\"First example label:\",  example.label)"
   ]
  },
  {
   "cell_type": "markdown",
   "metadata": {
    "id": "-WDSprDBVcr-"
   },
   "source": [
    "#### Vocabulary \n",
    "A first step in most NLP tasks is collecting all the word types that appear in the data into a vocabulary, and counting the frequency of their occurrences. On the one hand, this will give us an overview of the word distribution of the data set (what are the most frequent words, how many rare words are there, ...). On the other hand, we will also use the vocabulary to map each word to a unique numeric ID, which is a more handy index than a string."
   ]
  },
  {
   "cell_type": "code",
   "execution_count": 11,
   "metadata": {
    "id": "VvNgKx7usRSt"
   },
   "outputs": [],
   "source": [
    "# Here we first define a class that can map a word to an ID (w2i)\n",
    "# and back (i2w).\n",
    "\n",
    "from collections import Counter, OrderedDict, defaultdict\n",
    "\n",
    "\n",
    "class OrderedCounter(Counter, OrderedDict):\n",
    "  \"\"\"Counter that remembers the order elements are first seen\"\"\"\n",
    "  def __repr__(self):\n",
    "    return '%s(%r)' % (self.__class__.__name__,\n",
    "                      OrderedDict(self))\n",
    "  def __reduce__(self):\n",
    "    return self.__class__, (OrderedDict(self),)\n",
    "\n",
    "\n",
    "class Vocabulary:\n",
    "  \"\"\"A vocabulary, assigns IDs to tokens\"\"\"\n",
    "  \n",
    "  def __init__(self):\n",
    "    self.freqs = OrderedCounter()\n",
    "    self.w2i = {}\n",
    "    self.i2w = []\n",
    "\n",
    "  def count_token(self, t):\n",
    "    self.freqs[t] += 1\n",
    "    \n",
    "  def add_token(self, t):\n",
    "    self.w2i[t] = len(self.w2i)\n",
    "    self.i2w.append(t)    \n",
    "    \n",
    "  def build(self, min_freq=0):\n",
    "    '''\n",
    "    min_freq: minimum number of occurrences for a word to be included  \n",
    "              in the vocabulary\n",
    "    '''\n",
    "    self.add_token(\"<unk>\")  # reserve 0 for <unk> (unknown words)\n",
    "    self.add_token(\"<pad>\")  # reserve 1 for <pad> (discussed later)   \n",
    "    \n",
    "    tok_freq = list(self.freqs.items())\n",
    "    tok_freq.sort(key=lambda x: x[1], reverse=True)\n",
    "    for tok, freq in tok_freq:\n",
    "      if freq >= min_freq:\n",
    "        self.add_token(tok)"
   ]
  },
  {
   "cell_type": "markdown",
   "metadata": {
    "id": "kOvkH_llVsoW"
   },
   "source": [
    "The vocabulary has by default an `<unk>` token and a `<pad>` token. The `<unk>` token is reserved for all words which do not appear in the training data (and for which, therefore, we cannot learn word representations). The function of the `<pad>` token will be explained later.\n",
    "\n",
    "\n",
    "Let's build the vocabulary!\n"
   ]
  },
  {
   "cell_type": "code",
   "execution_count": 12,
   "metadata": {
    "colab": {
     "base_uri": "https://localhost:8080/"
    },
    "id": "GwGQgQQBNUSq",
    "outputId": "dbe34e02-9bde-4b81-d7d6-6684e6d11b8b"
   },
   "outputs": [
    {
     "name": "stdout",
     "output_type": "stream",
     "text": [
      "Vocabulary size: 18280\n"
     ]
    }
   ],
   "source": [
    "# This process should be deterministic and should have the same result \n",
    "# if run multiple times on the same data set.\n",
    "\n",
    "v = Vocabulary()\n",
    "for data_set in (train_data,):\n",
    "  for ex in data_set:\n",
    "    for token in ex.tokens:\n",
    "      v.count_token(token)\n",
    "\n",
    "v.build()\n",
    "print(\"Vocabulary size:\", len(v.w2i))"
   ]
  },
  {
   "cell_type": "markdown",
   "metadata": {
    "id": "-UNIedPrPdCw"
   },
   "source": [
    "Let's have a closer look at the properties of our vocabulary. Having a good idea of what it is like can facilitate data analysis and debugging later on."
   ]
  },
  {
   "cell_type": "code",
   "execution_count": 13,
   "metadata": {
    "colab": {
     "base_uri": "https://localhost:8080/"
    },
    "id": "oJyuogmh0CA7",
    "outputId": "671cd4ab-00f7-4abf-91bc-8693fa33add7"
   },
   "outputs": [
    {
     "name": "stdout",
     "output_type": "stream",
     "text": [
      "1973\n"
     ]
    }
   ],
   "source": [
    "# What is the ID for \"century?\"\n",
    "print(v.w2i['century'])"
   ]
  },
  {
   "cell_type": "code",
   "execution_count": 14,
   "metadata": {
    "colab": {
     "base_uri": "https://localhost:8080/"
    },
    "id": "O8OkPQ8Zv-rI",
    "outputId": "9a1977db-942e-4791-fa69-79141d57e1cb"
   },
   "outputs": [
    {
     "name": "stdout",
     "output_type": "stream",
     "text": [
      "['<unk>', '<pad>', '.', ',', 'the', 'and', 'a', 'of', 'to', \"'s\"]\n"
     ]
    }
   ],
   "source": [
    "# What are the first 10 words in the vocabulary (based on their IDs)?\n",
    "print([v.i2w[i] for i in range(10)])"
   ]
  },
  {
   "cell_type": "code",
   "execution_count": 15,
   "metadata": {
    "colab": {
     "base_uri": "https://localhost:8080/"
    },
    "id": "kmXwu02lOLWI",
    "outputId": "15ad6483-b4c0-4744-d64a-bc6517b7b508"
   },
   "outputs": [
    {
     "name": "stdout",
     "output_type": "stream",
     "text": [
      "['.', ',', 'the', 'and', 'a', 'of', 'to', \"'s\", 'is', 'that']\n"
     ]
    }
   ],
   "source": [
    "# What are the 10 most common words?\n",
    "print([w for (w,freq) in Counter(v.freqs).most_common(10)])"
   ]
  },
  {
   "cell_type": "code",
   "execution_count": 16,
   "metadata": {
    "colab": {
     "base_uri": "https://localhost:8080/"
    },
    "id": "__NDPaCeOT_m",
    "outputId": "9b7b011c-6916-4b43-9dd4-81138e65627e"
   },
   "outputs": [
    {
     "name": "stdout",
     "output_type": "stream",
     "text": [
      "9543\n"
     ]
    }
   ],
   "source": [
    "# And how many words are there with frequency 1?\n",
    "# (A fancy name for these is hapax legomena.)\n",
    "print(len([w for w in v.freqs if v.freqs[w]==1]))"
   ]
  },
  {
   "cell_type": "code",
   "execution_count": 17,
   "metadata": {
    "colab": {
     "base_uri": "https://localhost:8080/"
    },
    "id": "xKHocugctZGM",
    "outputId": "c926a973-2bb7-4fa0-a983-1c67d191588b"
   },
   "outputs": [
    {
     "name": "stdout",
     "output_type": "stream",
     "text": [
      "['triangles', 'fell', 'finish', 'stereotypical', 'meanderings', 'ambivalent', 'turntablism', 'reminiscent', 'worse', 'trace', 'adoring', 'penned', 'motivated', 'Steadfastly', '129-minute', 'leading', 'engine', 'chew', '3-D', 'Snowball']\n"
     ]
    }
   ],
   "source": [
    "# Finally 20 random words from the vocabulary.\n",
    "# This is a simple way to get a feeling for the data. \n",
    "# You could use the `choice` function from the already imported `random` package\n",
    "print([random.choice(list(v.w2i.keys())) for _ in range(20)])"
   ]
  },
  {
   "cell_type": "markdown",
   "metadata": {
    "id": "nGWaZahKV_dH"
   },
   "source": [
    "#### Sentiment label vocabulary"
   ]
  },
  {
   "cell_type": "code",
   "execution_count": 18,
   "metadata": {
    "colab": {
     "base_uri": "https://localhost:8080/"
    },
    "id": "AmTC-rvQelpl",
    "outputId": "74b059c9-8a43-4bab-a867-3b1ea898659b"
   },
   "outputs": [
    {
     "name": "stdout",
     "output_type": "stream",
     "text": [
      "['very negative', 'negative', 'neutral', 'positive', 'very positive']\n",
      "very positive\n"
     ]
    }
   ],
   "source": [
    "# Now let's map the sentiment labels 0-4 to a more readable form\n",
    "i2t = [\"very negative\", \"negative\", \"neutral\", \"positive\", \"very positive\"]\n",
    "print(i2t)\n",
    "print(i2t[4])"
   ]
  },
  {
   "cell_type": "code",
   "execution_count": 19,
   "metadata": {
    "colab": {
     "base_uri": "https://localhost:8080/"
    },
    "id": "D7UI26DP2dr2",
    "outputId": "f8711813-2aac-4bfe-d1f7-199ae664a8ff"
   },
   "outputs": [
    {
     "name": "stdout",
     "output_type": "stream",
     "text": [
      "OrderedDict([('very negative', 0), ('negative', 1), ('neutral', 2), ('positive', 3), ('very positive', 4)])\n",
      "4\n"
     ]
    }
   ],
   "source": [
    "# And let's also create the opposite mapping.\n",
    "# We won't use a Vocabulary for this (although we could), since the labels\n",
    "# are already numeric.\n",
    "t2i = OrderedDict({p : i for p, i in zip(i2t, range(len(i2t)))})\n",
    "print(t2i)\n",
    "print(t2i['very positive'])"
   ]
  },
  {
   "cell_type": "markdown",
   "metadata": {
    "id": "y0067ax54-rd"
   },
   "source": [
    "## PyTorch\n",
    "\n",
    "In Colab notebooks, the last available version of PyTorch is already installed.The current stable version is 1.7.\n",
    "\n",
    "*For installing PyTorch in your own computer, follow the instructions on [pytorch.org](pytorch.org) instead. This is for Google Colab only.*"
   ]
  },
  {
   "cell_type": "code",
   "execution_count": 20,
   "metadata": {
    "colab": {
     "base_uri": "https://localhost:8080/"
    },
    "id": "qKQMGtkR5KWr",
    "outputId": "9c3362eb-dfb7-4db8-e910-9d4d001c549a"
   },
   "outputs": [
    {
     "name": "stdout",
     "output_type": "stream",
     "text": [
      "Using torch 1.7.0+cu101\n"
     ]
    }
   ],
   "source": [
    "import torch\n",
    "print(\"Using torch\", torch.__version__) # should say 1.7.0+cu101"
   ]
  },
  {
   "cell_type": "code",
   "execution_count": 21,
   "metadata": {
    "id": "mnvPcd_E1xH8"
   },
   "outputs": [],
   "source": [
    "# Let's also import torch.nn, a PyTorch package that  \n",
    "# makes building neural networks more convenient.\n",
    "from torch import nn"
   ]
  },
  {
   "cell_type": "code",
   "execution_count": 22,
   "metadata": {
    "colab": {
     "base_uri": "https://localhost:8080/"
    },
    "id": "BYt8uTyGCKc7",
    "outputId": "440a8582-852e-4f6a-8555-aed0e5fb964a"
   },
   "outputs": [
    {
     "data": {
      "text/plain": [
       "device(type='cuda')"
      ]
     },
     "execution_count": 22,
     "metadata": {
      "tags": []
     },
     "output_type": "execute_result"
    }
   ],
   "source": [
    "# PyTorch can run on CPU or on Nvidia GPU (video card) using CUDA\n",
    "# This cell selects the GPU if one is available.\n",
    "device = torch.device('cuda' if torch.cuda.is_available() else 'cpu')\n",
    "device"
   ]
  },
  {
   "cell_type": "code",
   "execution_count": 23,
   "metadata": {
    "id": "2d1VMOOYx1Bw"
   },
   "outputs": [],
   "source": [
    "# Seed manually to make runs reproducible\n",
    "# You need to set this again if you do multiple runs of the same model\n",
    "torch.manual_seed(0)\n",
    "\n",
    "# seed cuda:\n",
    "torch.cuda.manual_seed_all(0)\n",
    "\n",
    "# seed random\n",
    "random.seed(0)\n",
    "\n",
    "# seed numpy\n",
    "np.random.seed(0)\n",
    "\n",
    "# use deterministic algorithms\n",
    "torch.set_deterministic(True)\n",
    "\n",
    "if torch.cuda.is_available():\n",
    "  # When running on the CuDNN backend two further options must be set for reproducibility\n",
    "  torch.backends.cudnn.deterministic = True\n",
    "  torch.backends.cudnn.benchmark = False\n"
   ]
  },
  {
   "cell_type": "markdown",
   "metadata": {
    "id": "uWBTzkuE3CtZ"
   },
   "source": [
    "# BOW"
   ]
  },
  {
   "cell_type": "markdown",
   "metadata": {
    "id": "TBAjYYySOA5W"
   },
   "source": [
    "Our first model is a rather simple neural **bag-of-words (BOW) model**.\n",
    "Unlike the bag-of-words model that you used in the previous lab, where we would look at the presence / frequency of words in a text, here we associate each word with a multi-dimensional vector which expresses what sentiment is conveyed by the word. In particular, our BOW vectors will be of size 5, exactly our number of sentiment classes. \n",
    "\n",
    "To classify a sentence, we **sum** the vectors of the words in the sentence and a bias vector. Because we sum the vectors, we lose word order: that's why we call this a neural bag-of-words model.\n",
    "\n",
    "```\n",
    "this   [0.0, 0.1, 0.1, 0.1, 0.0]\n",
    "movie  [0.0, 0.1, 0.1, 0.2, 0.1]\n",
    "is     [0.0, 0.1, 0.0, 0.0, 0.0]\n",
    "stupid [0.9, 0.5, 0.1, 0.0, 0.0]\n",
    "\n",
    "bias   [0.0, 0.0, 0.0, 0.0, 0.0]\n",
    "--------------------------------\n",
    "sum    [0.9, 0.8, 0.3, 0.3, 0.1]\n",
    "\n",
    "argmax: 0 (very negative)\n",
    "```\n",
    "\n",
    "The **argmax** of this sum is our predicted label.\n",
    "\n",
    "We initialize all vectors *randomly* and train them using cross-entropy loss."
   ]
  },
  {
   "cell_type": "markdown",
   "metadata": {
    "id": "rLtBAIQGynkB"
   },
   "source": [
    "#### Model class"
   ]
  },
  {
   "cell_type": "code",
   "execution_count": 24,
   "metadata": {
    "id": "QZfNklWf3tvs"
   },
   "outputs": [],
   "source": [
    "class BOW(nn.Module):\n",
    "  \"\"\"A simple bag-of-words model\"\"\"\n",
    "\n",
    "  def __init__(self, vocab_size, embedding_dim, vocab):\n",
    "    super(BOW, self).__init__()\n",
    "    self.vocab = vocab\n",
    "    \n",
    "    # this is a trainable look-up table with word embeddings\n",
    "    self.embed = nn.Embedding(vocab_size, embedding_dim)\n",
    "    \n",
    "    # this is a trainable bias term\n",
    "    self.bias = nn.Parameter(torch.zeros(embedding_dim), requires_grad=True)        \n",
    "\n",
    "  def forward(self, inputs):\n",
    "    # this is the forward pass of the neural network\n",
    "    # it applies a function to the input and returns the output\n",
    "\n",
    "    # this looks up the embeddings for each word ID in inputs\n",
    "    # the result is a sequence of word embeddings\n",
    "    embeds = self.embed(inputs)\n",
    "    \n",
    "    # the output is the sum across the time dimension (1)\n",
    "    # with the bias term added\n",
    "    logits = embeds.sum(1) + self.bias\n",
    "\n",
    "    return logits"
   ]
  },
  {
   "cell_type": "code",
   "execution_count": 25,
   "metadata": {
    "colab": {
     "base_uri": "https://localhost:8080/"
    },
    "id": "eKHvBnoBAr6z",
    "outputId": "b0dba0bc-c905-46ec-a782-ff096cb069f1"
   },
   "outputs": [
    {
     "name": "stdout",
     "output_type": "stream",
     "text": [
      "BOW(\n",
      "  (embed): Embedding(18280, 5)\n",
      ")\n"
     ]
    }
   ],
   "source": [
    "# Let's create a model.\n",
    "vocab_size = len(v.w2i)\n",
    "n_classes = len(t2i)\n",
    "bow_model = BOW(vocab_size, n_classes, v)\n",
    "print(bow_model)"
   ]
  },
  {
   "cell_type": "markdown",
   "metadata": {
    "id": "vfCx-HvMH1qQ"
   },
   "source": [
    "> **Hey, wait, where is the bias vector?**\n",
    "> PyTorch does not print Parameters, only Modules!\n",
    "\n",
    "> We can print it ourselves though, to check that it is there."
   ]
  },
  {
   "cell_type": "code",
   "execution_count": 26,
   "metadata": {
    "colab": {
     "base_uri": "https://localhost:8080/"
    },
    "id": "Fhvk5HenAroT",
    "outputId": "7cd3e678-4886-40e9-8eb6-f5812110ce99"
   },
   "outputs": [
    {
     "name": "stdout",
     "output_type": "stream",
     "text": [
      "bias                     [5]          requires_grad=True\n",
      "embed.weight             [18280, 5]   requires_grad=True\n",
      "\n",
      "Total number of parameters: 91405\n",
      "\n"
     ]
    }
   ],
   "source": [
    "\n",
    "# Here we print each parameter name, shape, and if it is trainable.\n",
    "def print_parameters(model):\n",
    "  total = 0\n",
    "  for name, p in model.named_parameters():\n",
    "    total += np.prod(p.shape)\n",
    "    print(\"{:24s} {:12s} requires_grad={}\".format(name, str(list(p.shape)), p.requires_grad))\n",
    "  print(\"\\nTotal number of parameters: {}\\n\".format(total))\n",
    "    \n",
    "\n",
    "print_parameters(bow_model)"
   ]
  },
  {
   "cell_type": "markdown",
   "metadata": {
    "id": "WSAw292WxuP4"
   },
   "source": [
    "#### Preparing an example for input\n",
    "\n",
    "To feed sentences to our PyTorch model, we need to convert a sequence of tokens to a sequence of IDs. The `prepare_example` function below takes care of this for us. We then use these IDs as indices for the word embedding table. "
   ]
  },
  {
   "cell_type": "code",
   "execution_count": 32,
   "metadata": {
    "id": "YWeGTC_OGReV"
   },
   "outputs": [],
   "source": [
    "def prepare_example(example, vocab, permute=False):\n",
    "  \"\"\"\n",
    "  Map tokens to their IDs for a single example\n",
    "\n",
    "  Permute: whether to randomly permute word order. \n",
    "  \"\"\"\n",
    "  \n",
    "  # vocab returns 0 if the word is not there (i2w[0] = <unk>)\n",
    "  x = [vocab.w2i.get(t, 0) for t in example.tokens]\n",
    "  \n",
    "  x = torch.LongTensor([x])\n",
    "  x = x.to(device)\n",
    "  \n",
    "  y = torch.LongTensor([example.label])\n",
    "  y = y.to(device)\n",
    "  \n",
    "  \n",
    "  if permute:\n",
    "    idcs = np.random.permutation(np.arange(0,x.shape[1],1))    \n",
    "    x = x[:,idcs]\n",
    "  \n",
    "\n",
    "  return x, y"
   ]
  },
  {
   "cell_type": "code",
   "execution_count": 35,
   "metadata": {
    "colab": {
     "base_uri": "https://localhost:8080/"
    },
    "id": "sfbdv9px3uFF",
    "outputId": "4cc88509-f830-425a-e8df-4034665d23cb"
   },
   "outputs": [
    {
     "name": "stdout",
     "output_type": "stream",
     "text": [
      "[ 5  4  2 10  8  6  9  1  0  7 11 12  3]\n",
      "x: tensor([[  18,   16,    6,    5,   32,  998, 7688,    9,   28,  135,    0,    2,\n",
      "          998]], device='cuda:0')\n",
      "y: tensor([3], device='cuda:0')\n"
     ]
    }
   ],
   "source": [
    "x, y = prepare_example(dev_data[0], v)\n",
    "print('x:', x)\n",
    "print('y:', y)"
   ]
  },
  {
   "cell_type": "markdown",
   "metadata": {
    "id": "oKNQjEc0yXnJ"
   },
   "source": [
    "#### Evaluation\n",
    "We now need to define an evaluation metric.\n",
    "How many predictions do we get right? The accuracy will tell us.\n",
    "Make sure that you understand this code block.\n"
   ]
  },
  {
   "cell_type": "code",
   "execution_count": 39,
   "metadata": {
    "id": "yGmQLcVYKZsh"
   },
   "outputs": [],
   "source": [
    "def simple_evaluate(model, data, prep_fn=prepare_example, **kwargs):\n",
    "  \"\"\"Accuracy of a model on given data set.\"\"\"\n",
    "  correct = 0\n",
    "  total = 0\n",
    "  model.eval()  # disable dropout (explained later)\n",
    "\n",
    "  for example in data:\n",
    "    \n",
    "    if 'permute' in kwargs:\n",
    "      permute = kwargs['permute']\n",
    "    else:\n",
    "      permute = False\n",
    "\n",
    "    # convert the example input and label to PyTorch tensors\n",
    "    x, target = prep_fn(example, model.vocab, permute)\n",
    "\n",
    "    # forward pass without backpropagation (no_grad)\n",
    "    # get the output from the neural network for input x\n",
    "    with torch.no_grad():\n",
    "      logits = model(x)\n",
    "    \n",
    "    # get the prediction\n",
    "    prediction = logits.argmax(dim=-1)\n",
    "    \n",
    "    # add the number of correct predictions to the total correct\n",
    "    correct += (prediction == target).sum().item()\n",
    "    total += 1\n",
    "\n",
    "  return correct, total, correct / float(total)"
   ]
  },
  {
   "cell_type": "markdown",
   "metadata": {
    "id": "5KlIGFXllWWm"
   },
   "source": [
    "We are using accuracy as a handy evaluation metric. Please consider using [alternative metrics](https://scikit-learn.org/stable/modules/classes.html#classification-metrics) for your experiments if that makes more theoretical sense (see, e.g., Q3.3 in Practical 1). "
   ]
  },
  {
   "cell_type": "markdown",
   "metadata": {
    "id": "dIk6OtSdzGRP"
   },
   "source": [
    "#### Example feed\n",
    "For stochastic gradient descent (SGD) we will need a random training example for every update.\n",
    "We implement this by shuffling the training data and returning examples one by one using `yield`.\n",
    "\n",
    "Shuffling is optional so that we get to use this function to get validation and test examples, too."
   ]
  },
  {
   "cell_type": "code",
   "execution_count": 40,
   "metadata": {
    "id": "dxDFOZLfCXvJ"
   },
   "outputs": [],
   "source": [
    "def get_examples(data, shuffle=True, **kwargs):\n",
    "  \"\"\"Shuffle data set and return 1 example at a time (until nothing left)\"\"\"\n",
    "  if shuffle:\n",
    "    print(\"Shuffling training data\")\n",
    "    random.shuffle(data)  # shuffle training data each epoch\n",
    "  for example in data:\n",
    "    yield example"
   ]
  },
  {
   "cell_type": "markdown",
   "metadata": {
    "id": "g09SM8yb2cjx"
   },
   "source": [
    "#### Exercise: Training function\n",
    "\n",
    "Your task is now to complete the training loop below.\n",
    "Before you do so, please read the section about optimisation."
   ]
  },
  {
   "cell_type": "markdown",
   "metadata": {
    "id": "TVfUukVdM_1c"
   },
   "source": [
    "**Optimisation**\n",
    "\n",
    "As mentioned in the \"Intro to PyTorch\" notebook, one of the perks of using PyTorch is automatic differentiation. We will use it to train our BOW model. \n",
    "\n",
    "We train our model by feeding it an input, performing a **forward** pass, obtaining an output prediction, and calculating a **loss** with our loss function.\n",
    "After the gradients are computed in the **backward** pass, we can take a step on the surface of the loss function towards more optimal parameter settings (gradient descent). \n",
    "\n",
    "The package we will use to do this optimisation is [torch.optim](https://pytorch.org/docs/stable/optim.html). "
   ]
  },
  {
   "cell_type": "code",
   "execution_count": 41,
   "metadata": {
    "id": "KhQigDrQ--YU"
   },
   "outputs": [],
   "source": [
    "from torch import optim"
   ]
  },
  {
   "cell_type": "markdown",
   "metadata": {
    "id": "wGIvcTZU_Cez"
   },
   "source": [
    "Besides implementations of stochastic gradient descent (SGD), this package also implements the optimisation algorithm Adam, which we'll be using in this practical. \n",
    "For the purposes of this assignment you do not need to know what Adam does besides that it uses gradient information to update our model parameters by calling: \n",
    "\n",
    "```\n",
    "optimizer.step()\n",
    "```\n",
    "Remember when we updated our parameters in the PyTorch tutorial in a loop?\n",
    "\n",
    "\n",
    "```python\n",
    "# update weights\n",
    "learning_rate = 0.5\n",
    "for f in net.parameters():\n",
    "    # for each parameter, take a small step in the opposite dir of the gradient\n",
    "    p.data = p.data - p.grad.data * learning_rate\n",
    "\n",
    "```\n",
    "The function call optimizer.step() does effectively the same thing.\n",
    "\n",
    "*(If you want to know more about optimisation algorithms using gradient information, [this blog](http://ruder.io/optimizing-gradient-descent/.) gives a nice intuitive overview.)*"
   ]
  },
  {
   "cell_type": "code",
   "execution_count": 82,
   "metadata": {
    "id": "ktFnKBux25lD"
   },
   "outputs": [],
   "source": [
    "def train_model(model, optimizer, num_iterations=10000, \n",
    "                print_every=1000, eval_every=1000,\n",
    "                batch_fn=get_examples, \n",
    "                prep_fn=prepare_example,\n",
    "                eval_fn=simple_evaluate,\n",
    "                permute=False,\n",
    "                batch_size=1, eval_batch_size=None,\n",
    "                patience=0, suffix=\"\"):\n",
    "    \"\"\"Train a model.\n",
    "    \n",
    "    The patience parameter is the number of evaluations after which\n",
    "    training is stopped if the model hasn't set a new highscore (so training\n",
    "    is stopped after than eval_every * patience steps without a highscore).\n",
    "    If patience = 0, this feature is disabled. In any case, training is\n",
    "    stopped after num_iterations. Set num_iterations to zero to treat it as infinite.\n",
    "    \n",
    "    Suffix is appended to the model checkpoint filename.\n",
    "    Permute - whether to permute the word order\n",
    "    \"\"\"  \n",
    "    iter_i = 0\n",
    "    train_loss = 0.\n",
    "    print_num = 0\n",
    "    start = time.time()\n",
    "    criterion = nn.CrossEntropyLoss() # loss function\n",
    "    best_eval = 0.\n",
    "    best_iter = 0\n",
    "\n",
    "    # store train loss and validation accuracy during training\n",
    "    # so we can plot them afterwards\n",
    "    losses = []\n",
    "    accuracies = []  \n",
    "\n",
    "    if eval_batch_size is None:\n",
    "        eval_batch_size = batch_size\n",
    "  \n",
    "    while True:  # when we run out of examples, shuffle and continue\n",
    "        for batch in batch_fn(train_data, batch_size=batch_size):\n",
    "\n",
    "            # forward pass\n",
    "            model.train()\n",
    "            x, targets = prep_fn(batch, model.vocab)\n",
    "            logits = model(x)\n",
    "\n",
    "            B = targets.size(0)  # later we will use B examples per update\n",
    "\n",
    "            # compute cross-entropy loss (our criterion)\n",
    "            # note that the cross entropy loss function computes the softmax for us\n",
    "            loss = criterion(logits.view([B, -1]), targets.view(-1))\n",
    "            train_loss += loss.item()\n",
    "\n",
    "            # backward pass (tip: check the Introduction to PyTorch notebook)\n",
    "\n",
    "            # erase previous gradients\n",
    "            optimizer.zero_grad()\n",
    "            # YOUR CODE HERE\n",
    "\n",
    "            # compute gradients\n",
    "            # YOUR CODE HERE\n",
    "            loss.backward()\n",
    "\n",
    "            # update weights - take a small step in the opposite dir of the gradient\n",
    "            # YOUR CODE HERE\n",
    "            optimizer.step()\n",
    "\n",
    "            print_num += 1\n",
    "            iter_i += 1\n",
    "\n",
    "            # print info\n",
    "            if iter_i % print_every == 0:\n",
    "                print(\"Iter %r: loss=%.4f, time=%.2fs\" % \n",
    "                      (iter_i, train_loss, time.time()-start))\n",
    "                losses.append(train_loss)\n",
    "                print_num = 0        \n",
    "                train_loss = 0.\n",
    "\n",
    "            # evaluate\n",
    "            if iter_i % eval_every == 0:\n",
    "                _, _, accuracy = eval_fn(model, dev_data, batch_size=eval_batch_size,\n",
    "                                         batch_fn=batch_fn, prep_fn=prep_fn, permute=permute)\n",
    "                accuracies.append(accuracy)\n",
    "                print(\"iter %r: dev acc=%.4f\" % (iter_i, accuracy))       \n",
    "        \n",
    "                # save best model parameters\n",
    "                if accuracy > best_eval:\n",
    "                    print(\"new highscore\")\n",
    "                    best_eval = accuracy\n",
    "                    best_iter = iter_i\n",
    "                    path = \"{}_{}.pt\".format(model.__class__.__name__, suffix)\n",
    "                    ckpt = {\n",
    "                      \"state_dict\": model.state_dict(),\n",
    "                      \"optimizer_state_dict\": optimizer.state_dict(),\n",
    "                      \"best_eval\": best_eval,\n",
    "                      \"best_iter\": best_iter\n",
    "                    }\n",
    "                    torch.save(ckpt, path)\n",
    "\n",
    "            # done training\n",
    "            if iter_i == num_iterations or ((patience > 0) and iter_i - best_iter >= patience * eval_every):\n",
    "                if patience > 0 and (iter_i - best_iter >= patience * eval_every):\n",
    "                    print(\"Stopping early because there was no improvement for {} steps\".format(iter_i - best_iter))\n",
    "                print(\"Done training\")\n",
    "\n",
    "                # evaluate on train, dev, and test with best model\n",
    "                print(\"Loading best model\")\n",
    "                path = \"{}_{}.pt\".format(model.__class__.__name__, suffix)        \n",
    "                ckpt = torch.load(path)\n",
    "                model.load_state_dict(ckpt[\"state_dict\"])\n",
    "\n",
    "                _, _, train_acc = eval_fn(\n",
    "                    model, train_data, batch_size=eval_batch_size, \n",
    "                    batch_fn=batch_fn, prep_fn=prep_fn)\n",
    "                _, _, dev_acc = eval_fn(\n",
    "                    model, dev_data, batch_size=eval_batch_size,\n",
    "                    batch_fn=batch_fn, prep_fn=prep_fn)\n",
    "                _, _, test_acc = eval_fn(\n",
    "                    model, test_data, batch_size=eval_batch_size, \n",
    "                    batch_fn=batch_fn, prep_fn=prep_fn)\n",
    "\n",
    "                print(\"best model iter {:d}: \"\n",
    "                      \"train acc={:.4f}, dev acc={:.4f}, test acc={:.4f}\".format(\n",
    "                          best_iter, train_acc, dev_acc, test_acc))\n",
    "\n",
    "                return (losses, accuracies), (train_acc, dev_acc, test_acc)\n",
    "\n",
    "def train_loop(model_generator, optimizer_generator,\n",
    "               num_iterations=10000, \n",
    "               print_every=1000, eval_every=1000,\n",
    "               batch_fn=get_examples, \n",
    "               prep_fn=prepare_example,\n",
    "               eval_fn=simple_evaluate,\n",
    "               permute=False,\n",
    "               batch_size=1, eval_batch_size=None,\n",
    "               patience=0,\n",
    "               num_seeds=3,\n",
    "               add_suffix=''):\n",
    "    \"\"\"Train a model with multiple seeds.\n",
    "    \n",
    "    model_generator should be a function that returns a model instance.\n",
    "    optimizer_generator should be a function that takes a model instance\n",
    "    and return an optimizer.\n",
    "    \n",
    "    Returns three lists: losses, accuracies, best_accuracies.\n",
    "    For the first two, the first axis enumerates the different seeds and\n",
    "    the second axis is time. For best_accuracies, the first axis has length\n",
    "    three and contains the train, validation and test accuracies (in that order).\n",
    "    The second axis enumerates seeds.\"\"\"\n",
    "    print('Permute is turned on!' if permute else 'Permute is turned off.')\n",
    "    losses = []\n",
    "    accuracies = []\n",
    "    best_accuracies = []\n",
    "    for seed in range(num_seeds):\n",
    "        print(\"Training new model with seed {}\".format(seed))\n",
    "        print(\"=\" * 50)\n",
    "\n",
    "        ## Seeding\n",
    "        # seed torch\n",
    "        torch.manual_seed(seed)\n",
    "        \n",
    "        # seed cuda\n",
    "        torch.cuda.manual_seed_all(seed)\n",
    "        \n",
    "        # seed random        \n",
    "        random.seed(seed)\n",
    "\n",
    "        # seed numpy\n",
    "        np.random.seed(seed)\n",
    "\n",
    "        ##\n",
    "        \n",
    "        \n",
    "        # set up model and optimizer\n",
    "        model = model_generator()\n",
    "        optimizer = optimizer_generator(model)\n",
    "\n",
    "        # train model\n",
    "        (new_losses, new_accuracies), best_accs = train_model(model, optimizer, num_iterations,\n",
    "                    print_every, eval_every, batch_fn, prep_fn, eval_fn, permute,\n",
    "                    batch_size, eval_batch_size, patience, suffix=add_suffix+str(seed))\n",
    "        \n",
    "        # log performance\n",
    "        losses.append(new_losses)\n",
    "        accuracies.append(new_accuracies)\n",
    "        best_accuracies.append(best_accs)\n",
    "    \n",
    "    # transpose accuracy list\n",
    "    best_accuracies = list(zip(*best_accuracies))\n",
    "\n",
    "    print(\"Test accuracy:\", np.mean(best_accuracies[2]), \"+-\", np.std(best_accuracies[2]))\n",
    "    return losses, accuracies, best_accuracies\n",
    "  "
   ]
  },
  {
   "cell_type": "markdown",
   "metadata": {
    "id": "XEPsLvI-3D5b"
   },
   "source": [
    "### Training the BOW model"
   ]
  },
  {
   "cell_type": "code",
   "execution_count": 44,
   "metadata": {
    "colab": {
     "base_uri": "https://localhost:8080/",
     "height": 510
    },
    "id": "9luJnNuN_d3q",
    "outputId": "d46636cd-f6c8-4365-ed6b-1166ee9dde9f"
   },
   "outputs": [
    {
     "name": "stdout",
     "output_type": "stream",
     "text": [
      "Permute is turned off.\n",
      "Training new model with seed 0\n",
      "==================================================\n",
      "Shuffling training data\n",
      "Iter 1000: loss=5887.2240, time=1.02s\n",
      "iter 1000: dev acc=0.1889\n",
      "new highscore\n",
      "Iter 2000: loss=5599.4034, time=2.31s\n",
      "iter 2000: dev acc=0.1953\n",
      "new highscore\n"
     ]
    },
    {
     "ename": "KeyboardInterrupt",
     "evalue": "ignored",
     "output_type": "error",
     "traceback": [
      "\u001b[0;31m---------------------------------------------------------------------------\u001b[0m",
      "\u001b[0;31mKeyboardInterrupt\u001b[0m                         Traceback (most recent call last)",
      "\u001b[0;32m<ipython-input-44-2b441fa1d4d4>\u001b[0m in \u001b[0;36m<module>\u001b[0;34m()\u001b[0m\n\u001b[1;32m      9\u001b[0m     \u001b[0;32mlambda\u001b[0m\u001b[0;34m:\u001b[0m \u001b[0mBOW\u001b[0m\u001b[0;34m(\u001b[0m\u001b[0mlen\u001b[0m\u001b[0;34m(\u001b[0m\u001b[0mv\u001b[0m\u001b[0;34m.\u001b[0m\u001b[0mw2i\u001b[0m\u001b[0;34m)\u001b[0m\u001b[0;34m,\u001b[0m \u001b[0mlen\u001b[0m\u001b[0;34m(\u001b[0m\u001b[0mt2i\u001b[0m\u001b[0;34m)\u001b[0m\u001b[0;34m,\u001b[0m \u001b[0mvocab\u001b[0m\u001b[0;34m=\u001b[0m\u001b[0mv\u001b[0m\u001b[0;34m)\u001b[0m\u001b[0;34m.\u001b[0m\u001b[0mto\u001b[0m\u001b[0;34m(\u001b[0m\u001b[0mdevice\u001b[0m\u001b[0;34m)\u001b[0m\u001b[0;34m,\u001b[0m\u001b[0;34m\u001b[0m\u001b[0;34m\u001b[0m\u001b[0m\n\u001b[1;32m     10\u001b[0m     \u001b[0;32mlambda\u001b[0m \u001b[0mmodel\u001b[0m\u001b[0;34m:\u001b[0m \u001b[0moptim\u001b[0m\u001b[0;34m.\u001b[0m\u001b[0mAdam\u001b[0m\u001b[0;34m(\u001b[0m\u001b[0mmodel\u001b[0m\u001b[0;34m.\u001b[0m\u001b[0mparameters\u001b[0m\u001b[0;34m(\u001b[0m\u001b[0;34m)\u001b[0m\u001b[0;34m,\u001b[0m \u001b[0mlr\u001b[0m\u001b[0;34m=\u001b[0m\u001b[0;36m0.0005\u001b[0m\u001b[0;34m)\u001b[0m\u001b[0;34m,\u001b[0m\u001b[0;34m\u001b[0m\u001b[0;34m\u001b[0m\u001b[0m\n\u001b[0;32m---> 11\u001b[0;31m     num_iterations=0, print_every=1000, eval_every=1000, patience=20)\n\u001b[0m",
      "\u001b[0;32m<ipython-input-43-997a791dceae>\u001b[0m in \u001b[0;36mtrain_loop\u001b[0;34m(model_generator, optimizer_generator, num_iterations, print_every, eval_every, batch_fn, prep_fn, eval_fn, permute, batch_size, eval_batch_size, patience, num_seeds)\u001b[0m\n\u001b[1;32m    175\u001b[0m         (new_losses, new_accuracies), best_accs = train_model(model, optimizer, num_iterations,\n\u001b[1;32m    176\u001b[0m                     \u001b[0mprint_every\u001b[0m\u001b[0;34m,\u001b[0m \u001b[0meval_every\u001b[0m\u001b[0;34m,\u001b[0m \u001b[0mbatch_fn\u001b[0m\u001b[0;34m,\u001b[0m \u001b[0mprep_fn\u001b[0m\u001b[0;34m,\u001b[0m \u001b[0meval_fn\u001b[0m\u001b[0;34m,\u001b[0m \u001b[0mpermute\u001b[0m\u001b[0;34m,\u001b[0m\u001b[0;34m\u001b[0m\u001b[0;34m\u001b[0m\u001b[0m\n\u001b[0;32m--> 177\u001b[0;31m                     batch_size, eval_batch_size, patience, suffix=seed)\n\u001b[0m\u001b[1;32m    178\u001b[0m \u001b[0;34m\u001b[0m\u001b[0m\n\u001b[1;32m    179\u001b[0m         \u001b[0;31m# log performance\u001b[0m\u001b[0;34m\u001b[0m\u001b[0;34m\u001b[0m\u001b[0;34m\u001b[0m\u001b[0m\n",
      "\u001b[0;32m<ipython-input-43-997a791dceae>\u001b[0m in \u001b[0;36mtrain_model\u001b[0;34m(model, optimizer, num_iterations, print_every, eval_every, batch_fn, prep_fn, eval_fn, permute, batch_size, eval_batch_size, patience, suffix)\u001b[0m\n\u001b[1;32m     57\u001b[0m             \u001b[0;31m# compute gradients\u001b[0m\u001b[0;34m\u001b[0m\u001b[0;34m\u001b[0m\u001b[0;34m\u001b[0m\u001b[0m\n\u001b[1;32m     58\u001b[0m             \u001b[0;31m# YOUR CODE HERE\u001b[0m\u001b[0;34m\u001b[0m\u001b[0;34m\u001b[0m\u001b[0;34m\u001b[0m\u001b[0m\n\u001b[0;32m---> 59\u001b[0;31m             \u001b[0mloss\u001b[0m\u001b[0;34m.\u001b[0m\u001b[0mbackward\u001b[0m\u001b[0;34m(\u001b[0m\u001b[0;34m)\u001b[0m\u001b[0;34m\u001b[0m\u001b[0;34m\u001b[0m\u001b[0m\n\u001b[0m\u001b[1;32m     60\u001b[0m \u001b[0;34m\u001b[0m\u001b[0m\n\u001b[1;32m     61\u001b[0m             \u001b[0;31m# update weights - take a small step in the opposite dir of the gradient\u001b[0m\u001b[0;34m\u001b[0m\u001b[0;34m\u001b[0m\u001b[0;34m\u001b[0m\u001b[0m\n",
      "\u001b[0;32m/usr/local/lib/python3.6/dist-packages/torch/tensor.py\u001b[0m in \u001b[0;36mbackward\u001b[0;34m(self, gradient, retain_graph, create_graph)\u001b[0m\n\u001b[1;32m    219\u001b[0m                 \u001b[0mretain_graph\u001b[0m\u001b[0;34m=\u001b[0m\u001b[0mretain_graph\u001b[0m\u001b[0;34m,\u001b[0m\u001b[0;34m\u001b[0m\u001b[0;34m\u001b[0m\u001b[0m\n\u001b[1;32m    220\u001b[0m                 create_graph=create_graph)\n\u001b[0;32m--> 221\u001b[0;31m         \u001b[0mtorch\u001b[0m\u001b[0;34m.\u001b[0m\u001b[0mautograd\u001b[0m\u001b[0;34m.\u001b[0m\u001b[0mbackward\u001b[0m\u001b[0;34m(\u001b[0m\u001b[0mself\u001b[0m\u001b[0;34m,\u001b[0m \u001b[0mgradient\u001b[0m\u001b[0;34m,\u001b[0m \u001b[0mretain_graph\u001b[0m\u001b[0;34m,\u001b[0m \u001b[0mcreate_graph\u001b[0m\u001b[0;34m)\u001b[0m\u001b[0;34m\u001b[0m\u001b[0;34m\u001b[0m\u001b[0m\n\u001b[0m\u001b[1;32m    222\u001b[0m \u001b[0;34m\u001b[0m\u001b[0m\n\u001b[1;32m    223\u001b[0m     \u001b[0;32mdef\u001b[0m \u001b[0mregister_hook\u001b[0m\u001b[0;34m(\u001b[0m\u001b[0mself\u001b[0m\u001b[0;34m,\u001b[0m \u001b[0mhook\u001b[0m\u001b[0;34m)\u001b[0m\u001b[0;34m:\u001b[0m\u001b[0;34m\u001b[0m\u001b[0;34m\u001b[0m\u001b[0m\n",
      "\u001b[0;32m/usr/local/lib/python3.6/dist-packages/torch/autograd/__init__.py\u001b[0m in \u001b[0;36mbackward\u001b[0;34m(tensors, grad_tensors, retain_graph, create_graph, grad_variables)\u001b[0m\n\u001b[1;32m    130\u001b[0m     Variable._execution_engine.run_backward(\n\u001b[1;32m    131\u001b[0m         \u001b[0mtensors\u001b[0m\u001b[0;34m,\u001b[0m \u001b[0mgrad_tensors_\u001b[0m\u001b[0;34m,\u001b[0m \u001b[0mretain_graph\u001b[0m\u001b[0;34m,\u001b[0m \u001b[0mcreate_graph\u001b[0m\u001b[0;34m,\u001b[0m\u001b[0;34m\u001b[0m\u001b[0;34m\u001b[0m\u001b[0m\n\u001b[0;32m--> 132\u001b[0;31m         allow_unreachable=True)  # allow_unreachable flag\n\u001b[0m\u001b[1;32m    133\u001b[0m \u001b[0;34m\u001b[0m\u001b[0m\n\u001b[1;32m    134\u001b[0m \u001b[0;34m\u001b[0m\u001b[0m\n",
      "\u001b[0;31mKeyboardInterrupt\u001b[0m: "
     ]
    }
   ],
   "source": [
    "# If everything is in place we can now train our first model!\n",
    "#bow_model = BOW(len(v.w2i), len(t2i), vocab=v)\n",
    "#print(bow_model)\n",
    "\n",
    "#bow_model = bow_model.to(device)\n",
    "\n",
    "#optimizer = optim.Adam(bow_model.parameters(), lr=0.0005)\n",
    "bow_losses, bow_accuracies, best_accs = train_loop(\n",
    "    lambda: BOW(len(v.w2i), len(t2i), vocab=v).to(device),\n",
    "    lambda model: optim.Adam(model.parameters(), lr=0.0005),\n",
    "    num_iterations=0, print_every=1000, eval_every=1000, patience=20)\n"
   ]
  },
  {
   "cell_type": "code",
   "execution_count": 88,
   "metadata": {
    "id": "RBhQ4oR78xYe"
   },
   "outputs": [],
   "source": [
    "def plot_results(losses, accuracies, filename=None, eval_every=100):\n",
    "    plt.figure(figsize=(12, 6))\n",
    "    plt.subplot(1, 2, 1)\n",
    "    for run in losses:\n",
    "        plt.plot(run)\n",
    "    plt.xlabel(\"Steps / {}\".format(eval_every))\n",
    "    plt.ylabel(\"Loss\")\n",
    "    plt.subplot(1, 2, 2)\n",
    "    for run in accuracies:\n",
    "        plt.plot(run)\n",
    "    plt.xlabel(\"Steps / {}\".format(eval_every))\n",
    "    plt.ylabel(\"Accuracy\")\n",
    "\n",
    "    if filename is not None:\n",
    "        os.makedirs(os.path.dirname(filename), exist_ok=True)\n",
    "        plt.savefig(filename)"
   ]
  },
  {
   "cell_type": "code",
   "execution_count": 89,
   "metadata": {
    "colab": {
     "base_uri": "https://localhost:8080/",
     "height": 180
    },
    "id": "dvYLj8LIAzfS",
    "outputId": "09da7335-48a4-47d0-f1fe-ab72a860d4dc"
   },
   "outputs": [
    {
     "ename": "NameError",
     "evalue": "ignored",
     "output_type": "error",
     "traceback": [
      "\u001b[0;31m---------------------------------------------------------------------------\u001b[0m",
      "\u001b[0;31mNameError\u001b[0m                                 Traceback (most recent call last)",
      "\u001b[0;32m<ipython-input-89-12e430753318>\u001b[0m in \u001b[0;36m<module>\u001b[0;34m()\u001b[0m\n\u001b[1;32m      1\u001b[0m \u001b[0;31m# This will plot the validation accuracies across time.\u001b[0m\u001b[0;34m\u001b[0m\u001b[0;34m\u001b[0m\u001b[0;34m\u001b[0m\u001b[0m\n\u001b[0;32m----> 2\u001b[0;31m \u001b[0mplot_results\u001b[0m\u001b[0;34m(\u001b[0m\u001b[0mbow_losses\u001b[0m\u001b[0;34m,\u001b[0m \u001b[0mbow_accuracies\u001b[0m\u001b[0;34m,\u001b[0m \u001b[0;34m\"fig/bow.pdf\"\u001b[0m\u001b[0;34m)\u001b[0m\u001b[0;34m\u001b[0m\u001b[0;34m\u001b[0m\u001b[0m\n\u001b[0m",
      "\u001b[0;31mNameError\u001b[0m: name 'bow_losses' is not defined"
     ]
    }
   ],
   "source": [
    "# This will plot the validation accuracies across time.\n",
    "plot_results(bow_losses, bow_accuracies, \"fig/bow.pdf\", eval_every=1000)"
   ]
  },
  {
   "cell_type": "markdown",
   "metadata": {
    "id": "Psxh-Le1BMDQ"
   },
   "source": [
    "Please note that we set the number of iterations to 30K as an indicative value, after which we simply stop training without checking for convergence. You should choose an appropriate number of iterations and motivate your decision. **This holds for all pre-set numbers of iteration in the following code blocks.**"
   ]
  },
  {
   "cell_type": "markdown",
   "metadata": {
    "id": "E9mB1_XhMPNN"
   },
   "source": [
    "# CBOW"
   ]
  },
  {
   "cell_type": "markdown",
   "metadata": {
    "id": "pWk78FvNMw4o"
   },
   "source": [
    "We now continue with a **continuous bag-of-words (CBOW)** model. (*This is not the same as the word2vec CBOW model!*)\n",
    "\n",
    "It is similar to the BOW model above, but now embeddings can have a dimension of *arbitrary size*. \n",
    "This means that we can choose a higher dimensionality and learn more aspects of each word. We will still sum word vectors to get a sentence representation, but now the size of the resulting vector will no longer correspond to the number of sentiment classes. \n",
    "\n",
    "So to turn the size of our summed vector into the number of output classes, we can *learn* a parameter matrix $W$ and multiply it by the sum vector $x$: $$Wx$$\n",
    "If the size of $x$ is `d x 1`, we can set $W$ to be `5 x d`, so that the output of the matrix multiplication will be the of the desired size, `5 x 1`. Then, just like for the BOW model, we can obtain a prediction using the argmax function."
   ]
  },
  {
   "cell_type": "markdown",
   "metadata": {
    "id": "gIjrCPfCwsXI"
   },
   "source": [
    "## Exercise: implement and train the CBOW model\n",
    "\n",
    "Write a class `CBOW` that:\n",
    "\n",
    "- has word embeddings with size 300\n",
    "- sums the word vectors for the input words (just like in `BOW`)\n",
    "- projects the resulting vector down to 5 units using a linear layer and a bias term (check out `nn.Linear`)\n",
    "\n",
    "Train your CBOW model and plot the validation accuracy and training loss over time."
   ]
  },
  {
   "cell_type": "code",
   "execution_count": 99,
   "metadata": {
    "id": "PEV22aR2MP0Q"
   },
   "outputs": [],
   "source": [
    "# YOUR CODE HERE\n",
    "\n",
    "class CBOW(nn.Module):\n",
    "    \n",
    "    def __init__(self, vocab_size, embedding_dim, vocab, num_classes):\n",
    "        super(CBOW, self).__init__()\n",
    "        \n",
    "        self.vocab = vocab\n",
    "\n",
    "        # this is a trainable look-up table with word embeddings\n",
    "        self.embed = nn.Embedding(vocab_size, embedding_dim)\n",
    "\n",
    "        # linear projection layer\n",
    "        self.linear = nn.Linear(embedding_dim, num_classes)\n",
    "        \n",
    "        \n",
    "    def forward(self, inputs):\n",
    "        # this is the forward pass of the neural network\n",
    "        # it applies a function to the input and returns the output\n",
    "\n",
    "        # this looks up the embeddings for each word ID in inputs\n",
    "        # the result is a sequence of word embeddings\n",
    "        embeds = self.embed(inputs)\n",
    "\n",
    "        # project from embedding to output space\n",
    "        out = self.linear(embeds)\n",
    "        \n",
    "        # the output is the sum across the time dimension (1)\n",
    "        # with the bias term added\n",
    "        logits = out.sum(1)\n",
    "\n",
    "        return logits\n"
   ]
  },
  {
   "cell_type": "code",
   "execution_count": 100,
   "metadata": {
    "colab": {
     "base_uri": "https://localhost:8080/"
    },
    "id": "Ui2g8jStFqnT",
    "outputId": "b8e2a9af-b1e3-4cef-df06-a7425fe8ef63"
   },
   "outputs": [
    {
     "name": "stdout",
     "output_type": "stream",
     "text": [
      "Training new model with seed 0\n",
      "==================================================\n",
      "Shuffling training data\n",
      "Iter 1000: loss=2632.0533, time=1.79s\n",
      "iter 1000: dev acc=0.2679\n",
      "new highscore\n",
      "Iter 2000: loss=2328.1884, time=4.05s\n",
      "iter 2000: dev acc=0.2598\n",
      "Iter 3000: loss=2080.3094, time=6.17s\n",
      "iter 3000: dev acc=0.2943\n",
      "new highscore\n",
      "Iter 4000: loss=2070.2781, time=8.48s\n",
      "iter 4000: dev acc=0.2870\n",
      "Iter 5000: loss=1963.5785, time=10.62s\n",
      "iter 5000: dev acc=0.2897\n",
      "Iter 6000: loss=1941.3843, time=12.71s\n",
      "iter 6000: dev acc=0.2652\n",
      "Iter 7000: loss=1957.7897, time=14.78s\n",
      "iter 7000: dev acc=0.2834\n",
      "Iter 8000: loss=1881.6626, time=16.91s\n",
      "iter 8000: dev acc=0.2970\n",
      "new highscore\n",
      "Shuffling training data\n",
      "Iter 9000: loss=1717.5806, time=19.24s\n",
      "iter 9000: dev acc=0.2834\n",
      "Iter 10000: loss=1620.8702, time=21.36s\n",
      "iter 10000: dev acc=0.3097\n",
      "new highscore\n",
      "Iter 11000: loss=1632.6731, time=23.67s\n",
      "iter 11000: dev acc=0.2661\n",
      "Iter 12000: loss=1607.4218, time=25.79s\n",
      "iter 12000: dev acc=0.2816\n",
      "Iter 13000: loss=1681.0001, time=27.90s\n",
      "iter 13000: dev acc=0.3279\n",
      "new highscore\n",
      "Iter 14000: loss=1668.8697, time=30.16s\n",
      "iter 14000: dev acc=0.2988\n",
      "Iter 15000: loss=1655.7865, time=32.26s\n",
      "iter 15000: dev acc=0.3297\n",
      "new highscore\n",
      "Iter 16000: loss=1594.3931, time=34.52s\n",
      "iter 16000: dev acc=0.3161\n",
      "Iter 17000: loss=1549.7299, time=36.64s\n",
      "iter 17000: dev acc=0.3015\n",
      "Shuffling training data\n",
      "Iter 18000: loss=1278.9577, time=38.74s\n",
      "iter 18000: dev acc=0.3279\n",
      "Iter 19000: loss=1257.7199, time=40.82s\n",
      "iter 19000: dev acc=0.3152\n",
      "Iter 20000: loss=1353.3996, time=42.90s\n",
      "iter 20000: dev acc=0.3406\n",
      "new highscore\n",
      "Iter 21000: loss=1337.8192, time=45.16s\n",
      "iter 21000: dev acc=0.3315\n",
      "Iter 22000: loss=1348.1044, time=47.28s\n",
      "iter 22000: dev acc=0.3288\n",
      "Iter 23000: loss=1326.3658, time=49.39s\n",
      "iter 23000: dev acc=0.3288\n",
      "Iter 24000: loss=1392.5012, time=51.56s\n",
      "iter 24000: dev acc=0.3306\n",
      "Iter 25000: loss=1399.2982, time=53.71s\n",
      "iter 25000: dev acc=0.3315\n",
      "Shuffling training data\n",
      "Iter 26000: loss=1190.2750, time=55.85s\n",
      "iter 26000: dev acc=0.3442\n",
      "new highscore\n",
      "Iter 27000: loss=1014.2394, time=58.15s\n",
      "iter 27000: dev acc=0.3588\n",
      "new highscore\n",
      "Iter 28000: loss=968.9265, time=60.42s\n",
      "iter 28000: dev acc=0.3351\n",
      "Iter 29000: loss=1020.6807, time=62.54s\n",
      "iter 29000: dev acc=0.3070\n",
      "Iter 30000: loss=1054.0487, time=64.65s\n",
      "iter 30000: dev acc=0.3215\n",
      "Iter 31000: loss=1007.7010, time=66.74s\n",
      "iter 31000: dev acc=0.3270\n",
      "Iter 32000: loss=1091.2916, time=68.84s\n",
      "iter 32000: dev acc=0.3424\n",
      "Iter 33000: loss=1057.5746, time=70.91s\n",
      "iter 33000: dev acc=0.3442\n",
      "Iter 34000: loss=1125.6586, time=72.99s\n",
      "iter 34000: dev acc=0.3497\n",
      "Shuffling training data\n",
      "Iter 35000: loss=798.6749, time=75.08s\n",
      "iter 35000: dev acc=0.3351\n",
      "Iter 36000: loss=764.9073, time=77.17s\n",
      "iter 36000: dev acc=0.3397\n",
      "Iter 37000: loss=797.9596, time=79.28s\n",
      "iter 37000: dev acc=0.3215\n",
      "Iter 38000: loss=752.9916, time=81.38s\n",
      "iter 38000: dev acc=0.3388\n",
      "Iter 39000: loss=771.1526, time=83.50s\n",
      "iter 39000: dev acc=0.3542\n",
      "Iter 40000: loss=880.3467, time=85.63s\n",
      "iter 40000: dev acc=0.3297\n",
      "Iter 41000: loss=865.9678, time=87.75s\n",
      "iter 41000: dev acc=0.3379\n",
      "Iter 42000: loss=899.7709, time=89.90s\n",
      "iter 42000: dev acc=0.3388\n",
      "Shuffling training data\n",
      "Iter 43000: loss=774.5303, time=92.04s\n",
      "iter 43000: dev acc=0.3406\n",
      "Iter 44000: loss=528.0907, time=94.13s\n",
      "iter 44000: dev acc=0.3533\n",
      "Iter 45000: loss=594.2250, time=96.22s\n",
      "iter 45000: dev acc=0.3415\n",
      "Iter 46000: loss=562.4435, time=98.30s\n",
      "iter 46000: dev acc=0.3524\n",
      "Iter 47000: loss=612.7053, time=100.40s\n",
      "iter 47000: dev acc=0.3397\n",
      "Stopping early because there was no improvement for 20000 steps\n",
      "Done training\n",
      "Loading best model\n",
      "best model iter 27000: train acc=0.6692, dev acc=0.3588, test acc=0.3303\n",
      "Training new model with seed 1\n",
      "==================================================\n",
      "Shuffling training data\n",
      "Iter 1000: loss=2791.5203, time=1.77s\n",
      "iter 1000: dev acc=0.2425\n",
      "new highscore\n",
      "Iter 2000: loss=2404.6065, time=4.02s\n",
      "iter 2000: dev acc=0.2852\n",
      "new highscore\n",
      "Iter 3000: loss=2071.9792, time=6.30s\n",
      "iter 3000: dev acc=0.2734\n",
      "Iter 4000: loss=1989.4439, time=8.42s\n",
      "iter 4000: dev acc=0.2589\n",
      "Iter 5000: loss=1930.1948, time=10.52s\n",
      "iter 5000: dev acc=0.2916\n",
      "new highscore\n",
      "Iter 6000: loss=1966.1963, time=12.79s\n",
      "iter 6000: dev acc=0.2661\n",
      "Iter 7000: loss=1852.0868, time=14.90s\n",
      "iter 7000: dev acc=0.3015\n",
      "new highscore\n",
      "Iter 8000: loss=1890.7679, time=17.20s\n",
      "iter 8000: dev acc=0.3179\n",
      "new highscore\n",
      "Shuffling training data\n",
      "Iter 9000: loss=1751.1315, time=19.55s\n",
      "iter 9000: dev acc=0.2943\n",
      "Iter 10000: loss=1584.4650, time=21.66s\n",
      "iter 10000: dev acc=0.2698\n",
      "Iter 11000: loss=1684.0360, time=23.74s\n",
      "iter 11000: dev acc=0.3134\n",
      "Iter 12000: loss=1651.2624, time=25.84s\n",
      "iter 12000: dev acc=0.2961\n",
      "Iter 13000: loss=1651.5958, time=27.92s\n",
      "iter 13000: dev acc=0.2934\n",
      "Iter 14000: loss=1596.4142, time=29.99s\n",
      "iter 14000: dev acc=0.3351\n",
      "new highscore\n",
      "Iter 15000: loss=1713.2827, time=32.27s\n",
      "iter 15000: dev acc=0.3188\n",
      "Iter 16000: loss=1590.9310, time=34.36s\n",
      "iter 16000: dev acc=0.3061\n",
      "Iter 17000: loss=1594.4868, time=36.47s\n",
      "iter 17000: dev acc=0.3161\n",
      "Shuffling training data\n",
      "Iter 18000: loss=1371.1503, time=38.57s\n",
      "iter 18000: dev acc=0.3161\n",
      "Iter 19000: loss=1286.7994, time=40.65s\n",
      "iter 19000: dev acc=0.3224\n",
      "Iter 20000: loss=1319.0911, time=42.75s\n",
      "iter 20000: dev acc=0.3197\n",
      "Iter 21000: loss=1349.7597, time=44.85s\n",
      "iter 21000: dev acc=0.3015\n",
      "Iter 22000: loss=1310.6996, time=46.96s\n",
      "iter 22000: dev acc=0.3306\n",
      "Iter 23000: loss=1413.9816, time=49.12s\n",
      "iter 23000: dev acc=0.2916\n",
      "Iter 24000: loss=1347.6593, time=51.21s\n",
      "iter 24000: dev acc=0.2979\n",
      "Iter 25000: loss=1355.1637, time=53.29s\n",
      "iter 25000: dev acc=0.3370\n",
      "new highscore\n",
      "Shuffling training data\n",
      "Iter 26000: loss=1213.5241, time=55.54s\n",
      "iter 26000: dev acc=0.3170\n",
      "Iter 27000: loss=950.8619, time=57.68s\n",
      "iter 27000: dev acc=0.3043\n",
      "Iter 28000: loss=1005.0790, time=59.78s\n",
      "iter 28000: dev acc=0.3070\n",
      "Iter 29000: loss=1078.8403, time=61.89s\n",
      "iter 29000: dev acc=0.3188\n",
      "Iter 30000: loss=1008.2497, time=64.01s\n",
      "iter 30000: dev acc=0.3306\n",
      "Iter 31000: loss=1120.2181, time=66.12s\n",
      "iter 31000: dev acc=0.3143\n",
      "Iter 32000: loss=1121.4112, time=68.23s\n",
      "iter 32000: dev acc=0.3215\n",
      "Iter 33000: loss=1122.6808, time=70.33s\n",
      "iter 33000: dev acc=0.3061\n",
      "Iter 34000: loss=1126.6398, time=72.40s\n",
      "iter 34000: dev acc=0.3270\n",
      "Shuffling training data\n",
      "Iter 35000: loss=722.1265, time=74.51s\n",
      "iter 35000: dev acc=0.3097\n",
      "Iter 36000: loss=773.6540, time=76.59s\n",
      "iter 36000: dev acc=0.3143\n",
      "Iter 37000: loss=782.4541, time=78.70s\n",
      "iter 37000: dev acc=0.3088\n",
      "Iter 38000: loss=804.9422, time=80.79s\n",
      "iter 38000: dev acc=0.3252\n",
      "Iter 39000: loss=750.5279, time=82.91s\n",
      "iter 39000: dev acc=0.3034\n",
      "Iter 40000: loss=864.3096, time=85.01s\n",
      "iter 40000: dev acc=0.3143\n",
      "Iter 41000: loss=861.1521, time=87.08s\n",
      "iter 41000: dev acc=0.3188\n",
      "Iter 42000: loss=924.7291, time=89.17s\n",
      "iter 42000: dev acc=0.3470\n",
      "new highscore\n",
      "Shuffling training data\n",
      "Iter 43000: loss=798.2298, time=91.44s\n",
      "iter 43000: dev acc=0.3288\n",
      "Iter 44000: loss=500.8460, time=93.54s\n",
      "iter 44000: dev acc=0.3379\n",
      "Iter 45000: loss=574.9450, time=95.62s\n",
      "iter 45000: dev acc=0.3152\n",
      "Iter 46000: loss=554.6727, time=97.72s\n",
      "iter 46000: dev acc=0.3306\n",
      "Iter 47000: loss=686.6154, time=99.83s\n",
      "iter 47000: dev acc=0.3270\n",
      "Iter 48000: loss=636.5840, time=101.94s\n",
      "iter 48000: dev acc=0.3179\n",
      "Iter 49000: loss=655.7202, time=104.03s\n",
      "iter 49000: dev acc=0.3152\n",
      "Iter 50000: loss=625.1354, time=106.12s\n",
      "iter 50000: dev acc=0.3306\n",
      "Iter 51000: loss=725.0204, time=108.21s\n",
      "iter 51000: dev acc=0.3261\n",
      "Shuffling training data\n",
      "Iter 52000: loss=427.3626, time=110.33s\n",
      "iter 52000: dev acc=0.3188\n",
      "Iter 53000: loss=346.0506, time=112.43s\n",
      "iter 53000: dev acc=0.3097\n",
      "Iter 54000: loss=391.6559, time=114.51s\n",
      "iter 54000: dev acc=0.3215\n",
      "Iter 55000: loss=461.5761, time=116.63s\n",
      "iter 55000: dev acc=0.3097\n",
      "Iter 56000: loss=461.9653, time=118.74s\n",
      "iter 56000: dev acc=0.3243\n",
      "Iter 57000: loss=506.7258, time=120.85s\n",
      "iter 57000: dev acc=0.3224\n",
      "Iter 58000: loss=559.3791, time=122.94s\n",
      "iter 58000: dev acc=0.3152\n",
      "Iter 59000: loss=503.3594, time=125.04s\n",
      "iter 59000: dev acc=0.3206\n",
      "Shuffling training data\n",
      "Iter 60000: loss=514.4926, time=127.14s\n",
      "iter 60000: dev acc=0.3315\n",
      "Iter 61000: loss=271.4740, time=129.24s\n",
      "iter 61000: dev acc=0.3115\n",
      "Iter 62000: loss=269.6022, time=131.34s\n",
      "iter 62000: dev acc=0.3170\n",
      "Stopping early because there was no improvement for 20000 steps\n",
      "Done training\n",
      "Loading best model\n",
      "best model iter 42000: train acc=0.8124, dev acc=0.3470, test acc=0.3706\n",
      "Training new model with seed 2\n",
      "==================================================\n",
      "Shuffling training data\n",
      "Iter 1000: loss=2700.4576, time=1.78s\n",
      "iter 1000: dev acc=0.2770\n",
      "new highscore\n",
      "Iter 2000: loss=2309.1445, time=4.06s\n",
      "iter 2000: dev acc=0.2698\n",
      "Iter 3000: loss=2103.7056, time=6.29s\n",
      "iter 3000: dev acc=0.2797\n",
      "new highscore\n",
      "Iter 4000: loss=1994.4007, time=8.66s\n",
      "iter 4000: dev acc=0.2661\n",
      "Iter 5000: loss=1885.9221, time=10.87s\n",
      "iter 5000: dev acc=0.3079\n",
      "new highscore\n",
      "Iter 6000: loss=1893.9515, time=13.27s\n",
      "iter 6000: dev acc=0.2943\n",
      "Iter 7000: loss=1874.8319, time=15.47s\n",
      "iter 7000: dev acc=0.2888\n",
      "Iter 8000: loss=1905.8323, time=17.60s\n",
      "iter 8000: dev acc=0.2934\n",
      "Shuffling training data\n",
      "Iter 9000: loss=1749.1848, time=19.69s\n",
      "iter 9000: dev acc=0.3088\n",
      "new highscore\n",
      "Iter 10000: loss=1575.0141, time=21.97s\n",
      "iter 10000: dev acc=0.2807\n",
      "Iter 11000: loss=1609.6373, time=24.05s\n",
      "iter 11000: dev acc=0.3306\n",
      "new highscore\n",
      "Iter 12000: loss=1598.2362, time=26.34s\n",
      "iter 12000: dev acc=0.3025\n",
      "Iter 13000: loss=1632.7303, time=28.42s\n",
      "iter 13000: dev acc=0.3270\n",
      "Iter 14000: loss=1605.5983, time=30.52s\n",
      "iter 14000: dev acc=0.3297\n",
      "Iter 15000: loss=1642.0278, time=32.63s\n",
      "iter 15000: dev acc=0.3270\n",
      "Iter 16000: loss=1667.2422, time=34.71s\n",
      "iter 16000: dev acc=0.3361\n",
      "new highscore\n",
      "Iter 17000: loss=1646.0729, time=36.99s\n",
      "iter 17000: dev acc=0.3315\n",
      "Shuffling training data\n",
      "Iter 18000: loss=1275.4095, time=39.08s\n",
      "iter 18000: dev acc=0.3279\n",
      "Iter 19000: loss=1289.1142, time=41.19s\n",
      "iter 19000: dev acc=0.3270\n",
      "Iter 20000: loss=1332.3120, time=43.27s\n",
      "iter 20000: dev acc=0.3179\n",
      "Iter 21000: loss=1256.4290, time=45.36s\n",
      "iter 21000: dev acc=0.3306\n",
      "Iter 22000: loss=1284.0267, time=47.46s\n",
      "iter 22000: dev acc=0.3588\n",
      "new highscore\n",
      "Iter 23000: loss=1393.8840, time=49.74s\n",
      "iter 23000: dev acc=0.3542\n",
      "Iter 24000: loss=1285.8588, time=51.85s\n",
      "iter 24000: dev acc=0.3470\n",
      "Iter 25000: loss=1370.0750, time=53.96s\n",
      "iter 25000: dev acc=0.3533\n",
      "Shuffling training data\n",
      "Iter 26000: loss=1212.3806, time=56.07s\n",
      "iter 26000: dev acc=0.3542\n",
      "Iter 27000: loss=963.0461, time=58.17s\n",
      "iter 27000: dev acc=0.3397\n",
      "Iter 28000: loss=1060.7367, time=60.26s\n",
      "iter 28000: dev acc=0.3560\n",
      "Iter 29000: loss=950.1435, time=62.36s\n",
      "iter 29000: dev acc=0.3479\n",
      "Iter 30000: loss=972.5855, time=64.44s\n",
      "iter 30000: dev acc=0.3470\n",
      "Iter 31000: loss=1129.1787, time=66.54s\n",
      "iter 31000: dev acc=0.3560\n",
      "Iter 32000: loss=1014.1258, time=68.64s\n",
      "iter 32000: dev acc=0.3442\n",
      "Iter 33000: loss=1129.1929, time=70.72s\n",
      "iter 33000: dev acc=0.3361\n",
      "Iter 34000: loss=1045.4616, time=72.83s\n",
      "iter 34000: dev acc=0.3460\n",
      "Shuffling training data\n",
      "Iter 35000: loss=708.6091, time=74.94s\n",
      "iter 35000: dev acc=0.3306\n",
      "Iter 36000: loss=760.1967, time=77.04s\n",
      "iter 36000: dev acc=0.3488\n",
      "Iter 37000: loss=720.8738, time=79.14s\n",
      "iter 37000: dev acc=0.3297\n",
      "Iter 38000: loss=777.2532, time=81.23s\n",
      "iter 38000: dev acc=0.3424\n",
      "Iter 39000: loss=860.1259, time=83.34s\n",
      "iter 39000: dev acc=0.3361\n",
      "Iter 40000: loss=796.0826, time=85.46s\n",
      "iter 40000: dev acc=0.3506\n",
      "Iter 41000: loss=827.6239, time=87.60s\n",
      "iter 41000: dev acc=0.3361\n",
      "Iter 42000: loss=784.2566, time=89.71s\n",
      "iter 42000: dev acc=0.3497\n",
      "Stopping early because there was no improvement for 20000 steps\n",
      "Done training\n",
      "Loading best model\n",
      "best model iter 22000: train acc=0.6268, dev acc=0.3588, test acc=0.3593\n",
      "Test accuracy: 0.35339366515837106 +- 0.016958770562513294\n"
     ]
    }
   ],
   "source": [
    "NUM_CLASSES = 5\n",
    "EMBED_DIM = 300\n",
    "# train CBOW\n",
    "\n",
    "cbow_losses, cbow_accuracies, cbow_best_accs = train_loop(\n",
    "    lambda: CBOW(len(v.w2i), EMBED_DIM, vocab=v, num_classes=NUM_CLASSES).to(device),\n",
    "    lambda model: optim.Adam(model.parameters(), lr=0.0005),\n",
    "    num_iterations=0, print_every=1000, eval_every=1000, patience=20)"
   ]
  },
  {
   "cell_type": "code",
   "execution_count": 101,
   "metadata": {
    "colab": {
     "base_uri": "https://localhost:8080/",
     "height": 542
    },
    "id": "frXis2bS4vZz",
    "outputId": "cb3852cf-a7f5-4de0-d2a9-804b3307388b"
   },
   "outputs": [
    {
     "data": {
      "image/png": "[encoded data removed]",
      "text/plain": [
       "<Figure size 1200x600 with 2 Axes>"
      ]
     },
     "metadata": {
      "tags": []
     },
     "output_type": "display_data"
    }
   ],
   "source": [
    "plot_results(cbow_losses, cbow_accuracies, \"fig/cbow.pdf\", eval_every=1000)"
   ]
  },
  {
   "cell_type": "markdown",
   "metadata": {
    "id": "zpFt_Fo2TdN0"
   },
   "source": [
    "# Deep CBOW"
   ]
  },
  {
   "cell_type": "markdown",
   "metadata": {
    "id": "iZanOMesTfEZ"
   },
   "source": [
    "To see if we can squeeze some more performance out of the CBOW model, we can make it deeper and non-linear by adding more layers and, e.g., tanh-activations.\n",
    "By using more parameters we can learn more aspects of the data, and by using more layers and non-linearities, we can try to learn a more complex function. \n",
    "This is not something that always works. If the input-output mapping of your data is simple, then a complicated function could easily overfit on your training set, thereby leading to poor generalization. \n",
    "\n",
    "#### Exercise: write Deep CBOW class and train it\n",
    "\n",
    "Write a class `DeepCBOW`.\n",
    "\n",
    "In your code, make sure that your `output_layer` consists of the following:\n",
    "- A linear transformation from E units to D units.\n",
    "- A Tanh activation\n",
    "- A linear transformation from D units to D units\n",
    "- A Tanh activation\n",
    "- A linear transformation from D units to 5 units (our output classes).\n",
    "\n",
    "E is the size of the word embeddings (please use E=300) and D for the size of a hidden layer (please use D=100).\n",
    "\n",
    "We recommend using [nn.Sequential](https://pytorch.org/docs/stable/nn.html?highlight=sequential#torch.nn.Sequential) to implement this exercise."
   ]
  },
  {
   "cell_type": "code",
   "execution_count": 102,
   "metadata": {
    "id": "l8Z1igvpTrZq"
   },
   "outputs": [],
   "source": [
    "# YOUR CODE HERE\n",
    "\n",
    "class DeepCBOW(nn.Module):\n",
    "    \n",
    "    def __init__(self, vocab_size, embedding_dim, output_dim, num_hidden, vocab):\n",
    "        super(DeepCBOW, self).__init__()\n",
    "        \n",
    "        self.vocab = vocab\n",
    "\n",
    "        # this is a trainable look-up table with word embeddings\n",
    "        self.embed = nn.Embedding(vocab_size, embedding_dim)\n",
    "\n",
    "        # sequential model\n",
    "        self.net = nn.Sequential(self.embed, nn.Linear(embedding_dim, num_hidden), nn.Tanh(),\\\n",
    "                                 nn.Linear(num_hidden,num_hidden), nn.Tanh(), nn.Linear(num_hidden,output_dim))\n",
    "        \n",
    "    def forward(self, inputs):\n",
    "        \n",
    "        # pass through net\n",
    "        out = self.net(inputs)\n",
    "        \n",
    "        # the output is the sum across the time dimension (1)\n",
    "        # with the bias term added\n",
    "        logits = out.sum(1)\n",
    "\n",
    "        return logits\n"
   ]
  },
  {
   "cell_type": "code",
   "execution_count": 103,
   "metadata": {
    "colab": {
     "base_uri": "https://localhost:8080/"
    },
    "id": "w9okYsC4FqnU",
    "outputId": "08996688-0470-4473-a0eb-d170c0ad3c03"
   },
   "outputs": [
    {
     "name": "stdout",
     "output_type": "stream",
     "text": [
      "Training new model with seed 0\n",
      "==================================================\n",
      "Shuffling training data\n",
      "Iter 1000: loss=1740.0588, time=2.37s\n",
      "iter 1000: dev acc=0.2443\n",
      "new highscore\n",
      "Iter 2000: loss=1677.5357, time=5.32s\n",
      "iter 2000: dev acc=0.2997\n",
      "new highscore\n",
      "Iter 3000: loss=1648.1896, time=8.32s\n",
      "iter 3000: dev acc=0.3097\n",
      "new highscore\n",
      "Iter 4000: loss=1608.2652, time=11.32s\n",
      "iter 4000: dev acc=0.3115\n",
      "new highscore\n",
      "Iter 5000: loss=1590.5360, time=14.35s\n",
      "iter 5000: dev acc=0.2934\n",
      "Iter 6000: loss=1551.4124, time=17.16s\n",
      "iter 6000: dev acc=0.3070\n",
      "Iter 7000: loss=1545.1854, time=19.95s\n",
      "iter 7000: dev acc=0.3006\n",
      "Iter 8000: loss=1540.0029, time=22.81s\n",
      "iter 8000: dev acc=0.3224\n",
      "new highscore\n",
      "Shuffling training data\n",
      "Iter 9000: loss=1476.7971, time=25.91s\n",
      "iter 9000: dev acc=0.3052\n",
      "Iter 10000: loss=1393.4727, time=28.76s\n",
      "iter 10000: dev acc=0.3161\n",
      "Iter 11000: loss=1409.7752, time=31.57s\n",
      "iter 11000: dev acc=0.3070\n",
      "Iter 12000: loss=1376.5704, time=34.39s\n",
      "iter 12000: dev acc=0.3497\n",
      "new highscore\n",
      "Iter 13000: loss=1400.0392, time=37.37s\n",
      "iter 13000: dev acc=0.3424\n",
      "Iter 14000: loss=1381.2832, time=40.20s\n",
      "iter 14000: dev acc=0.3460\n",
      "Iter 15000: loss=1373.4535, time=43.04s\n",
      "iter 15000: dev acc=0.3143\n",
      "Iter 16000: loss=1407.2730, time=45.86s\n",
      "iter 16000: dev acc=0.3224\n",
      "Iter 17000: loss=1369.4396, time=48.70s\n",
      "iter 17000: dev acc=0.3433\n",
      "Shuffling training data\n",
      "Iter 18000: loss=1145.4407, time=51.53s\n",
      "iter 18000: dev acc=0.3361\n",
      "Iter 19000: loss=1164.4056, time=54.33s\n",
      "iter 19000: dev acc=0.3206\n",
      "Iter 20000: loss=1148.9803, time=57.13s\n",
      "iter 20000: dev acc=0.3415\n",
      "Iter 21000: loss=1233.8596, time=60.04s\n",
      "iter 21000: dev acc=0.3442\n",
      "Iter 22000: loss=1181.6098, time=62.84s\n",
      "iter 22000: dev acc=0.3424\n",
      "Iter 23000: loss=1179.6886, time=65.66s\n",
      "iter 23000: dev acc=0.3415\n",
      "Iter 24000: loss=1177.0571, time=68.49s\n",
      "iter 24000: dev acc=0.3333\n",
      "Iter 25000: loss=1158.1851, time=71.34s\n",
      "iter 25000: dev acc=0.3306\n",
      "Shuffling training data\n",
      "Iter 26000: loss=1099.2095, time=74.19s\n",
      "iter 26000: dev acc=0.3370\n",
      "Iter 27000: loss=877.1605, time=77.07s\n",
      "iter 27000: dev acc=0.3415\n",
      "Iter 28000: loss=934.3731, time=79.96s\n",
      "iter 28000: dev acc=0.3588\n",
      "new highscore\n",
      "Iter 29000: loss=915.3424, time=82.98s\n",
      "iter 29000: dev acc=0.3433\n",
      "Iter 30000: loss=1007.9913, time=85.85s\n",
      "iter 30000: dev acc=0.3470\n",
      "Iter 31000: loss=972.1151, time=88.67s\n",
      "iter 31000: dev acc=0.3370\n",
      "Iter 32000: loss=986.8357, time=91.51s\n",
      "iter 32000: dev acc=0.3406\n",
      "Iter 33000: loss=988.1339, time=94.37s\n",
      "iter 33000: dev acc=0.3615\n",
      "new highscore\n",
      "Iter 34000: loss=1004.4301, time=97.39s\n",
      "iter 34000: dev acc=0.3542\n",
      "Shuffling training data\n",
      "Iter 35000: loss=791.2683, time=100.25s\n",
      "iter 35000: dev acc=0.3460\n",
      "Iter 36000: loss=692.6743, time=103.09s\n",
      "iter 36000: dev acc=0.3333\n",
      "Iter 37000: loss=723.7163, time=105.91s\n",
      "iter 37000: dev acc=0.3379\n",
      "Iter 38000: loss=697.8785, time=108.73s\n",
      "iter 38000: dev acc=0.3415\n",
      "Iter 39000: loss=830.3948, time=111.57s\n",
      "iter 39000: dev acc=0.3215\n",
      "Iter 40000: loss=738.2436, time=114.38s\n",
      "iter 40000: dev acc=0.3324\n",
      "Iter 41000: loss=810.7196, time=117.19s\n",
      "iter 41000: dev acc=0.3542\n",
      "Iter 42000: loss=786.3360, time=120.02s\n",
      "iter 42000: dev acc=0.3433\n",
      "Shuffling training data\n",
      "Iter 43000: loss=691.9157, time=122.86s\n",
      "iter 43000: dev acc=0.3506\n",
      "Iter 44000: loss=506.8533, time=125.69s\n",
      "iter 44000: dev acc=0.3397\n",
      "Iter 45000: loss=507.6585, time=128.55s\n",
      "iter 45000: dev acc=0.3288\n",
      "Iter 46000: loss=560.8697, time=131.40s\n",
      "iter 46000: dev acc=0.3233\n",
      "Iter 47000: loss=634.2243, time=134.25s\n",
      "iter 47000: dev acc=0.3506\n",
      "Iter 48000: loss=599.7881, time=137.08s\n",
      "iter 48000: dev acc=0.3197\n",
      "Iter 49000: loss=604.6185, time=139.90s\n",
      "iter 49000: dev acc=0.3333\n",
      "Iter 50000: loss=573.9626, time=142.76s\n",
      "iter 50000: dev acc=0.3324\n",
      "Iter 51000: loss=624.0784, time=145.58s\n",
      "iter 51000: dev acc=0.3460\n",
      "Shuffling training data\n",
      "Iter 52000: loss=403.8057, time=148.41s\n",
      "iter 52000: dev acc=0.3460\n",
      "Iter 53000: loss=398.7163, time=151.23s\n",
      "iter 53000: dev acc=0.3370\n",
      "Stopping early because there was no improvement for 20000 steps\n",
      "Done training\n",
      "Loading best model\n",
      "best model iter 33000: train acc=0.7234, dev acc=0.3615, test acc=0.3643\n",
      "Training new model with seed 1\n",
      "==================================================\n",
      "Shuffling training data\n",
      "Iter 1000: loss=1789.3125, time=2.36s\n",
      "iter 1000: dev acc=0.2643\n",
      "new highscore\n",
      "Iter 2000: loss=1668.3228, time=5.40s\n",
      "iter 2000: dev acc=0.2470\n",
      "Iter 3000: loss=1615.1777, time=8.25s\n",
      "iter 3000: dev acc=0.2498\n",
      "Iter 4000: loss=1603.1482, time=11.06s\n",
      "iter 4000: dev acc=0.2870\n",
      "new highscore\n",
      "Iter 5000: loss=1569.2320, time=14.08s\n",
      "iter 5000: dev acc=0.3152\n",
      "new highscore\n",
      "Iter 6000: loss=1562.9993, time=17.13s\n",
      "iter 6000: dev acc=0.3034\n",
      "Iter 7000: loss=1548.2414, time=19.94s\n",
      "iter 7000: dev acc=0.3188\n",
      "new highscore\n",
      "Iter 8000: loss=1553.0346, time=22.94s\n",
      "iter 8000: dev acc=0.3006\n",
      "Shuffling training data\n",
      "Iter 9000: loss=1462.2369, time=25.77s\n",
      "iter 9000: dev acc=0.3079\n",
      "Iter 10000: loss=1396.1882, time=28.64s\n",
      "iter 10000: dev acc=0.3143\n",
      "Iter 11000: loss=1363.5429, time=31.47s\n",
      "iter 11000: dev acc=0.3097\n",
      "Iter 12000: loss=1433.0969, time=34.30s\n",
      "iter 12000: dev acc=0.3097\n",
      "Iter 13000: loss=1386.0560, time=37.15s\n",
      "iter 13000: dev acc=0.3170\n",
      "Iter 14000: loss=1344.3936, time=40.03s\n",
      "iter 14000: dev acc=0.3597\n",
      "new highscore\n",
      "Iter 15000: loss=1354.0103, time=43.05s\n",
      "iter 15000: dev acc=0.3161\n",
      "Iter 16000: loss=1387.0071, time=45.89s\n",
      "iter 16000: dev acc=0.3124\n",
      "Iter 17000: loss=1385.0767, time=48.73s\n",
      "iter 17000: dev acc=0.3588\n",
      "Shuffling training data\n",
      "Iter 18000: loss=1110.2925, time=51.55s\n",
      "iter 18000: dev acc=0.3506\n",
      "Iter 19000: loss=1183.7971, time=54.38s\n",
      "iter 19000: dev acc=0.3560\n",
      "Iter 20000: loss=1201.2532, time=57.22s\n",
      "iter 20000: dev acc=0.3206\n",
      "Iter 21000: loss=1170.6335, time=60.04s\n",
      "iter 21000: dev acc=0.3388\n",
      "Iter 22000: loss=1204.8161, time=62.88s\n",
      "iter 22000: dev acc=0.3124\n",
      "Iter 23000: loss=1154.7479, time=65.81s\n",
      "iter 23000: dev acc=0.3451\n",
      "Iter 24000: loss=1194.9416, time=68.74s\n",
      "iter 24000: dev acc=0.3288\n",
      "Iter 25000: loss=1144.9149, time=71.71s\n",
      "iter 25000: dev acc=0.3524\n",
      "Shuffling training data\n",
      "Iter 26000: loss=1105.0986, time=74.67s\n",
      "iter 26000: dev acc=0.3233\n",
      "Iter 27000: loss=909.2810, time=77.55s\n",
      "iter 27000: dev acc=0.3306\n",
      "Iter 28000: loss=951.7568, time=80.42s\n",
      "iter 28000: dev acc=0.3506\n",
      "Iter 29000: loss=909.8379, time=83.28s\n",
      "iter 29000: dev acc=0.3351\n",
      "Iter 30000: loss=984.4143, time=86.12s\n",
      "iter 30000: dev acc=0.3333\n",
      "Iter 31000: loss=913.8303, time=88.95s\n",
      "iter 31000: dev acc=0.3279\n",
      "Iter 32000: loss=1027.1331, time=91.76s\n",
      "iter 32000: dev acc=0.3324\n",
      "Iter 33000: loss=962.9242, time=94.60s\n",
      "iter 33000: dev acc=0.3261\n",
      "Iter 34000: loss=1014.0259, time=97.45s\n",
      "iter 34000: dev acc=0.3451\n",
      "Stopping early because there was no improvement for 20000 steps\n",
      "Done training\n",
      "Loading best model\n",
      "best model iter 14000: train acc=0.4782, dev acc=0.3597, test acc=0.3575\n",
      "Training new model with seed 2\n",
      "==================================================\n",
      "Shuffling training data\n",
      "Iter 1000: loss=1787.4319, time=2.36s\n",
      "iter 1000: dev acc=0.2480\n",
      "new highscore\n",
      "Iter 2000: loss=1665.5948, time=5.35s\n",
      "iter 2000: dev acc=0.2652\n",
      "new highscore\n",
      "Iter 3000: loss=1651.2628, time=8.35s\n",
      "iter 3000: dev acc=0.2761\n",
      "new highscore\n",
      "Iter 4000: loss=1625.2680, time=11.38s\n",
      "iter 4000: dev acc=0.2770\n",
      "new highscore\n",
      "Iter 5000: loss=1564.9952, time=14.38s\n",
      "iter 5000: dev acc=0.3206\n",
      "new highscore\n",
      "Iter 6000: loss=1555.6231, time=17.44s\n",
      "iter 6000: dev acc=0.3406\n",
      "new highscore\n",
      "Iter 7000: loss=1543.9587, time=20.45s\n",
      "iter 7000: dev acc=0.3506\n",
      "new highscore\n",
      "Iter 8000: loss=1528.5377, time=23.49s\n",
      "iter 8000: dev acc=0.3052\n",
      "Shuffling training data\n",
      "Iter 9000: loss=1468.3326, time=26.34s\n",
      "iter 9000: dev acc=0.3551\n",
      "new highscore\n",
      "Iter 10000: loss=1344.5852, time=29.38s\n",
      "iter 10000: dev acc=0.3379\n",
      "Iter 11000: loss=1373.2308, time=32.22s\n",
      "iter 11000: dev acc=0.3315\n",
      "Iter 12000: loss=1360.8703, time=35.04s\n",
      "iter 12000: dev acc=0.3524\n",
      "Iter 13000: loss=1390.8309, time=37.90s\n",
      "iter 13000: dev acc=0.3506\n",
      "Iter 14000: loss=1417.4370, time=40.73s\n",
      "iter 14000: dev acc=0.3624\n",
      "new highscore\n",
      "Iter 15000: loss=1398.1280, time=43.75s\n",
      "iter 15000: dev acc=0.3152\n",
      "Iter 16000: loss=1370.3497, time=46.59s\n",
      "iter 16000: dev acc=0.3660\n",
      "new highscore\n",
      "Iter 17000: loss=1381.2353, time=49.62s\n",
      "iter 17000: dev acc=0.3497\n",
      "Shuffling training data\n",
      "Iter 18000: loss=1150.9722, time=52.47s\n",
      "iter 18000: dev acc=0.3569\n",
      "Iter 19000: loss=1163.3178, time=55.34s\n",
      "iter 19000: dev acc=0.3733\n",
      "new highscore\n",
      "Iter 20000: loss=1152.8737, time=58.39s\n",
      "iter 20000: dev acc=0.3560\n",
      "Iter 21000: loss=1189.1711, time=61.24s\n",
      "iter 21000: dev acc=0.3515\n",
      "Iter 22000: loss=1157.8652, time=64.13s\n",
      "iter 22000: dev acc=0.3351\n",
      "Iter 23000: loss=1188.0789, time=66.97s\n",
      "iter 23000: dev acc=0.3706\n",
      "Iter 24000: loss=1162.5760, time=69.88s\n",
      "iter 24000: dev acc=0.3597\n",
      "Iter 25000: loss=1187.8113, time=72.74s\n",
      "iter 25000: dev acc=0.3370\n",
      "Shuffling training data\n",
      "Iter 26000: loss=1008.7547, time=75.56s\n",
      "iter 26000: dev acc=0.3624\n",
      "Iter 27000: loss=887.9152, time=78.38s\n",
      "iter 27000: dev acc=0.3615\n",
      "Iter 28000: loss=890.9600, time=81.23s\n",
      "iter 28000: dev acc=0.3533\n",
      "Iter 29000: loss=937.6106, time=84.09s\n",
      "iter 29000: dev acc=0.3588\n",
      "Iter 30000: loss=962.4078, time=86.93s\n",
      "iter 30000: dev acc=0.3451\n",
      "Iter 31000: loss=949.0164, time=89.76s\n",
      "iter 31000: dev acc=0.3470\n",
      "Iter 32000: loss=944.8410, time=92.60s\n",
      "iter 32000: dev acc=0.3760\n",
      "new highscore\n",
      "Iter 33000: loss=1026.3648, time=95.61s\n",
      "iter 33000: dev acc=0.3678\n",
      "Iter 34000: loss=972.8123, time=98.44s\n",
      "iter 34000: dev acc=0.3488\n",
      "Shuffling training data\n",
      "Iter 35000: loss=669.7942, time=101.32s\n",
      "iter 35000: dev acc=0.3715\n",
      "Iter 36000: loss=689.8924, time=104.18s\n",
      "iter 36000: dev acc=0.3542\n",
      "Iter 37000: loss=750.5465, time=107.01s\n",
      "iter 37000: dev acc=0.3624\n",
      "Iter 38000: loss=716.3835, time=109.84s\n",
      "iter 38000: dev acc=0.3515\n",
      "Iter 39000: loss=785.0662, time=112.68s\n",
      "iter 39000: dev acc=0.3760\n",
      "Iter 40000: loss=735.9229, time=115.50s\n",
      "iter 40000: dev acc=0.3678\n",
      "Iter 41000: loss=792.0138, time=118.34s\n",
      "iter 41000: dev acc=0.3688\n",
      "Iter 42000: loss=755.1212, time=121.18s\n",
      "iter 42000: dev acc=0.3724\n",
      "Shuffling training data\n",
      "Iter 43000: loss=685.9566, time=124.07s\n",
      "iter 43000: dev acc=0.3479\n",
      "Iter 44000: loss=537.4231, time=126.91s\n",
      "iter 44000: dev acc=0.3551\n",
      "Iter 45000: loss=478.2095, time=129.82s\n",
      "iter 45000: dev acc=0.3569\n",
      "Iter 46000: loss=544.7348, time=132.68s\n",
      "iter 46000: dev acc=0.3533\n",
      "Iter 47000: loss=559.9562, time=135.53s\n",
      "iter 47000: dev acc=0.3397\n",
      "Iter 48000: loss=601.1012, time=138.38s\n",
      "iter 48000: dev acc=0.3560\n",
      "Iter 49000: loss=631.1537, time=141.24s\n",
      "iter 49000: dev acc=0.3669\n",
      "Iter 50000: loss=566.7547, time=144.08s\n",
      "iter 50000: dev acc=0.3742\n",
      "Iter 51000: loss=568.7639, time=146.92s\n",
      "iter 51000: dev acc=0.3633\n",
      "Shuffling training data\n",
      "Iter 52000: loss=444.6650, time=149.77s\n",
      "iter 52000: dev acc=0.3451\n",
      "Stopping early because there was no improvement for 20000 steps\n",
      "Done training\n",
      "Loading best model\n",
      "best model iter 32000: train acc=0.7061, dev acc=0.3760, test acc=0.3837\n",
      "Test accuracy: 0.3684766214177979 +- 0.01112259370412467\n"
     ]
    }
   ],
   "source": [
    "NUM_HIDDEN = 100\n",
    "# train DeepCBOW\n",
    "\n",
    "deep_cbow_losses, deep_cbow_accuracies, deep_cbow_best_accs = train_loop(\n",
    "    lambda: DeepCBOW(len(v.w2i), EMBED_DIM, output_dim=NUM_CLASSES, num_hidden=NUM_HIDDEN, vocab=v).to(device),\n",
    "    lambda model: optim.Adam(model.parameters(), lr=0.0005),\n",
    "    num_iterations=0, print_every=1000, eval_every=1000, patience=20)"
   ]
  },
  {
   "cell_type": "code",
   "execution_count": 104,
   "metadata": {
    "colab": {
     "base_uri": "https://localhost:8080/",
     "height": 542
    },
    "id": "MY2E4UCXD-6G",
    "outputId": "393c55e3-98c9-45b7-e634-a737463493ef"
   },
   "outputs": [
    {
     "data": {
      "image/png": "[encoded data removed]",
      "text/plain": [
       "<Figure size 1200x600 with 2 Axes>"
      ]
     },
     "metadata": {
      "tags": []
     },
     "output_type": "display_data"
    }
   ],
   "source": [
    "plot_results(deep_cbow_losses, deep_cbow_accuracies, \"fig/deep_cbow.pdf\", eval_every=1000)"
   ]
  },
  {
   "cell_type": "markdown",
   "metadata": {
    "id": "MQZ5flHwiiHY"
   },
   "source": [
    "# Pre-trained word embeddings"
   ]
  },
  {
   "cell_type": "markdown",
   "metadata": {
    "id": "9NX35vecmHy6"
   },
   "source": [
    "The Stanford Sentiment Treebank is a rather small data set, since it required fine-grained manual annotatation. This makes it difficult for the Deep CBOW model to learn good word embeddings, i.e. to learn good word representations for the words in our vocabulary.\n",
    "In fact, the only error signal that the network receives is from predicting the sentiment of entire sentences!\n",
    "\n",
    "To start off with better word representations, we can download **pre-trained word embeddings**. \n",
    "You can choose which pre-trained word embeddings to use:\n",
    "\n",
    "- **GloVe**. The \"original\" Stanford Sentiment classification [paper](http://aclweb.org/anthology/P/P15/P15-1150.pdf) used Glove embeddings, which are just another method (like *word2vec*) to get word embeddings from unannotated text. Glove is described in the following paper which you should cite if you use them:\n",
    "> Jeffrey Pennington, Richard Socher, and Christopher Manning. [\"Glove: Global vectors for word representation.\"](https://nlp.stanford.edu/pubs/glove.pdf) EMNLP 2014. \n",
    "\n",
    "- **Word2Vec**. This is the method that you learned about in class, described in:\n",
    "> Mikolov, Tomas, et al. [\"Distributed representations of words and phrases and their compositionality.\"](https://papers.nips.cc/paper/5021-distributed-representations-of-words-and-phrases-and-their-compositionality.pdf) Advances in neural information processing systems. 2013.\n",
    "\n",
    "Using these pre-trained word embeddings, we can initialize our word embedding lookup table and start form a point where similar words are already close to one another in the distributional semantic space. \n",
    "\n",
    "You can choose to keep the word embeddings **fixed** or to train them further, specialising them to the task at hand.\n",
    "We will keep them fixed for now.\n",
    "\n",
    "For the purposes of this lab, it is enough if you understand how word2vec works (whichever vectors you use), but if you are interested, we encourage you to also check out the GloVe paper.\n",
    "\n",
    "You can either download the word2vec vectors, or the Glove vectors.\n",
    "If you want to compare your results to the Stanford paper later on, then you should use Glove. \n",
    "**At the end of this lab you have the option to compare which vectors give you the best performance. For now, simply choose one of them and continue with that.**\n",
    "\n",
    "[**OPTIONAL in case you don't want to mount Google Drive:** instead of running all the 5 boxes below, you can 1) download the GloVe and word2vec in your local machine, 2) upload them on your Drive folder (\"My Drive\"). Then, uncomment the first 2 lines in box 6 before writing your code!]\n"
   ]
  },
  {
   "cell_type": "code",
   "execution_count": 45,
   "metadata": {
    "colab": {
     "base_uri": "https://localhost:8080/"
    },
    "id": "lGYr02WWO993",
    "outputId": "d8e6f41e-da12-42f0-e9cb-91229094e797"
   },
   "outputs": [
    {
     "name": "stdout",
     "output_type": "stream",
     "text": [
      "--2020-12-03 14:14:20--  https://gist.githubusercontent.com/bastings/b094de2813da58056a05e8e7950d4ad1/raw/3fbd3976199c2b88de2ae62afc0ecc6f15e6f7ce/glove.840B.300d.sst.txt\n",
      "Resolving gist.githubusercontent.com (gist.githubusercontent.com)... 151.101.0.133, 151.101.64.133, 151.101.128.133, ...\n",
      "Connecting to gist.githubusercontent.com (gist.githubusercontent.com)|151.101.0.133|:443... connected.\n",
      "HTTP request sent, awaiting response... 200 OK\n",
      "Length: 53933315 (51M) [text/plain]\n",
      "Saving to: ‘glove.840B.300d.sst.txt.1’\n",
      "\n",
      "glove.840B.300d.sst 100%[===================>]  51.43M   155MB/s    in 0.3s    \n",
      "\n",
      "2020-12-03 14:14:21 (155 MB/s) - ‘glove.840B.300d.sst.txt.1’ saved [53933315/53933315]\n",
      "\n"
     ]
    }
   ],
   "source": [
    "# This downloads the Glove 840B 300d embeddings.\n",
    "# The original file is at http://nlp.stanford.edu/data/glove.840B.300d.zip\n",
    "# Since that file is 2GB, we provide you with a *filtered version*\n",
    "# which contains all the words you need for this data set.\n",
    "\n",
    "# You only need to do this once.\n",
    "# Please comment this cell out after downloading.\n",
    "\n",
    "!wget https://gist.githubusercontent.com/bastings/b094de2813da58056a05e8e7950d4ad1/raw/3fbd3976199c2b88de2ae62afc0ecc6f15e6f7ce/glove.840B.300d.sst.txt"
   ]
  },
  {
   "cell_type": "code",
   "execution_count": 53,
   "metadata": {
    "colab": {
     "base_uri": "https://localhost:8080/"
    },
    "id": "6NLsgFGiTjmI",
    "outputId": "db6cb4be-3855-4632-d419-5886588c97ae"
   },
   "outputs": [
    {
     "name": "stdout",
     "output_type": "stream",
     "text": [
      "--2020-12-03 14:15:32--  https://gist.githubusercontent.com/bastings/4d1c346c68969b95f2c34cfbc00ba0a0/raw/76b4fefc9ef635a79d0d8002522543bc53ca2683/googlenews.word2vec.300d.txt\n",
      "Resolving gist.githubusercontent.com (gist.githubusercontent.com)... 151.101.0.133, 151.101.64.133, 151.101.128.133, ...\n",
      "Connecting to gist.githubusercontent.com (gist.githubusercontent.com)|151.101.0.133|:443... connected.\n",
      "HTTP request sent, awaiting response... 200 OK\n",
      "Length: 66209703 (63M) [text/plain]\n",
      "Saving to: ‘googlenews.word2vec.300d.txt’\n",
      "\n",
      "googlenews.word2vec 100%[===================>]  63.14M   177MB/s    in 0.4s    \n",
      "\n",
      "2020-12-03 14:15:33 (177 MB/s) - ‘googlenews.word2vec.300d.txt’ saved [66209703/66209703]\n",
      "\n"
     ]
    }
   ],
   "source": [
    "# This downloads the word2vec 300D Google News vectors \n",
    "# The file has been truncated to only contain words that appear in our data set.\n",
    "# You can find the original file here: https://code.google.com/archive/p/word2vec/\n",
    "\n",
    "# You only need to do this once.\n",
    "# Please comment this out after downloading.\n",
    "#!wget https://gist.githubusercontent.com/bastings/4d1c346c68969b95f2c34cfbc00ba0a0/raw/76b4fefc9ef635a79d0d8002522543bc53ca2683/googlenews.word2vec.300d.txt"
   ]
  },
  {
   "cell_type": "code",
   "execution_count": 47,
   "metadata": {
    "cellView": "both",
    "colab": {
     "base_uri": "https://localhost:8080/"
    },
    "id": "GXBITzPRQUQb",
    "outputId": "5e33218e-e9da-4b0b-a254-6d91483a4602"
   },
   "outputs": [
    {
     "name": "stdout",
     "output_type": "stream",
     "text": [
      "Drive already mounted at /gdrive; to attempt to forcibly remount, call drive.mount(\"/gdrive\", force_remount=True).\n"
     ]
    }
   ],
   "source": [
    "# Mount Google Drive (to save the downloaded files)\n",
    "from google.colab import drive\n",
    "drive.mount('/gdrive')"
   ]
  },
  {
   "cell_type": "code",
   "execution_count": 54,
   "metadata": {
    "id": "uFvzPuiKSCbl"
   },
   "outputs": [],
   "source": [
    "# Copy word vectors *to* Google Drive\n",
    "\n",
    "# You only need to do this once.\n",
    "# Please comment this out after running it. \n",
    "#!cp \"glove.840B.300d.sst.txt\" \"/gdrive/My Drive/\"\n",
    "!cp \"googlenews.word2vec.300d.txt\" \"/gdrive/My Drive/\""
   ]
  },
  {
   "cell_type": "code",
   "execution_count": 55,
   "metadata": {
    "id": "kUMH0bM6BuY9"
   },
   "outputs": [],
   "source": [
    "# If you copied the word vectors to your Drive before,\n",
    "# here is where you copy them back to the Colab notebook.\n",
    "\n",
    "# Copy Glove vectors *from* Google Drive\n",
    "#!cp \"/gdrive/My Drive/glove.840B.300d.sst.txt\" .\n",
    "!cp \"/gdrive/My Drive/googlenews.word2vec.300d.txt\" ."
   ]
  },
  {
   "cell_type": "code",
   "execution_count": 56,
   "metadata": {
    "id": "xcpkoh6PIjfe"
   },
   "outputs": [],
   "source": [
    "# Uncomment these 2 lines below if went for the OPTIONAL method described above\n",
    "# !cp \"glove.840B.300d.sst.txt\" \"./\"\n",
    "# !cp \"googlenews.word2vec.300d.txt\" \"./\""
   ]
  },
  {
   "cell_type": "markdown",
   "metadata": {
    "id": "MX2GJVHILM8n"
   },
   "source": [
    "At this point you have the pre-trained word embedding files, but what do they look like?"
   ]
  },
  {
   "cell_type": "code",
   "execution_count": 57,
   "metadata": {
    "id": "dFaNNSp2FqnW"
   },
   "outputs": [],
   "source": [
    "W2V_PATH = './googlenews.word2vec.300d.txt'"
   ]
  },
  {
   "cell_type": "code",
   "execution_count": 58,
   "metadata": {
    "colab": {
     "base_uri": "https://localhost:8080/"
    },
    "id": "ChsChH14Ruxn",
    "outputId": "df6c8f0b-d024-4c64-a24e-1ba333e88a13"
   },
   "outputs": [
    {
     "name": "stdout",
     "output_type": "stream",
     "text": [
      "in 0.0703125 0.08691406 0.087890625 0.0625 0.06933594 -0.10888672 -0.08154297 -0.15429688 0.020751953 0.13183594 -0.11376953 -0.037353516 0.06933594 0.078125 -0.103027344 -0.09765625 0.044189453 0.10253906 -0.060791016 -0.036132812 -0.045410156 0.04736328 -0.12060547 -0.063964844 0.0022583008 0.037109375 -0.0029144287 0.11767578 0.061767578 0.063964844 0.08105469 -0.068847656 -0.021362305 0.05517578 -0.08544922 0.068847656 -0.12792969 -0.033203125 0.09863281 0.17578125 0.110839844 -0.03466797 -0.04711914 -0.008483887 0.035888672 0.103027344 0.026977539 -0.028686523 -0.005126953 0.10644531 0.059814453 0.09423828 0.033691406 -0.02709961 -0.09423828 0.0010299683 -0.048339844 0.034423828 0.08105469 -0.11328125 -0.08886719 0.035888672 -0.14550781 -0.24414062 -0.061523438 0.052978516 0.056884766 0.1796875 0.061035156 0.08691406 0.12402344 -0.040283203 0.022583008 0.17773438 -0.029663086 -0.029663086 0.1171875 0.03112793 -0.096191406 0.06640625 0.004699707 -0.080078125 0.06298828 -0.020629883 -0.0546875 -0.13574219 -0.06347656 0.083496094 -0.063964844 0.021484375 0.07714844 -0.037109375 -0.033691406 -0.18359375 -0.072753906 0.01586914 0.09326172 -0.061523438 -0.014221191 -0.0034484863 0.011108398 -0.15820312 -0.017089844 0.0061950684 -0.008728027 -0.080566406 -0.015258789 -0.087890625 0.003479004 -0.016113281 -0.012329102 0.09765625 -0.13964844 -0.0859375 -0.026855469 0.053955078 0.1328125 0.11279297 0.12109375 0.08544922 -0.0071105957 0.044677734 -0.14550781 -0.0032043457 -0.11767578 -0.06542969 0.07128906 -0.09423828 -0.030273438 0.12011719 0.080078125 -0.09472656 -0.16210938 -0.07763672 0.021240234 -0.08154297 0.0039367676 -0.15722656 -0.09814453 0.039794922 0.03930664 -0.009094238 0.103027344 0.067871094 -0.04272461 0.06347656 -0.049072266 0.020874023 -0.16699219 0.09326172 0.09375 0.006866455 0.053710938 0.052490234 -0.024414062 -0.032470703 -0.061523438 -0.005554199 0.096191406 0.037841797 0.012207031 -0.043945312 -0.0074768066 0.10546875 0.020385742 0.14550781 0.08203125 0.0057678223 0.0045776367 -0.09277344 -0.13867188 -0.057373047 -0.051513672 -0.13085938 -0.13964844 -0.020507812 -0.02709961 0.032714844 0.10498047 -0.0023345947 -0.022583008 0.00050354004 -0.110839844 0.08496094 -0.12988281 -0.017456055 -0.00035858154 0.107910156 0.08886719 0.044677734 0.025146484 0.023803711 0.08105469 0.02368164 -0.10986328 0.0053710938 -0.017700195 -0.033935547 -0.032958984 -0.1640625 0.095703125 -0.018310547 0.0053100586 -0.034423828 -0.044189453 -0.06640625 -0.017944336 -0.029663086 -0.007598877 -0.05126953 -0.05419922 0.08935547 -0.071777344 0.015258789 -0.08251953 -0.03173828 0.03564453 -0.021240234 -0.059326172 -0.013061523 0.046875 0.023071289 0.020996094 -0.07861328 -0.008056641 0.01953125 -0.005554199 0.041503906 0.027832031 0.01361084 0.03466797 -0.18261719 0.12011719 0.07421875 -0.041015625 -0.0099487305 0.04296875 -0.007293701 0.123046875 0.057617188 -0.053466797 -0.032226562 -0.009094238 -0.04663086 0.043945312 -0.05078125 0.068847656 0.0029907227 -0.004180908 -0.044189453 0.07373047 -0.012756348 0.06738281 0.006286621 0.07519531 -0.037841797 0.0048828125 0.044677734 -0.06738281 0.00970459 0.0047302246 0.020507812 0.07128906 0.17089844 0.17382812 0.055664062 0.091308594 -0.037353516 0.049804688 -0.03930664 0.044189453 0.0625 0.048583984 -0.053222656 0.048828125 -0.13085938 -0.028930664 -0.036132812 -0.060791016 -0.057373047 0.123046875 -0.08251953 -0.0119018555 0.125 0.0013580322 0.063964844 -0.10644531 -0.14355469 -0.042236328 0.024047852 -0.16894531 -0.08886719 -0.080566406 0.064941406 0.061279297 -0.04736328 -0.05883789 -0.047607422 0.014465332 -0.0625\n",
      "\n",
      "for -0.011779785 -0.04736328 0.044677734 0.06347656 -0.018188477 -0.063964844 -0.0013122559 -0.072265625 0.064453125 0.08642578 -0.16992188 -0.039794922 0.07128906 -0.025878906 0.018188477 0.13671875 0.14453125 -0.033691406 -0.09765625 -0.12011719 -0.079589844 0.0625 -0.06689453 0.07421875 0.022705078 0.033447266 -0.18066406 0.052001953 0.0138549805 0.09277344 0.0035095215 -0.009094238 -0.09716797 0.067871094 -0.0087890625 0.044189453 -0.13378906 -0.099609375 0.033203125 0.027954102 0.15527344 -0.017700195 0.014282227 -0.10986328 -0.08544922 -0.07324219 -0.024658203 0.17285156 0.061767578 0.08935547 -0.024291992 0.14160156 -0.032958984 0.02746582 -0.15527344 0.007873535 -0.07080078 0.043701172 0.006011963 -0.055908203 -0.14746094 0.028442383 -0.1328125 -0.17675781 -0.091308594 -0.05078125 -0.026000977 -0.1484375 -0.080566406 0.15039062 -0.04345703 0.07910156 0.033203125 0.09033203 0.022705078 -0.0625 0.1640625 0.0859375 -0.012390137 0.19628906 -0.06225586 0.022460938 -0.030151367 0.021240234 0.003326416 -0.055419922 -0.07324219 0.029785156 0.049804688 0.017456055 0.10449219 0.03881836 0.08496094 -0.24804688 0.06933594 -0.14941406 0.05834961 0.095703125 -0.033447266 0.06298828 0.021362305 -0.14550781 0.053710938 -0.09082031 -0.025390625 0.045410156 0.0053100586 -0.115722656 -0.01953125 0.12109375 0.032226562 0.09472656 -0.064453125 0.022705078 0.12060547 0.060302734 0.12060547 0.048828125 0.09326172 0.06689453 0.029296875 -0.034179688 -0.111328125 0.053466797 -0.025634766 0.017822266 0.06225586 -0.025878906 0.14550781 0.0625 0.107910156 -0.16308594 -0.09765625 -0.10595703 -0.08544922 -0.08886719 0.10107422 -0.079589844 0.008422852 0.024047852 0.13085938 0.05126953 0.08154297 0.09375 -0.05859375 -0.09667969 -0.028320312 -0.14550781 -0.14746094 0.14550781 -0.017578125 0.032958984 -0.08544922 -0.010986328 -0.037109375 -0.013671875 0.035888672 -0.008239746 0.05029297 -0.09472656 0.047851562 0.020751953 0.030639648 0.12988281 0.052734375 0.018798828 -0.017578125 0.03491211 0.018310547 -0.009887695 -0.18457031 -0.08984375 -0.029052734 -0.060791016 -0.05126953 -0.0023651123 0.06640625 -0.08251953 -0.040039062 0.096191406 -0.15429688 -0.15332031 0.028320312 0.013122559 0.029907227 -0.012145996 -0.09667969 0.024780273 0.19335938 0.013000488 0.024169922 -0.035888672 0.09863281 -0.09667969 -0.20019531 -0.013793945 0.0859375 -0.080078125 -0.17675781 -0.17480469 0.005126953 -0.03491211 -0.0546875 0.09375 -0.09326172 -0.011962891 -0.0005645752 0.09765625 0.024780273 -0.039794922 0.009765625 0.11816406 0.025756836 0.123046875 0.064453125 0.07080078 0.029296875 -0.049560547 -0.078125 0.028930664 0.045654297 -0.04296875 0.025878906 -0.051757812 0.140625 0.004272461 -0.037841797 0.02746582 0.060058594 0.028320312 0.028076172 -0.036621094 0.13085938 -9.679794e-05 -0.06933594 -0.022094727 0.067871094 -0.02331543 -0.015319824 -0.05834961 0.061035156 0.00064468384 0.0039978027 -0.07128906 0.091796875 0.026245117 0.020019531 0.03540039 -0.057861328 -0.029663086 0.02734375 0.025146484 0.060302734 0.13183594 -0.0043640137 0.0027313232 0.059814453 0.09863281 -0.091796875 -0.045898438 -0.017456055 0.038330078 -0.019165039 0.04638672 0.047851562 0.09814453 -0.040283203 0.09423828 -0.03466797 -0.042236328 0.0703125 -0.013671875 0.10644531 0.016479492 0.13183594 -0.0016937256 -0.008483887 -0.14257812 -0.04663086 -0.10986328 0.08203125 -0.041015625 -0.018920898 0.087890625 -0.0028076172 0.23828125 -0.04711914 -0.022949219 0.040771484 0.029296875 -0.022583008 0.0037231445 -0.08251953 0.08154297 0.00793457 0.00047683716 0.018432617 0.07128906 -0.03491211 0.024169922\n",
      "\n",
      "that -0.01574707 -0.028320312 0.083496094 0.05029297 -0.11035156 0.03173828 -0.014221191 -0.08984375 0.11767578 0.11816406 -0.071777344 -0.07714844 -0.068847656 0.07714844 -0.13867188 0.006500244 0.010986328 -0.015136719 -0.0009613037 -0.030273438 -0.00015830994 0.038330078 -0.024169922 -0.045898438 0.09472656 -0.05517578 -0.064941406 0.0061035156 0.0008544922 0.06201172 -0.05444336 0.014099121 0.022216797 -0.044921875 0.111328125 -0.03857422 0.05126953 0.025146484 0.016967773 0.06298828 0.13769531 0.13574219 0.06542969 -0.064453125 -0.024047852 -0.013366699 -0.037109375 0.0043029785 -0.01574707 0.019042969 0.10839844 0.044677734 -0.044921875 -0.095214844 0.08691406 0.08203125 0.0068359375 -0.13183594 0.0027313232 -0.075683594 0.022460938 0.171875 -0.048583984 0.038330078 -0.088378906 -0.017211914 0.021850586 0.13378906 0.010681152 0.049804688 0.038085938 -0.0052490234 0.061279297 -0.050048828 -0.10595703 0.055664062 0.15429688 0.17089844 0.048095703 0.12695312 0.08154297 -0.1015625 0.043945312 -0.013549805 -0.13378906 -0.15722656 0.024291992 0.20898438 -0.10205078 -0.09375 0.048583984 0.07519531 0.0035247803 -0.123535156 -0.024169922 -0.0013198853 0.038330078 0.007598877 0.017700195 0.043701172 -0.09814453 -0.05810547 0.014099121 0.041015625 -0.03540039 -0.022949219 -0.13085938 -0.14453125 0.028930664 -0.122558594 -0.07128906 -0.0071411133 -0.09667969 0.05859375 0.104003906 0.026367188 0.0075683594 0.036132812 0.040283203 0.052734375 -0.20410156 -0.033447266 -0.029052734 0.03173828 -0.123535156 -0.06738281 0.01586914 -0.08642578 0.012512207 -0.06298828 -0.12060547 0.0234375 -0.13183594 -0.11816406 -0.012145996 -0.10986328 0.095214844 -0.041992188 0.018310547 0.051757812 0.014953613 -0.15917969 -0.021728516 -0.005126953 0.035888672 -0.003036499 -0.078125 -0.05126953 -0.0074157715 0.087402344 -0.023925781 0.044189453 -0.11376953 0.021484375 -0.003829956 -0.04345703 -0.104003906 -0.18554688 -0.044921875 0.044921875 -0.044433594 0.019042969 -0.020996094 0.0134887695 0.015258789 -0.030395508 0.04663086 0.10253906 -0.0138549805 0.008239746 -0.052734375 0.01965332 -0.076171875 -0.08984375 0.043945312 0.00793457 0.012634277 -0.10839844 -0.018554688 -0.10449219 -0.15234375 -0.07910156 -0.028808594 -0.018676758 0.09716797 -0.008361816 -0.03540039 0.007537842 0.05810547 0.08203125 0.028808594 0.05102539 0.0031738281 -0.018554688 0.014953613 -0.072753906 -0.034179688 0.043945312 -0.048828125 -0.16113281 0.025634766 0.036621094 -0.00015354156 -0.0012588501 -0.039794922 -0.032226562 -0.01574707 0.060791016 0.09716797 -0.015014648 -0.033691406 -0.015319824 0.0046691895 0.032958984 -0.08203125 0.10644531 0.15429688 0.0087890625 -0.12011719 0.061279297 0.05859375 0.03881836 -0.015991211 -0.043945312 0.12011719 -0.07519531 0.125 0.03515625 0.072753906 0.087402344 0.021118164 -0.07373047 0.034423828 -0.09423828 0.01159668 -0.057128906 -0.07861328 0.015991211 0.075683594 0.030517578 0.0046081543 -0.14550781 -0.024780273 -0.107910156 0.068847656 0.05810547 0.125 -0.06542969 0.005279541 0.01184082 0.06982422 0.12695312 0.06542969 -0.017333984 0.119140625 -0.032470703 0.14453125 0.076660156 -0.032226562 -0.06591797 0.06298828 -0.0625 -0.096191406 0.10644531 -0.039794922 0.11621094 -0.00970459 -0.03540039 -0.06542969 0.05883789 0.16210938 0.05126953 0.15917969 0.095214844 0.076171875 -0.091796875 0.025146484 -0.07861328 0.08935547 -0.05859375 -0.040039062 0.045898438 0.03100586 0.0390625 0.03564453 -0.10595703 -0.037109375 -0.16113281 0.021362305 0.0012207031 -0.011291504 -0.015625 -0.033447266 -0.020629883 -0.01940918 0.063964844 0.020141602 0.006866455 0.061035156 -0.1484375\n",
      "\n",
      "is 0.0070495605 -0.07324219 0.171875 0.022583008 -0.1328125 0.19824219 0.11279297 -0.107910156 0.071777344 0.020874023 -0.123046875 -0.05908203 0.10107422 0.0107421875 0.14355469 0.25976562 -0.036376953 0.18554688 -0.07861328 -0.022705078 -0.12060547 0.17773438 0.049560547 0.017211914 0.079589844 -0.045654297 -0.18847656 0.18945312 -0.02319336 0.06298828 0.09765625 -0.019042969 -0.07910156 0.15234375 0.17382812 0.1015625 -0.16308594 0.114746094 0.10058594 -0.09277344 0.109375 0.05883789 -0.021606445 0.06347656 0.041992188 -0.008850098 0.032226562 0.10644531 0.064453125 -0.118652344 0.030517578 0.06689453 0.12207031 -0.08300781 0.171875 0.07861328 0.095214844 -0.0077819824 0.02319336 0.0234375 -0.016845703 0.15527344 -0.10986328 -0.17675781 -0.11621094 0.0234375 -0.010620117 0.052734375 -0.13378906 0.079589844 0.07373047 0.043945312 0.115234375 -0.020629883 0.07470703 -0.0115356445 0.080566406 0.041748047 0.080078125 0.3515625 0.09667969 -0.21289062 0.16503906 -0.078125 0.06982422 -0.0013961792 -0.091308594 0.12988281 0.25195312 -0.016113281 0.09326172 -0.14648438 -0.0015106201 -0.15136719 -0.026855469 -0.15722656 0.026367188 0.0859375 0.071777344 0.07714844 -0.0390625 0.05444336 -0.12792969 0.091308594 -0.18457031 -0.037597656 -0.027954102 -0.08984375 -0.11669922 -0.09863281 0.048095703 -0.16210938 -0.10888672 0.08496094 -0.045654297 0.15820312 -0.038085938 -0.08203125 0.203125 0.08642578 0.06933594 0.032226562 -0.16015625 0.09472656 -0.024658203 0.05419922 0.027954102 0.044921875 0.16992188 0.072753906 -0.036376953 -0.010253906 -0.017089844 -0.107421875 -0.0007019043 -0.07373047 0.25390625 0.056640625 0.03515625 -0.008605957 0.18554688 0.021484375 0.26367188 -0.023803711 -0.099121094 -0.041259766 -0.06933594 -0.11376953 0.050048828 -0.05883789 0.046142578 0.087402344 0.10546875 0.10644531 0.027954102 0.09472656 0.11621094 -0.17285156 -0.03491211 -0.20800781 0.059570312 0.104003906 -0.0017929077 0.05859375 -0.029785156 -0.037597656 0.048583984 -0.063964844 0.079589844 0.06933594 -0.10498047 -0.14453125 0.04345703 -0.068847656 -0.03564453 -0.01171875 0.013671875 -0.06591797 0.119140625 0.03125 -0.04638672 -0.0019683838 0.0073547363 -0.056640625 0.027832031 0.08251953 -0.0134887695 0.071777344 0.14453125 0.12792969 0.042236328 0.14160156 -0.018066406 0.021606445 -0.091796875 0.13378906 -0.1953125 -0.05029297 -0.037841797 -0.096191406 0.103027344 -0.106933594 -0.14746094 0.099609375 -0.23046875 0.22753906 -0.07519531 0.064941406 0.091796875 0.046875 0.06298828 0.06982422 0.046142578 0.09716797 -0.20214844 0.19921875 0.18652344 -0.119628906 -0.14257812 0.15039062 -0.033691406 -0.14550781 -0.0006904602 -0.07324219 0.13378906 0.03564453 -0.022949219 0.027709961 -0.07910156 0.20703125 -0.083496094 -0.049560547 0.03149414 0.1484375 0.055664062 -0.044921875 -0.079589844 0.004760742 -0.020751953 0.060058594 0.004760742 0.011169434 0.17285156 -0.13476562 0.030761719 -0.079589844 0.09033203 0.061035156 0.07714844 -0.05029297 -0.092285156 -0.26757812 0.107910156 0.0859375 0.06298828 0.107910156 -0.026733398 0.10205078 -0.12060547 0.052978516 0.09472656 -0.16503906 0.044189453 0.072265625 0.041259766 0.42578125 -0.103027344 -0.16015625 -0.09033203 -0.063964844 -0.048095703 0.14453125 0.06542969 0.049316406 0.05419922 0.13574219 -0.01928711 -0.21582031 -0.07421875 -0.14648438 0.011474609 -0.16503906 -0.10498047 0.0032043457 0.13476562 -0.003967285 -0.103515625 -0.13964844 0.10449219 -0.012573242 -0.23339844 -0.036376953 -0.09375 0.18261719 0.02709961 0.12792969 -0.024780273 0.011230469 0.1640625 0.106933594\n",
      "\n"
     ]
    }
   ],
   "source": [
    "# Exercise: Print the first 4 lines of the files that you downloaded.\n",
    "# What do you see?\n",
    "f = open(W2V_PATH)\n",
    "for i in range(4):\n",
    "    print(f.readline())\n",
    "f.close()"
   ]
  },
  {
   "cell_type": "markdown",
   "metadata": {
    "id": "WIVCkUkE_IjR"
   },
   "source": [
    "#### Exercise: New Vocabulary\n",
    "\n",
    "Since we now use pre-trained word embeddings, we need to create a new vocabulary. \n",
    "This is because of two reasons:\n",
    "\n",
    "1. We do not have pre-trained word embeddings for all words in our SST training set, and we do not want words in our vocabulary for which we have no word embeddings.\n",
    "2. We should be able to look up the pre-trained word embedding for words in the validation and test set, even if these words are unseen in training. \n",
    "\n",
    "Now, create a new vocabulary object `v` based on the word set of pre-trained embeddings, and load the corresponding embeddings into a list `vectors`.\n",
    "\n",
    "The vocabulary `v` should consist of:\n",
    " - a  `<unk>` token at position 0,\n",
    " - a  `<pad>` token at position 1, \n",
    " - and then all words in the pre-trained embedding set.\n",
    " \n",
    "\n",
    "After storing each vector in a list `vectors`, turn the list into a numpy matrix like this:\n",
    "```python\n",
    " vectors = np.stack(vectors, axis=0)\n",
    "```\n",
    "\n",
    "Remember to add new embeddings for the `<unk>` and `<pad>` tokens, as they're not part of the word2vec/GloVe embeddings. These embeddings can be randomly initialized or 0-valued, think about what makes sense and see what the effects are.\n",
    " "
   ]
  },
  {
   "cell_type": "code",
   "execution_count": 59,
   "metadata": {
    "colab": {
     "base_uri": "https://localhost:8080/"
    },
    "id": "ITyyCvDnCL4U",
    "outputId": "462120b1-123b-4d48-e9fb-65cb5275d04c"
   },
   "outputs": [
    {
     "name": "stdout",
     "output_type": "stream",
     "text": [
      "Vocabulary size: 18922\n",
      "Vectors shape: (18922, 300)\n",
      "Third vector: [ 0.0703125   0.08691406  0.08789062  0.0625      0.06933594 -0.10888672\n",
      " -0.08154297 -0.15429688  0.02075195  0.13183594 -0.11376953 -0.03735352\n",
      "  0.06933594  0.078125   -0.10302734 -0.09765625  0.04418945  0.10253906\n",
      " -0.06079102 -0.03613281 -0.04541016  0.04736328 -0.12060547 -0.06396484\n",
      "  0.0022583   0.03710938 -0.00291443  0.11767578  0.06176758  0.06396484\n",
      "  0.08105469 -0.06884766 -0.02136231  0.05517578 -0.08544922  0.06884766\n",
      " -0.12792969 -0.03320312  0.09863281  0.17578125  0.11083984 -0.03466797\n",
      " -0.04711914 -0.00848389  0.03588867  0.10302734  0.02697754 -0.02868652\n",
      " -0.00512695  0.10644531  0.05981445  0.09423828  0.03369141 -0.02709961\n",
      " -0.09423828  0.00102997 -0.04833984  0.03442383  0.08105469 -0.11328125\n",
      " -0.08886719  0.03588867 -0.14550781 -0.24414062 -0.06152344  0.05297852\n",
      "  0.05688477  0.1796875   0.06103516  0.08691406  0.12402344 -0.0402832\n",
      "  0.02258301  0.17773438 -0.02966309 -0.02966309  0.1171875   0.03112793\n",
      " -0.09619141  0.06640625  0.00469971 -0.08007812  0.06298828 -0.02062988\n",
      " -0.0546875  -0.13574219 -0.06347656  0.08349609 -0.06396484  0.02148438\n",
      "  0.07714844 -0.03710938 -0.03369141 -0.18359375 -0.07275391  0.01586914\n",
      "  0.09326172 -0.06152344 -0.01422119 -0.00344849  0.0111084  -0.15820312\n",
      " -0.01708984  0.00619507 -0.00872803 -0.08056641 -0.01525879 -0.08789062\n",
      "  0.003479   -0.01611328 -0.0123291   0.09765625 -0.13964844 -0.0859375\n",
      " -0.02685547  0.05395508  0.1328125   0.11279297  0.12109375  0.08544922\n",
      " -0.0071106   0.04467773 -0.14550781 -0.00320435 -0.11767578 -0.06542969\n",
      "  0.07128906 -0.09423828 -0.03027344  0.12011719  0.08007812 -0.09472656\n",
      " -0.16210938 -0.07763672  0.02124023 -0.08154297  0.00393677 -0.15722656\n",
      " -0.09814453  0.03979492  0.03930664 -0.00909424  0.10302734  0.06787109\n",
      " -0.04272461  0.06347656 -0.04907227  0.02087402 -0.16699219  0.09326172\n",
      "  0.09375     0.00686645  0.05371094  0.05249023 -0.02441406 -0.0324707\n",
      " -0.06152344 -0.0055542   0.09619141  0.0378418   0.01220703 -0.04394531\n",
      " -0.00747681  0.10546875  0.02038574  0.14550781  0.08203125  0.00576782\n",
      "  0.00457764 -0.09277344 -0.13867188 -0.05737305 -0.05151367 -0.13085938\n",
      " -0.13964844 -0.02050781 -0.02709961  0.03271484  0.10498047 -0.00233459\n",
      " -0.02258301  0.00050354 -0.11083984  0.08496094 -0.12988281 -0.01745606\n",
      " -0.00035858  0.10791016  0.08886719  0.04467773  0.02514648  0.02380371\n",
      "  0.08105469  0.02368164 -0.10986328  0.00537109 -0.01770019 -0.03393555\n",
      " -0.03295898 -0.1640625   0.09570312 -0.01831055  0.00531006 -0.03442383\n",
      " -0.04418945 -0.06640625 -0.01794434 -0.02966309 -0.00759888 -0.05126953\n",
      " -0.05419922  0.08935547 -0.07177734  0.01525879 -0.08251953 -0.03173828\n",
      "  0.03564453 -0.02124023 -0.05932617 -0.01306152  0.046875    0.02307129\n",
      "  0.02099609 -0.07861328 -0.00805664  0.01953125 -0.0055542   0.04150391\n",
      "  0.02783203  0.01361084  0.03466797 -0.18261719  0.12011719  0.07421875\n",
      " -0.04101562 -0.00994873  0.04296875 -0.0072937   0.12304688  0.05761719\n",
      " -0.0534668  -0.03222656 -0.00909424 -0.04663086  0.04394531 -0.05078125\n",
      "  0.06884766  0.00299072 -0.00418091 -0.04418945  0.07373047 -0.01275635\n",
      "  0.06738281  0.00628662  0.07519531 -0.0378418   0.00488281  0.04467773\n",
      " -0.06738281  0.00970459  0.00473022  0.02050781  0.07128906  0.17089844\n",
      "  0.17382812  0.05566406  0.09130859 -0.03735352  0.04980469 -0.03930664\n",
      "  0.04418945  0.0625      0.04858398 -0.05322266  0.04882812 -0.13085938\n",
      " -0.02893066 -0.03613281 -0.06079102 -0.05737305  0.12304688 -0.08251953\n",
      " -0.01190186  0.125       0.00135803  0.06396484 -0.10644531 -0.14355469\n",
      " -0.04223633  0.02404785 -0.16894531 -0.08886719 -0.08056641  0.06494141\n",
      "  0.0612793  -0.04736328 -0.05883789 -0.04760742  0.01446533 -0.0625    ]\n"
     ]
    }
   ],
   "source": [
    "# YOUR CODE HERE\n",
    "# v = ...\n",
    "# vectors = ...\n",
    "\n",
    "vectors = [[0]*300, [0]*300] # first two vectors are embedding of <unk> and <pad>\n",
    "\n",
    "f = open(W2V_PATH)\n",
    "v_pt = Vocabulary()\n",
    "for line in f:\n",
    "    line_list = line.split()\n",
    "    word = line_list[0]\n",
    "    vec = line_list[1:]\n",
    "    vec = [float(val) for val in vec]\n",
    "    vectors.append(vec)\n",
    "    v_pt.count_token(word)\n",
    "    \n",
    "vectors = np.stack(vectors, axis=0)\n",
    "v_pt.build()\n",
    "print(\"Vocabulary size:\", len(v_pt.w2i))\n",
    "print('Vectors shape:',vectors.shape)\n",
    "print('Third vector:', vectors[2])"
   ]
  },
  {
   "cell_type": "markdown",
   "metadata": {
    "id": "xC-7mRyYNG9b"
   },
   "source": [
    "#### Exercise: words not in our pre-trained set\n",
    "\n",
    "How many words in the training, dev, and test set are also in your vector set?\n",
    "How many words are not there?\n",
    "\n",
    "Store the words that are not in the word vector set in the set below."
   ]
  },
  {
   "cell_type": "code",
   "execution_count": 60,
   "metadata": {
    "colab": {
     "base_uri": "https://localhost:8080/"
    },
    "id": "K6MA3-wF_X5M",
    "outputId": "8c0f7b35-3a36-493c-d6f0-cb9f76d20c7e"
   },
   "outputs": [
    {
     "name": "stdout",
     "output_type": "stream",
     "text": [
      "{'<pad>', '<unk>'}\n",
      "21699\n",
      "18922\n"
     ]
    }
   ],
   "source": [
    "words_not_found = set()\n",
    "# YOUR CODE HERE\n",
    "\n",
    "# get all words which are in the data we have\n",
    "known_words = set()\n",
    "all_sets = (train_data, dev_data, test_data)\n",
    "for data in all_sets:\n",
    "    for data_set in (data,):\n",
    "        for ex in data_set:\n",
    "            for token in ex.tokens:\n",
    "                known_words.add(token)\n",
    "\n",
    "# check for each word in v if it is known\n",
    "words_not_found = {word for word in v_pt.w2i.keys() if word not in known_words}\n",
    "\n",
    "print(words_not_found)\n",
    "print(len(known_words))\n",
    "print(len(v_pt.w2i))"
   ]
  },
  {
   "cell_type": "markdown",
   "metadata": {
    "id": "BfEd38W0NnAI"
   },
   "source": [
    "#### Exercise: train Deep CBOW with (fixed) pre-trained embeddings\n",
    "\n",
    "Now train Deep CBOW again using the pre-trained word vectors.\n"
   ]
  },
  {
   "cell_type": "code",
   "execution_count": 61,
   "metadata": {
    "colab": {
     "base_uri": "https://localhost:8080/",
     "height": 231
    },
    "id": "z_6ooqgEsB20",
    "outputId": "6c256c02-5bf8-4e2e-8983-f5b486ad9bdb"
   },
   "outputs": [
    {
     "ename": "NameError",
     "evalue": "ignored",
     "output_type": "error",
     "traceback": [
      "\u001b[0;31m---------------------------------------------------------------------------\u001b[0m",
      "\u001b[0;31mNameError\u001b[0m                                 Traceback (most recent call last)",
      "\u001b[0;32m<ipython-input-61-cd1bc89b09dd>\u001b[0m in \u001b[0;36m<module>\u001b[0;34m()\u001b[0m\n\u001b[1;32m      1\u001b[0m \u001b[0;31m# We define a new class that inherits from DeepCBOW.\u001b[0m\u001b[0;34m\u001b[0m\u001b[0;34m\u001b[0m\u001b[0;34m\u001b[0m\u001b[0m\n\u001b[0;32m----> 2\u001b[0;31m \u001b[0;32mclass\u001b[0m \u001b[0mPTDeepCBOW\u001b[0m\u001b[0;34m(\u001b[0m\u001b[0mDeepCBOW\u001b[0m\u001b[0;34m)\u001b[0m\u001b[0;34m:\u001b[0m\u001b[0;34m\u001b[0m\u001b[0;34m\u001b[0m\u001b[0m\n\u001b[0m\u001b[1;32m      3\u001b[0m     \u001b[0;32mdef\u001b[0m \u001b[0m__init__\u001b[0m\u001b[0;34m(\u001b[0m\u001b[0mself\u001b[0m\u001b[0;34m,\u001b[0m \u001b[0mvocab_size\u001b[0m\u001b[0;34m,\u001b[0m \u001b[0membedding_dim\u001b[0m\u001b[0;34m,\u001b[0m \u001b[0mhidden_dim\u001b[0m\u001b[0;34m,\u001b[0m \u001b[0moutput_dim\u001b[0m\u001b[0;34m,\u001b[0m \u001b[0mvocab\u001b[0m\u001b[0;34m)\u001b[0m\u001b[0;34m:\u001b[0m\u001b[0;34m\u001b[0m\u001b[0;34m\u001b[0m\u001b[0m\n\u001b[1;32m      4\u001b[0m         super(PTDeepCBOW, self).__init__(\n\u001b[1;32m      5\u001b[0m             vocab_size, embedding_dim, output_dim, hidden_dim, vocab)\n",
      "\u001b[0;31mNameError\u001b[0m: name 'DeepCBOW' is not defined"
     ]
    }
   ],
   "source": [
    "# We define a new class that inherits from DeepCBOW.\n",
    "class PTDeepCBOW(DeepCBOW):\n",
    "    def __init__(self, vocab_size, embedding_dim, hidden_dim, output_dim, vocab):\n",
    "        super(PTDeepCBOW, self).__init__(\n",
    "            vocab_size, embedding_dim, output_dim, hidden_dim, vocab)"
   ]
  },
  {
   "cell_type": "code",
   "execution_count": null,
   "metadata": {
    "id": "JfIh4Ni6yuAh"
   },
   "outputs": [],
   "source": [
    "# Create a Deep CBOW model with pre-trained embeddings\n",
    "# YOUR CODE HERE\n",
    "# pt_deep_cbow_model = ..\n",
    "def generate_pt_deep_cbow():\n",
    "    pt_deep_cbow_model = PTDeepCBOW(len(v_pt.i2w), EMBED_DIM, NUM_CLASSES, NUM_HIDDEN, v_pt)\n",
    "\n",
    "    # copy pre-trained word vectors into embeddings table\n",
    "    pt_deep_cbow_model.embed.weight.data.copy_(torch.from_numpy(vectors))\n",
    "\n",
    "    # disable training the pre-trained embeddings\n",
    "    pt_deep_cbow_model.embed.weight.requires_grad = False\n",
    "\n",
    "    # move model to specified device\n",
    "    pt_deep_cbow_model = pt_deep_cbow_model.to(device)\n",
    "    return pt_deep_cbow_model\n",
    "\n",
    "# train the model\n",
    "# YOUR CODE HERE"
   ]
  },
  {
   "cell_type": "code",
   "execution_count": null,
   "metadata": {
    "id": "Cs9VivO7FqnX"
   },
   "outputs": [],
   "source": [
    "# train PTDeepCBOW\n",
    "#PTdeep_cbow_model = PTDeepCBOW(len(v.w2i), EMBED_DIM, NUM_CLASSES, NUM_HIDDEN, v)\n",
    "#print(PTdeep_cbow_model)\n",
    "\n",
    "#PTdeep_cbow_model = PTdeep_cbow_model.to(device)\n",
    "\n",
    "PTdeep_cbow_losses, PTdeep_cbow_accuracies, PTdeep_cbow_best_accs = train_loop(\n",
    "    generate_pt_deep_cbow,\n",
    "    lambda model: optim.Adam(model.parameters(), lr=0.0005),\n",
    "    num_iterations=0, print_every=1000, eval_every=1000, patience=20)"
   ]
  },
  {
   "cell_type": "code",
   "execution_count": null,
   "metadata": {
    "id": "0F9LebXlwiKr"
   },
   "outputs": [],
   "source": [
    "plot_results(PTdeep_cbow_losses, PTdeep_cbow_accuracies, \"fig/pt_deep_cbow.pdf\", eval_every=1000)"
   ]
  },
  {
   "cell_type": "markdown",
   "metadata": {
    "id": "yFu8xzCy9XDW"
   },
   "source": [
    "**It looks like we've hit what is possible with just using words.**\n",
    "Let's move on by incorporating word order!"
   ]
  },
  {
   "cell_type": "markdown",
   "metadata": {
    "id": "g41yW4PL9jG0"
   },
   "source": [
    "# LSTM"
   ]
  },
  {
   "cell_type": "markdown",
   "metadata": {
    "id": "ODzXEH0MaGpa"
   },
   "source": [
    "It is time to get more serious. Even with pre-trained word embeddings and multiple layers, we still seem to do pretty badly at sentiment classification. \n",
    "The next step we can take is to introduce word order again, dropping our independence assumptions. In this way, we can get a representation of the sentence as an ordered set of tokens.\n",
    "\n",
    "We will get this representation using a **Long Short-Term Memory** (LSTM). As an exercise, we will code our own LSTM cell, so that we get comfortable with its inner workings.\n",
    "Once we have an LSTM cell, we can call it repeatedly, updating its hidden state one word at a time:\n",
    "\n",
    "```python\n",
    "rnn = MyLSTMCell(input_size, hidden_size)\n",
    "\n",
    "hx = torch.zeros(1, hidden_size)  # initial hidden state\n",
    "cx = torch.zeros(1, hidden_size)  # initial memory cell\n",
    "output = []                       # to save intermediate LSTM states\n",
    "\n",
    "# feed one word at a time\n",
    "for i in range(n_timesteps):\n",
    "  hx, cx = rnn(input[i], (hx, cx))\n",
    "  output.append(hx)\n",
    "```\n",
    "\n",
    "If you need some more help understanding LSTMs, you can check out these resources:\n",
    "- Blog post (highly recommended): http://colah.github.io/posts/2015-08-Understanding-LSTMs/\n",
    "- Paper covering LSTM formulas in detail: https://arxiv.org/abs/1503.04069 \n"
   ]
  },
  {
   "cell_type": "markdown",
   "metadata": {
    "id": "v9f4b45BXKFC"
   },
   "source": [
    "#### Exercise: Finish the LSTM cell below. \n",
    "You will need to implement the LSTM formulas:\n",
    "\n",
    "$$\n",
    "\\begin{array}{ll}\n",
    "        i = \\sigma(W_{ii} x + b_{ii} + W_{hi} h + b_{hi}) \\\\\n",
    "        f = \\sigma(W_{if} x + b_{if} + W_{hf} h + b_{hf}) \\\\\n",
    "        g = \\tanh(W_{ig} x + b_{ig} + W_{hg} h + b_{hg}) \\\\\n",
    "        o = \\sigma(W_{io} x + b_{io} + W_{ho} h + b_{ho}) \\\\\n",
    "        c' = f * c + i * g \\\\\n",
    "        h' = o \\tanh(c') \\\\\n",
    "\\end{array}\n",
    " $$\n",
    "\n",
    "where $\\sigma$ is the sigmoid function.\n",
    "\n",
    "*Note that the LSTM formulas can differ slightly between different papers. We use the PyTorch LSTM formulation here.*"
   ]
  },
  {
   "cell_type": "code",
   "execution_count": 62,
   "metadata": {
    "id": "zJ9m5kLMd7-v"
   },
   "outputs": [],
   "source": [
    "class MyLSTMCell(nn.Module):\n",
    "    \"\"\"Our own LSTM cell\"\"\"\n",
    "\n",
    "    def __init__(self, input_size, hidden_size, bias=True):\n",
    "        \"\"\"Creates the weights for this LSTM\"\"\"\n",
    "        super(MyLSTMCell, self).__init__()\n",
    "\n",
    "        self.input_size = input_size\n",
    "        self.hidden_size = hidden_size\n",
    "        self.bias = bias\n",
    "\n",
    "        # YOUR CODE HERE\n",
    "        self.i = nn.Linear(input_size+hidden_size, hidden_size)\n",
    "        self.f = nn.Linear(input_size+hidden_size, hidden_size)\n",
    "        self.g = nn.Linear(input_size+hidden_size, hidden_size)\n",
    "        self.o = nn.Linear(input_size+hidden_size, hidden_size)\n",
    "\n",
    "        self.reset_parameters()\n",
    "\n",
    "    def reset_parameters(self):\n",
    "        \"\"\"This is PyTorch's default initialization method\"\"\"\n",
    "        stdv = 1.0 / math.sqrt(self.hidden_size)\n",
    "        for weight in self.parameters():\n",
    "            weight.data.uniform_(-stdv, stdv)  \n",
    "\n",
    "    def forward(self, input_, hx, mask=None):\n",
    "        \"\"\"\n",
    "        input is (batch, input_size)\n",
    "        hx is ((batch, hidden_size), (batch, hidden_size))\n",
    "        \"\"\"\n",
    "        prev_h, prev_c = hx\n",
    "\n",
    "        # project input and prev state\n",
    "        # YOUR CODE HERE\n",
    "\n",
    "        #???\n",
    "        \n",
    "        # stack hidden and input\n",
    "        x_stack = torch.cat((prev_h, input_), dim=1)\n",
    "        \n",
    "        # main LSTM computation    \n",
    "        i = torch.sigmoid(self.i(x_stack))\n",
    "        f = torch.sigmoid(self.f(x_stack))\n",
    "        o = torch.sigmoid(self.o(x_stack))\n",
    "        g = torch.tanh(self.g(x_stack))\n",
    "        \n",
    "        c = f * prev_c + i * g\n",
    "        h = torch.tanh(c) * o\n",
    "\n",
    "        return h, c\n",
    "  \n",
    "    def __repr__(self):\n",
    "        return \"{}({:d}, {:d})\".format(\n",
    "            self.__class__.__name__, self.input_size, self.hidden_size)"
   ]
  },
  {
   "cell_type": "markdown",
   "metadata": {
    "id": "4JM7xPhkQeE5"
   },
   "source": [
    "#### Optional: Efficient Matrix Multiplication\n",
    "\n",
    "It is more efficient to do a few big matrix multiplications than to do many smaller ones. So we will implement the above cell using just **two** linear layers.\n",
    "\n",
    "This is possible because the eight linear transformations contained in one forward pass through an LSTM cell can be reduced to just two:\n",
    "$$W_h h + b_h$$\n",
    "$$W_i x + b_i $$ \n",
    "\n",
    "with $h = $ `prev_h` and $x = $ `input_`.\n",
    "\n",
    "and where: \n",
    "\n",
    "$W_h =  \\begin{pmatrix}\n",
    "W_{hi}\\\\ \n",
    "W_{hf}\\\\ \n",
    "W_{hg}\\\\ \n",
    "W_{ho}\n",
    "\\end{pmatrix}$, $b_h = \\begin{pmatrix}\n",
    "b_{hi}\\\\ \n",
    "b_{hf}\\\\ \n",
    "b_{hg}\\\\ \n",
    "b_{ho}\n",
    "\\end{pmatrix}$,  $W_i = \\begin{pmatrix}\n",
    "W_{ii}\\\\ \n",
    "W_{if}\\\\ \n",
    "W_{ig}\\\\ \n",
    "W_{io}\n",
    "\\end{pmatrix}$ and $b_i = \\begin{pmatrix}\n",
    "b_{ii}\\\\ \n",
    "b_{if}\\\\ \n",
    "b_{ig}\\\\ \n",
    "b_{io}\n",
    "\\end{pmatrix}$.\n",
    "\n",
    "Convince yourself that, after chunking with [torch.chunk](https://pytorch.org/docs/stable/torch.html?highlight=chunk#torch.chunk), the output of those two linear transformations is equivalent to the output of the eight linear transformations in the LSTM cell calculations above."
   ]
  },
  {
   "cell_type": "markdown",
   "metadata": {
    "id": "X9gA-UcqSBe0"
   },
   "source": [
    "#### LSTM Classifier\n",
    "\n",
    "Having an LSTM cell is not enough: we still need some code that calls it repeatedly, and then makes a prediction from the final hidden state. \n",
    "You will find that code below. Make sure that you understand it."
   ]
  },
  {
   "cell_type": "code",
   "execution_count": 63,
   "metadata": {
    "id": "3iuYZm5poEn5"
   },
   "outputs": [],
   "source": [
    "class LSTMClassifier(nn.Module):\n",
    "    \"\"\"Encodes sentence with an LSTM and projects final hidden state\"\"\"\n",
    "\n",
    "    def __init__(self, vocab_size, embedding_dim, hidden_dim, output_dim, vocab):\n",
    "        super(LSTMClassifier, self).__init__()\n",
    "        self.vocab = vocab\n",
    "        self.hidden_dim = hidden_dim\n",
    "        self.embed = nn.Embedding(vocab_size, embedding_dim, padding_idx=1)\n",
    "        self.rnn = MyLSTMCell(embedding_dim, hidden_dim)\n",
    "\n",
    "        self.output_layer = nn.Sequential(     \n",
    "            nn.Dropout(p=0.5),  # explained later\n",
    "            nn.Linear(hidden_dim, output_dim)\n",
    "        )\n",
    "\n",
    "    def forward(self, x):\n",
    "    \n",
    "        B = x.size(0)  # batch size (this is 1 for now, i.e. 1 single example)\n",
    "        T = x.size(1)  # timesteps (the number of words in the sentence)\n",
    "\n",
    "        input_ = self.embed(x)\n",
    "\n",
    "        # here we create initial hidden states containing zeros\n",
    "        # we use a trick here so that, if input is on the GPU, then so are hx and cx\n",
    "        hx = input_.new_zeros(B, self.rnn.hidden_size)\n",
    "        cx = input_.new_zeros(B, self.rnn.hidden_size)\n",
    "\n",
    "        # process input sentences one word/timestep at a time\n",
    "        # input is batch-major (i.e., batch size is the first dimension)\n",
    "        # so the first word(s) is (are) input_[:, 0]\n",
    "        outputs = []   \n",
    "        for i in range(T):\n",
    "            hx, cx = self.rnn(input_[:, i], (hx, cx))\n",
    "            outputs.append(hx)\n",
    "    \n",
    "        # if we have a single example, our final LSTM state is the last hx\n",
    "        if B == 1:\n",
    "            final = hx\n",
    "        else:\n",
    "            #\n",
    "            # This part is explained in next section, ignore this else-block for now.\n",
    "            #\n",
    "            # We processed sentences with different lengths, so some of the sentences\n",
    "            # had already finished and we have been adding padding inputs to hx.\n",
    "            # We select the final state based on the length of each sentence.\n",
    "\n",
    "            # two lines below not needed if using LSTM from pytorch\n",
    "            outputs = torch.stack(outputs, dim=0)           # [T, B, D]\n",
    "            outputs = outputs.transpose(0, 1).contiguous()  # [B, T, D]\n",
    "\n",
    "            # to be super-sure we're not accidentally indexing the wrong state\n",
    "            # we zero out positions that are invalid\n",
    "            pad_positions = (x == 1).unsqueeze(-1)\n",
    "\n",
    "            outputs = outputs.contiguous()      \n",
    "            outputs = outputs.masked_fill_(pad_positions, 0.)\n",
    "\n",
    "            mask = (x != 1)  # true for valid positions [B, T]\n",
    "            lengths = mask.sum(dim=1)                 # [B, 1]\n",
    "\n",
    "            indexes = (lengths - 1) + torch.arange(B, device=x.device, dtype=x.dtype) * T\n",
    "            final = outputs.view(-1, self.hidden_dim)[indexes]  # [B, D]\n",
    "    \n",
    "        # we use the last hidden state to classify the sentence\n",
    "        logits = self.output_layer(final)\n",
    "        return logits"
   ]
  },
  {
   "cell_type": "markdown",
   "metadata": {
    "id": "FxFoVpvMPB6g"
   },
   "source": [
    "#### Dropout\n",
    "\n",
    "Data sparsity and a small data set can cause *overfitting*. This is a phenomenom that is very likely to occur when training strong and expressive models, like LSTMs, on small data. In practice, if your model overfits, this means that it will be very good at predicting (or \"remembering\") the sentiment of the training set, but unable to generalise to new, unseen data in the test set. This is undesirable and one technique to mitigate this issue is *dropout*. \n",
    "\n",
    "A dropout layer is defined by the following formula, which can be applied, for example, to a linear layer:\n",
    "\n",
    "$$\\text{tanh}(W(\\mathbf{h}\\odot \\mathbf{d}) + \\mathbf{b})$$\n",
    "\n",
    "where $\\mathbf{d} \\in \\{0, 1\\}^n$, with $d_j \\sim \\text{Bernoulli}(p)$, \n",
    "\n",
    "These formula simply means that we *drop* certain parameters during training (by setting them to zero). Which parameters we drop is stochastically determined by a Bernoulli distribution and the probability of each parameter being dropped is set to $p = 0.5$ in our experiments (see the previous cell of code where we define our output layer). A dropout layer can be applied at many different places in our models. This technique helps against the undesirable effect that a model relies on single parameters for prediction (e.g. if $h^{\\prime}_j$ is large, always predict positive). If we use dropout, the model needs to learn to rely on different parameters, which is desirable to obtain better generalisation to unseen data."
   ]
  },
  {
   "cell_type": "markdown",
   "metadata": {
    "id": "XQjEjLt9z0XW"
   },
   "source": [
    "**Let's train our LSTM!** Note that is will be a lot slower than previous models because we need to do many more computations per sentence.\n",
    "\n",
    "#### Training"
   ]
  },
  {
   "cell_type": "code",
   "execution_count": 64,
   "metadata": {
    "colab": {
     "base_uri": "https://localhost:8080/"
    },
    "id": "LgZoSPD4fsf_",
    "outputId": "a12d5997-a2bf-47b3-e2a4-782a14128e1c"
   },
   "outputs": [
    {
     "name": "stdout",
     "output_type": "stream",
     "text": [
      "Permute is turned off.\n",
      "Training new model with seed 0\n",
      "==================================================\n",
      "Shuffling training data\n",
      "Iter 100: loss=159.1053, time=1.82s\n",
      "iter 100: dev acc=0.2534\n",
      "new highscore\n",
      "Iter 200: loss=157.8268, time=10.51s\n",
      "iter 200: dev acc=0.2534\n",
      "Iter 300: loss=157.1725, time=19.06s\n",
      "iter 300: dev acc=0.2534\n",
      "Stopping early because there was no improvement for 200 steps\n",
      "Done training\n",
      "Loading best model\n",
      "best model iter 100: train acc=0.2718, dev acc=0.2534, test acc=0.2308\n",
      "Training new model with seed 1\n",
      "==================================================\n",
      "Shuffling training data\n",
      "Iter 100: loss=158.7127, time=1.92s\n",
      "iter 100: dev acc=0.2534\n",
      "new highscore\n",
      "Iter 200: loss=155.9636, time=10.42s\n",
      "iter 200: dev acc=0.2552\n",
      "new highscore\n",
      "Iter 300: loss=158.1193, time=18.99s\n",
      "iter 300: dev acc=0.2716\n",
      "new highscore\n",
      "Iter 400: loss=157.0831, time=27.79s\n",
      "iter 400: dev acc=0.2534\n",
      "Iter 500: loss=155.8845, time=36.48s\n",
      "iter 500: dev acc=0.2534\n",
      "Stopping early because there was no improvement for 200 steps\n",
      "Done training\n",
      "Loading best model\n",
      "best model iter 300: train acc=0.2746, dev acc=0.2716, test acc=0.2932\n",
      "Training new model with seed 2\n",
      "==================================================\n",
      "Shuffling training data\n",
      "Iter 100: loss=159.6943, time=1.69s\n",
      "iter 100: dev acc=0.2534\n",
      "new highscore\n",
      "Iter 200: loss=158.2355, time=10.15s\n",
      "iter 200: dev acc=0.2534\n",
      "Iter 300: loss=157.2628, time=18.91s\n",
      "iter 300: dev acc=0.2534\n",
      "Stopping early because there was no improvement for 200 steps\n",
      "Done training\n",
      "Loading best model\n",
      "best model iter 100: train acc=0.2720, dev acc=0.2534, test acc=0.2312\n",
      "Test accuracy: 0.2517345399698341 +- 0.029330048527018076\n"
     ]
    }
   ],
   "source": [
    "\n",
    "def generate_lstm():\n",
    "    lstm_model = LSTMClassifier(len(v_pt.w2i), 300, 168, len(t2i), v_pt)\n",
    "\n",
    "    # copy pre-trained word vectors into embeddings table\n",
    "    with torch.no_grad():\n",
    "        lstm_model.embed.weight.data.copy_(torch.from_numpy(vectors))\n",
    "        lstm_model.embed.weight.requires_grad = False\n",
    "\n",
    "    lstm_model = lstm_model.to(device)\n",
    "    return lstm_model\n",
    "\n",
    "# Do only a short run, since below we have a faster implementation with minibatches\n",
    "\n",
    "lstm_losses, lstm_accuracies, lstm_best_accs = train_loop(\n",
    "    generate_lstm,\n",
    "    lambda model: optim.Adam(model.parameters(), lr=3e-4),\n",
    "    num_iterations=1000, print_every=100, eval_every=100, patience=2)"
   ]
  },
  {
   "cell_type": "code",
   "execution_count": 83,
   "metadata": {
    "colab": {
     "base_uri": "https://localhost:8080/",
     "height": 388
    },
    "id": "2BKVnyg0Hq5E",
    "outputId": "e0e50f48-def8-4b1c-f501-813418ff29b1"
   },
   "outputs": [
    {
     "data": {
      "image/png": "[encoded data removed]",
      "text/plain": [
       "<Figure size 864x432 with 2 Axes>"
      ]
     },
     "metadata": {
      "needs_background": "light",
      "tags": []
     },
     "output_type": "display_data"
    }
   ],
   "source": [
    "plot_results(lstm_losses, lstm_accuracies, eval_every=100)"
   ]
  },
  {
   "cell_type": "markdown",
   "metadata": {
    "id": "YEw6XHQY_AAQ"
   },
   "source": [
    "# Mini-batching\n",
    "\n"
   ]
  },
  {
   "cell_type": "markdown",
   "metadata": {
    "id": "FPf96wGzBTQJ"
   },
   "source": [
    "**Why is the LSTM so slow?** Despite our best efforts, we still need to make a lot of matrix multiplications per example (linear in the length of the example) just to get a single classification, and we can only process the 2nd word once we have computed the hidden state for the 1st word (sequential computation).\n",
    "\n",
    "GPUs are more efficient if we do a few big matrix multiplications, rather than lots of small ones. If we could process multiple examples at the same time, then we could exploit that. That is, we could still process the input sequentially, but doing so for multiple sentences at the same time.\n",
    "\n",
    "Up to now our \"mini-batches\" consisted of a single example. This was for a reason: the sentences in our data sets have **different lengths**, and this makes it difficult to process them at the same time.\n",
    "\n",
    "Consider a batch of 2 sentences:\n",
    "\n",
    "```\n",
    "this movie is bad\n",
    "this movie is super cool !\n",
    "```\n",
    "\n",
    "Let's say the IDs for these sentences are:\n",
    "\n",
    "```\n",
    "2 3 4 5\n",
    "2 3 4 6 7 8\n",
    "```\n",
    "\n",
    "We cannot feed PyTorch an object with rows of variable length! We need to turn this into a matrix.\n",
    "\n",
    "The solution is to add **padding values** to our mini-batch:\n",
    "\n",
    "```\n",
    "2 3 4 5 1 1\n",
    "2 3 4 6 7 8\n",
    "```\n",
    "\n",
    "Whenever a sentence is shorter than the longest sentence in a mini-batch, we just use a padding value (here: 1) to fill the matrix.\n",
    "\n",
    "In our computation, we should **ignore** the padding positions (e.g. mask them out) so that paddings do not contribute to the loss.\n",
    "\n",
    "#### Mini-batch feed\n",
    "We will now implement a `get_minibatch` function which will replace `get_example` and returns a mini-batch of the requested size."
   ]
  },
  {
   "cell_type": "code",
   "execution_count": 69,
   "metadata": {
    "id": "IoAE2JBiXJ3P"
   },
   "outputs": [],
   "source": [
    "def get_minibatch(data, batch_size=25, shuffle=True):\n",
    "    \"\"\"Return minibatches, optional shuffling\"\"\"\n",
    "  \n",
    "    if shuffle:\n",
    "        print(\"Shuffling training data\")\n",
    "        random.shuffle(data)  # shuffle training data each epoch\n",
    "  \n",
    "    batch = []\n",
    "  \n",
    "    # yield minibatches\n",
    "    for example in data:\n",
    "        batch.append(example)\n",
    "    \n",
    "        if len(batch) == batch_size:\n",
    "            yield batch\n",
    "            batch = []\n",
    "      \n",
    "    # in case there is something left\n",
    "    if len(batch) > 0:\n",
    "        yield batch"
   ]
  },
  {
   "cell_type": "markdown",
   "metadata": {
    "id": "DwZM-XYkT8Zx"
   },
   "source": [
    "#### Padding function\n",
    "We will need a function that adds padding 1s to a sequence of IDs so that\n",
    "it becomes as long as the longest sequence in the minibatch."
   ]
  },
  {
   "cell_type": "code",
   "execution_count": 70,
   "metadata": {
    "colab": {
     "base_uri": "https://localhost:8080/"
    },
    "id": "sp0sK1ghw4Ft",
    "outputId": "baf0c5fb-af51-43a7-e937-1abd537dc01d"
   },
   "outputs": [
    {
     "data": {
      "text/plain": [
       "[2, 3, 4, 1, 1]"
      ]
     },
     "execution_count": 70,
     "metadata": {
      "tags": []
     },
     "output_type": "execute_result"
    }
   ],
   "source": [
    "def pad(tokens, length, pad_value=1):\n",
    "    \"\"\"add padding 1s to a sequence to that it has the desired length\"\"\"\n",
    "    return tokens + [pad_value] * (length - len(tokens))\n",
    "\n",
    "# example\n",
    "tokens = [2, 3, 4]\n",
    "pad(tokens, 5)"
   ]
  },
  {
   "cell_type": "markdown",
   "metadata": {
    "id": "SL2iixMYUgfh"
   },
   "source": [
    "#### New `prepare` function\n",
    "\n",
    "We will also need a new function that turns a mini-batch into PyTorch tensors."
   ]
  },
  {
   "cell_type": "code",
   "execution_count": 71,
   "metadata": {
    "id": "ZID0cqozWks8"
   },
   "outputs": [],
   "source": [
    "def prepare_minibatch(mb, vocab, permute=False):\n",
    "    \"\"\"\n",
    "    Minibatch is a list of examples.\n",
    "    This function converts words to IDs and returns\n",
    "    torch tensors to be used as input/targets.\n",
    "\n",
    "    Permute: whether to permute tokens\n",
    "    \"\"\"\n",
    "    batch_size = len(mb)\n",
    "    maxlen = max([len(ex.tokens) for ex in mb])\n",
    "\n",
    "    if permute: # permute token order before padding\n",
    "      # vocab returns 0 if the word is not there\n",
    "      x = [pad(list(np.random.permutation([vocab.w2i.get(t, 0) for t in ex.tokens])), maxlen) for ex in mb]\n",
    "    else:\n",
    "      # vocab returns 0 if the word is not there\n",
    "      x = [pad([vocab.w2i.get(t, 0) for t in ex.tokens], maxlen) for ex in mb]\n",
    "\n",
    "    x = torch.LongTensor(x)\n",
    "    x = x.to(device)\n",
    "\n",
    "    y = [ex.label for ex in mb]\n",
    "    y = torch.LongTensor(y)\n",
    "    y = y.to(device)\n",
    "\n",
    "    return x, y"
   ]
  },
  {
   "cell_type": "code",
   "execution_count": 72,
   "metadata": {
    "colab": {
     "base_uri": "https://localhost:8080/"
    },
    "id": "OwDAtCv1x2hB",
    "outputId": "fdbf9fc0-af59-4ad2-d511-43111b9a4876"
   },
   "outputs": [
    {
     "name": "stdout",
     "output_type": "stream",
     "text": [
      "Example(tokens=['And', 'there', \"'s\", 'the', 'inimitable', 'Diaz', ',', 'holding', 'it', 'all', 'together', '.'], tree=Tree('3', [Tree('2', ['And']), Tree('3', [Tree('2', ['there']), Tree('3', [Tree('2', [Tree('2', [Tree('3', [Tree('2', [\"'s\"]), Tree('2', [Tree('2', ['the']), Tree('3', [Tree('3', ['inimitable']), Tree('2', ['Diaz'])])])]), Tree('2', [','])]), Tree('2', [Tree('2', [Tree('2', ['holding']), Tree('2', ['it'])]), Tree('2', [Tree('2', ['all']), Tree('2', ['together'])])])]), Tree('2', ['.'])])])]), label=3, transitions=[0, 0, 0, 0, 0, 0, 1, 1, 1, 0, 1, 0, 0, 1, 0, 0, 1, 1, 1, 0, 1, 1, 1])\n",
      "Example(tokens=['...', 'one', 'resurrection', 'too', 'many', '.'], tree=Tree('1', [Tree('2', ['...']), Tree('1', [Tree('2', ['one']), Tree('2', [Tree('2', [Tree('2', ['resurrection']), Tree('1', [Tree('2', ['too']), Tree('2', ['many'])])]), Tree('2', ['.'])])])]), label=1, transitions=[0, 0, 0, 0, 0, 1, 1, 0, 1, 1, 1])\n",
      "Example(tokens=['It', 'is', 'refreshingly', 'undogmatic', 'about', 'its', 'characters', '.'], tree=Tree('4', [Tree('2', ['It']), Tree('3', [Tree('3', [Tree('2', ['is']), Tree('2', [Tree('3', ['refreshingly']), Tree('2', [Tree('2', ['undogmatic']), Tree('2', [Tree('2', ['about']), Tree('2', [Tree('2', ['its']), Tree('2', ['characters'])])])])])]), Tree('2', ['.'])])]), label=4, transitions=[0, 0, 0, 0, 0, 0, 0, 1, 1, 1, 1, 1, 0, 1, 1])\n"
     ]
    }
   ],
   "source": [
    "# Let's test our new function.\n",
    "# This should give us 3 examples.\n",
    "mb = next(get_minibatch(train_data, batch_size=3, shuffle=False))\n",
    "for ex in mb:\n",
    "    print(ex)"
   ]
  },
  {
   "cell_type": "code",
   "execution_count": 76,
   "metadata": {
    "colab": {
     "base_uri": "https://localhost:8080/"
    },
    "id": "dg8zEK8zyUCH",
    "outputId": "c16b5a43-8145-4e57-af67-6da020bbcd5c"
   },
   "outputs": [
    {
     "name": "stdout",
     "output_type": "stream",
     "text": [
      "x tensor([[   50,   162,     0,   489,    70,     0,  1192,     0, 13996,    15,\n",
      "          5982,    11],\n",
      "        [   43,   238,     0, 10388,     0,   126,     1,     1,     1,     1,\n",
      "             1,     1],\n",
      "        [   42, 18825,    44,  2638, 13313,    49,     5,     0,     1,     1,\n",
      "             1,     1]], device='cuda:0')\n",
      "y tensor([3, 1, 4], device='cuda:0')\n"
     ]
    }
   ],
   "source": [
    "# We should find padding 1s at the end\n",
    "x, y = prepare_minibatch(mb, v_pt)#, permute=True)\n",
    "print(\"x\", x)\n",
    "print(\"y\", y)"
   ]
  },
  {
   "cell_type": "markdown",
   "metadata": {
    "id": "xYBJEoSNUwI0"
   },
   "source": [
    "#### Evaluate (mini-batch version)\n",
    "\n",
    "We can now update our evaluation function to use mini-batches"
   ]
  },
  {
   "cell_type": "code",
   "execution_count": 78,
   "metadata": {
    "id": "eiZZpEghzqou"
   },
   "outputs": [],
   "source": [
    "def evaluate(model, data, \n",
    "             batch_fn=get_minibatch, prep_fn=prepare_minibatch, permute=False,\n",
    "             batch_size=16):\n",
    "    \"\"\"Accuracy of a model on given data set (using mini-batches)\"\"\"\n",
    "    correct = 0\n",
    "    total = 0\n",
    "    model.eval()  # disable dropout\n",
    "\n",
    "    for mb in batch_fn(data, batch_size=batch_size, shuffle=False):\n",
    "        x, targets = prep_fn(mb, model.vocab, permute)\n",
    "        with torch.no_grad():\n",
    "            logits = model(x)\n",
    "      \n",
    "        predictions = logits.argmax(dim=-1).view(-1)\n",
    "    \n",
    "        # add the number of correct predictions to the total correct\n",
    "        correct += (predictions == targets.view(-1)).sum().item()\n",
    "        total += targets.size(0)\n",
    "\n",
    "    return correct, total, correct / float(total)"
   ]
  },
  {
   "cell_type": "markdown",
   "metadata": {
    "id": "23wAZomozh_2"
   },
   "source": [
    "# LSTM (Mini-batched)"
   ]
  },
  {
   "cell_type": "markdown",
   "metadata": {
    "id": "B-gkPU7jzBe2"
   },
   "source": [
    "With this, let's run the LSTM again but now using mini-batches!"
   ]
  },
  {
   "cell_type": "code",
   "execution_count": 79,
   "metadata": {
    "colab": {
     "base_uri": "https://localhost:8080/"
    },
    "id": "226Xg9OPzFbA",
    "outputId": "631c159a-8a04-42c2-c163-518128519a94"
   },
   "outputs": [
    {
     "name": "stdout",
     "output_type": "stream",
     "text": [
      "Permute is turned off.\n",
      "Training new model with seed 0\n",
      "==================================================\n",
      "Shuffling training data\n",
      "Iter 50: loss=79.9032, time=1.84s\n",
      "iter 50: dev acc=0.2825\n",
      "new highscore\n",
      "Iter 100: loss=78.5615, time=4.27s\n",
      "iter 100: dev acc=0.3106\n",
      "new highscore\n",
      "Iter 150: loss=77.5840, time=6.77s\n",
      "iter 150: dev acc=0.2770\n",
      "Iter 200: loss=77.0265, time=9.13s\n",
      "iter 200: dev acc=0.3588\n",
      "new highscore\n",
      "Iter 250: loss=74.0525, time=11.58s\n",
      "iter 250: dev acc=0.3651\n",
      "new highscore\n",
      "Iter 300: loss=71.3292, time=14.03s\n",
      "iter 300: dev acc=0.3860\n",
      "new highscore\n",
      "Shuffling training data\n",
      "Iter 350: loss=70.4299, time=16.58s\n",
      "iter 350: dev acc=0.3806\n",
      "Iter 400: loss=67.5234, time=18.94s\n",
      "iter 400: dev acc=0.3824\n",
      "Iter 450: loss=68.5552, time=21.35s\n",
      "iter 450: dev acc=0.3942\n",
      "new highscore\n",
      "Iter 500: loss=68.0424, time=23.82s\n",
      "iter 500: dev acc=0.4096\n",
      "new highscore\n",
      "Iter 550: loss=65.9349, time=26.28s\n",
      "iter 550: dev acc=0.4005\n",
      "Iter 600: loss=67.1622, time=28.69s\n",
      "iter 600: dev acc=0.4096\n",
      "Iter 650: loss=67.2491, time=31.10s\n",
      "iter 650: dev acc=0.4223\n",
      "new highscore\n",
      "Shuffling training data\n",
      "Iter 700: loss=65.0682, time=33.56s\n",
      "iter 700: dev acc=0.4287\n",
      "new highscore\n",
      "Iter 750: loss=65.3426, time=35.97s\n",
      "iter 750: dev acc=0.4205\n",
      "Iter 800: loss=65.6161, time=38.34s\n",
      "iter 800: dev acc=0.4187\n",
      "Iter 850: loss=64.3455, time=40.73s\n",
      "iter 850: dev acc=0.4314\n",
      "new highscore\n",
      "Iter 900: loss=64.8692, time=43.16s\n",
      "iter 900: dev acc=0.4360\n",
      "new highscore\n",
      "Iter 950: loss=64.9583, time=45.58s\n",
      "iter 950: dev acc=0.4251\n",
      "Iter 1000: loss=64.8517, time=47.97s\n",
      "iter 1000: dev acc=0.4351\n",
      "Shuffling training data\n",
      "Iter 1050: loss=62.9052, time=50.35s\n",
      "iter 1050: dev acc=0.4314\n",
      "Iter 1100: loss=64.0989, time=52.72s\n",
      "iter 1100: dev acc=0.4342\n",
      "Iter 1150: loss=62.7589, time=55.03s\n",
      "iter 1150: dev acc=0.4342\n",
      "Iter 1200: loss=64.0678, time=57.32s\n",
      "iter 1200: dev acc=0.4351\n",
      "Iter 1250: loss=63.1998, time=59.73s\n",
      "iter 1250: dev acc=0.4414\n",
      "new highscore\n",
      "Iter 1300: loss=62.9576, time=62.35s\n",
      "iter 1300: dev acc=0.4332\n",
      "Iter 1350: loss=62.6389, time=64.74s\n",
      "iter 1350: dev acc=0.4323\n",
      "Shuffling training data\n",
      "Iter 1400: loss=63.2360, time=67.12s\n",
      "iter 1400: dev acc=0.4450\n",
      "new highscore\n",
      "Iter 1450: loss=61.4607, time=69.55s\n",
      "iter 1450: dev acc=0.4296\n",
      "Iter 1500: loss=62.5629, time=71.89s\n",
      "iter 1500: dev acc=0.4414\n",
      "Iter 1550: loss=61.7167, time=74.28s\n",
      "iter 1550: dev acc=0.4405\n",
      "Iter 1600: loss=61.6312, time=76.69s\n",
      "iter 1600: dev acc=0.4469\n",
      "new highscore\n",
      "Iter 1650: loss=62.4188, time=79.16s\n",
      "iter 1650: dev acc=0.4414\n",
      "Iter 1700: loss=62.1439, time=81.60s\n",
      "iter 1700: dev acc=0.4405\n",
      "Shuffling training data\n",
      "Iter 1750: loss=61.4089, time=84.01s\n",
      "iter 1750: dev acc=0.4351\n",
      "Iter 1800: loss=61.3127, time=86.35s\n",
      "iter 1800: dev acc=0.4441\n",
      "Iter 1850: loss=61.0709, time=88.66s\n",
      "iter 1850: dev acc=0.4378\n",
      "Iter 1900: loss=61.3760, time=91.03s\n",
      "iter 1900: dev acc=0.4423\n",
      "Iter 1950: loss=60.5189, time=93.45s\n",
      "iter 1950: dev acc=0.4578\n",
      "new highscore\n",
      "Iter 2000: loss=61.1376, time=95.97s\n",
      "iter 2000: dev acc=0.4432\n",
      "Iter 2050: loss=61.6401, time=98.36s\n",
      "iter 2050: dev acc=0.4469\n",
      "Shuffling training data\n",
      "Iter 2100: loss=60.7445, time=100.80s\n",
      "iter 2100: dev acc=0.4532\n",
      "Iter 2150: loss=60.0304, time=103.12s\n",
      "iter 2150: dev acc=0.4623\n",
      "new highscore\n",
      "Iter 2200: loss=60.1172, time=105.48s\n",
      "iter 2200: dev acc=0.4505\n",
      "Iter 2250: loss=61.0320, time=107.91s\n",
      "iter 2250: dev acc=0.4523\n",
      "Iter 2300: loss=59.3941, time=110.30s\n",
      "iter 2300: dev acc=0.4142\n",
      "Iter 2350: loss=62.3154, time=112.76s\n",
      "iter 2350: dev acc=0.4523\n",
      "Shuffling training data\n",
      "Iter 2400: loss=59.4821, time=115.17s\n",
      "iter 2400: dev acc=0.4569\n",
      "Iter 2450: loss=58.4600, time=117.62s\n",
      "iter 2450: dev acc=0.4632\n",
      "new highscore\n",
      "Iter 2500: loss=59.3458, time=120.01s\n",
      "iter 2500: dev acc=0.4632\n",
      "Iter 2550: loss=60.6634, time=122.37s\n",
      "iter 2550: dev acc=0.4523\n",
      "Iter 2600: loss=60.5504, time=124.72s\n",
      "iter 2600: dev acc=0.4550\n",
      "Iter 2650: loss=58.0690, time=127.10s\n",
      "iter 2650: dev acc=0.4423\n",
      "Iter 2700: loss=59.7803, time=129.64s\n",
      "iter 2700: dev acc=0.4550\n",
      "Shuffling training data\n",
      "Iter 2750: loss=59.3363, time=132.04s\n",
      "iter 2750: dev acc=0.4596\n",
      "Iter 2800: loss=59.3324, time=134.40s\n",
      "iter 2800: dev acc=0.4496\n",
      "Iter 2850: loss=59.7968, time=136.76s\n",
      "iter 2850: dev acc=0.4487\n",
      "Iter 2900: loss=56.9371, time=139.10s\n",
      "iter 2900: dev acc=0.4460\n",
      "Iter 2950: loss=57.5310, time=141.50s\n",
      "iter 2950: dev acc=0.4496\n",
      "Iter 3000: loss=57.5481, time=143.91s\n",
      "iter 3000: dev acc=0.4596\n",
      "Iter 3050: loss=59.5274, time=146.28s\n",
      "iter 3050: dev acc=0.4469\n",
      "Shuffling training data\n",
      "Iter 3100: loss=59.3546, time=148.67s\n",
      "iter 3100: dev acc=0.4523\n",
      "Iter 3150: loss=56.0983, time=151.05s\n",
      "iter 3150: dev acc=0.4532\n",
      "Iter 3200: loss=58.4959, time=153.44s\n",
      "iter 3200: dev acc=0.4541\n",
      "Iter 3250: loss=56.9862, time=155.86s\n",
      "iter 3250: dev acc=0.4523\n",
      "Iter 3300: loss=57.3291, time=158.35s\n",
      "iter 3300: dev acc=0.4469\n",
      "Iter 3350: loss=58.8664, time=160.83s\n",
      "iter 3350: dev acc=0.4605\n",
      "Iter 3400: loss=58.6802, time=163.25s\n",
      "iter 3400: dev acc=0.4487\n",
      "Shuffling training data\n",
      "Iter 3450: loss=57.0545, time=165.65s\n",
      "iter 3450: dev acc=0.4578\n",
      "Stopping early because there was no improvement for 1000 steps\n",
      "Done training\n",
      "Loading best model\n",
      "best model iter 2450: train acc=0.4932, dev acc=0.4632, test acc=0.4633\n",
      "Training new model with seed 1\n",
      "==================================================\n",
      "Shuffling training data\n",
      "Iter 50: loss=79.6295, time=1.77s\n",
      "iter 50: dev acc=0.2543\n",
      "new highscore\n",
      "Iter 100: loss=78.4536, time=4.19s\n",
      "iter 100: dev acc=0.2534\n",
      "Iter 150: loss=78.2337, time=6.56s\n",
      "iter 150: dev acc=0.2552\n",
      "new highscore\n",
      "Iter 200: loss=76.7989, time=9.00s\n",
      "iter 200: dev acc=0.3524\n",
      "new highscore\n",
      "Iter 250: loss=72.9679, time=11.56s\n",
      "iter 250: dev acc=0.3751\n",
      "new highscore\n",
      "Iter 300: loss=71.3788, time=14.11s\n",
      "iter 300: dev acc=0.3906\n",
      "new highscore\n",
      "Shuffling training data\n",
      "Iter 350: loss=70.2537, time=16.68s\n",
      "iter 350: dev acc=0.3688\n",
      "Iter 400: loss=69.0125, time=19.13s\n",
      "iter 400: dev acc=0.3915\n",
      "new highscore\n",
      "Iter 450: loss=68.6872, time=21.63s\n",
      "iter 450: dev acc=0.4096\n",
      "new highscore\n",
      "Iter 500: loss=69.0733, time=24.06s\n",
      "iter 500: dev acc=0.4042\n",
      "Iter 550: loss=66.8886, time=26.45s\n",
      "iter 550: dev acc=0.3942\n",
      "Iter 600: loss=67.1367, time=28.78s\n",
      "iter 600: dev acc=0.4087\n",
      "Iter 650: loss=65.6249, time=31.10s\n",
      "iter 650: dev acc=0.4205\n",
      "new highscore\n",
      "Shuffling training data\n",
      "Iter 700: loss=65.9073, time=33.58s\n",
      "iter 700: dev acc=0.4160\n",
      "Iter 750: loss=64.9248, time=35.89s\n",
      "iter 750: dev acc=0.4042\n",
      "Iter 800: loss=65.0325, time=38.19s\n",
      "iter 800: dev acc=0.3969\n",
      "Iter 850: loss=64.3900, time=40.53s\n",
      "iter 850: dev acc=0.4223\n",
      "new highscore\n",
      "Iter 900: loss=65.6576, time=42.96s\n",
      "iter 900: dev acc=0.4196\n",
      "Iter 950: loss=63.0039, time=45.35s\n",
      "iter 950: dev acc=0.4387\n",
      "new highscore\n",
      "Iter 1000: loss=65.3946, time=47.75s\n",
      "iter 1000: dev acc=0.4387\n",
      "Shuffling training data\n",
      "Iter 1050: loss=62.5770, time=50.12s\n",
      "iter 1050: dev acc=0.4360\n",
      "Iter 1100: loss=64.1164, time=52.56s\n",
      "iter 1100: dev acc=0.4269\n",
      "Iter 1150: loss=64.5097, time=54.99s\n",
      "iter 1150: dev acc=0.4450\n",
      "new highscore\n",
      "Iter 1200: loss=63.5333, time=57.40s\n",
      "iter 1200: dev acc=0.4387\n",
      "Iter 1250: loss=63.4421, time=59.73s\n",
      "iter 1250: dev acc=0.4423\n",
      "Iter 1300: loss=63.0703, time=62.14s\n",
      "iter 1300: dev acc=0.4205\n",
      "Iter 1350: loss=63.0869, time=64.54s\n",
      "iter 1350: dev acc=0.4387\n",
      "Shuffling training data\n",
      "Iter 1400: loss=63.1282, time=66.96s\n",
      "iter 1400: dev acc=0.4360\n",
      "Iter 1450: loss=63.2065, time=69.32s\n",
      "iter 1450: dev acc=0.4187\n",
      "Iter 1500: loss=63.1803, time=71.68s\n",
      "iter 1500: dev acc=0.4278\n",
      "Iter 1550: loss=62.2419, time=73.98s\n",
      "iter 1550: dev acc=0.4450\n",
      "Iter 1600: loss=62.1950, time=76.33s\n",
      "iter 1600: dev acc=0.4487\n",
      "new highscore\n",
      "Iter 1650: loss=62.0507, time=78.77s\n",
      "iter 1650: dev acc=0.4378\n",
      "Iter 1700: loss=60.3285, time=81.20s\n",
      "iter 1700: dev acc=0.4405\n",
      "Shuffling training data\n",
      "Iter 1750: loss=61.1089, time=83.52s\n",
      "iter 1750: dev acc=0.4287\n",
      "Iter 1800: loss=61.2060, time=85.91s\n",
      "iter 1800: dev acc=0.4450\n",
      "Iter 1850: loss=61.2469, time=88.25s\n",
      "iter 1850: dev acc=0.4505\n",
      "new highscore\n",
      "Iter 1900: loss=60.5969, time=90.66s\n",
      "iter 1900: dev acc=0.4550\n",
      "new highscore\n",
      "Iter 1950: loss=60.6750, time=93.05s\n",
      "iter 1950: dev acc=0.4323\n",
      "Iter 2000: loss=60.8868, time=95.40s\n",
      "iter 2000: dev acc=0.4450\n",
      "Iter 2050: loss=62.2729, time=97.74s\n",
      "iter 2050: dev acc=0.4360\n",
      "Shuffling training data\n",
      "Iter 2100: loss=60.5766, time=100.07s\n",
      "iter 2100: dev acc=0.4541\n",
      "Iter 2150: loss=60.7630, time=102.41s\n",
      "iter 2150: dev acc=0.4351\n",
      "Iter 2200: loss=61.2883, time=104.71s\n",
      "iter 2200: dev acc=0.4523\n",
      "Iter 2250: loss=61.9924, time=107.08s\n",
      "iter 2250: dev acc=0.4450\n",
      "Iter 2300: loss=60.7273, time=109.42s\n",
      "iter 2300: dev acc=0.4559\n",
      "new highscore\n",
      "Iter 2350: loss=60.7477, time=111.85s\n",
      "iter 2350: dev acc=0.4450\n",
      "Shuffling training data\n",
      "Iter 2400: loss=59.9834, time=114.18s\n",
      "iter 2400: dev acc=0.4378\n",
      "Iter 2450: loss=59.1573, time=116.53s\n",
      "iter 2450: dev acc=0.4505\n",
      "Iter 2500: loss=60.2840, time=118.91s\n",
      "iter 2500: dev acc=0.4414\n",
      "Iter 2550: loss=59.2450, time=121.23s\n",
      "iter 2550: dev acc=0.4532\n",
      "Iter 2600: loss=60.1048, time=123.53s\n",
      "iter 2600: dev acc=0.4587\n",
      "new highscore\n",
      "Iter 2650: loss=59.8466, time=125.97s\n",
      "iter 2650: dev acc=0.4623\n",
      "new highscore\n",
      "Iter 2700: loss=59.1528, time=128.42s\n",
      "iter 2700: dev acc=0.4587\n",
      "Shuffling training data\n",
      "Iter 2750: loss=59.1881, time=130.74s\n",
      "iter 2750: dev acc=0.4450\n",
      "Iter 2800: loss=58.2118, time=133.07s\n",
      "iter 2800: dev acc=0.4559\n",
      "Iter 2850: loss=60.1743, time=135.40s\n",
      "iter 2850: dev acc=0.4460\n",
      "Iter 2900: loss=57.8730, time=137.70s\n",
      "iter 2900: dev acc=0.4569\n",
      "Iter 2950: loss=60.2789, time=140.04s\n",
      "iter 2950: dev acc=0.4532\n",
      "Iter 3000: loss=58.1252, time=142.41s\n",
      "iter 3000: dev acc=0.4532\n",
      "Iter 3050: loss=57.5753, time=144.73s\n",
      "iter 3050: dev acc=0.4496\n",
      "Shuffling training data\n",
      "Iter 3100: loss=60.9369, time=147.07s\n",
      "iter 3100: dev acc=0.4396\n",
      "Iter 3150: loss=58.8868, time=149.52s\n",
      "iter 3150: dev acc=0.4541\n",
      "Iter 3200: loss=56.7317, time=151.86s\n",
      "iter 3200: dev acc=0.4523\n",
      "Iter 3250: loss=58.4226, time=154.21s\n",
      "iter 3250: dev acc=0.4432\n",
      "Iter 3300: loss=58.0606, time=156.53s\n",
      "iter 3300: dev acc=0.4478\n",
      "Iter 3350: loss=57.8512, time=158.86s\n",
      "iter 3350: dev acc=0.4514\n",
      "Iter 3400: loss=58.1796, time=161.19s\n",
      "iter 3400: dev acc=0.4360\n",
      "Shuffling training data\n",
      "Iter 3450: loss=56.7682, time=163.49s\n",
      "iter 3450: dev acc=0.4487\n",
      "Iter 3500: loss=56.3883, time=165.80s\n",
      "iter 3500: dev acc=0.4351\n",
      "Iter 3550: loss=58.6473, time=168.07s\n",
      "iter 3550: dev acc=0.4496\n",
      "Iter 3600: loss=58.9253, time=170.42s\n",
      "iter 3600: dev acc=0.4450\n",
      "Iter 3650: loss=56.8533, time=172.74s\n",
      "iter 3650: dev acc=0.4414\n",
      "Stopping early because there was no improvement for 1000 steps\n",
      "Done training\n",
      "Loading best model\n",
      "best model iter 2650: train acc=0.5018, dev acc=0.4623, test acc=0.4579\n",
      "Training new model with seed 2\n",
      "==================================================\n",
      "Shuffling training data\n",
      "Iter 50: loss=79.7198, time=1.79s\n",
      "iter 50: dev acc=0.2534\n",
      "new highscore\n",
      "Iter 100: loss=78.6822, time=4.22s\n",
      "iter 100: dev acc=0.2552\n",
      "new highscore\n",
      "Iter 150: loss=77.6794, time=6.66s\n",
      "iter 150: dev acc=0.3451\n",
      "new highscore\n",
      "Iter 200: loss=74.0831, time=9.09s\n",
      "iter 200: dev acc=0.3597\n",
      "new highscore\n",
      "Iter 250: loss=73.5196, time=11.48s\n",
      "iter 250: dev acc=0.3224\n",
      "Iter 300: loss=71.3447, time=13.79s\n",
      "iter 300: dev acc=0.3887\n",
      "new highscore\n",
      "Shuffling training data\n",
      "Iter 350: loss=69.8165, time=16.18s\n",
      "iter 350: dev acc=0.3924\n",
      "new highscore\n",
      "Iter 400: loss=68.4882, time=18.58s\n",
      "iter 400: dev acc=0.3896\n",
      "Iter 450: loss=67.5778, time=20.93s\n",
      "iter 450: dev acc=0.4096\n",
      "new highscore\n",
      "Iter 500: loss=69.1135, time=23.32s\n",
      "iter 500: dev acc=0.3942\n",
      "Iter 550: loss=67.9043, time=25.67s\n",
      "iter 550: dev acc=0.4069\n",
      "Iter 600: loss=66.5108, time=28.10s\n",
      "iter 600: dev acc=0.4178\n",
      "new highscore\n",
      "Iter 650: loss=66.9106, time=30.62s\n",
      "iter 650: dev acc=0.4278\n",
      "new highscore\n",
      "Shuffling training data\n",
      "Iter 700: loss=65.8494, time=32.99s\n",
      "iter 700: dev acc=0.4169\n",
      "Iter 750: loss=64.8575, time=35.38s\n",
      "iter 750: dev acc=0.3906\n",
      "Iter 800: loss=65.4902, time=37.69s\n",
      "iter 800: dev acc=0.4296\n",
      "new highscore\n",
      "Iter 850: loss=66.7799, time=40.16s\n",
      "iter 850: dev acc=0.4305\n",
      "new highscore\n",
      "Iter 900: loss=63.3594, time=42.56s\n",
      "iter 900: dev acc=0.4169\n",
      "Iter 950: loss=64.9267, time=44.94s\n",
      "iter 950: dev acc=0.4114\n",
      "Iter 1000: loss=63.9700, time=47.36s\n",
      "iter 1000: dev acc=0.4351\n",
      "new highscore\n",
      "Shuffling training data\n",
      "Iter 1050: loss=63.7652, time=49.78s\n",
      "iter 1050: dev acc=0.4242\n",
      "Iter 1100: loss=62.5027, time=52.10s\n",
      "iter 1100: dev acc=0.4342\n",
      "Iter 1150: loss=63.4270, time=54.40s\n",
      "iter 1150: dev acc=0.4342\n",
      "Iter 1200: loss=63.5602, time=56.72s\n",
      "iter 1200: dev acc=0.4387\n",
      "new highscore\n",
      "Iter 1250: loss=62.3127, time=59.09s\n",
      "iter 1250: dev acc=0.4378\n",
      "Iter 1300: loss=63.3124, time=61.47s\n",
      "iter 1300: dev acc=0.4305\n",
      "Iter 1350: loss=64.6189, time=63.81s\n",
      "iter 1350: dev acc=0.4514\n",
      "new highscore\n",
      "Shuffling training data\n",
      "Iter 1400: loss=62.8036, time=66.23s\n",
      "iter 1400: dev acc=0.4314\n",
      "Iter 1450: loss=61.2351, time=68.58s\n",
      "iter 1450: dev acc=0.4423\n",
      "Iter 1500: loss=61.2617, time=70.91s\n",
      "iter 1500: dev acc=0.4169\n",
      "Iter 1550: loss=62.2966, time=73.37s\n",
      "iter 1550: dev acc=0.4314\n",
      "Iter 1600: loss=62.3586, time=75.71s\n",
      "iter 1600: dev acc=0.4405\n",
      "Iter 1650: loss=63.5379, time=78.06s\n",
      "iter 1650: dev acc=0.4405\n",
      "Iter 1700: loss=62.0007, time=80.36s\n",
      "iter 1700: dev acc=0.4450\n",
      "Shuffling training data\n",
      "Iter 1750: loss=61.6305, time=82.68s\n",
      "iter 1750: dev acc=0.4405\n",
      "Iter 1800: loss=61.1566, time=85.02s\n",
      "iter 1800: dev acc=0.4405\n",
      "Iter 1850: loss=60.4087, time=87.33s\n",
      "iter 1850: dev acc=0.4387\n",
      "Iter 1900: loss=62.7493, time=89.65s\n",
      "iter 1900: dev acc=0.4233\n",
      "Iter 1950: loss=60.8650, time=91.95s\n",
      "iter 1950: dev acc=0.4360\n",
      "Iter 2000: loss=62.3320, time=94.27s\n",
      "iter 2000: dev acc=0.4450\n",
      "Iter 2050: loss=60.7839, time=96.63s\n",
      "iter 2050: dev acc=0.4432\n",
      "Shuffling training data\n",
      "Iter 2100: loss=60.0072, time=98.94s\n",
      "iter 2100: dev acc=0.4469\n",
      "Iter 2150: loss=60.0977, time=101.25s\n",
      "iter 2150: dev acc=0.4587\n",
      "new highscore\n",
      "Iter 2200: loss=59.7298, time=103.68s\n",
      "iter 2200: dev acc=0.4423\n",
      "Iter 2250: loss=60.6373, time=105.99s\n",
      "iter 2250: dev acc=0.4505\n",
      "Iter 2300: loss=60.6777, time=108.38s\n",
      "iter 2300: dev acc=0.4550\n",
      "Iter 2350: loss=61.3281, time=110.67s\n",
      "iter 2350: dev acc=0.4469\n",
      "Shuffling training data\n",
      "Iter 2400: loss=61.8861, time=113.04s\n",
      "iter 2400: dev acc=0.4387\n",
      "Iter 2450: loss=59.7001, time=115.44s\n",
      "iter 2450: dev acc=0.4460\n",
      "Iter 2500: loss=58.0063, time=117.79s\n",
      "iter 2500: dev acc=0.4541\n",
      "Iter 2550: loss=59.8396, time=120.07s\n",
      "iter 2550: dev acc=0.4378\n",
      "Iter 2600: loss=60.3205, time=122.44s\n",
      "iter 2600: dev acc=0.4587\n",
      "Iter 2650: loss=59.3497, time=124.84s\n",
      "iter 2650: dev acc=0.4478\n",
      "Iter 2700: loss=61.0663, time=127.18s\n",
      "iter 2700: dev acc=0.4496\n",
      "Shuffling training data\n",
      "Iter 2750: loss=59.7160, time=129.60s\n",
      "iter 2750: dev acc=0.4196\n",
      "Iter 2800: loss=58.5898, time=131.92s\n",
      "iter 2800: dev acc=0.4360\n",
      "Iter 2850: loss=60.2065, time=134.26s\n",
      "iter 2850: dev acc=0.4587\n",
      "Iter 2900: loss=58.0695, time=136.64s\n",
      "iter 2900: dev acc=0.4469\n",
      "Iter 2950: loss=59.8366, time=138.93s\n",
      "iter 2950: dev acc=0.4605\n",
      "new highscore\n",
      "Iter 3000: loss=58.7302, time=141.35s\n",
      "iter 3000: dev acc=0.4432\n",
      "Iter 3050: loss=58.0443, time=143.71s\n",
      "iter 3050: dev acc=0.4578\n",
      "Shuffling training data\n",
      "Iter 3100: loss=58.9802, time=146.03s\n",
      "iter 3100: dev acc=0.4514\n",
      "Iter 3150: loss=58.1574, time=148.37s\n",
      "iter 3150: dev acc=0.4496\n",
      "Iter 3200: loss=56.3691, time=150.75s\n",
      "iter 3200: dev acc=0.4596\n",
      "Iter 3250: loss=57.7633, time=153.03s\n",
      "iter 3250: dev acc=0.4323\n",
      "Iter 3300: loss=59.6440, time=155.41s\n",
      "iter 3300: dev acc=0.4496\n",
      "Iter 3350: loss=58.3529, time=157.70s\n",
      "iter 3350: dev acc=0.4550\n",
      "Iter 3400: loss=57.6322, time=160.01s\n",
      "iter 3400: dev acc=0.4496\n",
      "Shuffling training data\n",
      "Iter 3450: loss=56.9471, time=162.36s\n",
      "iter 3450: dev acc=0.4632\n",
      "new highscore\n",
      "Iter 3500: loss=57.7054, time=164.73s\n",
      "iter 3500: dev acc=0.4550\n",
      "Iter 3550: loss=56.8867, time=167.01s\n",
      "iter 3550: dev acc=0.4550\n",
      "Iter 3600: loss=55.6695, time=169.32s\n",
      "iter 3600: dev acc=0.4578\n",
      "Iter 3650: loss=57.8216, time=171.62s\n",
      "iter 3650: dev acc=0.4296\n",
      "Iter 3700: loss=56.3550, time=173.92s\n",
      "iter 3700: dev acc=0.4596\n",
      "Iter 3750: loss=56.2951, time=176.29s\n",
      "iter 3750: dev acc=0.4441\n",
      "Shuffling training data\n",
      "Iter 3800: loss=58.2813, time=178.59s\n",
      "iter 3800: dev acc=0.4678\n",
      "new highscore\n",
      "Iter 3850: loss=56.2995, time=180.99s\n",
      "iter 3850: dev acc=0.4641\n",
      "Iter 3900: loss=55.0265, time=183.41s\n",
      "iter 3900: dev acc=0.4605\n",
      "Iter 3950: loss=55.7498, time=185.79s\n",
      "iter 3950: dev acc=0.4650\n",
      "Iter 4000: loss=56.8656, time=188.12s\n",
      "iter 4000: dev acc=0.4587\n",
      "Iter 4050: loss=56.6546, time=190.39s\n",
      "iter 4050: dev acc=0.4623\n",
      "Iter 4100: loss=55.7568, time=192.75s\n",
      "iter 4100: dev acc=0.4305\n",
      "Shuffling training data\n",
      "Iter 4150: loss=54.7245, time=195.07s\n",
      "iter 4150: dev acc=0.4641\n",
      "Iter 4200: loss=53.6837, time=197.44s\n",
      "iter 4200: dev acc=0.4514\n",
      "Iter 4250: loss=54.1338, time=199.77s\n",
      "iter 4250: dev acc=0.4369\n",
      "Iter 4300: loss=55.4677, time=202.07s\n",
      "iter 4300: dev acc=0.4305\n",
      "Iter 4350: loss=54.9299, time=204.36s\n",
      "iter 4350: dev acc=0.4650\n",
      "Iter 4400: loss=56.7601, time=206.72s\n",
      "iter 4400: dev acc=0.4678\n",
      "Shuffling training data\n",
      "Iter 4450: loss=57.2345, time=209.08s\n",
      "iter 4450: dev acc=0.4605\n",
      "Iter 4500: loss=54.4131, time=211.42s\n",
      "iter 4500: dev acc=0.4587\n",
      "Iter 4550: loss=53.2267, time=213.72s\n",
      "iter 4550: dev acc=0.4559\n",
      "Iter 4600: loss=54.4707, time=216.10s\n",
      "iter 4600: dev acc=0.4478\n",
      "Iter 4650: loss=55.4431, time=218.50s\n",
      "iter 4650: dev acc=0.4623\n",
      "Iter 4700: loss=56.4343, time=220.79s\n",
      "iter 4700: dev acc=0.4596\n",
      "Iter 4750: loss=53.4190, time=223.17s\n",
      "iter 4750: dev acc=0.4587\n",
      "Shuffling training data\n",
      "Iter 4800: loss=52.4356, time=225.42s\n",
      "iter 4800: dev acc=0.4569\n",
      "Stopping early because there was no improvement for 1000 steps\n",
      "Done training\n",
      "Loading best model\n",
      "best model iter 3800: train acc=0.5349, dev acc=0.4678, test acc=0.4688\n",
      "Test accuracy: 0.4633484162895927 +- 0.0044334655977976145\n"
     ]
    }
   ],
   "source": [
    "batch_size = 25\n",
    "\n",
    "# the iterations are in batches, so because we have larger batches now,\n",
    "# we'll use fewer iterations\n",
    "lstm_losses, lstm_accuracies, lstm_best_accs = train_loop(\n",
    "    generate_lstm,\n",
    "    lambda model: optim.Adam(model.parameters(), lr=3e-4),\n",
    "    num_iterations=0, print_every=50, eval_every=50, patience=20,\n",
    "    batch_size=batch_size,\n",
    "    batch_fn=get_minibatch,\n",
    "    prep_fn=prepare_minibatch,\n",
    "    eval_fn=evaluate)"
   ]
  },
  {
   "cell_type": "code",
   "execution_count": 84,
   "metadata": {
    "colab": {
     "base_uri": "https://localhost:8080/",
     "height": 388
    },
    "id": "whFgmN_P5gQ2",
    "outputId": "3444e426-fd65-4906-c2ec-e4d2239a600b"
   },
   "outputs": [
    {
     "data": {
      "image/png": "[encoded data removed]",
      "text/plain": [
       "<Figure size 864x432 with 2 Axes>"
      ]
     },
     "metadata": {
      "needs_background": "light",
      "tags": []
     },
     "output_type": "display_data"
    }
   ],
   "source": [
    "plot_results(lstm_losses, lstm_accuracies, \"fig/lstm.pdf\", eval_every=50)"
   ]
  },
  {
   "cell_type": "markdown",
   "metadata": {
    "id": "q7WjcxXntMi5"
   },
   "source": [
    "# Tree-LSTM"
   ]
  },
  {
   "cell_type": "markdown",
   "metadata": {
    "id": "jyj_UD6GtO5M"
   },
   "source": [
    "In the final part of this lab we will exploit the tree structure of the SST data. \n",
    "Until now we only used the surface tokens, but remember that our data examples include binary trees with a sentiment score at every node.\n",
    "\n",
    "In particular, we will implement **N-ary Tree-LSTMs** which are described in:\n",
    "\n",
    "> Kai Sheng Tai, Richard Socher, and Christopher D. Manning. [Improved Semantic Representations From Tree-Structured Long Short-Term Memory Networks](http://aclweb.org/anthology/P/P15/P15-1150.pdf) ACL 2015.\n",
    "\n",
    "Since our trees are binary (i.e., N=2), we can refer to these as *Binary Tree-LSTMs*. If you study equations (9) to (14) in the paper, you will find that they are not all too different from the original LSTM that you already have.\n",
    "\n",
    "You should read this paper carefully and make sure that you understand the approach. You will also find our LSTM baseline there.\n",
    "Note however that Tree-LSTMs were proposed around the same time by two other groups:\n",
    "\n",
    "> Phong Le and Willem Zuidema. [Compositional distributional semantics with long short term memory](http://anthology.aclweb.org/S/S15/S15-1002.pdf). *SEM 2015.\n",
    "\n",
    "> Xiaodan Zhu, Parinaz Sobihani,  and Hongyu Guo. [Long short-term memory over recursive structures](http://proceedings.mlr.press/v37/zhub15.pdf). ICML 2015.\n",
    "\n",
    "It is good scientific practice to cite all three papers in your report.\n",
    "\n",
    "\n"
   ]
  },
  {
   "cell_type": "markdown",
   "metadata": {
    "id": "1rDzvSos3JFp"
   },
   "source": [
    "## Computation\n",
    "\n",
    "Do you remember the `transitions_from_treestring` function all the way in the beginning of this lab? Every example contains a **transition sequence** produced by this function. Let's look at it again:\n",
    "\n"
   ]
  },
  {
   "cell_type": "code",
   "execution_count": null,
   "metadata": {
    "id": "5pg0Xumc3ZUS"
   },
   "outputs": [],
   "source": [
    "ex = next(examplereader(\"trees/dev.txt\"))\n",
    "print(TreePrettyPrinter(ex.tree))\n",
    "print(\"Transitions:\")\n",
    "print(ex.transitions)"
   ]
  },
  {
   "cell_type": "markdown",
   "metadata": {
    "id": "ceBFe9fU4BI_"
   },
   "source": [
    "Note that the tree is **binary**. Every node has two children, except for pre-terminal nodes.\n",
    "\n",
    "A tree like this can be described by a sequence of **SHIFT (0)** and **REDUCE (1)** actions.\n",
    "\n",
    "To construct a tree, we can use the transitions as follows:\n",
    "- **reverse** the sentence (a list of tokens) and call this the **buffer**\n",
    "   - the first word is now on top (last in the list), and we would get it when calling pop() on the buffer\n",
    "- create an empty list and call it the **stack**\n",
    "- iterate through the transition sequence:\n",
    "  - if it says SHIFT(0), we pop a word from the buffer, and push it to the stack\n",
    "  - if it says REDUCE(1), we pop the **top two items** from the stack, and combine them (e.g. with a Tree-LSTM!), creating a new node that we push back on the stack\n",
    "  \n",
    "Convince yourself that going through the transition sequence above will result in the tree that you see.\n",
    "For example, we would start by putting the following words on the stack (by shifting 5 times, starting with `It`):\n",
    "\n",
    "```\n",
    "Top of the stack:\n",
    "-----------------\n",
    "film\n",
    "lovely\n",
    "a \n",
    "'s  \n",
    "It\n",
    "```\n",
    "Now we find a REDUCE in the transition sequence, so we get the top two words (film and lovely), and combine them, so our new stack becomes:\n",
    "```\n",
    "Top of the stack:\n",
    "-----------------\n",
    "lovely film\n",
    "a \n",
    "'s  \n",
    "It\n",
    "```\n",
    "\n",
    "We will use this approach when encoding sentences with our Tree-LSTM.\n",
    "Now, our sentence is a reversed list of word embeddings.\n",
    "When we shift, we move a word embedding to the stack.\n",
    "When we reduce, we apply the Tree-LSTM to the top two vectors, and the result is a single vector that we put back on the stack.\n",
    "After going through the whole transition sequence, we will have the root node on our stack! We can use that to classify the sentence.\n",
    "\n"
   ]
  },
  {
   "cell_type": "markdown",
   "metadata": {
    "id": "pDWKShm1AfmR"
   },
   "source": [
    "## Obtaining the transition sequence\n"
   ]
  },
  {
   "cell_type": "markdown",
   "metadata": {
    "id": "fO7VKWVpAbWj"
   },
   "source": [
    "\n",
    "So what goes on in the `transitions_from_treestring` function?\n",
    "\n",
    "The idea ([explained in this blog post](https://devblogs.nvidia.com/recursive-neural-networks-pytorch/)) is that, if we had a tree, we could traverse through the tree, and every time that we find a node containing only a word, we output a SHIFT.\n",
    "Every time **after** we have finished visiting the children of a node, we output a REDUCE.\n",
    "(What is this tree traversal called?)\n",
    "\n",
    "However, our `transitions_from_treestring` function operates directly on the string representation. It works as follows.\n",
    "\n",
    "We start with the representation:\n",
    "\n",
    "```\n",
    "(3 (2 It) (4 (4 (2 's) (4 (3 (2 a) (4 (3 lovely) (2 film))) (3 (2 with) (4 (3 (3 lovely) (2 performances)) (2 (2 by) (2 (2 (2 Buy) (2 and)) (2 Accorsi))))))) (2 .)))\n",
    "```\n",
    "\n",
    "First we remove pre-terminal nodes (and add spaces before closing brackets):\n",
    "\n",
    "```\n",
    "(3 It (4 (4 's (4 (3 a (4 lovely film ) ) (3 with (4 (3 lovely performances ) (2 by (2 (2 Buy and )  Accorsi ) ) ) ) ) ) . ) )\n",
    "```\n",
    "\n",
    "Then we remove node labels:\n",
    "\n",
    "```\n",
    "( It ( ( 's ( ( a ( lovely film ) ) ( with ( ( lovely performances) ( by ( ( Buy and )  Accorsi ) ) ) ) ) ) . ) )\n",
    "```\n",
    "\n",
    "Then we remove opening brackets:\n",
    "\n",
    "```\n",
    "It 's a lovely film ) ) with lovely performances ) by Buy and ) Accorsi ) ) ) ) ) ) . ) )\n",
    "```\n",
    "\n",
    "Now we replace words by S (for SHIFT), and closing brackets by R (for REDUCE):\n",
    "\n",
    "```\n",
    "S S S S S R R S S S R S S S R S R R R R R R S R R\n",
    "0 0 0 0 0 1 1 0 0 0 1 0 0 0 1 0 1 1 1 1 1 1 0 1 1 \n",
    "```\n",
    "\n",
    "Et voilà. We just obtained the transition sequence!"
   ]
  },
  {
   "cell_type": "code",
   "execution_count": null,
   "metadata": {
    "id": "1y069gM4_v64"
   },
   "outputs": [],
   "source": [
    "# for comparison\n",
    "seq = ex.transitions\n",
    "s = \" \".join([\"S\" if t == 0 else \"R\" for t in seq])\n",
    "print(s)\n",
    "print(\" \".join(map(str, seq)))"
   ]
  },
  {
   "cell_type": "markdown",
   "metadata": {
    "id": "d-qOuKbDAiBn"
   },
   "source": [
    "## Coding the Tree-LSTM\n",
    "\n",
    "The code below contains a Binary Tree-LSTM cell.\n",
    "It is used in the TreeLSTM class below it, which in turn is used in the TreeLSTMClassifier.\n",
    "The job of the TreeLSTM class is to encode a complete sentence and return the root node.\n",
    "The job of the TreeLSTMCell is to return a new state when provided with two children (a reduce action). By repeatedly calling the TreeLSTMCell, the TreeLSTM will encode a sentence. This can be done for multiple sentences at the same time.\n",
    "\n",
    "\n",
    "#### Exercise \n",
    "Check the `forward` function and complete the Tree-LSTM formulas.\n",
    "You can see that we defined a large linear layer for you, that projects the *concatenation* of the left and right child into the input gate, left forget gate, right forget gate, candidate, and output gate."
   ]
  },
  {
   "cell_type": "code",
   "execution_count": null,
   "metadata": {
    "id": "J9b9mjMlN7Pb"
   },
   "outputs": [],
   "source": [
    "class TreeLSTMCell(nn.Module):\n",
    "    \"\"\"A Binary Tree LSTM cell\"\"\"\n",
    "\n",
    "    def __init__(self, input_size, hidden_size, bias=True):\n",
    "        \"\"\"Creates the weights for this LSTM\"\"\"\n",
    "        super(TreeLSTMCell, self).__init__()\n",
    "\n",
    "        self.input_size = input_size\n",
    "        self.hidden_size = hidden_size\n",
    "        self.bias = bias\n",
    "\n",
    "        self.reduce_layer = nn.Linear(2 * hidden_size, 5 * hidden_size)\n",
    "        self.dropout_layer = nn.Dropout(p=0.25)\n",
    "\n",
    "        self.reset_parameters()\n",
    "\n",
    "    def reset_parameters(self):\n",
    "        \"\"\"This is PyTorch's default initialization method\"\"\"\n",
    "        stdv = 1.0 / math.sqrt(self.hidden_size)\n",
    "        for weight in self.parameters():\n",
    "            weight.data.uniform_(-stdv, stdv)  \n",
    "\n",
    "    def forward(self, hx_l, hx_r, mask=None):\n",
    "        \"\"\"\n",
    "        hx_l is ((batch, hidden_size), (batch, hidden_size))\n",
    "        hx_r is ((batch, hidden_size), (batch, hidden_size))    \n",
    "        \"\"\"\n",
    "        prev_h_l, prev_c_l = hx_l  # left child\n",
    "        prev_h_r, prev_c_r = hx_r  # right child\n",
    "\n",
    "        B = prev_h_l.size(0)\n",
    "\n",
    "        # we concatenate the left and right children\n",
    "        # you can also project from them separately and then sum\n",
    "        children = torch.cat([prev_h_l, prev_h_r], dim=1)\n",
    "\n",
    "        # project the combined children into a 5D tensor for i,fl,fr,g,o\n",
    "        # this is done for speed, and you could also do it separately\n",
    "        proj = self.reduce_layer(children)  # shape: B x 5D\n",
    "\n",
    "        # each shape: B x D\n",
    "        i, f_l, f_r, g, o = torch.chunk(proj, 5, dim=-1)\n",
    "\n",
    "        # main Tree LSTM computation\n",
    "\n",
    "        # YOUR CODE HERE\n",
    "        # You only need to complete the commented lines below.\n",
    "        \n",
    "        # WHAT TO DO WITH THE DROPOUT LAYER?\n",
    "        # in LSTMClassifier this was only applied after the LSTM Cell\n",
    "        # should we use dropout here after all operations, or only on h and c ?\n",
    "        \n",
    "        # The shape of each of these is [batch_size, hidden_size]\n",
    "        i = torch.sigmoid(i)\n",
    "        f_l = torch.sigmoid(f_l)\n",
    "        f_r = torch.sigmoid(f_r)\n",
    "        g = torch.tanh(g)\n",
    "        o = torch.sigmoid(o)\n",
    "        \n",
    "        c = i * g + f_r * prev_c_r + f_l * prev_c_l\n",
    "        h = o * torch.tanh(c)\n",
    "        \n",
    "        return h, c\n",
    "\n",
    "    def __repr__(self):\n",
    "        return \"{}({:d}, {:d})\".format(\n",
    "                self.__class__.__name__, self.input_size, self.hidden_size)"
   ]
  },
  {
   "cell_type": "markdown",
   "metadata": {
    "id": "Dj5dYSGh_643"
   },
   "source": [
    "## Explanation of the TreeLSTM class\n",
    "\n",
    "\n",
    "The code below contains the TreeLSTM class, which implements everything we need in order to encode a sentence from word embeddings. The calculations are the same as in the paper, implemented such that the class `TreeLSTMCell` above is as general as possible and only takes two children to reduce them into a parent. \n",
    "\n",
    "\n",
    "**Initialize $\\mathbf{h}$ and $\\mathbf{c}$ outside of the cell for the leaves**\n",
    "\n",
    "At the leaves of each tree the children nodes are **empty**, whereas in higher levels the nodes are binary tree nodes that *do* have a left and right child (but no input $x$). By initializing the leaf nodes outside of the cell class (`TreeLSTMCell`), we avoid if-else statements in the forward pass.\n",
    "\n",
    "The `TreeLSTM` class (among other things) pre-calculates an initial $h$ and $c$ for every word in the sentence. Since the initial left and right child are 0, the only calculations we need to do are based on $x$, and we can drop the forget gate calculation (`prev_c_l` and `prev_c_r` are zero). The calculations we do in order to initalize $h$ and $c$ are then:\n",
    "\n",
    "$$\n",
    "c_1 =  W^{(u)}x_1 \\\\\n",
    "o_1 = \\sigma (W^{(i)}x_1) \\\\\n",
    "h_1 = o_1 \\odot \\text{tanh}(c_1)$$\n",
    "*NB: note that these equations are chosen as initializations of $c$ and $h$, other initializations are possible and might work equally well.*\n",
    "\n",
    "**Sentence Representations**\n",
    "\n",
    "All our leaf nodes are now initialized, so we can start processing the sentence in its tree form. Each sentence is represented by a buffer (initially a list with a concatenation of $[h_1, c_1]$ for every word in the reversed sentence), a stack (initially an empty list) and a transition sequence. To encode our sentence, we construct the tree from its transition sequence as explained earlier. \n",
    "\n",
    "*A short example that constructs a tree:*\n",
    "\n",
    "We loop over the time dimension of the batched transition sequences (i.e. row by row), which contain values of 0's, 1's and 2's (representing SHIFT, REDUCE and padding respectively). If we have a batch of size 2 where the first example has a transition sequence given by [0, 0, 1, 0, 0, 0, 1] and the second by [0, 0, 1, 0, 0, 1], our transition batch will be given by the following two-dimensional numpy array:\n",
    "\n",
    "$$\n",
    "\\text{transitions} = \n",
    "\\begin{pmatrix}\n",
    "0 & 0\\\\ \n",
    "0 & 0\\\\ \n",
    "1 & 1\\\\ \n",
    "0 & 0\\\\ \n",
    "0 & 0\\\\ \n",
    "0 & 1\\\\ \n",
    "1 & 2\n",
    "\\end{pmatrix}\n",
    "$$\n",
    "The inner loop (`for transition, buffer, stack in zip(t_batch, buffers, stacks)`) goes over each example in the batch and updates its buffer and stack. The nested loop for this example will then do roughy the following:\n",
    "\n",
    "```\n",
    "Time = 0:  t_batch = [0, 0], the inner loop performs 2 SHIFTs. \n",
    "\n",
    "Time = 1:  t_batch = [0, 0], \"..\"\n",
    "\n",
    "Time = 2:  t_batch = [1, 1], causing the inner loop to fill the list child_l and child_r for both examples in the batch. Now the statement if child_l will return True, triggering a REDUCE action to be performed by our Tree LSTM cell with a batch size of 2. \n",
    "\n",
    "Time = 3:  t_batch = [0, 0], \"..\".\n",
    "\n",
    "Time = 4:  t_batch = [0, 0], \"..\"\n",
    "\n",
    "Time = 5:  t_batch = [0, 1], one SHIFT will be done and another REDUCE action will be performed by our Tree LSTM, this time of batch size 1.  \n",
    "\n",
    "Time = 6:  t_batch = [1, 2], triggering another REDUCE action with batch size 1.\n",
    "```\n",
    "*NB: note that this was an artificial example for the purpose of demonstrating parts of the code, the transition sequences do not necessarily represent actual trees.*\n",
    "\n",
    "**Batching and Unbatching**\n",
    "\n",
    "Within the body of the outer loop over time, we use the functions for batching and unbatching. \n",
    "\n",
    "*Batching*\n",
    "\n",
    "Before passing two lists of children to the reduce layer (an instance of `TreeLSTMCell`), we batch the children as they are at this point a list of tensors of variable length based on how many REDUCE actions there are to perform at a certain time step across the batch (let's call the length `L`). To do an efficient forward pass we want to transform the list to a pair of tensors of shape `([L, D], [L, D])`, which the function `batch` achieves. \n",
    "\n",
    "*Unbatching*\n",
    "\n",
    "In the same line where we batched the children, we unbatch the output of the forward pass to become a list of states of length `L` again. We do this because we need to loop over each example's transition at the current time step and push the children that are reduced into a parent to the stack.\n",
    "\n",
    "*The batch and unbatch functions let us switch between the \"PyTorch world\" (Tensors) and the Python world (easy to manipulate lists).*\n"
   ]
  },
  {
   "cell_type": "code",
   "execution_count": null,
   "metadata": {
    "id": "5PixvTd4AqsQ"
   },
   "outputs": [],
   "source": [
    "# Helper functions for batching and unbatching states\n",
    "# For speed we want to combine computations by batching, but \n",
    "# for processing logic we want to turn the output into lists again\n",
    "# to easily manipulate.\n",
    "\n",
    "def batch(states):\n",
    "  \"\"\"\n",
    "  Turns a list of states into a single tensor for fast processing. \n",
    "  This function also chunks (splits) each state into a (h, c) pair\"\"\"\n",
    "  return torch.cat(states, 0).chunk(2, 1)\n",
    "\n",
    "def unbatch(state):\n",
    "  \"\"\"\n",
    "  Turns a tensor back into a list of states.\n",
    "  First, (h, c) are merged into a single state.\n",
    "  Then the result is split into a list of sentences.\n",
    "  \"\"\"\n",
    "  return torch.split(torch.cat(state, 1), 1, 0)"
   ]
  },
  {
   "cell_type": "markdown",
   "metadata": {
    "id": "CynltDasaLPt"
   },
   "source": [
    "Take some time to understand the class below, having read the explanation above."
   ]
  },
  {
   "cell_type": "code",
   "execution_count": null,
   "metadata": {
    "id": "rQOqMXG4gX5G"
   },
   "outputs": [],
   "source": [
    "class TreeLSTM(nn.Module):\n",
    "  \"\"\"Encodes a sentence using a TreeLSTMCell\"\"\"\n",
    "\n",
    "  def __init__(self, input_size, hidden_size, bias=True):\n",
    "    \"\"\"Creates the weights for this LSTM\"\"\"\n",
    "    super(TreeLSTM, self).__init__()\n",
    "\n",
    "    self.input_size = input_size\n",
    "    self.hidden_size = hidden_size\n",
    "    self.bias = bias\n",
    "    self.reduce = TreeLSTMCell(input_size, hidden_size)\n",
    "\n",
    "    # project word to initial c\n",
    "    self.proj_x = nn.Linear(input_size, hidden_size)\n",
    "    self.proj_x_gate = nn.Linear(input_size, hidden_size)\n",
    "    \n",
    "    self.buffers_dropout = nn.Dropout(p=0.5)\n",
    "\n",
    "  def forward(self, x, transitions):\n",
    "    \"\"\"\n",
    "    WARNING: assuming x is reversed!\n",
    "    :param x: word embeddings [B, T, E]\n",
    "    :param transitions: [2T-1, B]\n",
    "    :return: root states\n",
    "    \"\"\"\n",
    "\n",
    "    B = x.size(0)  # batch size\n",
    "    T = x.size(1)  # time\n",
    "\n",
    "    # compute an initial c and h for each word\n",
    "    # Note: this corresponds to input x in the Tai et al. Tree LSTM paper.\n",
    "    # We do not handle input x in the TreeLSTMCell itself.\n",
    "    buffers_c = self.proj_x(x)\n",
    "    buffers_h = buffers_c.tanh()\n",
    "    buffers_h_gate = self.proj_x_gate(x).sigmoid()\n",
    "    buffers_h = buffers_h_gate * buffers_h\n",
    "    \n",
    "    # concatenate h and c for each word\n",
    "    buffers = torch.cat([buffers_h, buffers_c], dim=-1)\n",
    "\n",
    "    D = buffers.size(-1) // 2\n",
    "\n",
    "    # we turn buffers into a list of stacks (1 stack for each sentence)\n",
    "    # first we split buffers so that it is a list of sentences (length B)\n",
    "    # then we split each sentence to be a list of word vectors\n",
    "    buffers = buffers.split(1, dim=0)  # Bx[T, 2D]\n",
    "    buffers = [list(b.squeeze(0).split(1, dim=0)) for b in buffers]  # BxTx[2D]\n",
    "\n",
    "    # create B empty stacks\n",
    "    stacks = [[] for _ in buffers]\n",
    "\n",
    "    # t_batch holds 1 transition for each sentence\n",
    "    for t_batch in transitions:\n",
    "\n",
    "      child_l = []  # contains the left child for each sentence with reduce action\n",
    "      child_r = []  # contains the corresponding right child\n",
    "\n",
    "      # iterate over sentences in the batch\n",
    "      # each has a transition t, a buffer and a stack\n",
    "      for transition, buffer, stack in zip(t_batch, buffers, stacks):\n",
    "        if transition == SHIFT:\n",
    "          stack.append(buffer.pop())\n",
    "        elif transition == REDUCE:\n",
    "          assert len(stack) >= 2, \\\n",
    "            \"Stack too small! Should not happen with valid transition sequences\"\n",
    "          child_r.append(stack.pop())  # right child is on top\n",
    "          child_l.append(stack.pop())\n",
    "\n",
    "      # if there are sentences with reduce transition, perform them batched\n",
    "      if child_l:\n",
    "        reduced = iter(unbatch(self.reduce(batch(child_l), batch(child_r))))\n",
    "        for transition, stack in zip(t_batch, stacks):\n",
    "          if transition == REDUCE:\n",
    "            stack.append(next(reduced))\n",
    "\n",
    "    final = [stack.pop().chunk(2, -1)[0] for stack in stacks]\n",
    "    final = torch.cat(final, dim=0)  # tensor [B, D]\n",
    "\n",
    "    return final"
   ]
  },
  {
   "cell_type": "markdown",
   "metadata": {
    "id": "s4EzbVzqaXkw"
   },
   "source": [
    "Just like the LSTM before, we will need an extra class that does the classifications."
   ]
  },
  {
   "cell_type": "code",
   "execution_count": null,
   "metadata": {
    "id": "nLxpYRvtQKge"
   },
   "outputs": [],
   "source": [
    "class TreeLSTMClassifier(nn.Module):\n",
    "  \"\"\"Encodes sentence with a TreeLSTM and projects final hidden state\"\"\"\n",
    "\n",
    "  def __init__(self, vocab_size, embedding_dim, hidden_dim, output_dim, vocab):\n",
    "    super(TreeLSTMClassifier, self).__init__()\n",
    "    self.vocab = vocab\n",
    "    self.hidden_dim = hidden_dim\n",
    "    self.embed = nn.Embedding(vocab_size, embedding_dim, padding_idx=1)\n",
    "    self.treelstm = TreeLSTM(embedding_dim, hidden_dim)\n",
    "    self.output_layer = nn.Sequential(     \n",
    "        nn.Dropout(p=0.5),\n",
    "        nn.Linear(hidden_dim, output_dim, bias=True)\n",
    "    )\n",
    "\n",
    "  def forward(self, x):\n",
    "    \n",
    "    # x is a pair here of words and transitions; we unpack it here.\n",
    "    # x is batch-major: [B, T], transitions is time major [2T-1, B]\n",
    "    x, transitions = x\n",
    "    emb = self.embed(x)\n",
    "    \n",
    "    # we use the root/top state of the Tree LSTM to classify the sentence\n",
    "    root_states = self.treelstm(emb, transitions)\n",
    "\n",
    "    # we use the last hidden state to classify the sentence\n",
    "    logits = self.output_layer(root_states)\n",
    "    return logits"
   ]
  },
  {
   "cell_type": "markdown",
   "metadata": {
    "id": "gh9RbhGwaiLg"
   },
   "source": [
    "## Special `prepare` function for Tree-LSTM\n",
    "\n",
    "We need yet another `prepare` function. For our implementation, sentences need to be *reversed*. We will do that here."
   ]
  },
  {
   "cell_type": "code",
   "execution_count": null,
   "metadata": {
    "id": "DiqH-_2xdm9H"
   },
   "outputs": [],
   "source": [
    "def prepare_treelstm_minibatch(mb, vocab):\n",
    "  \"\"\"\n",
    "  Returns sentences reversed (last word first)\n",
    "  Returns transitions together with the sentences.  \n",
    "  \"\"\"\n",
    "  batch_size = len(mb)\n",
    "  maxlen = max([len(ex.tokens) for ex in mb])\n",
    "    \n",
    "  # vocab returns 0 if the word is not there\n",
    "  # NOTE: reversed sequence!\n",
    "  x = [pad([vocab.w2i.get(t, 0) for t in ex.tokens], maxlen)[::-1] for ex in mb]\n",
    "  \n",
    "  x = torch.LongTensor(x)\n",
    "  x = x.to(device)\n",
    "  \n",
    "  y = [ex.label for ex in mb]\n",
    "  y = torch.LongTensor(y)\n",
    "  y = y.to(device)\n",
    "  \n",
    "  maxlen_t = max([len(ex.transitions) for ex in mb])\n",
    "  transitions = [pad(ex.transitions, maxlen_t, pad_value=2) for ex in mb]\n",
    "  transitions = np.array(transitions)\n",
    "  transitions = transitions.T  # time-major\n",
    "  \n",
    "  return (x, transitions), y"
   ]
  },
  {
   "cell_type": "markdown",
   "metadata": {
    "id": "IMUsrlL9ayVe"
   },
   "source": [
    "## Training"
   ]
  },
  {
   "cell_type": "code",
   "execution_count": null,
   "metadata": {
    "id": "IpOYUdg2D3v0"
   },
   "outputs": [],
   "source": [
    "# Now let's train the Tree LSTM!\n",
    "\n",
    "tree_model = TreeLSTMClassifier(\n",
    "    len(v_pt.w2i), 300, 150, len(t2i), v_pt)\n",
    "\n",
    "with torch.no_grad():\n",
    "  tree_model.embed.weight.data.copy_(torch.from_numpy(vectors))\n",
    "  tree_model.embed.weight.requires_grad = False\n",
    "  \n",
    "def do_train(model):\n",
    "  \n",
    "  print(model)\n",
    "  print_parameters(model)\n",
    "\n",
    "  model = model.to(device)\n",
    "\n",
    "  optimizer = optim.Adam(model.parameters(), lr=2e-4)\n",
    "  \n",
    "  return train_model(\n",
    "      model, optimizer, num_iterations=30000, \n",
    "      print_every=250, eval_every=250,\n",
    "      prep_fn=prepare_treelstm_minibatch,\n",
    "      eval_fn=evaluate,\n",
    "      batch_fn=get_minibatch,\n",
    "      batch_size=25, eval_batch_size=25)\n",
    "  \n",
    "results = do_train(tree_model)"
   ]
  },
  {
   "cell_type": "markdown",
   "metadata": {
    "id": "DHcHHaLtguUg"
   },
   "source": [
    "#### For results see the ./results and ./plots folder and for reproducibility see the shell script"
   ]
  },
  {
   "cell_type": "markdown",
   "metadata": {},
   "source": [
    "#### For further experiments likewise see the corresponding files and the shell script."
   ]
  },
  {
   "cell_type": "markdown",
   "metadata": {
    "id": "f7QZZH86eHqu"
   },
   "source": [
    "# Further experiments and report\n",
    "\n",
    "For your report, you are expected to answer research questions by doing further experiments.\n",
    "\n",
    "## Research Questions\n",
    "\n",
    "Make sure you cover at least the following:\n",
    "\n",
    "- How important is word order for this task?\n",
    "- Does the tree structure help to get a better accuracy?\n",
    "- How does performance depend on the sentence length? Compare the various models. Is there a model that does better on longer sentences? If so, why?\n",
    "- Do you get better performance if you supervise the sentiment **at each node in the tree**? You can extract more training examples by treating every node in each tree as a separate tree. You will need to write a function that extracts all subtrees given a treestring. \n",
    "    - Warning: NLTK's Tree function seems to result in invalid trees in some cases, so be careful if you want to parse the string to a tree structure before extraction the phrases.\n",
    "\n",
    "**To obtain a full grade, you should conduct further investigations.** For example, you can also investigate the following:\n",
    "\n",
    "- When making a wrong prediction, can you figure out at what point in the tree (sentence) the model fails? You can make a prediction at each node to investigate.\n",
    "- How does N-ary Tree LSTM compare to the Child-Sum Tree LSTM? \n",
    "- How do the Tai et al. Tree LSTMs compare to Le & Zuidema's formulation?\n",
    "- Or... your own research question!\n",
    "\n",
    "In general:\n",
    "\n",
    "- ***When you report numbers, please report the mean accuracy across 3 (or more) runs with different random seed, together with the standard deviation.*** This is because the final performance may vary per random seed. \n",
    "More precisely, you should run each model with 3 different seeds, and for each of these 3 runs, evaluate the best model (according to the validation) on the test dataset. The validation dataset is used for finding the best model over iterations, but the accuracy you report should be on the test dataset.\n",
    "\n",
    "## Report instructions\n",
    "\n",
    "Your report needs to be written in LaTeX. You are required to use the ACL 2020 template which you can download from or edit directly on [Overleaf](https://www.overleaf.com/latex/templates/instructions-for-acl-2018-proceedings/xzmhqgnmkppc). Make sure your names and student numbers are visible at the top. (Tip: you need to uncomment `\\aclfinalcopy`).\n",
    "You can find some general tips about writing a research paper [here](https://www.microsoft.com/en-us/research/academic-program/write-great-research-paper/), but note that you need to make your own judgment about what is appropriate for this project. \n",
    "\n",
    "We expect you to use the following structure:\n",
    "1. Introduction (~1 page) - describe the problem, your research questions and goals, a summary of your findings and contributions. Please cite related work (models, data set) as part of your introduction here, since this is a short paper.\n",
    "    - Introduce the task and the main goal\n",
    "    - Clear research questions\n",
    "    - Motivating the importance of the questions and explaining the expectations\n",
    "    - How are these addressed or not addressed in the literature\n",
    "    - What is your approach\n",
    "    - Short summary of your findings\n",
    "2. Background (~1/2-1 page) -\n",
    "cover the main techniques (\"building blocks\") used in your project (e.g. word embeddings, LSTM, Tree-LSTM) and intuitions behind them. Be accurate and concise.\n",
    "    - How each technique that you use works (don't just copy the formulas)\n",
    "    - The relation between the techniques\n",
    "3. Models (~1/2 page) - Cover the models that you used.\n",
    "    - The architecture of the final models (How do you use LSTM or Tree-LSTM for the sentiment classification task? What layers do you have, how do you do classification? What is your loss function?)\n",
    "4. Experiments (~1/2 page) - Describe your experimental setup. The information here should allow someone else to reproduce your experiments. Describe how you evaluate the models.\n",
    "    - Explain the task and the data\n",
    "    - Training the models (model, data, parameters and hyper parameters if the models, training algorithms, what supervision signals you use, etc.)\n",
    "    - Evaluation (e.g. metrics)\n",
    "5. Results and Analysis (~1 page). Go over the results and analyse your findings.\n",
    "    - Answer each of the research questions you raised in the introduction.\n",
    "    - Plots and figures highlighting interesting patterns\n",
    "    - What are the factors that make model A better than model B in task C? Investigate to prove their effect!\n",
    "6. Conclusion (~1/4 page). The main conclusions of your experiments.\n",
    "    - What have you learned from you experiments? How does it relate to what is already known in the literature?\n",
    "    - Were the results as expected? Any surprising results? Why?\n",
    "    - Based on what you learned what would you suggest doing next?\n",
    "\n",
    "\n",
    "General Tips:\n",
    "\n",
    "- Math notation – define each variable (either in running text, or in a pseudo-legenda after or before the equation).\n",
    "- Define technical terminology you need.\n",
    "- Avoid colloquial language – everything can be said in a scientific-sounding way.\n",
    "- Avoid lengthy sentences, stay to the point.\n",
    "- Do not spend space on \"obvious\" things.\n",
    "- Do not go over the page limit. (We will deduct points for that.)\n",
    "- The page limit is 4 pages excluding references and appendix. There is no strict limit to references and appendix. However, the report needs to remain fully self-contained: the appendix should only include content that is not necessary to understand your work. For example, preprocessing decisions, model parameters, pseudocode, sample system inputs/outputs, and other details that are necessary for the exact replication of your work can be put into the appendix. However, \n",
    "\n",
    "\n",
    "An ideal report:\n",
    "- Precise, scientific-sounding, technical, to the point \n",
    "  - Little general “waffle”/chit-chat\n",
    "- Not boring – because you don’t explain obvious things too much\n",
    "- Efficient delivery of (only) the facts that we need to know to understand/reimplement\n",
    "- Results visually well-presented and described with the correct priority of importance of sub-results\n",
    "- Insightful analysis – speculation should connect to something interesting and not be too much; the reader “learns something new”\n",
    "- No typos, no colloquialisms – well-considered language\n",
    "- This normally means several re-draftings (re-orderings of information)\n"
   ]
  }
 ],
 "metadata": {
  "accelerator": "GPU",
  "colab": {
   "collapsed_sections": [
    "Dj5dYSGh_643"
   ],
   "name": "NLP1_2020_Practical_2_(student_version).ipynb",
   "provenance": []
  },
  "kernelspec": {
   "display_name": "Python 3",
   "language": "python",
   "name": "python3"
  },
  "language_info": {
   "codemirror_mode": {
    "name": "ipython",
    "version": 3
   },
   "file_extension": ".py",
   "mimetype": "text/x-python",
   "name": "python",
   "nbconvert_exporter": "python",
   "pygments_lexer": "ipython3",
   "version": "3.7.9"
  }
 },
 "nbformat": 4,
 "nbformat_minor": 1
}
